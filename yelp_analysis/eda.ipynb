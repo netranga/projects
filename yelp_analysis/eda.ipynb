{
 "cells": [
  {
   "cell_type": "markdown",
   "metadata": {},
   "source": [
    "## Why this for an EDA?\n",
    "\n",
    "* Real-World Relevance: Analyzing restaurant data can provide actionable insights for businesses and consumers in the area.\n",
    "* Rich Analysis Potential: You can explore various dimensions such as restaurant types, geographic distribution, price ranges, and socio-economic factors.\n",
    "* Data Cleaning and Enrichment: Even if the dataset isn't messy, you can enrich it by adding additional data sources, such as income levels, demographic information, or reviews."
   ]
  },
  {
   "cell_type": "code",
   "execution_count": 213,
   "metadata": {},
   "outputs": [],
   "source": [
    "import pandas as pd\n",
    "import numpy as np\n",
    "import plotly.express as px\n",
    "import requests\n",
    "from bs4 import BeautifulSoup\n",
    "from urllib.request import urlopen\n",
    "import json\n",
    "import re\n",
    "import ast"
   ]
  },
  {
   "cell_type": "code",
   "execution_count": 214,
   "metadata": {},
   "outputs": [],
   "source": [
    "df = pd.read_excel('wake_county_restaurants.xlsx')"
   ]
  },
  {
   "cell_type": "code",
   "execution_count": 215,
   "metadata": {},
   "outputs": [
    {
     "data": {
      "text/html": [
       "<div>\n",
       "<style scoped>\n",
       "    .dataframe tbody tr th:only-of-type {\n",
       "        vertical-align: middle;\n",
       "    }\n",
       "\n",
       "    .dataframe tbody tr th {\n",
       "        vertical-align: top;\n",
       "    }\n",
       "\n",
       "    .dataframe thead th {\n",
       "        text-align: right;\n",
       "    }\n",
       "</style>\n",
       "<table border=\"1\" class=\"dataframe\">\n",
       "  <thead>\n",
       "    <tr style=\"text-align: right;\">\n",
       "      <th></th>\n",
       "      <th>OBJECTID</th>\n",
       "      <th>HSISID</th>\n",
       "      <th>Name</th>\n",
       "      <th>Address 1</th>\n",
       "      <th>Address 2</th>\n",
       "      <th>City</th>\n",
       "      <th>State</th>\n",
       "      <th>Postal Code</th>\n",
       "      <th>Phone Number</th>\n",
       "      <th>Restaurant Open Date</th>\n",
       "      <th>Facility Type</th>\n",
       "      <th>PERMITID</th>\n",
       "      <th>X</th>\n",
       "      <th>Y</th>\n",
       "      <th>Geocode Status</th>\n",
       "      <th>geo_shape</th>\n",
       "      <th>geo_point_2d</th>\n",
       "    </tr>\n",
       "  </thead>\n",
       "  <tbody>\n",
       "    <tr>\n",
       "      <th>0</th>\n",
       "      <td>4508952</td>\n",
       "      <td>4092018277</td>\n",
       "      <td>PIZZA HUT #036626</td>\n",
       "      <td>920 NE MAYNARD RD</td>\n",
       "      <td>NaN</td>\n",
       "      <td>CARY</td>\n",
       "      <td>NC</td>\n",
       "      <td>27513</td>\n",
       "      <td>(919) 469-9991</td>\n",
       "      <td>2019-12-27</td>\n",
       "      <td>Restaurant</td>\n",
       "      <td>21944</td>\n",
       "      <td>-78.768384</td>\n",
       "      <td>35.800435</td>\n",
       "      <td>M</td>\n",
       "      <td>{\"coordinates\":[-78.76838683271491,35.80044249...</td>\n",
       "      <td>35.800442496958084, -78.76838683271491</td>\n",
       "    </tr>\n",
       "    <tr>\n",
       "      <th>1</th>\n",
       "      <td>4508959</td>\n",
       "      <td>4092018301</td>\n",
       "      <td>MEMO'S PIZZA</td>\n",
       "      <td>877 E GANNON AVE</td>\n",
       "      <td>SUITE 105</td>\n",
       "      <td>ZEBULON</td>\n",
       "      <td>NC</td>\n",
       "      <td>27597</td>\n",
       "      <td>(919) 646-0064</td>\n",
       "      <td>2019-12-31</td>\n",
       "      <td>Restaurant</td>\n",
       "      <td>21983</td>\n",
       "      <td>-78.294186</td>\n",
       "      <td>35.830163</td>\n",
       "      <td>M</td>\n",
       "      <td>{\"coordinates\":[-78.29418882307587,35.83016966...</td>\n",
       "      <td>35.83016966447205, -78.29418882307587</td>\n",
       "    </tr>\n",
       "    <tr>\n",
       "      <th>2</th>\n",
       "      <td>4508965</td>\n",
       "      <td>4092018308</td>\n",
       "      <td>STARS AND STRIKES</td>\n",
       "      <td>4020 CAPITAL BLVD</td>\n",
       "      <td>SUITE 160</td>\n",
       "      <td>RALEIGH</td>\n",
       "      <td>NC</td>\n",
       "      <td>27604</td>\n",
       "      <td>(678) 965-5707</td>\n",
       "      <td>2020-01-27</td>\n",
       "      <td>Restaurant</td>\n",
       "      <td>21992</td>\n",
       "      <td>-78.579677</td>\n",
       "      <td>35.835510</td>\n",
       "      <td>M</td>\n",
       "      <td>{\"coordinates\":[-78.5796792488391,35.835517340...</td>\n",
       "      <td>35.83551734072338, -78.5796792488391</td>\n",
       "    </tr>\n",
       "  </tbody>\n",
       "</table>\n",
       "</div>"
      ],
      "text/plain": [
       "   OBJECTID      HSISID               Name          Address 1  Address 2  \\\n",
       "0   4508952  4092018277  PIZZA HUT #036626  920 NE MAYNARD RD        NaN   \n",
       "1   4508959  4092018301       MEMO'S PIZZA   877 E GANNON AVE  SUITE 105   \n",
       "2   4508965  4092018308  STARS AND STRIKES  4020 CAPITAL BLVD  SUITE 160   \n",
       "\n",
       "      City State Postal Code    Phone Number Restaurant Open Date  \\\n",
       "0     CARY    NC       27513  (919) 469-9991           2019-12-27   \n",
       "1  ZEBULON    NC       27597  (919) 646-0064           2019-12-31   \n",
       "2  RALEIGH    NC       27604  (678) 965-5707           2020-01-27   \n",
       "\n",
       "  Facility Type  PERMITID          X          Y Geocode Status  \\\n",
       "0    Restaurant     21944 -78.768384  35.800435              M   \n",
       "1    Restaurant     21983 -78.294186  35.830163              M   \n",
       "2    Restaurant     21992 -78.579677  35.835510              M   \n",
       "\n",
       "                                           geo_shape  \\\n",
       "0  {\"coordinates\":[-78.76838683271491,35.80044249...   \n",
       "1  {\"coordinates\":[-78.29418882307587,35.83016966...   \n",
       "2  {\"coordinates\":[-78.5796792488391,35.835517340...   \n",
       "\n",
       "                             geo_point_2d  \n",
       "0  35.800442496958084, -78.76838683271491  \n",
       "1   35.83016966447205, -78.29418882307587  \n",
       "2    35.83551734072338, -78.5796792488391  "
      ]
     },
     "execution_count": 215,
     "metadata": {},
     "output_type": "execute_result"
    }
   ],
   "source": [
    "df.head(3)"
   ]
  },
  {
   "cell_type": "code",
   "execution_count": 216,
   "metadata": {},
   "outputs": [
    {
     "data": {
      "text/plain": [
       "Index(['OBJECTID', 'HSISID', 'Name', 'Address 1', 'Address 2', 'City', 'State',\n",
       "       'Postal Code', 'Phone Number', 'Restaurant Open Date', 'Facility Type',\n",
       "       'PERMITID', 'X', 'Y', 'Geocode Status', 'geo_shape', 'geo_point_2d'],\n",
       "      dtype='object')"
      ]
     },
     "execution_count": 216,
     "metadata": {},
     "output_type": "execute_result"
    }
   ],
   "source": [
    "df.columns"
   ]
  },
  {
   "cell_type": "markdown",
   "metadata": {},
   "source": [
    "### Description about the fields\n",
    "\n",
    "| Field Name | Data Type | Purpose | Required |\n",
    "|------------|-----------|---------|----------|\n",
    "| OBJECTID | Integer | Unique identifier for each record | No |\n",
    "| HSISID | Integer | Health Services Information System ID | No |\n",
    "| Name | String | Name of the restaurant | Yes |\n",
    "| Address 1 | String | Primary address of the restaurant | Yes |\n",
    "| Address 2 | String | Additional address information (if any) | Yes |\n",
    "| City | String | City where the restaurant is located | Yes |\n",
    "| State | String | State where the restaurant is located | Yes |\n",
    "| Postal Code | String | ZIP code of the restaurant | Yes |\n",
    "| Phone Number | String | Contact number of the restaurant | Yes |\n",
    "| Restaurant Open Date | Date | Date when the restaurant opened | Yes |\n",
    "| Facility Type | String | Type of food service facility | No |\n",
    "| PERMITID | String | Permit ID for the restaurant | No |\n",
    "| X | Float | Longitude coordinate | Yes |\n",
    "| Y | Float | Latitude coordinate | Yes |\n",
    "| Geocode Status | String | Status of geocoding process | No |\n",
    "| geo_shape | JSON | Geographical shape data | No |\n",
    "| geo_point_2d | String | Geographical point data | No |\n",
    "\n",
    "Note: Fields marked as \"No\" in the Required column are dropped in the subsequent data cleaning process."
   ]
  },
  {
   "cell_type": "code",
   "execution_count": 210,
   "metadata": {},
   "outputs": [],
   "source": [
    "df['City'] = df['City'].apply(lambda x: x.lower()) #field manipulation\n",
    "df = df.drop(columns=['OBJECTID', 'HSISID', 'Facility Type', 'PERMITID', 'Geocode Status', 'geo_shape', 'geo_point_2d']) #drop columns\n",
    "df['Name Clean'] = df['Name'].apply(lambda x: x.split('#')[0].strip()) #clean name (for fast food remove the # notation)"
   ]
  },
  {
   "cell_type": "code",
   "execution_count": 211,
   "metadata": {},
   "outputs": [],
   "source": [
    "chain_names = list(set(df[df['Name Clean'].duplicated(keep=False)]['Name Clean'])) #get list of chain restaraunts - if a name is duplicated, it is a chain\n",
    "df['Check Chain'] = np.where(df['Name Clean'].isin(chain_names), 'Chain', 'Not Chain') #make new column with chain / no chain indicator "
   ]
  },
  {
   "cell_type": "code",
   "execution_count": 6,
   "metadata": {},
   "outputs": [
    {
     "data": {
      "application/vnd.plotly.v1+json": {
       "config": {
        "plotlyServerURL": "https://plot.ly"
       },
       "data": [
        {
         "alignmentgroup": "True",
         "hovertemplate": "City=%{x}<br>Number of Restaurants=%{y}<extra></extra>",
         "legendgroup": "",
         "marker": {
          "color": "#636efa",
          "pattern": {
           "shape": ""
          }
         },
         "name": "",
         "offsetgroup": "",
         "orientation": "v",
         "showlegend": false,
         "textposition": "auto",
         "type": "bar",
         "x": [
          "raleigh",
          "cary",
          "morrisville",
          "wake forest",
          "apex",
          "garner",
          "fuquay-varina",
          "holly springs",
          "knightdale",
          "zebulon",
          "wendell",
          "rolesville",
          "angier",
          "research triangle park",
          "clayton",
          "new hill",
          "kngihtdale"
         ],
         "xaxis": "x",
         "y": [
          1230,
          430,
          173,
          148,
          120,
          97,
          91,
          83,
          57,
          36,
          30,
          12,
          1,
          1,
          1,
          1,
          1
         ],
         "yaxis": "y"
        }
       ],
       "layout": {
        "barmode": "relative",
        "legend": {
         "tracegroupgap": 0
        },
        "margin": {
         "t": 60
        },
        "template": {
         "data": {
          "bar": [
           {
            "error_x": {
             "color": "#2a3f5f"
            },
            "error_y": {
             "color": "#2a3f5f"
            },
            "marker": {
             "line": {
              "color": "#E5ECF6",
              "width": 0.5
             },
             "pattern": {
              "fillmode": "overlay",
              "size": 10,
              "solidity": 0.2
             }
            },
            "type": "bar"
           }
          ],
          "barpolar": [
           {
            "marker": {
             "line": {
              "color": "#E5ECF6",
              "width": 0.5
             },
             "pattern": {
              "fillmode": "overlay",
              "size": 10,
              "solidity": 0.2
             }
            },
            "type": "barpolar"
           }
          ],
          "carpet": [
           {
            "aaxis": {
             "endlinecolor": "#2a3f5f",
             "gridcolor": "white",
             "linecolor": "white",
             "minorgridcolor": "white",
             "startlinecolor": "#2a3f5f"
            },
            "baxis": {
             "endlinecolor": "#2a3f5f",
             "gridcolor": "white",
             "linecolor": "white",
             "minorgridcolor": "white",
             "startlinecolor": "#2a3f5f"
            },
            "type": "carpet"
           }
          ],
          "choropleth": [
           {
            "colorbar": {
             "outlinewidth": 0,
             "ticks": ""
            },
            "type": "choropleth"
           }
          ],
          "contour": [
           {
            "colorbar": {
             "outlinewidth": 0,
             "ticks": ""
            },
            "colorscale": [
             [
              0,
              "#0d0887"
             ],
             [
              0.1111111111111111,
              "#46039f"
             ],
             [
              0.2222222222222222,
              "#7201a8"
             ],
             [
              0.3333333333333333,
              "#9c179e"
             ],
             [
              0.4444444444444444,
              "#bd3786"
             ],
             [
              0.5555555555555556,
              "#d8576b"
             ],
             [
              0.6666666666666666,
              "#ed7953"
             ],
             [
              0.7777777777777778,
              "#fb9f3a"
             ],
             [
              0.8888888888888888,
              "#fdca26"
             ],
             [
              1,
              "#f0f921"
             ]
            ],
            "type": "contour"
           }
          ],
          "contourcarpet": [
           {
            "colorbar": {
             "outlinewidth": 0,
             "ticks": ""
            },
            "type": "contourcarpet"
           }
          ],
          "heatmap": [
           {
            "colorbar": {
             "outlinewidth": 0,
             "ticks": ""
            },
            "colorscale": [
             [
              0,
              "#0d0887"
             ],
             [
              0.1111111111111111,
              "#46039f"
             ],
             [
              0.2222222222222222,
              "#7201a8"
             ],
             [
              0.3333333333333333,
              "#9c179e"
             ],
             [
              0.4444444444444444,
              "#bd3786"
             ],
             [
              0.5555555555555556,
              "#d8576b"
             ],
             [
              0.6666666666666666,
              "#ed7953"
             ],
             [
              0.7777777777777778,
              "#fb9f3a"
             ],
             [
              0.8888888888888888,
              "#fdca26"
             ],
             [
              1,
              "#f0f921"
             ]
            ],
            "type": "heatmap"
           }
          ],
          "heatmapgl": [
           {
            "colorbar": {
             "outlinewidth": 0,
             "ticks": ""
            },
            "colorscale": [
             [
              0,
              "#0d0887"
             ],
             [
              0.1111111111111111,
              "#46039f"
             ],
             [
              0.2222222222222222,
              "#7201a8"
             ],
             [
              0.3333333333333333,
              "#9c179e"
             ],
             [
              0.4444444444444444,
              "#bd3786"
             ],
             [
              0.5555555555555556,
              "#d8576b"
             ],
             [
              0.6666666666666666,
              "#ed7953"
             ],
             [
              0.7777777777777778,
              "#fb9f3a"
             ],
             [
              0.8888888888888888,
              "#fdca26"
             ],
             [
              1,
              "#f0f921"
             ]
            ],
            "type": "heatmapgl"
           }
          ],
          "histogram": [
           {
            "marker": {
             "pattern": {
              "fillmode": "overlay",
              "size": 10,
              "solidity": 0.2
             }
            },
            "type": "histogram"
           }
          ],
          "histogram2d": [
           {
            "colorbar": {
             "outlinewidth": 0,
             "ticks": ""
            },
            "colorscale": [
             [
              0,
              "#0d0887"
             ],
             [
              0.1111111111111111,
              "#46039f"
             ],
             [
              0.2222222222222222,
              "#7201a8"
             ],
             [
              0.3333333333333333,
              "#9c179e"
             ],
             [
              0.4444444444444444,
              "#bd3786"
             ],
             [
              0.5555555555555556,
              "#d8576b"
             ],
             [
              0.6666666666666666,
              "#ed7953"
             ],
             [
              0.7777777777777778,
              "#fb9f3a"
             ],
             [
              0.8888888888888888,
              "#fdca26"
             ],
             [
              1,
              "#f0f921"
             ]
            ],
            "type": "histogram2d"
           }
          ],
          "histogram2dcontour": [
           {
            "colorbar": {
             "outlinewidth": 0,
             "ticks": ""
            },
            "colorscale": [
             [
              0,
              "#0d0887"
             ],
             [
              0.1111111111111111,
              "#46039f"
             ],
             [
              0.2222222222222222,
              "#7201a8"
             ],
             [
              0.3333333333333333,
              "#9c179e"
             ],
             [
              0.4444444444444444,
              "#bd3786"
             ],
             [
              0.5555555555555556,
              "#d8576b"
             ],
             [
              0.6666666666666666,
              "#ed7953"
             ],
             [
              0.7777777777777778,
              "#fb9f3a"
             ],
             [
              0.8888888888888888,
              "#fdca26"
             ],
             [
              1,
              "#f0f921"
             ]
            ],
            "type": "histogram2dcontour"
           }
          ],
          "mesh3d": [
           {
            "colorbar": {
             "outlinewidth": 0,
             "ticks": ""
            },
            "type": "mesh3d"
           }
          ],
          "parcoords": [
           {
            "line": {
             "colorbar": {
              "outlinewidth": 0,
              "ticks": ""
             }
            },
            "type": "parcoords"
           }
          ],
          "pie": [
           {
            "automargin": true,
            "type": "pie"
           }
          ],
          "scatter": [
           {
            "fillpattern": {
             "fillmode": "overlay",
             "size": 10,
             "solidity": 0.2
            },
            "type": "scatter"
           }
          ],
          "scatter3d": [
           {
            "line": {
             "colorbar": {
              "outlinewidth": 0,
              "ticks": ""
             }
            },
            "marker": {
             "colorbar": {
              "outlinewidth": 0,
              "ticks": ""
             }
            },
            "type": "scatter3d"
           }
          ],
          "scattercarpet": [
           {
            "marker": {
             "colorbar": {
              "outlinewidth": 0,
              "ticks": ""
             }
            },
            "type": "scattercarpet"
           }
          ],
          "scattergeo": [
           {
            "marker": {
             "colorbar": {
              "outlinewidth": 0,
              "ticks": ""
             }
            },
            "type": "scattergeo"
           }
          ],
          "scattergl": [
           {
            "marker": {
             "colorbar": {
              "outlinewidth": 0,
              "ticks": ""
             }
            },
            "type": "scattergl"
           }
          ],
          "scattermapbox": [
           {
            "marker": {
             "colorbar": {
              "outlinewidth": 0,
              "ticks": ""
             }
            },
            "type": "scattermapbox"
           }
          ],
          "scatterpolar": [
           {
            "marker": {
             "colorbar": {
              "outlinewidth": 0,
              "ticks": ""
             }
            },
            "type": "scatterpolar"
           }
          ],
          "scatterpolargl": [
           {
            "marker": {
             "colorbar": {
              "outlinewidth": 0,
              "ticks": ""
             }
            },
            "type": "scatterpolargl"
           }
          ],
          "scatterternary": [
           {
            "marker": {
             "colorbar": {
              "outlinewidth": 0,
              "ticks": ""
             }
            },
            "type": "scatterternary"
           }
          ],
          "surface": [
           {
            "colorbar": {
             "outlinewidth": 0,
             "ticks": ""
            },
            "colorscale": [
             [
              0,
              "#0d0887"
             ],
             [
              0.1111111111111111,
              "#46039f"
             ],
             [
              0.2222222222222222,
              "#7201a8"
             ],
             [
              0.3333333333333333,
              "#9c179e"
             ],
             [
              0.4444444444444444,
              "#bd3786"
             ],
             [
              0.5555555555555556,
              "#d8576b"
             ],
             [
              0.6666666666666666,
              "#ed7953"
             ],
             [
              0.7777777777777778,
              "#fb9f3a"
             ],
             [
              0.8888888888888888,
              "#fdca26"
             ],
             [
              1,
              "#f0f921"
             ]
            ],
            "type": "surface"
           }
          ],
          "table": [
           {
            "cells": {
             "fill": {
              "color": "#EBF0F8"
             },
             "line": {
              "color": "white"
             }
            },
            "header": {
             "fill": {
              "color": "#C8D4E3"
             },
             "line": {
              "color": "white"
             }
            },
            "type": "table"
           }
          ]
         },
         "layout": {
          "annotationdefaults": {
           "arrowcolor": "#2a3f5f",
           "arrowhead": 0,
           "arrowwidth": 1
          },
          "autotypenumbers": "strict",
          "coloraxis": {
           "colorbar": {
            "outlinewidth": 0,
            "ticks": ""
           }
          },
          "colorscale": {
           "diverging": [
            [
             0,
             "#8e0152"
            ],
            [
             0.1,
             "#c51b7d"
            ],
            [
             0.2,
             "#de77ae"
            ],
            [
             0.3,
             "#f1b6da"
            ],
            [
             0.4,
             "#fde0ef"
            ],
            [
             0.5,
             "#f7f7f7"
            ],
            [
             0.6,
             "#e6f5d0"
            ],
            [
             0.7,
             "#b8e186"
            ],
            [
             0.8,
             "#7fbc41"
            ],
            [
             0.9,
             "#4d9221"
            ],
            [
             1,
             "#276419"
            ]
           ],
           "sequential": [
            [
             0,
             "#0d0887"
            ],
            [
             0.1111111111111111,
             "#46039f"
            ],
            [
             0.2222222222222222,
             "#7201a8"
            ],
            [
             0.3333333333333333,
             "#9c179e"
            ],
            [
             0.4444444444444444,
             "#bd3786"
            ],
            [
             0.5555555555555556,
             "#d8576b"
            ],
            [
             0.6666666666666666,
             "#ed7953"
            ],
            [
             0.7777777777777778,
             "#fb9f3a"
            ],
            [
             0.8888888888888888,
             "#fdca26"
            ],
            [
             1,
             "#f0f921"
            ]
           ],
           "sequentialminus": [
            [
             0,
             "#0d0887"
            ],
            [
             0.1111111111111111,
             "#46039f"
            ],
            [
             0.2222222222222222,
             "#7201a8"
            ],
            [
             0.3333333333333333,
             "#9c179e"
            ],
            [
             0.4444444444444444,
             "#bd3786"
            ],
            [
             0.5555555555555556,
             "#d8576b"
            ],
            [
             0.6666666666666666,
             "#ed7953"
            ],
            [
             0.7777777777777778,
             "#fb9f3a"
            ],
            [
             0.8888888888888888,
             "#fdca26"
            ],
            [
             1,
             "#f0f921"
            ]
           ]
          },
          "colorway": [
           "#636efa",
           "#EF553B",
           "#00cc96",
           "#ab63fa",
           "#FFA15A",
           "#19d3f3",
           "#FF6692",
           "#B6E880",
           "#FF97FF",
           "#FECB52"
          ],
          "font": {
           "color": "#2a3f5f"
          },
          "geo": {
           "bgcolor": "white",
           "lakecolor": "white",
           "landcolor": "#E5ECF6",
           "showlakes": true,
           "showland": true,
           "subunitcolor": "white"
          },
          "hoverlabel": {
           "align": "left"
          },
          "hovermode": "closest",
          "mapbox": {
           "style": "light"
          },
          "paper_bgcolor": "white",
          "plot_bgcolor": "#E5ECF6",
          "polar": {
           "angularaxis": {
            "gridcolor": "white",
            "linecolor": "white",
            "ticks": ""
           },
           "bgcolor": "#E5ECF6",
           "radialaxis": {
            "gridcolor": "white",
            "linecolor": "white",
            "ticks": ""
           }
          },
          "scene": {
           "xaxis": {
            "backgroundcolor": "#E5ECF6",
            "gridcolor": "white",
            "gridwidth": 2,
            "linecolor": "white",
            "showbackground": true,
            "ticks": "",
            "zerolinecolor": "white"
           },
           "yaxis": {
            "backgroundcolor": "#E5ECF6",
            "gridcolor": "white",
            "gridwidth": 2,
            "linecolor": "white",
            "showbackground": true,
            "ticks": "",
            "zerolinecolor": "white"
           },
           "zaxis": {
            "backgroundcolor": "#E5ECF6",
            "gridcolor": "white",
            "gridwidth": 2,
            "linecolor": "white",
            "showbackground": true,
            "ticks": "",
            "zerolinecolor": "white"
           }
          },
          "shapedefaults": {
           "line": {
            "color": "#2a3f5f"
           }
          },
          "ternary": {
           "aaxis": {
            "gridcolor": "white",
            "linecolor": "white",
            "ticks": ""
           },
           "baxis": {
            "gridcolor": "white",
            "linecolor": "white",
            "ticks": ""
           },
           "bgcolor": "#E5ECF6",
           "caxis": {
            "gridcolor": "white",
            "linecolor": "white",
            "ticks": ""
           }
          },
          "title": {
           "x": 0.05
          },
          "xaxis": {
           "automargin": true,
           "gridcolor": "white",
           "linecolor": "white",
           "ticks": "",
           "title": {
            "standoff": 15
           },
           "zerolinecolor": "white",
           "zerolinewidth": 2
          },
          "yaxis": {
           "automargin": true,
           "gridcolor": "white",
           "linecolor": "white",
           "ticks": "",
           "title": {
            "standoff": 15
           },
           "zerolinecolor": "white",
           "zerolinewidth": 2
          }
         }
        },
        "xaxis": {
         "anchor": "y",
         "domain": [
          0,
          1
         ],
         "title": {
          "text": "City"
         }
        },
        "yaxis": {
         "anchor": "x",
         "domain": [
          0,
          1
         ],
         "title": {
          "text": "Number of Restaurants"
         }
        }
       }
      }
     },
     "metadata": {},
     "output_type": "display_data"
    }
   ],
   "source": [
    "value_counts = df['City'].value_counts().reset_index()\n",
    "value_counts.columns = ['City', 'Number of Restaurants']\n",
    "px.bar(value_counts, x='City', y='Number of Restaurants')"
   ]
  },
  {
   "cell_type": "code",
   "execution_count": 218,
   "metadata": {},
   "outputs": [],
   "source": [
    "#List of cities with enough restaurants - remove all other cities\n",
    "good_cities = value_counts[value_counts['Number of Restaurants'] > 50]['City'].to_list()\n",
    "df = df[df['City'].isin(good_cities)]"
   ]
  },
  {
   "cell_type": "markdown",
   "metadata": {},
   "source": [
    "### Data Manipulation Steps\n",
    "\n",
    "1. **Column Removal and Data Cleaning**:\n",
    "   - Dropped unnecessary columns: 'OBJECTID', 'HSISID', 'Facility Type', 'PERMITID', 'Geocode Status', 'geo_shape', 'geo_point_2d'.\n",
    "   - Created a 'Name Clean' column by removing '#' notations from restaurant names.\n",
    "    - Converted all city names to lowercase and removed any trailing numbers for consistency.\n",
    "\n",
    "2. **Chain Restaurant Identification**:\n",
    "   - Created a list of chain restaurant names by identifying duplicated names in the 'Name Clean' column.\n",
    "   - Added a new column 'Check Chain' to indicate whether each restaurant is a chain or not.\n",
    "\n",
    "3. **City Filtering**:\n",
    "   - Created a plot with the number of restaurants in each city\n",
    "   - Created a list of cities with more than 50 restaurants and filtered the dataset to include only these cities with sufficient data.\n",
    "\n",
    "4. **Population Data Preparation**:\n",
    "   - Loaded population data from 'census_population.xlsx'.\n",
    "   - Renamed the 'Geography' column to 'City' and dropped the 'State' column.\n",
    "   - Cleaned city names by removing words like 'city', 'village', 'CDP', 'town' and converting to lowercase.\n",
    "\n",
    "These steps prepare the data for further analysis by removing unnecessary information, standardizing names, identifying chain restaurants, focusing on cities with significant data, and incorporating population information.\n"
   ]
  },
  {
   "cell_type": "markdown",
   "metadata": {},
   "source": [
    "# \n",
    "\n",
    "-----------\n"
   ]
  },
  {
   "cell_type": "markdown",
   "metadata": {},
   "source": []
  },
  {
   "cell_type": "code",
   "execution_count": 249,
   "metadata": {},
   "outputs": [],
   "source": [
    "population = pd.read_excel('nc_census_data.xlsx')\n",
    "population = population.head().rename(columns=population.iloc[0]).iloc[1:]"
   ]
  },
  {
   "cell_type": "code",
   "execution_count": 257,
   "metadata": {},
   "outputs": [
    {
     "data": {
      "text/plain": [
       "City                object\n",
       "2020 Population    float64\n",
       "2021 Population    float64\n",
       "2022 Population    float64\n",
       "2023 Population    float64\n",
       "dtype: object"
      ]
     },
     "execution_count": 257,
     "metadata": {},
     "output_type": "execute_result"
    }
   ],
   "source": [
    "population.dtypes"
   ]
  },
  {
   "cell_type": "code",
   "execution_count": 250,
   "metadata": {},
   "outputs": [
    {
     "data": {
      "text/html": [
       "<div>\n",
       "<style scoped>\n",
       "    .dataframe tbody tr th:only-of-type {\n",
       "        vertical-align: middle;\n",
       "    }\n",
       "\n",
       "    .dataframe tbody tr th {\n",
       "        vertical-align: top;\n",
       "    }\n",
       "\n",
       "    .dataframe thead th {\n",
       "        text-align: right;\n",
       "    }\n",
       "</style>\n",
       "<table border=\"1\" class=\"dataframe\">\n",
       "  <thead>\n",
       "    <tr style=\"text-align: right;\">\n",
       "      <th></th>\n",
       "      <th>Geographic Area</th>\n",
       "      <th>April 1, 2020\\nEstimates Base</th>\n",
       "      <th>2020.0</th>\n",
       "      <th>2021.0</th>\n",
       "      <th>2022.0</th>\n",
       "      <th>2023.0</th>\n",
       "    </tr>\n",
       "  </thead>\n",
       "  <tbody>\n",
       "    <tr>\n",
       "      <th>1</th>\n",
       "      <td>Aberdeen town, North Carolina</td>\n",
       "      <td>8521</td>\n",
       "      <td>8627.0</td>\n",
       "      <td>9107.0</td>\n",
       "      <td>9315.0</td>\n",
       "      <td>9488.0</td>\n",
       "    </tr>\n",
       "    <tr>\n",
       "      <th>2</th>\n",
       "      <td>Ahoskie town, North Carolina</td>\n",
       "      <td>4892</td>\n",
       "      <td>4872.0</td>\n",
       "      <td>4762.0</td>\n",
       "      <td>4708.0</td>\n",
       "      <td>4651.0</td>\n",
       "    </tr>\n",
       "    <tr>\n",
       "      <th>3</th>\n",
       "      <td>Alamance village, North Carolina</td>\n",
       "      <td>991</td>\n",
       "      <td>991.0</td>\n",
       "      <td>994.0</td>\n",
       "      <td>1009.0</td>\n",
       "      <td>1028.0</td>\n",
       "    </tr>\n",
       "  </tbody>\n",
       "</table>\n",
       "</div>"
      ],
      "text/plain": [
       "                    Geographic Area April 1, 2020\\nEstimates Base  2020.0  \\\n",
       "1     Aberdeen town, North Carolina                          8521  8627.0   \n",
       "2      Ahoskie town, North Carolina                          4892  4872.0   \n",
       "3  Alamance village, North Carolina                           991   991.0   \n",
       "\n",
       "   2021.0  2022.0  2023.0  \n",
       "1  9107.0  9315.0  9488.0  \n",
       "2  4762.0  4708.0  4651.0  \n",
       "3   994.0  1009.0  1028.0  "
      ]
     },
     "execution_count": 250,
     "metadata": {},
     "output_type": "execute_result"
    }
   ],
   "source": [
    "population.head(3)"
   ]
  },
  {
   "cell_type": "code",
   "execution_count": 254,
   "metadata": {},
   "outputs": [],
   "source": [
    "population.rename(columns={'Geographic Area': 'City', 2020.0: '2020 Population', 2021.0: '2021 Population', 2022.0: '2022 Population', 2023.0: '2023 Population'}, inplace=True)\n",
    "population = population.drop(columns='April 1, 2020\\nEstimates Base')"
   ]
  },
  {
   "cell_type": "code",
   "execution_count": 255,
   "metadata": {},
   "outputs": [],
   "source": [
    "def clean_city(city):\n",
    "    modified_city = city.split(',')[0]\n",
    "    split_city = modified_city.lower().split(' ')\n",
    "    remove_words = ['city', 'village', 'CDP', 'town']\n",
    "    return ' '.join([word for word in split_city if word not in remove_words])\n",
    "\n",
    "population['City'] = population['City'].apply(clean_city)"
   ]
  },
  {
   "cell_type": "code",
   "execution_count": 256,
   "metadata": {},
   "outputs": [
    {
     "data": {
      "text/html": [
       "<div>\n",
       "<style scoped>\n",
       "    .dataframe tbody tr th:only-of-type {\n",
       "        vertical-align: middle;\n",
       "    }\n",
       "\n",
       "    .dataframe tbody tr th {\n",
       "        vertical-align: top;\n",
       "    }\n",
       "\n",
       "    .dataframe thead th {\n",
       "        text-align: right;\n",
       "    }\n",
       "</style>\n",
       "<table border=\"1\" class=\"dataframe\">\n",
       "  <thead>\n",
       "    <tr style=\"text-align: right;\">\n",
       "      <th></th>\n",
       "      <th>City</th>\n",
       "      <th>2020 Population</th>\n",
       "      <th>2021 Population</th>\n",
       "      <th>2022 Population</th>\n",
       "      <th>2023 Population</th>\n",
       "    </tr>\n",
       "  </thead>\n",
       "  <tbody>\n",
       "    <tr>\n",
       "      <th>1</th>\n",
       "      <td>aberdeen</td>\n",
       "      <td>8627.0</td>\n",
       "      <td>9107.0</td>\n",
       "      <td>9315.0</td>\n",
       "      <td>9488.0</td>\n",
       "    </tr>\n",
       "    <tr>\n",
       "      <th>2</th>\n",
       "      <td>ahoskie</td>\n",
       "      <td>4872.0</td>\n",
       "      <td>4762.0</td>\n",
       "      <td>4708.0</td>\n",
       "      <td>4651.0</td>\n",
       "    </tr>\n",
       "    <tr>\n",
       "      <th>3</th>\n",
       "      <td>alamance</td>\n",
       "      <td>991.0</td>\n",
       "      <td>994.0</td>\n",
       "      <td>1009.0</td>\n",
       "      <td>1028.0</td>\n",
       "    </tr>\n",
       "    <tr>\n",
       "      <th>4</th>\n",
       "      <td>albemarle</td>\n",
       "      <td>16379.0</td>\n",
       "      <td>16414.0</td>\n",
       "      <td>16652.0</td>\n",
       "      <td>16936.0</td>\n",
       "    </tr>\n",
       "  </tbody>\n",
       "</table>\n",
       "</div>"
      ],
      "text/plain": [
       "        City  2020 Population  2021 Population  2022 Population  \\\n",
       "1   aberdeen           8627.0           9107.0           9315.0   \n",
       "2    ahoskie           4872.0           4762.0           4708.0   \n",
       "3   alamance            991.0            994.0           1009.0   \n",
       "4  albemarle          16379.0          16414.0          16652.0   \n",
       "\n",
       "   2023 Population  \n",
       "1           9488.0  \n",
       "2           4651.0  \n",
       "3           1028.0  \n",
       "4          16936.0  "
      ]
     },
     "execution_count": 256,
     "metadata": {},
     "output_type": "execute_result"
    }
   ],
   "source": [
    "# Explanation of population dataset preparation:\n",
    "\n",
    "# 1. Loading the data:\n",
    "#    - We loaded the population data from 'nc_census_data.xlsx' using pd.read_excel()\n",
    "#    - We then renamed the columns using the first row and removed that row from the data\n",
    "\n",
    "# 2. Renaming and dropping columns:\n",
    "#    - We renamed 'Geographic Area' to 'City'\n",
    "#    - We renamed the year columns to more descriptive names (e.g., '2020.0' to '2020 Population')\n",
    "#    - We dropped the 'April 1, 2020\\nEstimates Base' column as it wasn't needed\n",
    "\n",
    "# 3. Cleaning city names:\n",
    "#    - We defined a function 'clean_city' to:\n",
    "#      a) Remove the state name (everything after the comma)\n",
    "#      b) Convert to lowercase\n",
    "#      c) Remove words like 'city', 'village', 'CDP', 'town'\n",
    "#    - We applied this function to the 'City' column\n",
    "\n",
    "# 4. Data type conversion and sorting:\n",
    "#    - We're converting population columns to numeric type\n",
    "#    - We're sorting the dataframe by the most recent population (2023) in descending order\n"
   ]
  },
  {
   "cell_type": "markdown",
   "metadata": {},
   "source": [
    "## Join value_counts and population"
   ]
  },
  {
   "cell_type": "code",
   "execution_count": 11,
   "metadata": {},
   "outputs": [
    {
     "data": {
      "text/html": [
       "<div>\n",
       "<style scoped>\n",
       "    .dataframe tbody tr th:only-of-type {\n",
       "        vertical-align: middle;\n",
       "    }\n",
       "\n",
       "    .dataframe tbody tr th {\n",
       "        vertical-align: top;\n",
       "    }\n",
       "\n",
       "    .dataframe thead th {\n",
       "        text-align: right;\n",
       "    }\n",
       "</style>\n",
       "<table border=\"1\" class=\"dataframe\">\n",
       "  <thead>\n",
       "    <tr style=\"text-align: right;\">\n",
       "      <th></th>\n",
       "      <th>City</th>\n",
       "      <th>Number of Restaurants</th>\n",
       "      <th>Most Current Population Year</th>\n",
       "      <th>Population</th>\n",
       "      <th>Ratio</th>\n",
       "    </tr>\n",
       "  </thead>\n",
       "  <tbody>\n",
       "    <tr>\n",
       "      <th>0</th>\n",
       "      <td>raleigh</td>\n",
       "      <td>1230</td>\n",
       "      <td>2023</td>\n",
       "      <td>482295</td>\n",
       "      <td>392.109756</td>\n",
       "    </tr>\n",
       "    <tr>\n",
       "      <th>1</th>\n",
       "      <td>cary</td>\n",
       "      <td>430</td>\n",
       "      <td>2023</td>\n",
       "      <td>180010</td>\n",
       "      <td>418.627907</td>\n",
       "    </tr>\n",
       "    <tr>\n",
       "      <th>4</th>\n",
       "      <td>apex</td>\n",
       "      <td>120</td>\n",
       "      <td>2023</td>\n",
       "      <td>72225</td>\n",
       "      <td>601.875000</td>\n",
       "    </tr>\n",
       "    <tr>\n",
       "      <th>3</th>\n",
       "      <td>wake forest</td>\n",
       "      <td>148</td>\n",
       "      <td>2023</td>\n",
       "      <td>54337</td>\n",
       "      <td>367.141892</td>\n",
       "    </tr>\n",
       "    <tr>\n",
       "      <th>7</th>\n",
       "      <td>holly springs</td>\n",
       "      <td>83</td>\n",
       "      <td>2023</td>\n",
       "      <td>46271</td>\n",
       "      <td>557.481928</td>\n",
       "    </tr>\n",
       "    <tr>\n",
       "      <th>6</th>\n",
       "      <td>fuquay-varina</td>\n",
       "      <td>91</td>\n",
       "      <td>2023</td>\n",
       "      <td>43817</td>\n",
       "      <td>481.505495</td>\n",
       "    </tr>\n",
       "    <tr>\n",
       "      <th>5</th>\n",
       "      <td>garner</td>\n",
       "      <td>97</td>\n",
       "      <td>2023</td>\n",
       "      <td>35265</td>\n",
       "      <td>363.556701</td>\n",
       "    </tr>\n",
       "    <tr>\n",
       "      <th>2</th>\n",
       "      <td>morrisville</td>\n",
       "      <td>173</td>\n",
       "      <td>2023</td>\n",
       "      <td>31703</td>\n",
       "      <td>183.254335</td>\n",
       "    </tr>\n",
       "    <tr>\n",
       "      <th>8</th>\n",
       "      <td>knightdale</td>\n",
       "      <td>57</td>\n",
       "      <td>2023</td>\n",
       "      <td>20275</td>\n",
       "      <td>355.701754</td>\n",
       "    </tr>\n",
       "    <tr>\n",
       "      <th>9</th>\n",
       "      <td>zebulon</td>\n",
       "      <td>36</td>\n",
       "      <td>2023</td>\n",
       "      <td>9401</td>\n",
       "      <td>261.138889</td>\n",
       "    </tr>\n",
       "  </tbody>\n",
       "</table>\n",
       "</div>"
      ],
      "text/plain": [
       "            City  Number of Restaurants  Most Current Population Year  \\\n",
       "0        raleigh                   1230                          2023   \n",
       "1           cary                    430                          2023   \n",
       "4           apex                    120                          2023   \n",
       "3    wake forest                    148                          2023   \n",
       "7  holly springs                     83                          2023   \n",
       "6  fuquay-varina                     91                          2023   \n",
       "5         garner                     97                          2023   \n",
       "2    morrisville                    173                          2023   \n",
       "8     knightdale                     57                          2023   \n",
       "9        zebulon                     36                          2023   \n",
       "\n",
       "   Population       Ratio  \n",
       "0      482295  392.109756  \n",
       "1      180010  418.627907  \n",
       "4       72225  601.875000  \n",
       "3       54337  367.141892  \n",
       "7       46271  557.481928  \n",
       "6       43817  481.505495  \n",
       "5       35265  363.556701  \n",
       "2       31703  183.254335  \n",
       "8       20275  355.701754  \n",
       "9        9401  261.138889  "
      ]
     },
     "execution_count": 11,
     "metadata": {},
     "output_type": "execute_result"
    }
   ],
   "source": [
    "consolidated_df = pd.merge(value_counts, population, on='City', how='inner')\n",
    "consolidated_df['Ratio'] = consolidated_df['Population'] / consolidated_df['Number of Restaurants'] #new column that indicates presence of rest vs people\n",
    "consolidated_df = consolidated_df[consolidated_df['City'].isin(good_cities)]\n",
    "consolidated_df.sort_values(by='Population', ascending=False)"
   ]
  },
  {
   "cell_type": "markdown",
   "metadata": {},
   "source": [
    "#Create a stacked bar chart to view split between chain and not chain restaraunts "
   ]
  },
  {
   "cell_type": "code",
   "execution_count": 12,
   "metadata": {},
   "outputs": [
    {
     "data": {
      "application/vnd.plotly.v1+json": {
       "config": {
        "plotlyServerURL": "https://plot.ly"
       },
       "data": [
        {
         "alignmentgroup": "True",
         "hovertemplate": "Restaurant Type=Chain<br>City=%{x}<br>Percentage=%{y}<extra></extra>",
         "legendgroup": "Chain",
         "marker": {
          "color": "#636efa",
          "pattern": {
           "shape": ""
          }
         },
         "name": "Chain",
         "offsetgroup": "Chain",
         "orientation": "v",
         "showlegend": true,
         "textposition": "auto",
         "type": "bar",
         "x": [
          "apex",
          "cary",
          "fuquay-varina",
          "garner",
          "holly springs",
          "knightdale",
          "morrisville",
          "raleigh",
          "wake forest",
          "zebulon"
         ],
         "xaxis": "x",
         "y": [
          39.17,
          34.19,
          37.36,
          47.42,
          48.19,
          42.11,
          24.28,
          33.98,
          44.59,
          33.33
         ],
         "yaxis": "y"
        },
        {
         "alignmentgroup": "True",
         "hovertemplate": "Restaurant Type=Not Chain<br>City=%{x}<br>Percentage=%{y}<extra></extra>",
         "legendgroup": "Not Chain",
         "marker": {
          "color": "#EF553B",
          "pattern": {
           "shape": ""
          }
         },
         "name": "Not Chain",
         "offsetgroup": "Not Chain",
         "orientation": "v",
         "showlegend": true,
         "textposition": "auto",
         "type": "bar",
         "x": [
          "apex",
          "cary",
          "fuquay-varina",
          "garner",
          "holly springs",
          "knightdale",
          "morrisville",
          "raleigh",
          "wake forest",
          "zebulon"
         ],
         "xaxis": "x",
         "y": [
          60.83,
          65.81,
          62.64,
          52.58,
          51.81,
          57.89,
          75.72,
          66.02,
          55.41,
          66.67
         ],
         "yaxis": "y"
        }
       ],
       "layout": {
        "barmode": "relative",
        "legend": {
         "title": {
          "text": "Restaurant Type"
         },
         "tracegroupgap": 0
        },
        "margin": {
         "t": 60
        },
        "template": {
         "data": {
          "bar": [
           {
            "error_x": {
             "color": "#2a3f5f"
            },
            "error_y": {
             "color": "#2a3f5f"
            },
            "marker": {
             "line": {
              "color": "#E5ECF6",
              "width": 0.5
             },
             "pattern": {
              "fillmode": "overlay",
              "size": 10,
              "solidity": 0.2
             }
            },
            "type": "bar"
           }
          ],
          "barpolar": [
           {
            "marker": {
             "line": {
              "color": "#E5ECF6",
              "width": 0.5
             },
             "pattern": {
              "fillmode": "overlay",
              "size": 10,
              "solidity": 0.2
             }
            },
            "type": "barpolar"
           }
          ],
          "carpet": [
           {
            "aaxis": {
             "endlinecolor": "#2a3f5f",
             "gridcolor": "white",
             "linecolor": "white",
             "minorgridcolor": "white",
             "startlinecolor": "#2a3f5f"
            },
            "baxis": {
             "endlinecolor": "#2a3f5f",
             "gridcolor": "white",
             "linecolor": "white",
             "minorgridcolor": "white",
             "startlinecolor": "#2a3f5f"
            },
            "type": "carpet"
           }
          ],
          "choropleth": [
           {
            "colorbar": {
             "outlinewidth": 0,
             "ticks": ""
            },
            "type": "choropleth"
           }
          ],
          "contour": [
           {
            "colorbar": {
             "outlinewidth": 0,
             "ticks": ""
            },
            "colorscale": [
             [
              0,
              "#0d0887"
             ],
             [
              0.1111111111111111,
              "#46039f"
             ],
             [
              0.2222222222222222,
              "#7201a8"
             ],
             [
              0.3333333333333333,
              "#9c179e"
             ],
             [
              0.4444444444444444,
              "#bd3786"
             ],
             [
              0.5555555555555556,
              "#d8576b"
             ],
             [
              0.6666666666666666,
              "#ed7953"
             ],
             [
              0.7777777777777778,
              "#fb9f3a"
             ],
             [
              0.8888888888888888,
              "#fdca26"
             ],
             [
              1,
              "#f0f921"
             ]
            ],
            "type": "contour"
           }
          ],
          "contourcarpet": [
           {
            "colorbar": {
             "outlinewidth": 0,
             "ticks": ""
            },
            "type": "contourcarpet"
           }
          ],
          "heatmap": [
           {
            "colorbar": {
             "outlinewidth": 0,
             "ticks": ""
            },
            "colorscale": [
             [
              0,
              "#0d0887"
             ],
             [
              0.1111111111111111,
              "#46039f"
             ],
             [
              0.2222222222222222,
              "#7201a8"
             ],
             [
              0.3333333333333333,
              "#9c179e"
             ],
             [
              0.4444444444444444,
              "#bd3786"
             ],
             [
              0.5555555555555556,
              "#d8576b"
             ],
             [
              0.6666666666666666,
              "#ed7953"
             ],
             [
              0.7777777777777778,
              "#fb9f3a"
             ],
             [
              0.8888888888888888,
              "#fdca26"
             ],
             [
              1,
              "#f0f921"
             ]
            ],
            "type": "heatmap"
           }
          ],
          "heatmapgl": [
           {
            "colorbar": {
             "outlinewidth": 0,
             "ticks": ""
            },
            "colorscale": [
             [
              0,
              "#0d0887"
             ],
             [
              0.1111111111111111,
              "#46039f"
             ],
             [
              0.2222222222222222,
              "#7201a8"
             ],
             [
              0.3333333333333333,
              "#9c179e"
             ],
             [
              0.4444444444444444,
              "#bd3786"
             ],
             [
              0.5555555555555556,
              "#d8576b"
             ],
             [
              0.6666666666666666,
              "#ed7953"
             ],
             [
              0.7777777777777778,
              "#fb9f3a"
             ],
             [
              0.8888888888888888,
              "#fdca26"
             ],
             [
              1,
              "#f0f921"
             ]
            ],
            "type": "heatmapgl"
           }
          ],
          "histogram": [
           {
            "marker": {
             "pattern": {
              "fillmode": "overlay",
              "size": 10,
              "solidity": 0.2
             }
            },
            "type": "histogram"
           }
          ],
          "histogram2d": [
           {
            "colorbar": {
             "outlinewidth": 0,
             "ticks": ""
            },
            "colorscale": [
             [
              0,
              "#0d0887"
             ],
             [
              0.1111111111111111,
              "#46039f"
             ],
             [
              0.2222222222222222,
              "#7201a8"
             ],
             [
              0.3333333333333333,
              "#9c179e"
             ],
             [
              0.4444444444444444,
              "#bd3786"
             ],
             [
              0.5555555555555556,
              "#d8576b"
             ],
             [
              0.6666666666666666,
              "#ed7953"
             ],
             [
              0.7777777777777778,
              "#fb9f3a"
             ],
             [
              0.8888888888888888,
              "#fdca26"
             ],
             [
              1,
              "#f0f921"
             ]
            ],
            "type": "histogram2d"
           }
          ],
          "histogram2dcontour": [
           {
            "colorbar": {
             "outlinewidth": 0,
             "ticks": ""
            },
            "colorscale": [
             [
              0,
              "#0d0887"
             ],
             [
              0.1111111111111111,
              "#46039f"
             ],
             [
              0.2222222222222222,
              "#7201a8"
             ],
             [
              0.3333333333333333,
              "#9c179e"
             ],
             [
              0.4444444444444444,
              "#bd3786"
             ],
             [
              0.5555555555555556,
              "#d8576b"
             ],
             [
              0.6666666666666666,
              "#ed7953"
             ],
             [
              0.7777777777777778,
              "#fb9f3a"
             ],
             [
              0.8888888888888888,
              "#fdca26"
             ],
             [
              1,
              "#f0f921"
             ]
            ],
            "type": "histogram2dcontour"
           }
          ],
          "mesh3d": [
           {
            "colorbar": {
             "outlinewidth": 0,
             "ticks": ""
            },
            "type": "mesh3d"
           }
          ],
          "parcoords": [
           {
            "line": {
             "colorbar": {
              "outlinewidth": 0,
              "ticks": ""
             }
            },
            "type": "parcoords"
           }
          ],
          "pie": [
           {
            "automargin": true,
            "type": "pie"
           }
          ],
          "scatter": [
           {
            "fillpattern": {
             "fillmode": "overlay",
             "size": 10,
             "solidity": 0.2
            },
            "type": "scatter"
           }
          ],
          "scatter3d": [
           {
            "line": {
             "colorbar": {
              "outlinewidth": 0,
              "ticks": ""
             }
            },
            "marker": {
             "colorbar": {
              "outlinewidth": 0,
              "ticks": ""
             }
            },
            "type": "scatter3d"
           }
          ],
          "scattercarpet": [
           {
            "marker": {
             "colorbar": {
              "outlinewidth": 0,
              "ticks": ""
             }
            },
            "type": "scattercarpet"
           }
          ],
          "scattergeo": [
           {
            "marker": {
             "colorbar": {
              "outlinewidth": 0,
              "ticks": ""
             }
            },
            "type": "scattergeo"
           }
          ],
          "scattergl": [
           {
            "marker": {
             "colorbar": {
              "outlinewidth": 0,
              "ticks": ""
             }
            },
            "type": "scattergl"
           }
          ],
          "scattermapbox": [
           {
            "marker": {
             "colorbar": {
              "outlinewidth": 0,
              "ticks": ""
             }
            },
            "type": "scattermapbox"
           }
          ],
          "scatterpolar": [
           {
            "marker": {
             "colorbar": {
              "outlinewidth": 0,
              "ticks": ""
             }
            },
            "type": "scatterpolar"
           }
          ],
          "scatterpolargl": [
           {
            "marker": {
             "colorbar": {
              "outlinewidth": 0,
              "ticks": ""
             }
            },
            "type": "scatterpolargl"
           }
          ],
          "scatterternary": [
           {
            "marker": {
             "colorbar": {
              "outlinewidth": 0,
              "ticks": ""
             }
            },
            "type": "scatterternary"
           }
          ],
          "surface": [
           {
            "colorbar": {
             "outlinewidth": 0,
             "ticks": ""
            },
            "colorscale": [
             [
              0,
              "#0d0887"
             ],
             [
              0.1111111111111111,
              "#46039f"
             ],
             [
              0.2222222222222222,
              "#7201a8"
             ],
             [
              0.3333333333333333,
              "#9c179e"
             ],
             [
              0.4444444444444444,
              "#bd3786"
             ],
             [
              0.5555555555555556,
              "#d8576b"
             ],
             [
              0.6666666666666666,
              "#ed7953"
             ],
             [
              0.7777777777777778,
              "#fb9f3a"
             ],
             [
              0.8888888888888888,
              "#fdca26"
             ],
             [
              1,
              "#f0f921"
             ]
            ],
            "type": "surface"
           }
          ],
          "table": [
           {
            "cells": {
             "fill": {
              "color": "#EBF0F8"
             },
             "line": {
              "color": "white"
             }
            },
            "header": {
             "fill": {
              "color": "#C8D4E3"
             },
             "line": {
              "color": "white"
             }
            },
            "type": "table"
           }
          ]
         },
         "layout": {
          "annotationdefaults": {
           "arrowcolor": "#2a3f5f",
           "arrowhead": 0,
           "arrowwidth": 1
          },
          "autotypenumbers": "strict",
          "coloraxis": {
           "colorbar": {
            "outlinewidth": 0,
            "ticks": ""
           }
          },
          "colorscale": {
           "diverging": [
            [
             0,
             "#8e0152"
            ],
            [
             0.1,
             "#c51b7d"
            ],
            [
             0.2,
             "#de77ae"
            ],
            [
             0.3,
             "#f1b6da"
            ],
            [
             0.4,
             "#fde0ef"
            ],
            [
             0.5,
             "#f7f7f7"
            ],
            [
             0.6,
             "#e6f5d0"
            ],
            [
             0.7,
             "#b8e186"
            ],
            [
             0.8,
             "#7fbc41"
            ],
            [
             0.9,
             "#4d9221"
            ],
            [
             1,
             "#276419"
            ]
           ],
           "sequential": [
            [
             0,
             "#0d0887"
            ],
            [
             0.1111111111111111,
             "#46039f"
            ],
            [
             0.2222222222222222,
             "#7201a8"
            ],
            [
             0.3333333333333333,
             "#9c179e"
            ],
            [
             0.4444444444444444,
             "#bd3786"
            ],
            [
             0.5555555555555556,
             "#d8576b"
            ],
            [
             0.6666666666666666,
             "#ed7953"
            ],
            [
             0.7777777777777778,
             "#fb9f3a"
            ],
            [
             0.8888888888888888,
             "#fdca26"
            ],
            [
             1,
             "#f0f921"
            ]
           ],
           "sequentialminus": [
            [
             0,
             "#0d0887"
            ],
            [
             0.1111111111111111,
             "#46039f"
            ],
            [
             0.2222222222222222,
             "#7201a8"
            ],
            [
             0.3333333333333333,
             "#9c179e"
            ],
            [
             0.4444444444444444,
             "#bd3786"
            ],
            [
             0.5555555555555556,
             "#d8576b"
            ],
            [
             0.6666666666666666,
             "#ed7953"
            ],
            [
             0.7777777777777778,
             "#fb9f3a"
            ],
            [
             0.8888888888888888,
             "#fdca26"
            ],
            [
             1,
             "#f0f921"
            ]
           ]
          },
          "colorway": [
           "#636efa",
           "#EF553B",
           "#00cc96",
           "#ab63fa",
           "#FFA15A",
           "#19d3f3",
           "#FF6692",
           "#B6E880",
           "#FF97FF",
           "#FECB52"
          ],
          "font": {
           "color": "#2a3f5f"
          },
          "geo": {
           "bgcolor": "white",
           "lakecolor": "white",
           "landcolor": "#E5ECF6",
           "showlakes": true,
           "showland": true,
           "subunitcolor": "white"
          },
          "hoverlabel": {
           "align": "left"
          },
          "hovermode": "closest",
          "mapbox": {
           "style": "light"
          },
          "paper_bgcolor": "white",
          "plot_bgcolor": "#E5ECF6",
          "polar": {
           "angularaxis": {
            "gridcolor": "white",
            "linecolor": "white",
            "ticks": ""
           },
           "bgcolor": "#E5ECF6",
           "radialaxis": {
            "gridcolor": "white",
            "linecolor": "white",
            "ticks": ""
           }
          },
          "scene": {
           "xaxis": {
            "backgroundcolor": "#E5ECF6",
            "gridcolor": "white",
            "gridwidth": 2,
            "linecolor": "white",
            "showbackground": true,
            "ticks": "",
            "zerolinecolor": "white"
           },
           "yaxis": {
            "backgroundcolor": "#E5ECF6",
            "gridcolor": "white",
            "gridwidth": 2,
            "linecolor": "white",
            "showbackground": true,
            "ticks": "",
            "zerolinecolor": "white"
           },
           "zaxis": {
            "backgroundcolor": "#E5ECF6",
            "gridcolor": "white",
            "gridwidth": 2,
            "linecolor": "white",
            "showbackground": true,
            "ticks": "",
            "zerolinecolor": "white"
           }
          },
          "shapedefaults": {
           "line": {
            "color": "#2a3f5f"
           }
          },
          "ternary": {
           "aaxis": {
            "gridcolor": "white",
            "linecolor": "white",
            "ticks": ""
           },
           "baxis": {
            "gridcolor": "white",
            "linecolor": "white",
            "ticks": ""
           },
           "bgcolor": "#E5ECF6",
           "caxis": {
            "gridcolor": "white",
            "linecolor": "white",
            "ticks": ""
           }
          },
          "title": {
           "x": 0.05
          },
          "xaxis": {
           "automargin": true,
           "gridcolor": "white",
           "linecolor": "white",
           "ticks": "",
           "title": {
            "standoff": 15
           },
           "zerolinecolor": "white",
           "zerolinewidth": 2
          },
          "yaxis": {
           "automargin": true,
           "gridcolor": "white",
           "linecolor": "white",
           "ticks": "",
           "title": {
            "standoff": 15
           },
           "zerolinecolor": "white",
           "zerolinewidth": 2
          }
         }
        },
        "xaxis": {
         "anchor": "y",
         "domain": [
          0,
          1
         ],
         "title": {
          "text": "City"
         }
        },
        "yaxis": {
         "anchor": "x",
         "domain": [
          0,
          1
         ],
         "title": {
          "text": "Percentage"
         }
        }
       }
      }
     },
     "metadata": {},
     "output_type": "display_data"
    }
   ],
   "source": [
    "crosstab = pd.crosstab(df['City'], df['Check Chain'], normalize='index') # Convert to percentages\n",
    "crosstab *= 100\n",
    "crosstab = crosstab.round(2).reset_index()\n",
    "crosstab_melt = crosstab.melt(id_vars='City', var_name='Restaurant Type', value_name='Percentage')\n",
    "\n",
    "#Plotly express stacked bar chart\\\n",
    "px.bar(crosstab_melt, x='City', y='Percentage', color='Restaurant Type')"
   ]
  },
  {
   "cell_type": "code",
   "execution_count": 13,
   "metadata": {},
   "outputs": [
    {
     "data": {
      "text/html": [
       "<div>\n",
       "<style scoped>\n",
       "    .dataframe tbody tr th:only-of-type {\n",
       "        vertical-align: middle;\n",
       "    }\n",
       "\n",
       "    .dataframe tbody tr th {\n",
       "        vertical-align: top;\n",
       "    }\n",
       "\n",
       "    .dataframe thead th {\n",
       "        text-align: right;\n",
       "    }\n",
       "</style>\n",
       "<table border=\"1\" class=\"dataframe\">\n",
       "  <thead>\n",
       "    <tr style=\"text-align: right;\">\n",
       "      <th>Check Chain</th>\n",
       "      <th>City</th>\n",
       "      <th>Chain</th>\n",
       "      <th>Not Chain</th>\n",
       "    </tr>\n",
       "  </thead>\n",
       "  <tbody>\n",
       "    <tr>\n",
       "      <th>4</th>\n",
       "      <td>holly springs</td>\n",
       "      <td>48.19</td>\n",
       "      <td>51.81</td>\n",
       "    </tr>\n",
       "    <tr>\n",
       "      <th>3</th>\n",
       "      <td>garner</td>\n",
       "      <td>47.42</td>\n",
       "      <td>52.58</td>\n",
       "    </tr>\n",
       "    <tr>\n",
       "      <th>8</th>\n",
       "      <td>wake forest</td>\n",
       "      <td>44.59</td>\n",
       "      <td>55.41</td>\n",
       "    </tr>\n",
       "    <tr>\n",
       "      <th>5</th>\n",
       "      <td>knightdale</td>\n",
       "      <td>42.11</td>\n",
       "      <td>57.89</td>\n",
       "    </tr>\n",
       "    <tr>\n",
       "      <th>0</th>\n",
       "      <td>apex</td>\n",
       "      <td>39.17</td>\n",
       "      <td>60.83</td>\n",
       "    </tr>\n",
       "    <tr>\n",
       "      <th>2</th>\n",
       "      <td>fuquay-varina</td>\n",
       "      <td>37.36</td>\n",
       "      <td>62.64</td>\n",
       "    </tr>\n",
       "    <tr>\n",
       "      <th>1</th>\n",
       "      <td>cary</td>\n",
       "      <td>34.19</td>\n",
       "      <td>65.81</td>\n",
       "    </tr>\n",
       "    <tr>\n",
       "      <th>7</th>\n",
       "      <td>raleigh</td>\n",
       "      <td>33.98</td>\n",
       "      <td>66.02</td>\n",
       "    </tr>\n",
       "    <tr>\n",
       "      <th>9</th>\n",
       "      <td>zebulon</td>\n",
       "      <td>33.33</td>\n",
       "      <td>66.67</td>\n",
       "    </tr>\n",
       "    <tr>\n",
       "      <th>6</th>\n",
       "      <td>morrisville</td>\n",
       "      <td>24.28</td>\n",
       "      <td>75.72</td>\n",
       "    </tr>\n",
       "  </tbody>\n",
       "</table>\n",
       "</div>"
      ],
      "text/plain": [
       "Check Chain           City  Chain  Not Chain\n",
       "4            holly springs  48.19      51.81\n",
       "3                   garner  47.42      52.58\n",
       "8              wake forest  44.59      55.41\n",
       "5               knightdale  42.11      57.89\n",
       "0                     apex  39.17      60.83\n",
       "2            fuquay-varina  37.36      62.64\n",
       "1                     cary  34.19      65.81\n",
       "7                  raleigh  33.98      66.02\n",
       "9                  zebulon  33.33      66.67\n",
       "6              morrisville  24.28      75.72"
      ]
     },
     "execution_count": 13,
     "metadata": {},
     "output_type": "execute_result"
    }
   ],
   "source": [
    "crosstab.sort_values(by='Chain', ascending=False)"
   ]
  },
  {
   "cell_type": "code",
   "execution_count": 14,
   "metadata": {},
   "outputs": [
    {
     "data": {
      "text/html": [
       "<div>\n",
       "<style scoped>\n",
       "    .dataframe tbody tr th:only-of-type {\n",
       "        vertical-align: middle;\n",
       "    }\n",
       "\n",
       "    .dataframe tbody tr th {\n",
       "        vertical-align: top;\n",
       "    }\n",
       "\n",
       "    .dataframe thead th {\n",
       "        text-align: right;\n",
       "    }\n",
       "</style>\n",
       "<table border=\"1\" class=\"dataframe\">\n",
       "  <thead>\n",
       "    <tr style=\"text-align: right;\">\n",
       "      <th></th>\n",
       "      <th>count</th>\n",
       "    </tr>\n",
       "    <tr>\n",
       "      <th>Name Clean</th>\n",
       "      <th></th>\n",
       "    </tr>\n",
       "  </thead>\n",
       "  <tbody>\n",
       "    <tr>\n",
       "      <th>SUBWAY</th>\n",
       "      <td>50</td>\n",
       "    </tr>\n",
       "    <tr>\n",
       "      <th>STARBUCKS</th>\n",
       "      <td>31</td>\n",
       "    </tr>\n",
       "    <tr>\n",
       "      <th>MCDONALD'S</th>\n",
       "      <td>27</td>\n",
       "    </tr>\n",
       "    <tr>\n",
       "      <th>WENDY'S</th>\n",
       "      <td>26</td>\n",
       "    </tr>\n",
       "    <tr>\n",
       "      <th>CHICK-FIL-A</th>\n",
       "      <td>23</td>\n",
       "    </tr>\n",
       "    <tr>\n",
       "      <th>BOJANGLES</th>\n",
       "      <td>23</td>\n",
       "    </tr>\n",
       "    <tr>\n",
       "      <th>JERSEY MIKE'S</th>\n",
       "      <td>22</td>\n",
       "    </tr>\n",
       "    <tr>\n",
       "      <th>SHEETZ</th>\n",
       "      <td>22</td>\n",
       "    </tr>\n",
       "    <tr>\n",
       "      <th>BURGER KING</th>\n",
       "      <td>20</td>\n",
       "    </tr>\n",
       "    <tr>\n",
       "      <th>HARRIS TEETER</th>\n",
       "      <td>19</td>\n",
       "    </tr>\n",
       "    <tr>\n",
       "      <th>MCDONALDS</th>\n",
       "      <td>18</td>\n",
       "    </tr>\n",
       "    <tr>\n",
       "      <th>TACO BELL</th>\n",
       "      <td>17</td>\n",
       "    </tr>\n",
       "    <tr>\n",
       "      <th>PANERA BREAD</th>\n",
       "      <td>14</td>\n",
       "    </tr>\n",
       "    <tr>\n",
       "      <th>WAFFLE HOUSE</th>\n",
       "      <td>12</td>\n",
       "    </tr>\n",
       "    <tr>\n",
       "      <th>FIRST WATCH</th>\n",
       "      <td>11</td>\n",
       "    </tr>\n",
       "    <tr>\n",
       "      <th>MOE'S SOUTHWEST GRILL</th>\n",
       "      <td>10</td>\n",
       "    </tr>\n",
       "    <tr>\n",
       "      <th>CHIPOTLE</th>\n",
       "      <td>10</td>\n",
       "    </tr>\n",
       "    <tr>\n",
       "      <th>MARCO'S PIZZA</th>\n",
       "      <td>10</td>\n",
       "    </tr>\n",
       "    <tr>\n",
       "      <th>FIREHOUSE SUBS</th>\n",
       "      <td>10</td>\n",
       "    </tr>\n",
       "    <tr>\n",
       "      <th>ZAXBY'S</th>\n",
       "      <td>9</td>\n",
       "    </tr>\n",
       "  </tbody>\n",
       "</table>\n",
       "</div>"
      ],
      "text/plain": [
       "                       count\n",
       "Name Clean                  \n",
       "SUBWAY                    50\n",
       "STARBUCKS                 31\n",
       "MCDONALD'S                27\n",
       "WENDY'S                   26\n",
       "CHICK-FIL-A               23\n",
       "BOJANGLES                 23\n",
       "JERSEY MIKE'S             22\n",
       "SHEETZ                    22\n",
       "BURGER KING               20\n",
       "HARRIS TEETER             19\n",
       "MCDONALDS                 18\n",
       "TACO BELL                 17\n",
       "PANERA BREAD              14\n",
       "WAFFLE HOUSE              12\n",
       "FIRST WATCH               11\n",
       "MOE'S SOUTHWEST GRILL     10\n",
       "CHIPOTLE                  10\n",
       "MARCO'S PIZZA             10\n",
       "FIREHOUSE SUBS            10\n",
       "ZAXBY'S                    9"
      ]
     },
     "execution_count": 14,
     "metadata": {},
     "output_type": "execute_result"
    }
   ],
   "source": [
    "#View the different types of fast food places and the most popular ones in Wake County\n",
    "df1 = df[df['Check Chain']=='Chain']\n",
    "fast_food = df1['Name Clean'].value_counts()\n",
    "fast_food_df = pd.DataFrame(fast_food)\n",
    "fast_food_df.head(20)"
   ]
  },
  {
   "cell_type": "code",
   "execution_count": 15,
   "metadata": {},
   "outputs": [
    {
     "data": {
      "application/vnd.plotly.v1+json": {
       "config": {
        "plotlyServerURL": "https://plot.ly"
       },
       "data": [
        {
         "customdata": [
          [
           "920 NE MAYNARD RD",
           "cary"
          ],
          [
           "1353 KILDAIRE FARM RD",
           "cary"
          ],
          [
           "325 CARPENTER HILL DR",
           "cary"
          ],
          [
           "3710 DAVIS DR",
           "cary"
          ],
          [
           "5856 TRYON RD",
           "cary"
          ],
          [
           "914 KILDAIRE FARM RD",
           "cary"
          ],
          [
           "1148 KILDAIRE FARM RD",
           "cary"
          ],
          [
           "2757 NC 55 HWY",
           "cary"
          ],
          [
           "2964 KILDAIRE FARM RD",
           "cary"
          ],
          [
           "675 MILLS PARK DR",
           "cary"
          ],
          [
           "2002 KILDAIRE FARM RD",
           "cary"
          ],
          [
           "1118 PARKSIDE MAIN ST",
           "cary"
          ],
          [
           "208 CROSSROADS BLVD",
           "cary"
          ],
          [
           "1262 NW MAYNARD RD",
           "cary"
          ],
          [
           "102 EDINBURGH SOUTH DR",
           "cary"
          ],
          [
           "1107 WALNUT ST",
           "cary"
          ],
          [
           "8204-113 TRYON WOODS DR",
           "cary"
          ],
          [
           "100 MACGREGOR PINES DR",
           "cary"
          ],
          [
           "8204-106 TRYON WOODS DR",
           "cary"
          ],
          [
           "8111-208 TRYON WOODS  DR",
           "cary"
          ],
          [
           "4212 NW CARY PKY",
           "cary"
          ],
          [
           "3420 TEN TEN RD",
           "cary"
          ],
          [
           "200 CROSSROADS  BLVD",
           "cary"
          ],
          [
           "4300 NW CARY PKY",
           "cary"
          ],
          [
           "2700 REGENCY PKY",
           "cary"
          ],
          [
           "313 CROSSROADS BLVD",
           "cary"
          ],
          [
           "1979 HIGH HOUSE RD",
           "cary"
          ],
          [
           "1301 NW MAYNARD  RD",
           "cary"
          ],
          [
           "1060 DARRINGTON DR",
           "cary"
          ],
          [
           "1222 NW MAYNARD ROAD",
           "cary"
          ],
          [
           "746 E CHATHAM ST",
           "cary"
          ],
          [
           "201 W CHATHAM ST",
           "cary"
          ],
          [
           "7107 O'KELLY CHAPEL RD",
           "cary"
          ],
          [
           "1035 PARKSIDE MAIN ST",
           "cary"
          ],
          [
           "270 GRANDE HEIGHTS DR",
           "cary"
          ],
          [
           "748 E CHATHAM ST",
           "cary"
          ],
          [
           "5707 DILLARD DR",
           "cary"
          ],
          [
           "823 BASS PRO LN",
           "cary"
          ],
          [
           "96 CORNERSTONE DR",
           "cary"
          ],
          [
           "1275 NW MAYNARD RD",
           "cary"
          ],
          [
           "2250 GATHERING PARK CIR",
           "cary"
          ],
          [
           "1120 LEDSOME LN",
           "cary"
          ],
          [
           "211 E CHATHAM ST",
           "cary"
          ],
          [
           "949 N HARRISON AVE",
           "cary"
          ],
          [
           "317 W CHATHAM ST",
           "cary"
          ],
          [
           "1369 KILDAIRE FARM RD",
           "cary"
          ],
          [
           "106 KILMAYNE DR",
           "cary"
          ],
          [
           "5055 ARCO ST",
           "cary"
          ],
          [
           "1856 BOULDERSTONE WAY",
           "cary"
          ],
          [
           "1299 KILDAIRE FARM  RD",
           "cary"
          ],
          [
           "3494 KILDAIRE FARM RD",
           "cary"
          ],
          [
           "4801 SW CARY  PKY",
           "cary"
          ],
          [
           "1937 HIGH HOUSE RD",
           "cary"
          ],
          [
           "2711 NC HWY 55",
           "cary"
          ],
          [
           "2734 NC 55",
           "cary"
          ],
          [
           "3470 KILDAIRE FARM RD",
           "cary"
          ],
          [
           "1008 PARKSIDE MAIN ST",
           "cary"
          ],
          [
           "3635 SW CARY PKY",
           "cary"
          ],
          [
           "718 SLASH PINE DR",
           "cary"
          ],
          [
           "2763 NC 55 HWY",
           "cary"
          ],
          [
           "301 METLIFE WAY",
           "cary"
          ],
          [
           "280  MEETING ST",
           "cary"
          ],
          [
           "3490 KILDAIRE FARM RD",
           "cary"
          ],
          [
           "210 E CHATHAM ST",
           "cary"
          ],
          [
           "205 DOGWOOD TREE LN",
           "cary"
          ],
          [
           "111 SHANNON OAKS CIR",
           "cary"
          ],
          [
           "1871 LAKE PINE DR",
           "cary"
          ],
          [
           "1205 NE MAYNARD RD",
           "cary"
          ],
          [
           "1311 KILDAIRE FARM RD",
           "cary"
          ],
          [
           "1065 DARRINGTON DR",
           "cary"
          ],
          [
           "716 SLASH PINE DR",
           "cary"
          ],
          [
           "7165 O'KELLY CHAPEL RD",
           "cary"
          ],
          [
           "315 CROSSROADS BLVD",
           "cary"
          ],
          [
           "6458 TRYON RD",
           "cary"
          ],
          [
           "309 CROSSROADS BLVD",
           "cary"
          ],
          [
           "712 SE MAYNARD RD",
           "cary"
          ],
          [
           "301 NOTTINGHAM DR",
           "cary"
          ],
          [
           "4000 GLENAIRE CIRCLE",
           "cary"
          ],
          [
           "2010 RENNAISANCE PARK PL",
           "cary"
          ],
          [
           "100 MAYNARD CROSSING CT",
           "cary"
          ],
          [
           "2240 WALNUT ST",
           "cary"
          ],
          [
           "8314 CHAPEL HILL RD",
           "cary"
          ],
          [
           "701 SAS CAMPUS DR, BLDG T",
           "cary"
          ],
          [
           "1718 WALNUT ST",
           "cary"
          ],
          [
           "1 QUALITY LN",
           "cary"
          ],
          [
           "1528 DAVIS DR",
           "cary"
          ],
          [
           "215 BRIGHTMORE DR",
           "cary"
          ],
          [
           "308 W CHATHAM ST",
           "cary"
          ],
          [
           "316 COLONADES WAY",
           "cary"
          ],
          [
           "3710 DAVIS DR",
           "cary"
          ],
          [
           "302 COLONADES WAY",
           "cary"
          ],
          [
           "687 MILLS PARK DR",
           "cary"
          ],
          [
           "337 SEMBLER LN",
           "cary"
          ],
          [
           "160 E CEDAR ST",
           "cary"
          ],
          [
           "1111 WALNUT ST",
           "cary"
          ],
          [
           "2000 EVANS RD",
           "cary"
          ],
          [
           "1120 KILDAIRE FARM RD",
           "cary"
          ],
          [
           "808 HIGH HOUSE RD",
           "cary"
          ],
          [
           "2820 NC HWY 55",
           "cary"
          ],
          [
           "8204-120 TRYON WOODS DR",
           "cary"
          ],
          [
           "1102 WALNUT ST",
           "cary"
          ],
          [
           "215 GREGSON DR",
           "cary"
          ],
          [
           "1040 TRYON VILLAGE DR",
           "cary"
          ],
          [
           "10130 GREEN LEVEL CHURCH  RD SUITE 300",
           "cary"
          ],
          [
           "906 NE MAYNARD RD",
           "cary"
          ],
          [
           "2972 KILDAIRE FARM RD",
           "cary"
          ],
          [
           "10120 GREEN LEVEL CHURCH  RD",
           "cary"
          ],
          [
           "231 GRANDE HEIGHTS DR",
           "cary"
          ],
          [
           "121 E CHATHAM ST",
           "cary"
          ],
          [
           "6454  TRYON  RD",
           "cary"
          ],
          [
           "4101 NC-HWY 55",
           "cary"
          ],
          [
           "107 EDINBURGH SOUTH DR",
           "cary"
          ],
          [
           "1020 BRADFORD PLAZA WAY",
           "cary"
          ],
          [
           "201 METLIFE WAY",
           "cary"
          ],
          [
           "1803 N. HARRISON AVE.",
           "cary"
          ],
          [
           "101 METLIFE WAY",
           "cary"
          ],
          [
           "1305 NW MAYNARD RD",
           "cary"
          ],
          [
           "682 CARY TOWNE BLVD",
           "cary"
          ],
          [
           "910 NE MAYNARD RD",
           "cary"
          ],
          [
           "215 E CHATHAM ST",
           "cary"
          ],
          [
           "105 CONVENTION DR",
           "cary"
          ],
          [
           "5055 ARCO ST",
           "cary"
          ],
          [
           "901 WALNUT ST",
           "cary"
          ],
          [
           "2052 RENAISSANCE PARK PL",
           "cary"
          ],
          [
           "748 E CHATHAM ST SUITE E",
           "cary"
          ],
          [
           "3511 KILDAIRE FARM RD",
           "cary"
          ],
          [
           "101 LEDGESTONE WAY",
           "cary"
          ],
          [
           "810 E CHATHAM ST",
           "cary"
          ],
          [
           "7157 O'KELLEY CHAPEL RD",
           "cary"
          ],
          [
           "869 SE MAYNARD RD",
           "cary"
          ],
          [
           "3460 KILDAIRE FARM RD",
           "cary"
          ],
          [
           "2001 WALNUT ST",
           "cary"
          ],
          [
           "7000 WESTON PKWY",
           "cary"
          ],
          [
           "1273 NW MAYNARD RD",
           "cary"
          ],
          [
           "5016 COMMONS HILL DR",
           "cary"
          ],
          [
           "990 HIGH HOUSE RD",
           "cary"
          ],
          [
           "101 EDINBURGH SOUTH DR",
           "cary"
          ],
          [
           "5020 ARCO ST",
           "cary"
          ],
          [
           "122 E CHATHAM ST",
           "cary"
          ],
          [
           "1026 RYAN RD",
           "cary"
          ],
          [
           "2050 KILDAIRE FARM RD",
           "cary"
          ],
          [
           "111 W CORNWALL RD",
           "cary"
          ],
          [
           "1260 NW MAYNARD RD",
           "cary"
          ],
          [
           "1140 PARKSIDE MAIN ST",
           "cary"
          ],
          [
           "1319 KILDAIRE FARM RD",
           "cary"
          ],
          [
           "1207 KILDAIRE FARM RD",
           "cary"
          ],
          [
           "3490 KILDAIRE FARM RD",
           "cary"
          ],
          [
           "212 GRANDE HEIGHTS DR",
           "cary"
          ],
          [
           "107 EDINBURGH SOUTH DR",
           "cary"
          ],
          [
           "2012 BOULDERSTONE WAY",
           "cary"
          ],
          [
           "1809 WALNUT ST",
           "cary"
          ],
          [
           "151 HIGH HOUSE RD",
           "cary"
          ],
          [
           "2753 NC HWY 55",
           "cary"
          ],
          [
           "1900 KILDAIRE FARM RD",
           "cary"
          ],
          [
           "500 SAS CAMPUS DR,  BLDG R",
           "cary"
          ],
          [
           "661 CARY TOWNE BLVD",
           "cary"
          ],
          [
           "107 EDINBURGH SOUTH, ST 135",
           "cary"
          ],
          [
           "2060 RENAISSANCE PARK PL",
           "cary"
          ],
          [
           "2700 NC 55 HWY",
           "cary"
          ],
          [
           "1080 DARRINGTON DR",
           "cary"
          ],
          [
           "2028 KILDAIRE FARM RD",
           "cary"
          ],
          [
           "744 E CHATHAM ST",
           "cary"
          ],
          [
           "200 S ACADEMY ST",
           "cary"
          ],
          [
           "336 SEMBLER LN",
           "cary"
          ],
          [
           "302 COLONADES WAY",
           "cary"
          ],
          [
           "1240 NW MAYNARD RD",
           "cary"
          ],
          [
           "2982 KILDAIRE FARM RD",
           "cary"
          ],
          [
           "815 W CHATHAM ST",
           "cary"
          ],
          [
           "2740 NC HWY 55",
           "cary"
          ],
          [
           "1711 N HARRISON AVE",
           "cary"
          ],
          [
           "2791 NC 55 HWY",
           "cary"
          ],
          [
           "1108 PARKSIDE MAIN ST",
           "cary"
          ],
          [
           "677 MILLS PARK DR",
           "cary"
          ],
          [
           "5033 ARCO ST",
           "cary"
          ],
          [
           "329 N HARRISON AVE",
           "cary"
          ],
          [
           "220 NOTTINGHAM DR",
           "cary"
          ],
          [
           "2720 NC HWY 55",
           "cary"
          ],
          [
           "744-F E CHATHAM ST",
           "cary"
          ],
          [
           "2260 WALNUT ST",
           "cary"
          ],
          [
           "2840 NC HWY 55",
           "cary"
          ],
          [
           "1401-L SE MAYNARD RD",
           "cary"
          ],
          [
           "840 E CHATHAM ST",
           "cary"
          ],
          [
           "750 SE CARY PKY",
           "cary"
          ],
          [
           "1861 N HARRISON AVE",
           "cary"
          ],
          [
           "2010 KILDAIRE FARM  RD",
           "cary"
          ],
          [
           "131 COLUMBUS AVE",
           "cary"
          ],
          [
           "2234 WALNUT  ST",
           "cary"
          ],
          [
           "1195 W CHATHAM ST",
           "cary"
          ],
          [
           "126 KILMAYNE DR",
           "cary"
          ],
          [
           "1805 WALNUT ST",
           "cary"
          ],
          [
           "7145  O'KELLY CHAPEL RD",
           "cary"
          ],
          [
           "2080 KILDAIRE FARM RD",
           "cary"
          ],
          [
           "100 WRENN DR",
           "cary"
          ],
          [
           "201 METLIFE WAY",
           "cary"
          ],
          [
           "1004 PARKSIDE MAIN ST",
           "cary"
          ],
          [
           "6490 TRYON RD",
           "cary"
          ],
          [
           "1851 N. HARRISON AVENUE",
           "cary"
          ],
          [
           "204 CROSSROADS BLVD",
           "cary"
          ],
          [
           "201 HARRISON OAKS BLVD",
           "cary"
          ],
          [
           "3505  KILDAIRE FARM RD",
           "cary"
          ],
          [
           "8306 CHAPEL HILL RD",
           "cary"
          ],
          [
           "9934 CHAPEL HILL RD",
           "cary"
          ],
          [
           "700 CARY TOWNE BLVD",
           "cary"
          ],
          [
           "1116 PARKSIDE MAIN ST",
           "cary"
          ],
          [
           "5055 ARCO ST",
           "cary"
          ],
          [
           "5055 ARCO ST",
           "cary"
          ],
          [
           "525 NEW WAVERLY PL",
           "cary"
          ],
          [
           "1183 W CHATHAM ST",
           "cary"
          ],
          [
           "220 CROSSROADS BLVD",
           "cary"
          ],
          [
           "1550 BUCK JONES RD",
           "cary"
          ],
          [
           "1830 WALNUT ST",
           "cary"
          ],
          [
           "1224 PARKSIDE MAIN ST",
           "cary"
          ],
          [
           "611 E CHATHAM ST",
           "cary"
          ],
          [
           "263 GRANDE HEIGHTS DR",
           "cary"
          ],
          [
           "2007 WALNUT ST",
           "cary"
          ],
          [
           "329 N HARRISON AVE",
           "cary"
          ],
          [
           "994 HIGH HOUSE RD",
           "cary"
          ],
          [
           "21 FENTON MAIN ST",
           "cary"
          ],
          [
           "154 E CHATHAM ST",
           "cary"
          ],
          [
           "2036 RENAISSANCE PARK PL",
           "cary"
          ],
          [
           "2432 SW CARY PKY",
           "cary"
          ],
          [
           "590 E CHATHAM ST",
           "cary"
          ],
          [
           "643 MILLS PARK DR",
           "cary"
          ],
          [
           "3460 TEN-TEN RD",
           "cary"
          ],
          [
           "986 HIGH HOUSE RD",
           "cary"
          ],
          [
           "4224 NW CARY PKWY",
           "cary"
          ],
          [
           "740 SE MAYNARD RD",
           "cary"
          ],
          [
           "370 S WALKER ST",
           "cary"
          ],
          [
           "837 BASS PRO LN",
           "cary"
          ],
          [
           "2422 SW CARY PKWY",
           "cary"
          ],
          [
           "1904 NW MAYNARD RD",
           "cary"
          ],
          [
           "107 EDINBURGH SOUTH DR",
           "cary"
          ],
          [
           "1325 BRADFORD VIEW DR",
           "cary"
          ],
          [
           "200 CROSSROADS BLVD",
           "cary"
          ],
          [
           "1207-C KILDAIRE FARM RD",
           "cary"
          ],
          [
           "110 SW MAYNARD RD",
           "cary"
          ],
          [
           "1904 NW MAYNARD RD",
           "cary"
          ],
          [
           "1361 KILDAIRE FARM RD",
           "cary"
          ],
          [
           "423 CROSSROADS BLVD",
           "cary"
          ],
          [
           "1389 KILDAIRE FARM RD",
           "cary"
          ],
          [
           "525 NEW WAVERLY  PL",
           "cary"
          ],
          [
           "1500 N HARRISON AVE",
           "cary"
          ],
          [
           "270 NOTTINGHAM DR",
           "cary"
          ],
          [
           "1385 BRADFORD VIEW PL",
           "cary"
          ],
          [
           "228 CROSSROADS BLVD",
           "cary"
          ],
          [
           "1125 HATCHES POND LN",
           "cary"
          ],
          [
           "1144 KILDAIRE FARM RD",
           "cary"
          ],
          [
           "111 E CHATHAM ST",
           "cary"
          ],
          [
           "4025 CENTREGREEN  WAY",
           "cary"
          ],
          [
           "8204 TRYON WOODS DR",
           "cary"
          ],
          [
           "10820 PENNY RD",
           "cary"
          ],
          [
           "1213 NW MAYNARD RD",
           "cary"
          ],
          [
           "8204 TRYON WOODS DR",
           "cary"
          ],
          [
           "302  COLONADES WAY",
           "cary"
          ],
          [
           "2428 SW CARY PKWY",
           "cary"
          ],
          [
           "319 CROSSROADS BLVD",
           "cary"
          ],
          [
           "1011 N HARRISON AVE",
           "cary"
          ],
          [
           "1000 VALLEYSTONE DR",
           "cary"
          ],
          [
           "1217 KILDAIRE FARM RD",
           "cary"
          ],
          [
           "100 WOODLAND POND",
           "cary"
          ],
          [
           "1904-101 NW MAYNARD RD",
           "cary"
          ],
          [
           "1700 REGENCY PKY",
           "cary"
          ],
          [
           "10110 GREEN LEVEL CHURCH RD",
           "cary"
          ],
          [
           "500 CAITBOO AVE",
           "cary"
          ],
          [
           "1301 KILDAIRE FARM RD",
           "cary"
          ],
          [
           "210 CROSSROADS BLVD",
           "cary"
          ],
          [
           "3667 SW CARY  PKY",
           "cary"
          ],
          [
           "820 SAS CAMPUS DR",
           "cary"
          ],
          [
           "2020 BOULDERSTONE WAY",
           "cary"
          ],
          [
           "575 NEW WAVERLY PL",
           "cary"
          ],
          [
           "1885 LAKE PINE DR",
           "cary"
          ],
          [
           "2736 NC HWY 55",
           "cary"
          ],
          [
           "3450-158 KILDAIRE FARM  RD",
           "cary"
          ],
          [
           "1109 LEDSOME LN",
           "cary"
          ],
          [
           "7129 OKELLY CHAPEL RD",
           "cary"
          ],
          [
           "600 E CHATHAM ST",
           "cary"
          ],
          [
           "885 WALNUT ST",
           "cary"
          ],
          [
           "1111 PARKSIDE MAIN ST.",
           "cary"
          ],
          [
           "1722 WALNUT ST",
           "cary"
          ],
          [
           "120 SAGE COMMONS WAY",
           "cary"
          ],
          [
           "1347 KILDAIRE FARM RD",
           "cary"
          ],
          [
           "1015 PARKSIDE MAIN ST",
           "cary"
          ],
          [
           "1156 PARKSIDE MAIN ST",
           "cary"
          ],
          [
           "5630 DILLARD DR",
           "cary"
          ],
          [
           "600 LEDGESTONE WAY",
           "cary"
          ],
          [
           "748 E CHATHAM ST",
           "cary"
          ],
          [
           "160 NE MAYNARD  RD",
           "cary"
          ],
          [
           "9918 CHAPEL HILL RD",
           "cary"
          ],
          [
           "201 ASHVILLE AVE",
           "cary"
          ],
          [
           "313 COLONADES WAY",
           "cary"
          ],
          [
           "525 NEW WAVERLY PL",
           "cary"
          ],
          [
           "3450 KILDAIRE FARM RD",
           "cary"
          ],
          [
           "98 CORNERSTONE DR",
           "cary"
          ],
          [
           "6452 TRYON  RD",
           "cary"
          ],
          [
           "5055 ARCO ST",
           "cary"
          ],
          [
           "2021 WALNUT ST",
           "cary"
          ],
          [
           "2222 WALNUT ST",
           "cary"
          ],
          [
           "1289 KILDAIRE FARM RD",
           "cary"
          ],
          [
           "115 W CHATHAM ST",
           "cary"
          ],
          [
           "14112 BRADFORD GREEN SQUARE",
           "cary"
          ],
          [
           "1805 N HARRISON AVE",
           "cary"
          ],
          [
           "708 SLASH PINE DR",
           "cary"
          ],
          [
           "107 S EDINBURGH DR",
           "cary"
          ],
          [
           "107 EDINBURGH SOUTH DR",
           "cary"
          ],
          [
           "310 COLONADES WAY",
           "cary"
          ],
          [
           "1077 DARRINGTON DR",
           "cary"
          ],
          [
           "2310 WALNUT ST",
           "cary"
          ],
          [
           "2300 WALNUT ST",
           "cary"
          ],
          [
           "127 WESTON PKY",
           "cary"
          ],
          [
           "90 CORNERSTONE DR",
           "cary"
          ],
          [
           "3900 NC 55 HWY",
           "cary"
          ],
          [
           "260 GRANDE HEIGHTS DR",
           "cary"
          ],
          [
           "1 FENTON MAIN ST",
           "cary"
          ],
          [
           "9 FENTON MAIN ST",
           "cary"
          ],
          [
           "1400 BOULDERSTONE WAY",
           "cary"
          ],
          [
           "740 E CHATHAM ST",
           "cary"
          ],
          [
           "7000 REGENCY PKWY",
           "cary"
          ],
          [
           "301 FENTON GATEWAY DR",
           "cary"
          ],
          [
           "813 N BASS PRO LN",
           "cary"
          ],
          [
           "6404 TRYON RD",
           "cary"
          ],
          [
           "307 S ACADEMY ST",
           "cary"
          ],
          [
           "1103 PARKSIDE MAIN ST",
           "cary"
          ],
          [
           "4214 NW CARY PKY",
           "cary"
          ],
          [
           "140 E CHATHAM ST",
           "cary"
          ],
          [
           "19001 SEARSTONE DR",
           "cary"
          ],
          [
           "8204 TRYON WOODS DR",
           "cary"
          ],
          [
           "2511 KILDAIRE FARM RD",
           "cary"
          ],
          [
           "311 ASHVILLE AVE",
           "cary"
          ],
          [
           "1815 WALNUT ST",
           "cary"
          ],
          [
           "8322 CHAPEL HILL RD",
           "cary"
          ],
          [
           "7307 TRYON RD",
           "cary"
          ],
          [
           "118 S ACADEMY ST",
           "cary"
          ],
          [
           "2444 SW CARY PKY",
           "cary"
          ],
          [
           "102 B NEW WAVERLY PL",
           "cary"
          ],
          [
           "970 HIGH HOUSE RD",
           "cary"
          ],
          [
           "324 S ACADEMY ST",
           "cary"
          ],
          [
           "982 HIGH HOUSE RD",
           "cary"
          ],
          [
           "817 BASS PRO LN",
           "cary"
          ],
          [
           "301 S ACADEMY ST",
           "cary"
          ],
          [
           "1010 TRYON VILLAGE DR",
           "cary"
          ],
          [
           "919 N HARRISON AVE",
           "cary"
          ],
          [
           "10210 GREEN LEVEL CHURCH RD",
           "cary"
          ],
          [
           "2900 REGENCY PKY",
           "cary"
          ],
          [
           "111 E CHATHAM ST",
           "cary"
          ],
          [
           "316 COLONADES WAY",
           "cary"
          ],
          [
           "1343 KILDAIRE FARM RD",
           "cary"
          ],
          [
           "1809 N HARRISON AVE",
           "cary"
          ],
          [
           "328 SEMBLER LN",
           "cary"
          ],
          [
           "1125 HATCHES POND LN",
           "cary"
          ],
          [
           "1121 PARKSIDE MAIN ST",
           "cary"
          ],
          [
           "131 CROSSROADS BLVD",
           "cary"
          ],
          [
           "311 CROSSROADS BLVD",
           "cary"
          ],
          [
           "1945 HIGH HOUSE RD",
           "cary"
          ],
          [
           "908 NE MAYNARD RD",
           "cary"
          ],
          [
           "100 MACALYSON CT",
           "cary"
          ],
          [
           "5730 DILLARD DR",
           "cary"
          ],
          [
           "300 KILDAIRE WOODS DR",
           "cary"
          ],
          [
           "280 MEETING ST",
           "cary"
          ],
          [
           "1401 SE MAYNARD RD",
           "cary"
          ],
          [
           "204-200 CROSSROADS BLVD",
           "cary"
          ],
          [
           "100-103 WRENN DR",
           "cary"
          ],
          [
           "8003 REGENCY PKY",
           "cary"
          ],
          [
           "501 CAITBOO AVE",
           "cary"
          ],
          [
           "701 E CHATHAM ST",
           "cary"
          ],
          [
           "1724 WALNUT ST",
           "cary"
          ],
          [
           "2425 KILDAIRE FARM RD",
           "cary"
          ],
          [
           "208 GRANDE HEIGHTS DR",
           "cary"
          ],
          [
           "500 LEDGESTONE WAY",
           "cary"
          ],
          [
           "109 SW MAYNARD RD",
           "cary"
          ],
          [
           "3025 WINSTON HILL DR",
           "cary"
          ],
          [
           "631 WALNUT  ST",
           "cary"
          ],
          [
           "242 GRANDE HEIGHTS DR",
           "cary"
          ],
          [
           "1383 SE MAYNARD RD",
           "cary"
          ],
          [
           "1233 NW MAYNARD RD",
           "cary"
          ],
          [
           "1128 LEDSOME LANE",
           "cary"
          ],
          [
           "1388 KILDAIRE FARM RD",
           "cary"
          ],
          [
           "904 NE MAYNARD RD",
           "cary"
          ],
          [
           "2462 WALNUT ST",
           "cary"
          ],
          [
           "4010 CONVENIENCE LN",
           "cary"
          ],
          [
           "748 E CHATHAM ST",
           "cary"
          ],
          [
           "1377 KILDAIRE FARM RD",
           "cary"
          ],
          [
           "1104 LEDSOME LN",
           "cary"
          ],
          [
           "280 MEETING ST",
           "cary"
          ],
          [
           "2468 WALNUT ST",
           "cary"
          ],
          [
           "684-A CARY TOWNE BLVD",
           "cary"
          ],
          [
           "350 ASHVILLE AVE",
           "cary"
          ],
          [
           "10110 GREENLEVEL CHURCH RD",
           "cary"
          ],
          [
           "5025 ARCO ST",
           "cary"
          ],
          [
           "1102 PARKSIDE MAIN ST",
           "cary"
          ],
          [
           "555 CROSSROADS BLVD",
           "cary"
          ],
          [
           "4980 CARY GLEN BLVD",
           "cary"
          ],
          [
           "2470 WALNUT ST",
           "cary"
          ],
          [
           "425 EMISSARY DR",
           "cary"
          ],
          [
           "1163 PARKSIDE MAIN ST",
           "cary"
          ],
          [
           "957 HIGH HOUSE RD",
           "cary"
          ],
          [
           "2001 WALNUT ST",
           "cary"
          ],
          [
           "1710 HIGH HOUSE RD",
           "cary"
          ],
          [
           "1216 PARKSIDE MAIN ST",
           "cary"
          ],
          [
           "411 COLONADES WAY",
           "cary"
          ],
          [
           "302 COLONADES WAY",
           "cary"
          ],
          [
           "404 W CHATHAM ST",
           "cary"
          ],
          [
           "2025 RENAISSANCE PARK PL",
           "cary"
          ],
          [
           "4 FENTON MAIN ST",
           "cary"
          ],
          [
           "25 FENTON MAIN ST",
           "cary"
          ],
          [
           "1401 SE MAYNARD RD",
           "cary"
          ],
          [
           "1147 PARKSIDE MAIN ST",
           "cary"
          ],
          [
           "701 CARY TOWNE BLVD",
           "cary"
          ],
          [
           "7177 O'KELLY CHAPEL RD",
           "cary"
          ],
          [
           "1225 NW MAYNARD RD",
           "cary"
          ],
          [
           "151 SE CARY PKY",
           "cary"
          ],
          [
           "2048 KILDAIRE FARM RD",
           "cary"
          ],
          [
           "821 BASS PRO LN",
           "cary"
          ],
          [
           "107 EDINBURGH SOUTH DR",
           "cary"
          ],
          [
           "1200 NW MAYNARD RD",
           "cary"
          ],
          [
           "10030 GREEN LEVEL CHURCH RD",
           "cary"
          ],
          [
           "14220 BRADFORD GREEN SQ",
           "cary"
          ],
          [
           "2026 KILDAIRE FARM RD",
           "cary"
          ],
          [
           "1104 LEDSOME LN",
           "cary"
          ],
          [
           "7161 O'KELLY CHAPEL RD",
           "cary"
          ],
          [
           "6446 TRYON RD",
           "cary"
          ],
          [
           "302 COLONADES WAY",
           "cary"
          ],
          [
           "2800 RENAISSANCE PARK PL",
           "cary"
          ],
          [
           "2080 KILDAIRE FARM RD",
           "cary"
          ],
          [
           "125 WESTON PKY",
           "cary"
          ],
          [
           "2101 WALNUT ST",
           "cary"
          ],
          [
           "1831 N HARRISON AVE",
           "cary"
          ],
          [
           "590 E CHATHAM ST",
           "cary"
          ],
          [
           "238 GRANDE HEIGHTS DR",
           "cary"
          ],
          [
           "1014 RYAN RD",
           "cary"
          ],
          [
           "4248 NW CARY PKY",
           "cary"
          ]
         ],
         "hovertemplate": "<b>%{hovertext}</b><br><br>City=%{customdata[1]}<br>Y=%{lat}<br>X=%{lon}<br>Address 1=%{customdata[0]}<extra></extra>",
         "hovertext": [
          "PIZZA HUT #036626",
          "SZECHUAN MANSION RESTAURANT",
          "MARCO'S PIZZA #8407",
          "WEGMANS #139 MAIN KITCHEN/SUSHI/BURGER BAR/SKULLERY/FINISHED PRODUCT COOLER",
          "BOJANGLES #52",
          "ISTANBUL RESTAURANT & CAFE",
          "SHANGHAI ALLEY",
          "MASA SUSHI & RAMEN",
          "WENDY'S #6306",
          "HIBACHI 88",
          "PANERA #6027",
          "SMOOTHIE KING 1381",
          "REMINGTON GRILL",
          "NAKATO EXPRESS",
          "THE BISTRO AT COURTYARD BY MARRIOTT",
          "STARBUCKS #9840",
          "BRUEGGER'S BAGEL BAKERY #0701",
          "LA COCINA",
          "YOHO ASIAN BISTRO",
          "RUCKUS PIZZA, PASTA & SPIRITS",
          "BRUEGGERS BAGEL #3771",
          "GENKI RESTAURANT & SUSHI BAR",
          "NOODLES & COMPANY",
          "MELLOW MUSHROOM",
          "CAPI'S",
          "CHINA KING",
          "DOHERTY'S IRISH PUB & RESTAURANT",
          "THE CORNER TAVERN & GRILL",
          "LUGANO RISTORANTE",
          "BIG MIKES BBQ",
          "HIMALAYAN NEPALI CUISINE",
          "KABABISH CAFE",
          "CHICK-FIL-A #3448",
          "CHUY'S #72",
          "HARRIS TEETER #112 STARBUCKS",
          "ESMERALDA GRILL",
          "BJ'S RESTAURANT",
          "DAME'S CHICKEN & WAFFLES",
          "JOHNNY'S PIZZA",
          "KATHMANDU KITCHEN",
          "BLUE FOX INDIAN CUISINE",
          "FAIRFIELD INN & SUTIES RALEIGH CARY",
          "PRO'S EPICUREAN MARKET & CAFE",
          "NEW CHINA",
          "SOUTHERN HARVEST AT THE MATTHEWS HOUSE",
          "JUICE VIBES",
          "SUSHI THAI CARY",
          "WHOLE FOODS MARKET #10611 CULINARY",
          "CLEAN EATZ",
          "MCDONALDS #7501",
          "MCDONALDS #27548",
          "MCDONALDS #13362",
          "SOHOT",
          "HYDERABADI BIRYANI POINTE",
          "SOPHIE'S GRILL AND BAR",
          "FRIDA'S PATIO MEXICAN CUISINE",
          "COURTYARD BY MARRIOTT PARKSIDE TOWN COMMONS FOOD SERVICE",
          "CHAR-GRILL CARY",
          "AMBERLY LOCAL",
          "SWEET ROOM",
          "APPLE CAFE MACS ESPRESSO BAR",
          "JERSEY MIKE'S #3127",
          "JERSEY MIKE'S #3099",
          "RBF YOUR AUTHENTIC CHAMPAGNE BAR",
          "7-ELEVEN #41993A",
          "HIBACHI CHINA BUFFET",
          "BEE BANHMI",
          "REFUEL #103",
          "BARNES AND NOBLE CAFE",
          "FIVE SPICE BBQ",
          "BHARATH CAFE",
          "TIJUANA FLATS #5072",
          "STARRY NIGHT COFFEE & CREPES",
          "N.Y.PIZZA",
          "KASHIN RESTAURANT",
          "PARIS BANH MI",
          "BOWLERO CARY",
          "GLENAIRE DINING SERVICES",
          "RUTH'S CHRIS STEAKHOUSE",
          "GOJI BISTRO",
          "CAROLINA ALE HOUSE",
          "MAXIMILLIAN'S GRILLE AND WINE BAR",
          "OVERLOOK CAFE",
          "NOODLE BOULEVARD",
          "THE KELLOGGS CAFE",
          "PLEASANT GROVE CHURCH",
          "TEMPLETON OF CARY",
          "ANNELORE'S GERMAN BAKERY",
          "MOD PIZZA - WAVERLY",
          "WEGMANS #139 COFFEE/SUBS/PIZZA/SALADS",
          "CAPRIOTTI'S",
          "LOWES FOODS #262 DELI/CHEESE",
          "TROPICAL SMOOTHIE NC 90",
          "SCRATCH KITCHEN & TAPROOM CARY",
          "DAVE AND BUSTER 169",
          "JOHN DEERE CAFE",
          "TACO BELL #3421",
          "ST. MICHAEL THE ARCH ANGEL CATHOLIC CHURCH",
          "BISCUITVILLE #175",
          "STARBUCKS COFFEE CO",
          "ON THE BORDER",
          "STAMMTISCH CAFE",
          "CRAFT PUBLIC HOUSE",
          "SUBWAY",
          "LUCKY 7",
          "CHINA CARY",
          "LOS TRES MAGUEYES",
          "THE BIG EASY",
          "TAIPEI AUTHENTIC CHINESE CUISINE",
          "THE CARY PUB",
          "SNACK SHOP",
          "CILANTRO INDIAN CAFE'",
          "PUBLIX #1466 DELI",
          "COFFEE & (METLIFE 2)",
          "CHICK-FIL-A #699",
          "METLIFE 1 JUICE BAR",
          "OISO SUSHI & KOREAN",
          "PRIMO PIZZA NY STYLE",
          "HIMALAYAN RANGE",
          "PIZZERIA FAULISI",
          "STONERIDGE",
          "WHOLE FOODS MARKET #10611 SPECIALTY",
          "OUTBACK #3443",
          "BURGER FI",
          "CHENGDU 7 SICHUAN CUISINE",
          "DUNKIN DONUTS #347837",
          "ANJAPPAR",
          "VAISHNO BHOG",
          "DICED",
          "MCDONALDS #3259",
          "STARBUCKS #49535",
          "BURGER FI",
          "VERIZON CARY MARKETPLACE",
          "HARRIS TEETER #494 DELI",
          "BREEZE THRU #30005",
          "SKRIMP SHACK #2",
          "STARBUCKS MACGREGOR VILLAGE",
          "MOE'S SOUTHWEST GRILL - WEST CARY",
          "BREW COFFEE BAR- CARY THEATER",
          "QNOODLES",
          "NYBD III",
          "GLENAIRE EXPANSION CAFE",
          "RIGO'S PIZZERIA",
          "ELEVATE GROUP ENTERTAINMENT",
          "CHA HOUSE",
          "HIMALAYAN GRILL & BAR",
          "HONG KONG",
          "EVEREST NEPALI KITCHEN",
          "MACGREGOR DRAFT HOUSE",
          "JIMMY JOHN'S #3436",
          "OLIVE GARDEN",
          "BUFFALOE LANES - CARY",
          "CHINA WOK",
          "POINTS WEST CAFE AT WAKE MED CARY",
          "ATRIUM CAFE, THE",
          "CHINA ONE",
          "WASABI",
          "BONEFISH GRILL",
          "CICI'S PIZZA",
          "OKJA",
          "TROPICAL SMOOTHIE CAFE",
          "TAQUERIA Y RESTAURANTE EL PRIMO",
          "ACADEMY STREET BISTRO",
          "MOD PIZZA - AMBERLY",
          "CHICKEN SALAD CHICK",
          "GREAT HARVEST BREAD CO.",
          "BURRITO SHAK",
          "SEOUL GARDEN",
          "DUNKIN BASKIN ROBBINS HWY 55 CARY",
          "BURGER KING #9362",
          "BURGER KING #11244",
          "POTBELLY SANDWICH SHOP",
          "FANG'S KITCHEN",
          "URBAN ANGEETHI",
          "UPPER DECK",
          "KABUKI JAPANESE STEAK HOUSE",
          "HONG KONG #1 CHINESE RESTAURANT",
          "MITHAI HOUSE OF INDIAN DESSERTS",
          "RED ROBIN #567",
          "STARBUCKS COFFEE #9364",
          "SUPER WOK",
          "BOJANGLES #42",
          "WALTONWOOD AT CARY DINING",
          "YUM YUM THAI CUISINE",
          "SUBWAY #52361",
          "THE GARDEN GRILLE & BAR (AT HILTON GARDEN INN)",
          "PANERA BREAD #1642",
          "ABBEY ROAD TAVERN & GRILL",
          "CORBETT'S BURGERS & SODA BAR",
          "RED LOBSTER #0598",
          "HARRIS TEETER #236 STARBUCKS",
          "HARRIS TEETER #257 STARBUCKS",
          "DUCK DONUTS",
          "METLIFE CARY CAFE MARKETPLACE",
          "PANERA #1806",
          "CHANTICLEER CAFE & BAKERY",
          "LUCKY CHICKEN II",
          "CHIPOTLE 2485",
          "BISTRO IN THE PARK",
          "CIRCLE K #1516",
          "BOTTLEDOG BITES & BREWS",
          "JASMIN & OLIVZ MEDITERRANEAN",
          "PENN STATION #320",
          "PERSIS INDIAN GRILL",
          "LAFARM BAKERY & CAFE W.F. WEST CARY",
          "WHOLE FOODS MARKET #10611 MEAT/SEAFOOD",
          "CINEBISTRO",
          "DOMINOS #8903",
          "CARY CRAB HOUSE",
          "THE SHINY DINER",
          "MCDONALDS AT CROSSROADS #13363",
          "LEVITY RALEIGH",
          "SUBWAY #17385",
          "NYC BAGELS",
          "BIBIBOP",
          "BOSPHORUS RESTAURANT",
          "DUNKIN #362565",
          "PARAGON THEATER",
          "CROSSTOWN PUB",
          "RALEIGH BREWING",
          "GOLDEN CHINA",
          "BIRYANI MAXX",
          "CAFE SOUL CUPS",
          "CHEF'S PALETTE",
          "TEN SECONDS",
          "SILK ROAD UZBEK CUISINE",
          "THE PALM",
          "SAAP",
          "RALLYPOINT SPORT GRILL",
          "AFGHAN KABAB",
          "SHINMAI",
          "X GOLF CARY",
          "FIRST WATCH #6041",
          "BRUNCHES AT CROSSROADS",
          "TORERO'S MEXICAN RESTAURANT V",
          "LOS TRES MAGUEYES",
          "JIMMY JOHN'S #791",
          "YURI JAPANESE RESTAURANT",
          "HONEYBAKED HAM COMPANY",
          "V PIZZA",
          "TASU #2",
          "THE CAFE",
          "OLIVE TREE MARKET",
          "TROPICAL SMOOTHIE CAFE NC23",
          "TROPICAL SMOOTHIE CAFE NC24",
          "BUL BOX",
          "BRECOTEA BAKING STUDIO",
          "DI FARA",
          "TAKE 5 CAFE",
          "SOBOL",
          "JORDAN OAKS",
          "WENDY'S",
          "TRY SEAFOODS",
          "PINEAPPLE SOL",
          "SALVIO'S PIZZERIA",
          "GREEK FIESTA AT CROSSROADS",
          "KFC/TACO BELL #J120104",
          "CHICK-FIL-A #1749",
          "STARBUCKS COFFEE # 10967",
          "UMSTEAD HOTEL & SPA FOOD SERVICE",
          "STARBUCKS #10158",
          "LIFE CAFE",
          "SPRING KITCHEN",
          "PARK BAR & GRILL (DOUBLETREE BY HILTON)",
          "IHOP",
          "JASON'S DELI # 162",
          "NO. 1 CHINESE RESTAURANT",
          "SAS BUILDING C CAFE",
          "RED BOWL ASIAN BISTRO",
          "ENRIGO ITALIAN BISTRO",
          "BREWSTER'S PUB",
          "SUBWAY #57792",
          "BROTHERS OF NEW YORK",
          "JASMIN BISTRO",
          "TARGET CAFE #2784",
          "TASTE OF JAMAICA",
          "HARRIS TEETER #430 STARBUCKS",
          "BRIXX 700",
          "BEST WESTERN CARY CAFE",
          "TOWNPLACE SUITES CARY/WESTON PKWY.",
          "SASSOOL",
          "STARBUCKS #23309",
          "THE HICKORY TAVERN #26",
          "CAFE SAGE @HOLIDAY INN CARY",
          "TAZZA KITCHEN - SCV",
          "TACOS ESTILO HIDALGO",
          "AROMA KOREA",
          "GUASACA AREPA & SALSA GRILL",
          "HAMPTON INN RALEIGH/CARY BREAKFAST",
          "BURGER KING #8018",
          "GONZA TACOS Y TEQUILA",
          "THAI LOTUS",
          "HARRIS TEETER 138 STARBUCKS",
          "FIRST CHINA RESTAURANT",
          "WHOLE FOODS MARKET #10611 PRODUCE",
          "STARBUCK'S TARGET #961",
          "FIREHOUSE SUBS #1530",
          "BUFFALO BROTHERS",
          "ONCE IN A BLUE MOON BAKERY AND CAFE",
          "BRIXX BRADFORD",
          "MCDONALDS #11523",
          "DOMINOS #8849",
          "ASALI DESSERTS AND CAFE",
          "GAMERS GEEKERY & TAVERN",
          "SHAKE SHACK #1294",
          "CHANDELIER CATERING",
          "SEOL GRILLE",
          "A'VERDE",
          "MOE'S SOUTHWEST GRILL - CARY",
          "BAMBU",
          "BOJANGLES #54",
          "FIREHOUSE SUBS #122",
          "COLLETTA",
          "CRU FOOD AND WINE",
          "MI CANCUN #3",
          "DOOR TO DOOR SKEWER NOODLE BAR",
          "ATRIA CARY",
          "SPORTS & SOCIAL CARY",
          "SUBWAY #3262",
          "PHO THIEN PHAT",
          "ACADEMY MARKET",
          "FLYING BISCUIT",
          "BOTECO DO BRAZIL",
          "THE ALBATROSS",
          "HIGH VIEW - SOLEIL",
          "JIMMY JOHN'S #895",
          "LINKS GRILLE AT LOCHMERE",
          "DANNY'S BARBEQUE",
          "CHICK-FIL-A",
          "WOODY'S SPORTS TAVERN & GRILL",
          "LUCKY 32",
          "SERENDIPITY GOURMET DELI",
          "SUBWAY",
          "WHOLE FOODS MARKET DELI-SUSHI-CHEESE",
          "MISO RAMEN",
          "MC RESTAURANT",
          "THE PARKWAY TAVERN",
          "TROPICAL SMOOTHIE CAFE",
          "PECK AND PLUME",
          "MOOKIES NY DELI",
          "KOI RAMEN",
          "SPICES HUT",
          "SONESTA ES SUITES RALEIGH CARY FOODSERVICE",
          "HANK'S DOWNTOWN DIVE",
          "FAMOUS TOASTERY OF CARY",
          "WENDY'S #1349",
          "WENDY'S",
          "MIRCHI'S INDIAN KITCHEN",
          "MEZEH GRILL #29  TWIN LAKES",
          "FIVE GUYS #1710",
          "TACO ADDICTS",
          "SUBWAY #3151",
          "NAZARA INDIAN BISTRO",
          "LA GRASSA PASTIFICIO",
          "HOMEWOOD SUITES RALEIGH/CARY FOOD SERVICE",
          "COURTYARD BY MARRIOTT FOODSERVICE",
          "WOODLAND TERRACE INDEPENDENT LIVING FOODSERVICES",
          "MOE'S SOUTHWEST GRILL #683",
          "TAQUERIA RANCHO GRANDE",
          "STARBUCKS COFFEE CO",
          "CHIPOTLE MEXICAN GRILL #1087",
          "COBBLESTONE @ KOKA BOOTH AMPHITHEATRE",
          "CROSSROADS STADIUM 20 UNIT #1874",
          "SPIRITS PUB & GRUB",
          "WAFFLE HOUSE #351",
          "BOCCI TRATTORIA & PIZZERIA",
          "BRAVO'S MEXICAN GRILL",
          "TRIBECA TAVERN",
          "CARIBOU COFFEE #306",
          "BOJANGLES",
          "DAIRY QUEEN GRILL & CHILL",
          "ASIAN GARDEN",
          "EL CUSCATLECO RESTAURANT",
          "ORIENT GARDEN RESTAURANT",
          "SPRING HILL SUITES KITCHEN",
          "LA BUENA VIDA",
          "AWAZ'E ETHIOPIAN/ERITREAN CUISINE",
          "CAPPOLLA'S PIZZA & GRILL",
          "SHEETZ 555",
          "BIRYANI XPRX",
          "DICED GOURMET SALADS AND WRAPE",
          "GOOD HARVEST",
          "TENKO JAPAN",
          "BABA GHANNOUJ",
          "WING STOP #1245",
          "COMFORT SUITES REGENCY PARK BREAKFAST",
          "RICCI'S TRATTORIA",
          "NO. 1 PHO",
          "DICKEY'S BARBEQUE #1496",
          "HOMEWOOD SUITES CARY FOODSERVICE",
          "MCDONALDS #34433",
          "BULDAEGI BBQ HOUSE",
          "PUBLIX 1552 DELI",
          "SUSHI AT THE PARK",
          "JERSEY MIKE'S #3005",
          "CAVA GRILL #087",
          "NUKKAD RESTAURANT",
          "WOK ON FIRE",
          "CHICK-FIL-A #1218",
          "MASON'S FAMOUS LOBSTER ROLLS",
          "EL AMIGO MEXICAN RESTAURANT",
          "LA VICTORIA",
          "M SUSHI/M TEST KITCHEN",
          "SUPERICA",
          "SUSHI LITTLE TOKYO RESTAURANT",
          "BB'S CRISPY CHICKEN",
          "JERSEY MIKE'S #3024",
          "JERSEY MIKE'S #3136",
          "BRIGS AT THE CROSSING",
          "CHIDO TACO",
          "SAFFRON",
          "MEEPLE'S BREW CARY",
          "BACK THEN BAR AND GRILL",
          "GOLDEN HEX",
          "DUNKIN DONUTS #350706",
          "BBQ CHICKEN",
          "A.C.P.'S MEXICAN GRILL AND BAR",
          "FIRST WATCH #6038",
          "TAZIKI'S CAFE",
          "KEBAB SKEWER",
          "TAZIKI'S MEDITERRANEAN CAFE",
          "KIPOS",
          "HARRIS TEETER #257 DELI",
          "STARBUCKS COFFEE #8545",
          "TACO BELL #020165",
          "NY PIZZA",
          "UDUPI CAFE",
          "PAPA JOHN'S",
          "MAC'S TAVERN",
          "LA FARM BAKERY"
         ],
         "lat": [
          35.80043542,
          35.75976468,
          35.82521217,
          35.82831809,
          35.74649119,
          35.7733466,
          35.76557968,
          35.78531559,
          35.71879711,
          35.80863492,
          35.73836377,
          35.84835999,
          35.76064643,
          35.78486593,
          35.73823794,
          35.77376876,
          35.74716476,
          35.74468186,
          35.74716476,
          35.74716476,
          35.79085051,
          35.70189503,
          35.76025118,
          35.790202,
          35.73392686,
          35.76064643,
          35.78922067,
          35.78581026,
          35.79989693,
          35.78486593,
          35.79077934,
          35.78664776,
          35.84522109,
          35.84658691,
          35.80470293,
          35.79157176,
          35.75540943,
          35.83116267,
          35.79108618,
          35.78581026,
          35.820416,
          35.76241093,
          35.78798892,
          35.80143568,
          35.78648509,
          35.75976468,
          35.77049175,
          35.83348308,
          35.79156092,
          35.76224834,
          35.70411794,
          35.78912217,
          35.78922067,
          35.78456541,
          35.78474926,
          35.70711427,
          35.84626358,
          35.78179735,
          35.83075801,
          35.78531559,
          35.83059458,
          35.75665901,
          35.70596311,
          35.78708842,
          35.82405075,
          35.75999102,
          35.7452121,
          35.7946935,
          35.75976468,
          35.79924776,
          35.83075801,
          35.8441495,
          35.76064643,
          35.7455991,
          35.76064643,
          35.76946718,
          35.76719977,
          35.77627942,
          35.82699559,
          35.78672834,
          35.75496793,
          35.79224525,
          35.8233135,
          35.76300476,
          35.81694251,
          35.76989893,
          35.7441046,
          35.78724293,
          35.73853427,
          35.82831809,
          35.73853427,
          35.80863492,
          35.82486983,
          35.78798034,
          35.77376876,
          35.82273725,
          35.76974584,
          35.78588323,
          35.78860236,
          35.74716476,
          35.77087984,
          35.73531135,
          35.74631027,
          35.82060442,
          35.80043542,
          35.71809477,
          35.82060442,
          35.80470293,
          35.78769243,
          35.7455991,
          35.82401506,
          35.73669743,
          35.79325258,
          35.83005542,
          35.82932558,
          35.83005542,
          35.78581026,
          35.77485801,
          35.80043542,
          35.78786217,
          35.77592909,
          35.83348308,
          35.77485801,
          35.82699559,
          35.79157176,
          35.70189503,
          35.79230834,
          35.79140001,
          35.8441495,
          35.77630584,
          35.70489085,
          35.75881135,
          35.83092875,
          35.78535151,
          35.80199242,
          35.78842126,
          35.73669743,
          35.83348308,
          35.78710751,
          35.77674902,
          35.73567118,
          35.77392075,
          35.78486593,
          35.84835999,
          35.75976468,
          35.76380551,
          35.70596311,
          35.80470293,
          35.73669743,
          35.79156092,
          35.76053784,
          35.78232843,
          35.78605676,
          35.74074768,
          35.82399708,
          35.77674902,
          35.73669743,
          35.82699559,
          35.78474926,
          35.80030101,
          35.73567118,
          35.79077934,
          35.78645034,
          35.82486983,
          35.73853427,
          35.78486593,
          35.71809477,
          35.78006842,
          35.78561634,
          35.82885666,
          35.78608001,
          35.84835999,
          35.80863492,
          35.83348308,
          35.78994983,
          35.76835892,
          35.78490497,
          35.79077934,
          35.75449068,
          35.78940783,
          35.78997868,
          35.79096843,
          35.74902684,
          35.83022565,
          35.73717418,
          35.75644435,
          35.7554271,
          35.77079809,
          35.77049175,
          35.76109634,
          35.8441495,
          35.73567118,
          35.76514685,
          35.83005542,
          35.84618367,
          35.74415868,
          35.83015147,
          35.76025118,
          35.83301608,
          35.70271302,
          35.79224525,
          35.81480892,
          35.77485801,
          35.84835999,
          35.83348308,
          35.83348308,
          35.73853427,
          35.77079809,
          35.76064643,
          35.76446209,
          35.75902819,
          35.84835999,
          35.79212101,
          35.80470293,
          35.75779318,
          35.78994983,
          35.78842126,
          35.78159001,
          35.78718751,
          35.82699559,
          35.76364284,
          35.79037417,
          35.80863492,
          35.70189503,
          35.78842126,
          35.79057967,
          35.77004201,
          35.78340809,
          35.83116267,
          35.76364284,
          35.79887976,
          35.73669743,
          35.79250659,
          35.76025118,
          35.76380551,
          35.77217517,
          35.79887976,
          35.75976468,
          35.76064643,
          35.75908185,
          35.73853427,
          35.81996575,
          35.76835892,
          35.79355909,
          35.76064643,
          35.82663584,
          35.76638834,
          35.78769243,
          35.8264185,
          35.74716476,
          35.71734903,
          35.78456035,
          35.74716476,
          35.73853427,
          35.76364284,
          35.76064643,
          35.80351426,
          35.79062509,
          35.76377001,
          35.82989317,
          35.79887976,
          35.73333076,
          35.82060442,
          35.75670594,
          35.76147493,
          35.76064643,
          35.78179735,
          35.81750117,
          35.79156092,
          35.73853427,
          35.7452121,
          35.7854741,
          35.70711427,
          35.76296884,
          35.84441825,
          35.79070743,
          35.77485801,
          35.84835999,
          35.76200677,
          35.82777691,
          35.75976468,
          35.84638883,
          35.84835999,
          35.75553527,
          35.79156092,
          35.79157176,
          35.80237168,
          35.81480892,
          35.73925293,
          35.73967601,
          35.73853427,
          35.70711427,
          35.79044484,
          35.7455991,
          35.83348308,
          35.75778451,
          35.7554271,
          35.76273552,
          35.78682784,
          35.79325258,
          35.82979316,
          35.83075801,
          35.73669743,
          35.73669743,
          35.73853427,
          35.799292,
          35.75337568,
          35.7538261,
          35.82699559,
          35.79108618,
          35.81923759,
          35.80470293,
          35.78079776,
          35.78079776,
          35.79230834,
          35.79077934,
          35.72830977,
          35.78079776,
          35.83116267,
          35.74450118,
          35.78448901,
          35.84835999,
          35.79085051,
          35.78711559,
          35.78853893,
          35.74716476,
          35.72297344,
          35.73790444,
          35.76001626,
          35.79224525,
          35.73640194,
          35.78674709,
          35.76364284,
          35.7366694,
          35.78842126,
          35.78328184,
          35.78842126,
          35.83116267,
          35.78483825,
          35.74636309,
          35.8006801,
          35.82321475,
          35.73280077,
          35.78769243,
          35.73853427,
          35.7598376,
          35.83059517,
          35.82486983,
          35.82663584,
          35.84835999,
          35.76176402,
          35.76064643,
          35.78922067,
          35.80043542,
          35.73506919,
          35.75664126,
          35.76613693,
          35.75665901,
          35.78997868,
          35.76025118,
          35.76514685,
          35.72902885,
          35.75834301,
          35.79216551,
          35.76260826,
          35.72829269,
          35.80470293,
          35.79230834,
          35.77098734,
          35.78948326,
          35.77674902,
          35.80470293,
          35.78847518,
          35.78438851,
          35.7617631,
          35.75917085,
          35.80043542,
          35.7532321,
          35.86023957,
          35.79157176,
          35.75976468,
          35.76313034,
          35.75665901,
          35.7532321,
          35.77485801,
          35.73904811,
          35.82060442,
          35.83348308,
          35.84835999,
          35.75844126,
          35.81927309,
          35.7532321,
          35.82486983,
          35.84835999,
          35.78724984,
          35.75881135,
          35.79274101,
          35.84835999,
          35.74057794,
          35.73853427,
          35.78704359,
          35.82792133,
          35.78079776,
          35.78079776,
          35.78997868,
          35.84748842,
          35.77674902,
          35.8441495,
          35.78438851,
          35.75976468,
          35.73567118,
          35.83116267,
          35.73669743,
          35.78486593,
          35.82060442,
          35.79325258,
          35.73567118,
          35.76313034,
          35.8441495,
          35.7455991,
          35.73853427,
          35.82860491,
          35.73567118,
          35.82699559,
          35.75662477,
          35.82998314,
          35.79037417,
          35.80470293,
          35.77674902,
          35.79057967
         ],
         "legendgroup": "cary",
         "lon": [
          -78.76838418,
          -78.78193785,
          -78.90087023,
          -78.85023041,
          -78.7400887,
          -78.78206468,
          -78.78364284,
          -78.87279008,
          -78.78766235,
          -78.89712107,
          -78.78074152,
          -78.88929615,
          -78.73871469,
          -78.80932559,
          -78.79973652,
          -78.76025643,
          -78.74322595,
          -78.82002625,
          -78.74322595,
          -78.74322595,
          -78.82705558,
          -78.79278394,
          -78.74109703,
          -78.82814567,
          -78.7890716,
          -78.73871469,
          -78.84865558,
          -78.81100001,
          -78.81615508,
          -78.80932559,
          -78.7669176,
          -78.78389959,
          -78.88733365,
          -78.88869181,
          -78.78057485,
          -78.76514284,
          -78.74368928,
          -78.77007336,
          -78.85232883,
          -78.81100001,
          -78.85752141,
          -78.74854727,
          -78.77801935,
          -78.78451819,
          -78.78723602,
          -78.78193785,
          -78.78304568,
          -78.88191823,
          -78.84859333,
          -78.78290744,
          -78.79563777,
          -78.82984491,
          -78.84865558,
          -78.87132587,
          -78.8701639,
          -78.79652285,
          -78.88576156,
          -78.83800517,
          -78.90892881,
          -78.87279008,
          -78.79710342,
          -78.74478994,
          -78.79564018,
          -78.77743835,
          -78.90170955,
          -78.78396209,
          -78.81900333,
          -78.76291177,
          -78.78193785,
          -78.8157275,
          -78.90892881,
          -78.8882479,
          -78.73871469,
          -78.76155635,
          -78.73871469,
          -78.76352061,
          -78.74288286,
          -78.78516043,
          -78.77115668,
          -78.81059501,
          -78.74239169,
          -78.77617019,
          -78.75221678,
          -78.74718844,
          -78.80879783,
          -78.84349017,
          -78.77773052,
          -78.78657351,
          -78.77756452,
          -78.85023041,
          -78.77756452,
          -78.89712107,
          -78.90353622,
          -78.77892036,
          -78.76025643,
          -78.80087076,
          -78.7822126,
          -78.82208933,
          -78.87065399,
          -78.74322595,
          -78.76331735,
          -78.80333201,
          -78.7446922,
          -78.90107972,
          -78.76838418,
          -78.78870059,
          -78.90107972,
          -78.78057485,
          -78.78052085,
          -78.76155635,
          -78.87450918,
          -78.79806693,
          -78.84558557,
          -78.79975401,
          -78.76967135,
          -78.79975401,
          -78.81100001,
          -78.76562102,
          -78.76838418,
          -78.77734267,
          -78.75899685,
          -78.88191823,
          -78.76562102,
          -78.77115668,
          -78.76514284,
          -78.79278394,
          -78.84803883,
          -78.76305627,
          -78.8882479,
          -78.76464851,
          -78.79541126,
          -78.7414297,
          -78.79195185,
          -78.81194009,
          -78.87216706,
          -78.82691634,
          -78.79806693,
          -78.88191823,
          -78.78039644,
          -78.76677184,
          -78.78068643,
          -78.78313893,
          -78.80932559,
          -78.88929615,
          -78.78193785,
          -78.78219418,
          -78.79564018,
          -78.78057485,
          -78.79806693,
          -78.84859333,
          -78.74263886,
          -78.79635109,
          -78.87109717,
          -78.78171676,
          -78.75797286,
          -78.76677184,
          -78.79806693,
          -78.77115668,
          -78.8701639,
          -78.81678726,
          -78.78068643,
          -78.7669176,
          -78.78169825,
          -78.90353622,
          -78.77756452,
          -78.80932559,
          -78.78870059,
          -78.79538501,
          -78.87101487,
          -78.77022476,
          -78.87169591,
          -78.88929615,
          -78.89712107,
          -78.88191823,
          -78.78373893,
          -78.74295028,
          -78.87112586,
          -78.7669176,
          -78.74211945,
          -78.87059729,
          -78.76423194,
          -78.76021378,
          -78.77481851,
          -78.76757274,
          -78.78211243,
          -78.73638403,
          -78.74288194,
          -78.80690367,
          -78.78304568,
          -78.74320328,
          -78.8882479,
          -78.78068643,
          -78.78400793,
          -78.79975401,
          -78.88642865,
          -78.76236786,
          -78.76774988,
          -78.74109703,
          -78.77139094,
          -78.79384501,
          -78.77617019,
          -78.820634,
          -78.76562102,
          -78.88929615,
          -78.88191823,
          -78.88191823,
          -78.77756452,
          -78.80690367,
          -78.73871469,
          -78.74435361,
          -78.74333879,
          -78.88929615,
          -78.76618435,
          -78.78057485,
          -78.74088654,
          -78.78373893,
          -78.82691634,
          -78.75946535,
          -78.77962669,
          -78.77115668,
          -78.82085568,
          -78.7683206,
          -78.89712107,
          -78.79278394,
          -78.82691634,
          -78.82751593,
          -78.76337152,
          -78.77921059,
          -78.77007336,
          -78.82085568,
          -78.7949041,
          -78.79806693,
          -78.84569125,
          -78.74109703,
          -78.78219418,
          -78.78312285,
          -78.7949041,
          -78.78193785,
          -78.73871469,
          -78.7827626,
          -78.77756452,
          -78.76821234,
          -78.74295028,
          -78.84682316,
          -78.73871469,
          -78.84968191,
          -78.78337452,
          -78.78052085,
          -78.79484018,
          -78.74322595,
          -78.79550126,
          -78.81068059,
          -78.74322595,
          -78.77756452,
          -78.82085568,
          -78.73871469,
          -78.78358143,
          -78.85027208,
          -78.78312951,
          -78.76458185,
          -78.7949041,
          -78.78729435,
          -78.90107972,
          -78.73611827,
          -78.78262718,
          -78.73871469,
          -78.83800517,
          -78.75122068,
          -78.84859333,
          -78.77756452,
          -78.81900333,
          -78.87103634,
          -78.79652285,
          -78.74766477,
          -78.88560632,
          -78.76780094,
          -78.76562102,
          -78.88929615,
          -78.74759386,
          -78.80567601,
          -78.78193785,
          -78.88790797,
          -78.88929615,
          -78.73628645,
          -78.84859333,
          -78.76514284,
          -78.78043043,
          -78.820634,
          -78.78426784,
          -78.77901268,
          -78.77756452,
          -78.79652285,
          -78.85187774,
          -78.76155635,
          -78.88191823,
          -78.73860945,
          -78.74288194,
          -78.78213151,
          -78.78179868,
          -78.84558557,
          -78.76916277,
          -78.90892881,
          -78.79806693,
          -78.79806693,
          -78.77756452,
          -78.81667901,
          -78.74212586,
          -78.74213502,
          -78.77115668,
          -78.85232883,
          -78.87283731,
          -78.78057485,
          -78.7585471,
          -78.7585471,
          -78.84803883,
          -78.7669176,
          -78.79046976,
          -78.7585471,
          -78.77007336,
          -78.76079227,
          -78.78087534,
          -78.88929615,
          -78.82705558,
          -78.77981401,
          -78.84474841,
          -78.74322595,
          -78.76802044,
          -78.78493552,
          -78.74236687,
          -78.77617019,
          -78.78538501,
          -78.78150925,
          -78.82085568,
          -78.77852676,
          -78.82691634,
          -78.78164252,
          -78.82691634,
          -78.77007336,
          -78.78084094,
          -78.74535336,
          -78.78340135,
          -78.90165656,
          -78.78922986,
          -78.78052085,
          -78.77756452,
          -78.78290918,
          -78.76795836,
          -78.90353622,
          -78.84968191,
          -78.88929615,
          -78.74226136,
          -78.73871469,
          -78.84865558,
          -78.76838418,
          -78.80061675,
          -78.74642794,
          -78.77900843,
          -78.74478994,
          -78.76423194,
          -78.74109703,
          -78.78400793,
          -78.79540992,
          -78.73520486,
          -78.76531594,
          -78.74679669,
          -78.77660652,
          -78.78057485,
          -78.84803883,
          -78.78269343,
          -78.84654483,
          -78.76677184,
          -78.78057485,
          -78.76443201,
          -78.81241251,
          -78.74888986,
          -78.78379576,
          -78.76838418,
          -78.74427277,
          -78.8947698,
          -78.76514284,
          -78.78193785,
          -78.74822919,
          -78.74478994,
          -78.74427277,
          -78.76562102,
          -78.78677093,
          -78.90107972,
          -78.88191823,
          -78.88929615,
          -78.7325332,
          -78.90188206,
          -78.74427277,
          -78.90353622,
          -78.88929615,
          -78.82820426,
          -78.7414297,
          -78.84401449,
          -78.88929615,
          -78.7769391,
          -78.77756452,
          -78.7884575,
          -78.77209635,
          -78.7585471,
          -78.7585471,
          -78.76423194,
          -78.89104131,
          -78.76677184,
          -78.8882479,
          -78.81241251,
          -78.78193785,
          -78.78068643,
          -78.77007336,
          -78.79806693,
          -78.80932559,
          -78.90107972,
          -78.84558557,
          -78.78068643,
          -78.74822919,
          -78.8882479,
          -78.76155635,
          -78.77756452,
          -78.77263084,
          -78.78068643,
          -78.77115668,
          -78.74089719,
          -78.76807773,
          -78.7683206,
          -78.78057485,
          -78.76677184,
          -78.82751593
         ],
         "marker": {
          "color": "#636efa"
         },
         "mode": "markers",
         "name": "cary",
         "showlegend": true,
         "subplot": "mapbox",
         "type": "scattermapbox"
        },
        {
         "customdata": [
          [
           "877 E GANNON AVE",
           "zebulon"
          ],
          [
           "151 WAKELON ST",
           "zebulon"
          ],
          [
           "877-405 E GANNON AVE",
           "zebulon"
          ],
          [
           "1240  N ARENDELL  AVE",
           "zebulon"
          ],
          [
           "411 W GANNON AVE",
           "zebulon"
          ],
          [
           "103  N ARENDELL  AVE",
           "zebulon"
          ],
          [
           "1512 N ARENDELL AVE",
           "zebulon"
          ],
          [
           "1011 N ARENDELL AVE",
           "zebulon"
          ],
          [
           "160 WAKELON ST",
           "zebulon"
          ],
          [
           "506 W GANNON AVE",
           "zebulon"
          ],
          [
           "532 W GANNON  AVE",
           "zebulon"
          ],
          [
           "409 W GANNON AVE",
           "zebulon"
          ],
          [
           "161 WAKELON DR",
           "zebulon"
          ],
          [
           "182 WAKELON DR",
           "zebulon"
          ],
          [
           "603 W GANNON AVE",
           "zebulon"
          ],
          [
           "207 N ARENDELL AVE",
           "zebulon"
          ],
          [
           "1513 N ARENDELL AVE",
           "zebulon"
          ],
          [
           "102 PEARCES RD",
           "zebulon"
          ],
          [
           "2424 PEARCES RD",
           "zebulon"
          ],
          [
           "120 N ARENDELL AVE",
           "zebulon"
          ],
          [
           "121 WAKELON ST",
           "zebulon"
          ],
          [
           "636  W GANNON AVE",
           "zebulon"
          ],
          [
           "151 WAKELON ST",
           "zebulon"
          ],
          [
           "607 W GANNON AVE",
           "zebulon"
          ],
          [
           "841 E GANNON AVE",
           "zebulon"
          ],
          [
           "190 WAKELON ST",
           "zebulon"
          ],
          [
           "141 WAKELON DR",
           "zebulon"
          ],
          [
           "1501 NC HWY 39",
           "zebulon"
          ],
          [
           "418 W GANNON AVE",
           "zebulon"
          ],
          [
           "1406 N ARENDELL AVE",
           "zebulon"
          ],
          [
           "225 N ARENDELL AVE",
           "zebulon"
          ],
          [
           "877 E GANNON AVE",
           "zebulon"
          ],
          [
           "186 WAKELON ST",
           "zebulon"
          ],
          [
           "1007  SHEPARD SCHOOL RD",
           "zebulon"
          ],
          [
           "877 E GANNON AVE",
           "zebulon"
          ],
          [
           "113 N ARENDELL AVE",
           "zebulon"
          ]
         ],
         "hovertemplate": "<b>%{hovertext}</b><br><br>City=%{customdata[1]}<br>Y=%{lat}<br>X=%{lon}<br>Address 1=%{customdata[0]}<extra></extra>",
         "hovertext": [
          "MEMO'S PIZZA",
          "PIZZA HUT #036606",
          "WANG'S BISTRO",
          "SONIC DRIVE IN #5639",
          "PLAZA DEL MARIACHI",
          "ARMANDO'S PIZZA",
          "POPEYES ZEBULON",
          "GLAXO ZEBULON FOODSERVICE",
          "SUBWAY",
          "CARLIE C'S DELI #810",
          "GOOD TASTE CHINESE RESTAURANT",
          "ZEBULON FAMILY RESTAURANT",
          "KFC/TACO BELL OF ZEBULON",
          "GOLDEN CHINA - ZEBULON",
          "ZEBULON BP GRILL",
          "LAS ROSITAS",
          "BOJANGLES #46",
          "WAFFLE HOUSE #2171",
          "ZEBULON COUNTRY CLUB",
          "NORSE BREWING LONGHOUSE",
          "SMITHFIELD'S CHICKEN 'N' BAR-B-Q",
          "BURGER KING #10775",
          "ARBY'S #76036",
          "HARDEE'S #1219",
          "SUBWAY #41914",
          "MARGARITA HOUSE BAR & GRILL",
          "MCDONALD'S #10148",
          "SKY LOUNGE",
          "MCLEAN'S OLE TIME CAFE",
          "SHEETZ #416",
          "LA MEXICANITA #2",
          "SAN JOSE MEXICAN RESTAURANT",
          "MILANO PIZZA",
          "SOUTHLAND STEAKHOUSE",
          "PAPA JOHNS",
          "THE CREATIVE CUP"
         ],
         "lat": [
          35.83016256,
          35.83347498,
          35.83016256,
          35.83782072,
          35.82026265,
          35.82139623,
          35.84097989,
          35.83184523,
          35.83228581,
          35.8213969,
          35.82125257,
          35.82026265,
          35.8334114,
          35.83228581,
          35.81991106,
          35.82225964,
          35.8398199,
          35.83922598,
          35.89131747,
          35.82188257,
          35.83343798,
          35.82096381,
          35.83347498,
          35.81987724,
          35.8312879,
          35.83228581,
          35.83345598,
          35.81739043,
          35.82235191,
          35.8396309,
          35.82272831,
          35.83016256,
          35.83228581,
          35.83238665,
          35.83016256,
          35.82163948
         ],
         "legendgroup": "zebulon",
         "lon": [
          -78.29418632,
          -78.31572856,
          -78.29418632,
          -78.32287165,
          -78.32295741,
          -78.31306199,
          -78.32627357,
          -78.32837065,
          -78.31858232,
          -78.32472591,
          -78.32626424,
          -78.32295741,
          -78.31472948,
          -78.31858232,
          -78.32832015,
          -78.31354816,
          -78.3265604,
          -78.32387482,
          -78.30935782,
          -78.31268299,
          -78.31878174,
          -78.32958431,
          -78.31572856,
          -78.32913073,
          -78.29634433,
          -78.31858232,
          -78.31719973,
          -78.2688006,
          -78.32326257,
          -78.32477007,
          -78.31406108,
          -78.29418632,
          -78.31858232,
          -78.31427465,
          -78.29418632,
          -78.31322598
         ],
         "marker": {
          "color": "#EF553B"
         },
         "mode": "markers",
         "name": "zebulon",
         "showlegend": true,
         "subplot": "mapbox",
         "type": "scattermapbox"
        },
        {
         "customdata": [
          [
           "4020 CAPITAL BLVD",
           "raleigh"
          ],
          [
           "3913 WESTERN BLVD",
           "raleigh"
          ],
          [
           "2901 SHERMAN OAK PL",
           "raleigh"
          ],
          [
           "6320  CAPITAL BLVD, STE 133",
           "raleigh"
          ],
          [
           "4203 FAYETTEVILLE RD",
           "raleigh"
          ],
          [
           "1500 DUNN RD",
           "raleigh"
          ],
          [
           "301 N WEST ST",
           "raleigh"
          ],
          [
           "725 TUCKER ST",
           "raleigh"
          ],
          [
           "2259 NEW HOPE CHURCH RD",
           "raleigh"
          ],
          [
           "5300 FAYETTEVILLE RD",
           "raleigh"
          ],
          [
           "3715 WESTERN BLVD",
           "raleigh"
          ],
          [
           "3701 NEW BERN AVE",
           "raleigh"
          ],
          [
           "421 FAYETTEVILLE ST",
           "raleigh"
          ],
          [
           "2018 CLARK AVE",
           "raleigh"
          ],
          [
           "5501 CAPITAL BLVD",
           "raleigh"
          ],
          [
           "8111 CREEDMIOOR  RD",
           "raleigh"
          ],
          [
           "702 N PERSON ST",
           "raleigh"
          ],
          [
           "6500 GLENWOOD AVE",
           "raleigh"
          ],
          [
           "1828 ROCK QUARRY RD",
           "raleigh"
          ],
          [
           "424 E SIX FORKS RD",
           "raleigh"
          ],
          [
           "134 E MARTIN ST",
           "raleigh"
          ],
          [
           "7800 FAYETTEVILLE RD",
           "raleigh"
          ],
          [
           "8410 LOUISBURG RD",
           "raleigh"
          ],
          [
           "8205 FAYETTEVILLE RD",
           "raleigh"
          ],
          [
           "3908 ARROW DR",
           "raleigh"
          ],
          [
           "7900 CREEDMOOR RD",
           "raleigh"
          ],
          [
           "3311 CAPITAL BLVD",
           "raleigh"
          ],
          [
           "4206 WAKE FOREST RD",
           "raleigh"
          ],
          [
           "1400 EDWARDS MILL RD",
           "raleigh"
          ],
          [
           "6701 FAYETTEVILLE RD",
           "raleigh"
          ],
          [
           "331 BLAKE ST",
           "raleigh"
          ],
          [
           "2603-151 GLENWOOD AVE",
           "raleigh"
          ],
          [
           "330 HILLSBOROUGH ST",
           "raleigh"
          ],
          [
           "1130 BUCK JONES RD",
           "raleigh"
          ],
          [
           "4524 OLD WAKE FOREST RD",
           "raleigh"
          ],
          [
           "2900 SPRING FOREST RD",
           "raleigh"
          ],
          [
           "2404 WAKE FOREST RD",
           "raleigh"
          ],
          [
           "4421 SIX FORKS RD",
           "raleigh"
          ],
          [
           "8121 BRIER CREEK PKY",
           "raleigh"
          ],
          [
           "6320 CAPITAL BLV",
           "raleigh"
          ],
          [
           "1121-103 FALLS RIVER AVE",
           "raleigh"
          ],
          [
           "6405 FALLS OF NEUSE RD",
           "raleigh"
          ],
          [
           "13200 FALLS OF NEUSE RD",
           "raleigh"
          ],
          [
           "6209-128 ROCK QUARRY  RD",
           "raleigh"
          ],
          [
           "4011-133 CAPITAL  BLVD",
           "raleigh"
          ],
          [
           "10370 MONCREIFFE",
           "raleigh"
          ],
          [
           "500 S SALISBURY  ST",
           "raleigh"
          ],
          [
           "4325 GLENWOOD AVE",
           "raleigh"
          ],
          [
           "2016 CLARK AVE",
           "raleigh"
          ],
          [
           "8919 BRIER CREEK PKY",
           "raleigh"
          ],
          [
           "3940 WESTERN BLVD",
           "raleigh"
          ],
          [
           "3703 NEW BERN AVE",
           "raleigh"
          ],
          [
           "7870 ALEXANDER PROMENADE PL",
           "raleigh"
          ],
          [
           "1731 TRAWICK RD",
           "raleigh"
          ],
          [
           "8311 CREEDMOOR RD",
           "raleigh"
          ],
          [
           "327 W. DAVIE ST",
           "raleigh"
          ],
          [
           "13200 NEW FALLS OF NEUSE RD",
           "raleigh"
          ],
          [
           "5625 CREEDMOOR RD",
           "raleigh"
          ],
          [
           "8470 HONEYCUTT RD",
           "raleigh"
          ],
          [
           "2316 HILLSBOROUGH ST",
           "raleigh"
          ],
          [
           "101 CURRENT DR",
           "raleigh"
          ],
          [
           "2801 FOUNDERS DR",
           "raleigh"
          ],
          [
           "11   W JONES ST",
           "raleigh"
          ],
          [
           "8321 BRIER CREEK PKY",
           "raleigh"
          ],
          [
           "4600 TRINITY RD",
           "raleigh"
          ],
          [
           "4025 LAKE BOONE TRL",
           "raleigh"
          ],
          [
           "234 FAYETTEVILLE  ST",
           "raleigh"
          ],
          [
           "424 E SIX FORKS RD",
           "raleigh"
          ],
          [
           "2020 HILLSBOROUGH ST",
           "raleigh"
          ],
          [
           "4212 WAKE FOREST RD",
           "raleigh"
          ],
          [
           "2900 WAKEFIELD PINES DR",
           "raleigh"
          ],
          [
           "4380 FAYETTEVILLE  RD",
           "raleigh"
          ],
          [
           "4020 MARKET AT NORTH HILLS  ST",
           "raleigh"
          ],
          [
           "2815  BRENTWOOD RD",
           "raleigh"
          ],
          [
           "8460 HONEYCUTT RD",
           "raleigh"
          ],
          [
           "319 FAYETTEVILLE ST",
           "raleigh"
          ],
          [
           "5260 CAPITAL BLVD",
           "raleigh"
          ],
          [
           "427 WOODBURN ROAD",
           "raleigh"
          ],
          [
           "8305 CREEDMOOR  RD",
           "raleigh"
          ],
          [
           "421 CHAPANOKE RD",
           "raleigh"
          ],
          [
           "201 MICHAEL J. SMITH LANE",
           "raleigh"
          ],
          [
           "235 S. SALISBURY STREET",
           "raleigh"
          ],
          [
           "425 OBERLIN ROAD",
           "raleigh"
          ],
          [
           "6201 GLENWOOD AVE.",
           "raleigh"
          ],
          [
           "4614 CAPITAL BLVD",
           "raleigh"
          ],
          [
           "500-300 GLENWOOD AVE.",
           "raleigh"
          ],
          [
           "800-103 S. NEW HOPE ROAD",
           "raleigh"
          ],
          [
           "565 COMPETITION RD",
           "raleigh"
          ],
          [
           "4100 MAIN AT NORTH HILLS  ST",
           "raleigh"
          ],
          [
           "1030-101 N ROGERS LN",
           "raleigh"
          ],
          [
           "326 HILLSBOROUGH ST",
           "raleigh"
          ],
          [
           "8715 FALLS OF NEUSE ROAD",
           "raleigh"
          ],
          [
           "5951-107 POYNER VILLAGE PKY",
           "raleigh"
          ],
          [
           "2610 CATES AVE",
           "raleigh"
          ],
          [
           "2549 S SAUNDERS ST",
           "raleigh"
          ],
          [
           "8801 LEADMINE RD",
           "raleigh"
          ],
          [
           "6101 GLENWOOD AVE",
           "raleigh"
          ],
          [
           "2316-102 HILLSBOROUGH ST",
           "raleigh"
          ],
          [
           "2100 HILLSBOROUGH ST",
           "raleigh"
          ],
          [
           "313 W HARGETT ST",
           "raleigh"
          ],
          [
           "6308  CAPITAL BLVD",
           "raleigh"
          ],
          [
           "8301-101 BRIER CREEK PKY",
           "raleigh"
          ],
          [
           "4648 ATLANTIC AVE",
           "raleigh"
          ],
          [
           "301 S GLENWOOD AVE, STE. 190",
           "raleigh"
          ],
          [
           "500 GLENWOOD AVE",
           "raleigh"
          ],
          [
           "7513 RAMBLE WAY",
           "raleigh"
          ],
          [
           "4420 LAKE BOONE TRL",
           "raleigh"
          ],
          [
           "222-107 GLENWOOD AVE",
           "raleigh"
          ],
          [
           "413-100 GLENWOOD AVE",
           "raleigh"
          ],
          [
           "121-110 FAYETTEVILLE ST",
           "raleigh"
          ],
          [
           "8101 GLENWOOD AVE",
           "raleigh"
          ],
          [
           "4209-136 LASSITER MILL RD",
           "raleigh"
          ],
          [
           "15 E PEACE ST",
           "raleigh"
          ],
          [
           "14460 FALLS OF NEUSE RD",
           "raleigh"
          ],
          [
           "7440 LOUISBURG RD",
           "raleigh"
          ],
          [
           "610 N PERSON ST",
           "raleigh"
          ],
          [
           "6320-116 CAPITAL BLVD",
           "raleigh"
          ],
          [
           "2901 HILLSBOROUGH ST",
           "raleigh"
          ],
          [
           "10030 SELLONA ST",
           "raleigh"
          ],
          [
           "211 S WILMINGTON ST",
           "raleigh"
          ],
          [
           "8471   GARVEY  ST, STE 113",
           "raleigh"
          ],
          [
           "10901 WORLD TRADE BLVD",
           "raleigh"
          ],
          [
           "4538 CAPITAL BLVD",
           "raleigh"
          ],
          [
           "1803 GLENWOOD AVE",
           "raleigh"
          ],
          [
           "3110 NEW BERN  AVE, STE 110",
           "raleigh"
          ],
          [
           "4215 WAKE FOREST RD",
           "raleigh"
          ],
          [
           "4213 CORNERS PKY",
           "raleigh"
          ],
          [
           "6014 DURALEIGH RD",
           "raleigh"
          ],
          [
           "1625-101 RONALD DR",
           "raleigh"
          ],
          [
           "110 E HARGETT ST",
           "raleigh"
          ],
          [
           "2320-108 BALE ST",
           "raleigh"
          ],
          [
           "8411 BRIER CREEK  PKY",
           "raleigh"
          ],
          [
           "410 GLENWOOD AVE",
           "raleigh"
          ],
          [
           "1462 GARNER STATION BLVD",
           "raleigh"
          ],
          [
           "1493 GARNER STATION BLVD",
           "raleigh"
          ],
          [
           "8710-100 GLENWOOD AVE",
           "raleigh"
          ],
          [
           "500 E DAVIE ST",
           "raleigh"
          ],
          [
           "701 E LANE ST",
           "raleigh"
          ],
          [
           "1021 N HARRISON AVE",
           "raleigh"
          ],
          [
           "2109-146 AVENT FERRY RD",
           "raleigh"
          ],
          [
           "10511 SHADOWLAWN DR",
           "raleigh"
          ],
          [
           "327 W DAVIE ST",
           "raleigh"
          ],
          [
           "3600 JUNCTION BLVD",
           "raleigh"
          ],
          [
           "3434 EDWARDS MILL RD",
           "raleigh"
          ],
          [
           "8255 FAYETTEVILLE RD",
           "raleigh"
          ],
          [
           "8301 BRIER CREEK PKY",
           "raleigh"
          ],
          [
           "2610 WYCLIFF RD",
           "raleigh"
          ],
          [
           "7500 RAMBLE WAY",
           "raleigh"
          ],
          [
           "4109 WAKE FOREST RD",
           "raleigh"
          ],
          [
           "3209 HILLSBOROUGH ST",
           "raleigh"
          ],
          [
           "2409 CRABTREE BLVD",
           "raleigh"
          ],
          [
           "3075 MEDLIN DR",
           "raleigh"
          ],
          [
           "1025 BLUE RIDGE RD",
           "raleigh"
          ],
          [
           "7831 TARGET  CIR",
           "raleigh"
          ],
          [
           "317 S BLOODWORTH ST",
           "raleigh"
          ],
          [
           "4205 FAYETTEVILE RD",
           "raleigh"
          ],
          [
           "141 PARK AT NORTH HILLS ST",
           "raleigh"
          ],
          [
           "14460 FALLS OF NEUSE  RD",
           "raleigh"
          ],
          [
           "5910 DURALEIGH RD",
           "raleigh"
          ],
          [
           "13220 STRICKLAND RD",
           "raleigh"
          ],
          [
           "3508 W MILLBROOK RD",
           "raleigh"
          ],
          [
           "8440 LOUISBURG  RD",
           "raleigh"
          ],
          [
           "3215 AVENT FERRY RD",
           "raleigh"
          ],
          [
           "3428 TRYON RD",
           "raleigh"
          ],
          [
           "3931 MACAW ST",
           "raleigh"
          ],
          [
           "320 GLENWOOD AVE",
           "raleigh"
          ],
          [
           "6675 FALLS OF NEUSE  RD",
           "raleigh"
          ],
          [
           "4800 GROVE BARTON RD",
           "raleigh"
          ],
          [
           "209 BICKETT BLVD",
           "raleigh"
          ],
          [
           "430 W MARTIN ST",
           "raleigh"
          ],
          [
           "518 N WEST ST",
           "raleigh"
          ],
          [
           "316 FAYETTEVILLE  ST",
           "raleigh"
          ],
          [
           "3933 WESTERN BLVD",
           "raleigh"
          ],
          [
           "4415 FALLS OF NEUSE RD",
           "raleigh"
          ],
          [
           "4200 SIX FORKS RD",
           "raleigh"
          ],
          [
           "2526 HILLSBOROUGH ST",
           "raleigh"
          ],
          [
           "7500  RAMBLE WAY",
           "raleigh"
          ],
          [
           "3301 HAMMOND RD",
           "raleigh"
          ],
          [
           "1221 NEW BERN AVE",
           "raleigh"
          ],
          [
           "5601 ATLANTIC AVE",
           "raleigh"
          ],
          [
           "4140 LASSITER MILL RD",
           "raleigh"
          ],
          [
           "6300 CREEDMOOR RD",
           "raleigh"
          ],
          [
           "1601 CROSSLINK RD",
           "raleigh"
          ],
          [
           "6320 CAPITAL  BLVD, STE 130",
           "raleigh"
          ],
          [
           "428 S DAWSON ST",
           "raleigh"
          ],
          [
           "8215 FAYETTEVILLE RD",
           "raleigh"
          ],
          [
           "2030 NEW BERN AVE",
           "raleigh"
          ],
          [
           "2426 WAKE FOREST RD",
           "raleigh"
          ],
          [
           "1625 WAKE FOREST RD",
           "raleigh"
          ],
          [
           "508 W JONES ST",
           "raleigh"
          ],
          [
           "7707 FAYETTEVILLE RD",
           "raleigh"
          ],
          [
           "3281 AVENT FERRY RD",
           "raleigh"
          ],
          [
           "8319 CREEDMOOR RD",
           "raleigh"
          ],
          [
           "3000 BALLYBUNION WAY",
           "raleigh"
          ],
          [
           "10610 DURANT RD",
           "raleigh"
          ],
          [
           "16 W JONES ST",
           "raleigh"
          ],
          [
           "3100 HILLSBOROUGH ST",
           "raleigh"
          ],
          [
           "6324 GLENWOOD AVE",
           "raleigh"
          ],
          [
           "6679 FALLS OF NEUSE RD",
           "raleigh"
          ],
          [
           "4325 GLENWOOD AVE",
           "raleigh"
          ],
          [
           "8111 CREEDMOOR RD",
           "raleigh"
          ],
          [
           "349 TRYON RD",
           "raleigh"
          ],
          [
           "1319 BUCK JONES RD",
           "raleigh"
          ],
          [
           "10100 LEESVILLE RD",
           "raleigh"
          ],
          [
           "1732 CAPITAL BLVD",
           "raleigh"
          ],
          [
           "1240 FARMERS MARKET DR",
           "raleigh"
          ],
          [
           "8431 BRIER CREEK PKY",
           "raleigh"
          ],
          [
           "909 SPRING FOREST RD",
           "raleigh"
          ],
          [
           "4512 FALLS OF NEUSE RD",
           "raleigh"
          ],
          [
           "136 E HARGETT ST",
           "raleigh"
          ],
          [
           "4420 LAKE BOONE TRL",
           "raleigh"
          ],
          [
           "3111 CAPITAL BLV",
           "raleigh"
          ],
          [
           "3501-131 CAPITAL BLV",
           "raleigh"
          ],
          [
           "1400 EDWARDS MILL RD",
           "raleigh"
          ],
          [
           "1400 EDWARDS MILL RD",
           "raleigh"
          ],
          [
           "609 PEACE ST",
           "raleigh"
          ],
          [
           "9650 STRICKLAND RD",
           "raleigh"
          ],
          [
           "5621 ATLANTIC AVE",
           "raleigh"
          ],
          [
           "5219 OLD WAKE FOREST RD",
           "raleigh"
          ],
          [
           "1912 BERNARD ST",
           "raleigh"
          ],
          [
           "6325-33 FALLS OF NEUSE RD",
           "raleigh"
          ],
          [
           "7909 FALLS OF NEUSE RD",
           "raleigh"
          ],
          [
           "4509 CREEDMOOR RD",
           "raleigh"
          ],
          [
           "1478 GARNER STATION  BLVD",
           "raleigh"
          ],
          [
           "8115 BRIER CREEK PKWY",
           "raleigh"
          ],
          [
           "9101 LEESVILLE  RD",
           "raleigh"
          ],
          [
           "7496 CREEDMOOR RD",
           "raleigh"
          ],
          [
           "4205 CORNERS PKY",
           "raleigh"
          ],
          [
           "7810 POYNER POND CIR",
           "raleigh"
          ],
          [
           "2624 WESTINGHOUSE BLVD",
           "raleigh"
          ],
          [
           "6274 GLENWOOD AVE",
           "raleigh"
          ],
          [
           "5301 TIN ROOF WAY",
           "raleigh"
          ],
          [
           "105 FRIENDLY DR",
           "raleigh"
          ],
          [
           "8050  TEN-TEN RD",
           "raleigh"
          ],
          [
           "4510 FAYETTEVILLE RD",
           "raleigh"
          ],
          [
           "2018 CAMERON ST",
           "raleigh"
          ],
          [
           "832 SPRING FOREST RD",
           "raleigh"
          ],
          [
           "3770 LAKE BOONE TRL",
           "raleigh"
          ],
          [
           "8521 BRIER CREEK PKWY",
           "raleigh"
          ],
          [
           "4120   MAIN AT NORTH HILLS ST",
           "raleigh"
          ],
          [
           "6301 FALLS OF NEUSE  RD",
           "raleigh"
          ],
          [
           "6004 FALLS OF NEUSE RD",
           "raleigh"
          ],
          [
           "3771  THISTLEDOWN DR",
           "raleigh"
          ],
          [
           "3901 CAPITAL BLVD",
           "raleigh"
          ],
          [
           "8661  SIX FORKS RD",
           "raleigh"
          ],
          [
           "3101 EDWARDS MILL RD",
           "raleigh"
          ],
          [
           "3800 GLENWOOD AVE",
           "raleigh"
          ],
          [
           "8111 CREEDMOOR RD",
           "raleigh"
          ],
          [
           "2233-102 AVENT FERRY RD",
           "raleigh"
          ],
          [
           "8800 HARVEST OAKS DR",
           "raleigh"
          ],
          [
           "3800 HILLSBOROUGH ST",
           "raleigh"
          ],
          [
           "3027-113 CAPITAL BLVD",
           "raleigh"
          ],
          [
           "3000 NEW BERN AVE",
           "raleigh"
          ],
          [
           "3416 POOLE RD",
           "raleigh"
          ],
          [
           "4350 LASSITER AT N. HILLS AVE. STE. 118",
           "raleigh"
          ],
          [
           "3631 NEW BERN AVE",
           "raleigh"
          ],
          [
           "5200 NEW BERN AVE",
           "raleigh"
          ],
          [
           "4421 NEW BERN AVE",
           "raleigh"
          ],
          [
           "7420 SIX FORKS  RD",
           "raleigh"
          ],
          [
           "8680 GLENWOOD AVE",
           "raleigh"
          ],
          [
           "4321 FALLS OF NEUSE  RD",
           "raleigh"
          ],
          [
           "220 WOLFE ST",
           "raleigh"
          ],
          [
           "3901-173 CAPITAL BLVD",
           "raleigh"
          ],
          [
           "2820 BRENTWOOD RD",
           "raleigh"
          ],
          [
           "8521 BRIER CREEK PKY",
           "raleigh"
          ],
          [
           "4381-119 LASSITER AT NORTH HILLS AVE",
           "raleigh"
          ],
          [
           "5601 CREEDMOOR RD",
           "raleigh"
          ],
          [
           "2430 HILLSBOROUGH ST",
           "raleigh"
          ],
          [
           "426  S MCDOWELL ST",
           "raleigh"
          ],
          [
           "1121-105 FALLS RIVER AVE",
           "raleigh"
          ],
          [
           "2302  HILLSBOROUGH ST",
           "raleigh"
          ],
          [
           "9704 STRICKLAND RD",
           "raleigh"
          ],
          [
           "2645-D E MILLBROOK RD",
           "raleigh"
          ],
          [
           "802 SEMART  DR",
           "raleigh"
          ],
          [
           "7851 ALEXANDER PROMENADE",
           "raleigh"
          ],
          [
           "6209 ROCK QUARRY RD",
           "raleigh"
          ],
          [
           "3801 HILLSBOROUGH ST",
           "raleigh"
          ],
          [
           "3101-102 EDWARDS MILL  RD",
           "raleigh"
          ],
          [
           "2444 WYCLIFF RD",
           "raleigh"
          ],
          [
           "3611 SPRING FOREST RD",
           "raleigh"
          ],
          [
           "5500 ATLANTIC SPRINGS  RD",
           "raleigh"
          ],
          [
           "8420-120 LOUISBURG RD",
           "raleigh"
          ],
          [
           "4305 FAYETTEVILLE RD",
           "raleigh"
          ],
          [
           "3741 THISTLE DOWN  DR",
           "raleigh"
          ],
          [
           "433  DANIELS  ST",
           "raleigh"
          ],
          [
           "8001 ARCO CORPORATE  DR",
           "raleigh"
          ],
          [
           "4025-100 LAKE BOONE  TRAIL",
           "raleigh"
          ],
          [
           "1721-112 NEW HOPE CHURCH RD",
           "raleigh"
          ],
          [
           "6250 CAPITAL BLVD",
           "raleigh"
          ],
          [
           "222-117 GLENWOOD AVE",
           "raleigh"
          ],
          [
           "2720-126 LAKE WHEELER ROAD",
           "raleigh"
          ],
          [
           "8470-102 HONEYCUTT RD",
           "raleigh"
          ],
          [
           "501 E WHITAKER MILL RD",
           "raleigh"
          ],
          [
           "8710 SIX FORKS RD",
           "raleigh"
          ],
          [
           "8450 HONEYCUTT RD",
           "raleigh"
          ],
          [
           "421 CHAPANOKE ROAD",
           "raleigh"
          ],
          [
           "2109 AVENT FERRY RD",
           "raleigh"
          ],
          [
           "805 W PEACE STREET",
           "raleigh"
          ],
          [
           "237  S WILMINGTON ST",
           "raleigh"
          ],
          [
           "4040 ED  DR",
           "raleigh"
          ],
          [
           "2519 FAIRVIEW RD",
           "raleigh"
          ],
          [
           "5416 ROCK QUARRY RD",
           "raleigh"
          ],
          [
           "9650 STRICKLAND RD",
           "raleigh"
          ],
          [
           "710 CORPORATE CENTER DR",
           "raleigh"
          ],
          [
           "2909  E MILLBROOK RD",
           "raleigh"
          ],
          [
           "8511 COLONNADE CENTER DR",
           "raleigh"
          ],
          [
           "600 CORPORATE CENTER DR",
           "raleigh"
          ],
          [
           "3416 POOLE RD",
           "raleigh"
          ],
          [
           "1302 E MILLBROOK RD",
           "raleigh"
          ],
          [
           "2810 HILLSBOROUGH ST",
           "raleigh"
          ],
          [
           "3027 CAPITAL  BLVD",
           "raleigh"
          ],
          [
           "6209 GLENWOOD AVE",
           "raleigh"
          ],
          [
           "111 SEABOARD AVE",
           "raleigh"
          ],
          [
           "2901 TRAWICK RD",
           "raleigh"
          ],
          [
           "909 SPRING FOREST RD",
           "raleigh"
          ],
          [
           "7713 LEADMINE  RD",
           "raleigh"
          ],
          [
           "4121 BLUE RIDGE RD",
           "raleigh"
          ],
          [
           "301 GLENWOOD AVE",
           "raleigh"
          ],
          [
           "1520 BLUE RIDGE RD",
           "raleigh"
          ],
          [
           "150 FAYETTEVILLE  ST",
           "raleigh"
          ],
          [
           "4500 FAYETTEVILLE RD",
           "raleigh"
          ],
          [
           "3301 S WILMINGTON ST",
           "raleigh"
          ],
          [
           "16 E MARTIN ST",
           "raleigh"
          ],
          [
           "2603-155 GLENWOOD  AVE",
           "raleigh"
          ],
          [
           "8011 BRIER CREEK PKY",
           "raleigh"
          ],
          [
           "9698 FALLS OF NEUSE RD",
           "raleigh"
          ],
          [
           "7880 ALEXANDER PROMENADE PLACE",
           "raleigh"
          ],
          [
           "401 HILLSBOROUGH ST",
           "raleigh"
          ],
          [
           "3217 AVENT FERRY RD",
           "raleigh"
          ],
          [
           "10600 LITTLE BRIER CREEK LN",
           "raleigh"
          ],
          [
           "5009 FALLS OF NEUSE RD",
           "raleigh"
          ],
          [
           "5011-B FALLS OF NEUSE RD",
           "raleigh"
          ],
          [
           "530 DANIELS ST",
           "raleigh"
          ],
          [
           "8111-101 CREEDMOOR RD",
           "raleigh"
          ],
          [
           "2100-100 HILLSBOROUGH ST",
           "raleigh"
          ],
          [
           "7 W HARGETT ST",
           "raleigh"
          ],
          [
           "4531-100 NEW BERN AVE",
           "raleigh"
          ],
          [
           "14460 FALLS OF NEUSE RD",
           "raleigh"
          ],
          [
           "6300 CAPITAL BLVD",
           "raleigh"
          ],
          [
           "137 E DAVIE ST",
           "raleigh"
          ],
          [
           "14460 167 FALLS OF NEUSE RD",
           "raleigh"
          ],
          [
           "420 DANIELS ST",
           "raleigh"
          ],
          [
           "505 W JONES ST",
           "raleigh"
          ],
          [
           "1725 NEW HOPE CHURCH RD",
           "raleigh"
          ],
          [
           "4431 NEW BERN AVE",
           "raleigh"
          ],
          [
           "145 E DAVIE ST",
           "raleigh"
          ],
          [
           "223 S WILMINGTON ST",
           "raleigh"
          ],
          [
           "5410 SIX FORKS RD",
           "raleigh"
          ],
          [
           "3351 CYPRESS PLANTATION TRL",
           "raleigh"
          ],
          [
           "2410 LANDMARK DR",
           "raleigh"
          ],
          [
           "3224 S WILMINGTON ST",
           "raleigh"
          ],
          [
           "7451 SIX FORKS RD",
           "raleigh"
          ],
          [
           "7713 LEAD MINE RD",
           "raleigh"
          ],
          [
           "8315 CREEDMOOR RD",
           "raleigh"
          ],
          [
           "3004 WAKE FOREST RD SUITE 100",
           "raleigh"
          ],
          [
           "3904 WESTERN BLVD",
           "raleigh"
          ],
          [
           "416-100 W SOUTH ST",
           "raleigh"
          ],
          [
           "4121 MAIN AT NORTH HILLS ST",
           "raleigh"
          ],
          [
           "200-130 PARK AT NORTH HILLS ST",
           "raleigh"
          ],
          [
           "219 S WEST ST",
           "raleigh"
          ],
          [
           "2310 BALE ST",
           "raleigh"
          ],
          [
           "4112-120 PLEASANT VALLEY RD",
           "raleigh"
          ],
          [
           "3550 HORTON ST",
           "raleigh"
          ],
          [
           "7901 FALLS OF NUESE RD",
           "raleigh"
          ],
          [
           "10511-119 SHADOWLAWN DR",
           "raleigh"
          ],
          [
           "500-115 E DAVIE ST",
           "raleigh"
          ],
          [
           "9640 LEESVILLE RD",
           "raleigh"
          ],
          [
           "500-107 E DAVIE ST",
           "raleigh"
          ],
          [
           "813 E WHITAKER MILL RD",
           "raleigh"
          ],
          [
           "9600 BRIER CREEK PKY",
           "raleigh"
          ],
          [
           "911 N WEST ST",
           "raleigh"
          ],
          [
           "832 SPRING FOREST RD",
           "raleigh"
          ],
          [
           "2330 BALE ST",
           "raleigh"
          ],
          [
           "3928 WESTERN BLVD",
           "raleigh"
          ],
          [
           "2409 CRABTREE BLVD",
           "raleigh"
          ],
          [
           "500 OBERLIN RD",
           "raleigh"
          ],
          [
           "404-183 E SIX FORKS RD",
           "raleigh"
          ],
          [
           "9600 FALLS OF NEUSE RD",
           "raleigh"
          ],
          [
           "1600 RONALD DR",
           "raleigh"
          ],
          [
           "10911-111 RAVEN RIDGE RD",
           "raleigh"
          ],
          [
           "2801 WAKE FOREST RD",
           "raleigh"
          ],
          [
           "6113 CAPITAL BLVD",
           "raleigh"
          ],
          [
           "9400 BRIER CREEK PKWY",
           "raleigh"
          ],
          [
           "141 PARK AT NORTH HILLS ST",
           "raleigh"
          ],
          [
           "5335 RAYNOR  RD",
           "raleigh"
          ],
          [
           "2816 TRAWICK RD, STE 105",
           "raleigh"
          ],
          [
           "13220 STRICKLAND RD",
           "raleigh"
          ],
          [
           "7901 T W ALEXANDER DR",
           "raleigh"
          ],
          [
           "1911 SEGO CT",
           "raleigh"
          ],
          [
           "7860 FAYETTEVILLE RD",
           "raleigh"
          ],
          [
           "3607 FALLS RIVER  AVE",
           "raleigh"
          ],
          [
           "2800 FAUCETTE DR",
           "raleigh"
          ],
          [
           "4154 MAIN AT NORTH HILLS ST",
           "raleigh"
          ],
          [
           "300 E EDENTON ST",
           "raleigh"
          ],
          [
           "402 OBERLIN RD",
           "raleigh"
          ],
          [
           "3501 FORESTVILLE RD",
           "raleigh"
          ],
          [
           "8111 CREEDMOOR RD",
           "raleigh"
          ],
          [
           "401 WOODBURN RD",
           "raleigh"
          ],
          [
           "2110 BLUE RIDGE RD",
           "raleigh"
          ],
          [
           "1101 E WHITAKER MILL RD",
           "raleigh"
          ],
          [
           "4208 PLEASANT VALLEY RD",
           "raleigh"
          ],
          [
           "6260 GLENWOOD AVE",
           "raleigh"
          ],
          [
           "3805 BRENTWOOD RD",
           "raleigh"
          ],
          [
           "8111 CREEDMOOR RD",
           "raleigh"
          ],
          [
           "2712 HILLSBOROUGH ST",
           "raleigh"
          ],
          [
           "300 S SALISBURY ST",
           "raleigh"
          ],
          [
           "2230 BANDMATE WAY",
           "raleigh"
          ],
          [
           "1431 GARNER STATION BLVD",
           "raleigh"
          ],
          [
           "2501 BLUE RIDGE RD",
           "raleigh"
          ],
          [
           "3209 S WILMINGTON ST",
           "raleigh"
          ],
          [
           "5265 SIX FORKS RD",
           "raleigh"
          ],
          [
           "2822 NEW BIRCH DR",
           "raleigh"
          ],
          [
           "3088 WAKE FOREST RD",
           "raleigh"
          ],
          [
           "1309  CORPORATION PKY",
           "raleigh"
          ],
          [
           "911 N WEST ST",
           "raleigh"
          ],
          [
           "3700 GLENWOOD AVE",
           "raleigh"
          ],
          [
           "7400 LOUISBURG RD",
           "raleigh"
          ],
          [
           "317 S HARRINGTON ST",
           "raleigh"
          ],
          [
           "1626 GLENWOOD AVE",
           "raleigh"
          ],
          [
           "2316 HILLSBOROUGH ST",
           "raleigh"
          ],
          [
           "4100 MAIN AT NORTH HILLS ST",
           "raleigh"
          ],
          [
           "2201 WAKEFIELD PLANTATION DR",
           "raleigh"
          ],
          [
           "5011 FALLS OF NEUSE RD",
           "raleigh"
          ],
          [
           "6109 GLENWOOD AVE",
           "raleigh"
          ],
          [
           "631 E. SIX FORKS RD",
           "raleigh"
          ],
          [
           "621 HILLSBOROUGH ST",
           "raleigh"
          ],
          [
           "3209 AVENT FERRY RD",
           "raleigh"
          ],
          [
           "208 WOLFE ST",
           "raleigh"
          ],
          [
           "401 FAYETTEVILLE ST",
           "raleigh"
          ],
          [
           "400 HILLSBOROUGH ST",
           "raleigh"
          ],
          [
           "2428 HILLSBOROUGH  ST",
           "raleigh"
          ],
          [
           "7901 FALLS OF NEUSE RD",
           "raleigh"
          ],
          [
           "7 S WEST ST",
           "raleigh"
          ],
          [
           "99 N SALISBURY ST",
           "raleigh"
          ],
          [
           "301 W MARTIN ST",
           "raleigh"
          ],
          [
           "3101 EDWARDS MILL RD",
           "raleigh"
          ],
          [
           "8853 SIX FORKS RD",
           "raleigh"
          ],
          [
           "3408 POOLE RD",
           "raleigh"
          ],
          [
           "3225 AVENT FERRY RD",
           "raleigh"
          ],
          [
           "506 DANIELS ST",
           "raleigh"
          ],
          [
           "5111 WESTERN BLVD",
           "raleigh"
          ],
          [
           "8341 BRIER CREEK PKY",
           "raleigh"
          ],
          [
           "7301 POOLE RD",
           "raleigh"
          ],
          [
           "3301 CAPITAL BLVD",
           "raleigh"
          ],
          [
           "4701 ATLANTIC AVE",
           "raleigh"
          ],
          [
           "4325 GLENWOOD AVE",
           "raleigh"
          ],
          [
           "2014 FAIRVIEW RD",
           "raleigh"
          ],
          [
           "5016-101 SPRING FOREST RD",
           "raleigh"
          ],
          [
           "8304 FALLS OF NEUSE RD",
           "raleigh"
          ],
          [
           "620 GLENWOOD AVE",
           "raleigh"
          ],
          [
           "6404 GLENWOOD AVE",
           "raleigh"
          ],
          [
           "5301 CREEDMOOR RD",
           "raleigh"
          ],
          [
           "3080 WAKE FOREST RD",
           "raleigh"
          ],
          [
           "3210-131 S WILMINGTON ST",
           "raleigh"
          ],
          [
           "8801 SIX FORKS RD",
           "raleigh"
          ],
          [
           "2200 SUMMIT PARK LN",
           "raleigh"
          ],
          [
           "1811 GLENWOOD AVE",
           "raleigh"
          ],
          [
           "9101-113 LEESVILLE RD",
           "raleigh"
          ],
          [
           "5563 WESTERN  BLVD",
           "raleigh"
          ],
          [
           "1200 CARLOS DR",
           "raleigh"
          ],
          [
           "5910 DURALEIGH RD",
           "raleigh"
          ],
          [
           "2233 AVENT FERRY RD",
           "raleigh"
          ],
          [
           "3800 HILLSBOROUGH ST",
           "raleigh"
          ],
          [
           "1400 EDWARDS MILL RD",
           "raleigh"
          ],
          [
           "1400 EDWARDS MILL RD",
           "raleigh"
          ],
          [
           "3901-103 CAPITAL BLVD",
           "raleigh"
          ],
          [
           "10450-101 DURANT RD",
           "raleigh"
          ],
          [
           "3500 POOLE RD",
           "raleigh"
          ],
          [
           "4805 CAPITAL BLVD",
           "raleigh"
          ],
          [
           "6309 HILLSBOROUGH ST",
           "raleigh"
          ],
          [
           "2620 ATLANTIC AVE",
           "raleigh"
          ],
          [
           "8831 SIX FORKS RD",
           "raleigh"
          ],
          [
           "3540 WADE AVE",
           "raleigh"
          ],
          [
           "5910 DURALEIGH RD",
           "raleigh"
          ],
          [
           "4821 CAPITAL BLVD",
           "raleigh"
          ],
          [
           "3023-101 CAPITAL",
           "raleigh"
          ],
          [
           "4325-3000 GLENWOOD AVE",
           "raleigh"
          ],
          [
           "205 WOLFE ST",
           "raleigh"
          ],
          [
           "6605 FALLS OF NEUSE RD",
           "raleigh"
          ],
          [
           "5434 SIX FORKS RD",
           "raleigh"
          ],
          [
           "150 FAYETTEVILLE ST",
           "raleigh"
          ],
          [
           "1400 EDWARDS MILL RD",
           "raleigh"
          ],
          [
           "1400 EDWARDS MILL RD",
           "raleigh"
          ],
          [
           "328 W MORGAN ST",
           "raleigh"
          ],
          [
           "329 S BLOUNT ST",
           "raleigh"
          ],
          [
           "2451 ALUMNI DR",
           "raleigh"
          ],
          [
           "901 W MORGAN ST",
           "raleigh"
          ],
          [
           "5563 WESTERN BLVD",
           "raleigh"
          ],
          [
           "3110-116 NEW BERN AVE",
           "raleigh"
          ],
          [
           "111 FRIENDLY DR",
           "raleigh"
          ],
          [
           "4701-131 ATLANTIC AVE",
           "raleigh"
          ],
          [
           "3004 WAKE FOREST  RD",
           "raleigh"
          ],
          [
           "4412 FAYETTEVILLE RD",
           "raleigh"
          ],
          [
           "9660-142 FALLS OF NEUSE RD",
           "raleigh"
          ],
          [
           "100 NW PERSON  ST",
           "raleigh"
          ],
          [
           "2071  W MILLBROOK RD",
           "raleigh"
          ],
          [
           "1818 OBERLIN RD",
           "raleigh"
          ],
          [
           "9650 STRICKLAND RD",
           "raleigh"
          ],
          [
           "5200 CAPITAL BLVD",
           "raleigh"
          ],
          [
           "1209 FARMERS MARKET DR",
           "raleigh"
          ],
          [
           "3815 HILLSBOROUGH ST",
           "raleigh"
          ],
          [
           "205 E FRANKLIN ST",
           "raleigh"
          ],
          [
           "1540 DUNN RD",
           "raleigh"
          ],
          [
           "105 E SOUTH ST",
           "raleigh"
          ],
          [
           "3109 POPLARWOOD CT",
           "raleigh"
          ],
          [
           "8000 POOLER RD",
           "raleigh"
          ],
          [
           "317 W MORGAN ST",
           "raleigh"
          ],
          [
           "1110 MERCANTILE DR",
           "raleigh"
          ],
          [
           "5400 HOMEWOOD BANKS  DR",
           "raleigh"
          ],
          [
           "2241 AVENT FERRY RD",
           "raleigh"
          ],
          [
           "9 GLENWOOD AVE",
           "raleigh"
          ],
          [
           "6300 BATTLE BRIDGE RD",
           "raleigh"
          ],
          [
           "4511 NEW BERN  AVE",
           "raleigh"
          ],
          [
           "5959 TRIANGLE TOWN BLVD",
           "raleigh"
          ],
          [
           "3401 SUMNER BLVD",
           "raleigh"
          ],
          [
           "2539 S SAUNDERS ST",
           "raleigh"
          ],
          [
           "2304 HILLSBOROUGH ST",
           "raleigh"
          ],
          [
           "2601 WAKE FOREST  RD",
           "raleigh"
          ],
          [
           "3800 GLENWOOD AVE",
           "raleigh"
          ],
          [
           "3211 EDWARDS MILL RD",
           "raleigh"
          ],
          [
           "3201-101 EDWARDS MILL RD",
           "raleigh"
          ],
          [
           "9820 - 170 LEESVILLE RD",
           "raleigh"
          ],
          [
           "13210 STRICKLAND RD",
           "raleigh"
          ],
          [
           "6325 - 19 FALLS OF NEUSE RD",
           "raleigh"
          ],
          [
           "5900 OAK FOREST DR",
           "raleigh"
          ],
          [
           "3215 WAKE FOREST RD",
           "raleigh"
          ],
          [
           "4421 SIX FORKS RD",
           "raleigh"
          ],
          [
           "6282 GLENWOOD AVE",
           "raleigh"
          ],
          [
           "118 E SOUTH ST",
           "raleigh"
          ],
          [
           "900 HILLSBOROUGH ST",
           "raleigh"
          ],
          [
           "2603 GLENWOOD AVE",
           "raleigh"
          ],
          [
           "4621 NEW BERN AVE",
           "raleigh"
          ],
          [
           "4801 THORTON RD",
           "raleigh"
          ],
          [
           "2400 SPRING FOREST RD",
           "raleigh"
          ],
          [
           "14520 NEW FALLS OF NEUSE RD",
           "raleigh"
          ],
          [
           "8411 BRIER CREEK PKY",
           "raleigh"
          ],
          [
           "11190 FUN PARK DR",
           "raleigh"
          ],
          [
           "7981 SKYLAND RIDGE PKY",
           "raleigh"
          ],
          [
           "2420 LAKE WHEELER RD",
           "raleigh"
          ],
          [
           "5911 POYNER VILLAGE PKWY",
           "raleigh"
          ],
          [
           "4511 NEW BERN AVE",
           "raleigh"
          ],
          [
           "701 CORPORATE CENTER DR",
           "raleigh"
          ],
          [
           "222 FAYETTEVILLE ST",
           "raleigh"
          ],
          [
           "10750 WAKEFIELD COMMONS DR",
           "raleigh"
          ],
          [
           "8111-107 CREEDMOOR RD",
           "raleigh"
          ],
          [
           "7550-106 CREEDMOOR RD",
           "raleigh"
          ],
          [
           "3111 LELAND DR",
           "raleigh"
          ],
          [
           "8111 ROWLOCK  WAY",
           "raleigh"
          ],
          [
           "6412 CAPITAL  BLVD",
           "raleigh"
          ],
          [
           "4001 WAKE FOREST  RD",
           "raleigh"
          ],
          [
           "1100 CORPORATE CENTER DR",
           "raleigh"
          ],
          [
           "8521  CANTILEVER WAY",
           "raleigh"
          ],
          [
           "120-100 ST ALBANS  DR",
           "raleigh"
          ],
          [
           "3001 CALVARY  DR",
           "raleigh"
          ],
          [
           "3609 JUNCTION  BLVD",
           "raleigh"
          ],
          [
           "3520 CAPITAL BLVD",
           "raleigh"
          ],
          [
           "5430  WADE PARK  BLVD",
           "raleigh"
          ],
          [
           "8450-104 HONEYCUTT  RD",
           "raleigh"
          ],
          [
           "5811 POYNER VILLAGE  PKY",
           "raleigh"
          ],
          [
           "309 N DAWSON ST",
           "raleigh"
          ],
          [
           "2424 WAKE FOREST RD",
           "raleigh"
          ],
          [
           "2840 E MILLBROOK RD",
           "raleigh"
          ],
          [
           "7713 LEAD MINE  RD",
           "raleigh"
          ],
          [
           "2603-123 GLENWOOD AVE",
           "raleigh"
          ],
          [
           "221 JENSEN  DR",
           "raleigh"
          ],
          [
           "11 W JONES ST",
           "raleigh"
          ],
          [
           "4208 SIX FORKS  RD",
           "raleigh"
          ],
          [
           "2610 WESTINGHOUSE BLVD",
           "raleigh"
          ],
          [
           "18 E MARTIN ST",
           "raleigh"
          ],
          [
           "3920 ARROW DR",
           "raleigh"
          ],
          [
           "7432 CREEDMOOR RD",
           "raleigh"
          ],
          [
           "2712 HILLSBOROUGH ST",
           "raleigh"
          ],
          [
           "4208 SIX FORKS  RD",
           "raleigh"
          ],
          [
           "7301 SIX FORKS  RD",
           "raleigh"
          ],
          [
           "7400 SIX FORKS  RD",
           "raleigh"
          ],
          [
           "13200 STRICKLAND  RD",
           "raleigh"
          ],
          [
           "2201 SUMMIT PARK  LN",
           "raleigh"
          ],
          [
           "500 FAYETTEVILLE ST",
           "raleigh"
          ],
          [
           "2500 WYCLIFF RD",
           "raleigh"
          ],
          [
           "7961 SKYLAND RIDGE PKY",
           "raleigh"
          ],
          [
           "109 JONES FRANKLIN RD",
           "raleigh"
          ],
          [
           "4500 MARRIOTT DR",
           "raleigh"
          ],
          [
           "6611 FALLS OF NEUSE RD",
           "raleigh"
          ],
          [
           "432 WOODBURN  RD",
           "raleigh"
          ],
          [
           "2408 DIXIE FOREST RD",
           "raleigh"
          ],
          [
           "4100 GLENWOOD AVE",
           "raleigh"
          ],
          [
           "13200 FALLS OF NEUSE ROAD",
           "raleigh"
          ],
          [
           "4408 OLD WAKE FOREST RD",
           "raleigh"
          ],
          [
           "9504 STRICKLAND ROAD",
           "raleigh"
          ],
          [
           "6679-105 FALLS OF NEUSE ROAD",
           "raleigh"
          ],
          [
           "126 S. SALISBURY ST.",
           "raleigh"
          ],
          [
           "8109-129 FAYETTEVILLE RD",
           "raleigh"
          ],
          [
           "3817 WESTERN BLVD",
           "raleigh"
          ],
          [
           "421 S SALISBURY ST",
           "raleigh"
          ],
          [
           "2600 FOUNDER DR",
           "raleigh"
          ],
          [
           "614 GLENWOOD AVE",
           "raleigh"
          ],
          [
           "3912 ARROW DR",
           "raleigh"
          ],
          [
           "8817 SIX FORKS RD",
           "raleigh"
          ],
          [
           "3618 NEW BERN AVE",
           "raleigh"
          ],
          [
           "4035-109 LAKE BOONE TRL",
           "raleigh"
          ],
          [
           "2900-100 HILLSBOROUGH ST",
           "raleigh"
          ],
          [
           "3919 NEW BERN AVE",
           "raleigh"
          ],
          [
           "6300-108 CREEDMOOR RD",
           "raleigh"
          ],
          [
           "3000 CAPITAL BLVD",
           "raleigh"
          ],
          [
           "1400 EDWARDS MILL RD",
           "raleigh"
          ],
          [
           "225 S WILMINGTON ST",
           "raleigh"
          ],
          [
           "8470 LOUISBURG RD",
           "raleigh"
          ],
          [
           "1601-11 CROSS LINK RD",
           "raleigh"
          ],
          [
           "11211 GALLERIA AVE",
           "raleigh"
          ],
          [
           "3501 CAPITAL BLVD",
           "raleigh"
          ],
          [
           "9424 FALLS OF NEUSE RD",
           "raleigh"
          ],
          [
           "321 S BLOUNT ST",
           "raleigh"
          ],
          [
           "2900 SPRING FOREST RD",
           "raleigh"
          ],
          [
           "6408 CAPITAL BLVD",
           "raleigh"
          ],
          [
           "6004 FALLS OF NEUSE RD",
           "raleigh"
          ],
          [
           "2105 CAMERON ST",
           "raleigh"
          ],
          [
           "1053-111 E WHITAKER MILL RD",
           "raleigh"
          ],
          [
           "3611-114 SPRING FOREST RD",
           "raleigh"
          ],
          [
           "8109-109 FAYETTEVILLE RD",
           "raleigh"
          ],
          [
           "3001 HILLSBOROUGH ST",
           "raleigh"
          ],
          [
           "8651 BRIER CREEK PKY",
           "raleigh"
          ],
          [
           "3100 WAKE FOREST RD",
           "raleigh"
          ],
          [
           "411 W MORGAN ST",
           "raleigh"
          ],
          [
           "11400  COMMON OAKS DR",
           "raleigh"
          ],
          [
           "1601-43 CROSS LINK RD",
           "raleigh"
          ],
          [
           "1053-C E WHITAKER MILL RD",
           "raleigh"
          ],
          [
           "4158 MAIN AT NORTH HILLS ST",
           "raleigh"
          ],
          [
           "4421-120 SIX FORKS RD",
           "raleigh"
          ],
          [
           "3318 CAPITAL BLVD",
           "raleigh"
          ],
          [
           "2512-110 HILLSBOROUGH ST",
           "raleigh"
          ],
          [
           "9650 STRICKLAND RD",
           "raleigh"
          ],
          [
           "1007 METHOD RD",
           "raleigh"
          ],
          [
           "6901 PLAY GOLF WAY",
           "raleigh"
          ],
          [
           "2412 HILLSBOROUGH ST",
           "raleigh"
          ],
          [
           "421 FAYETTVILLE ST",
           "raleigh"
          ],
          [
           "13401 FALLS OF NEUSE RD",
           "raleigh"
          ],
          [
           "8345 CREEDMOOR RD",
           "raleigh"
          ],
          [
           "1200 WAKE TOWNE DR",
           "raleigh"
          ],
          [
           "13600  NEW FALLS OF NEUSE RD",
           "raleigh"
          ],
          [
           "13240 STRICKLAND RD",
           "raleigh"
          ],
          [
           "110 PARK AT NORTH HILLS ST",
           "raleigh"
          ],
          [
           "413 WOODBURN RD",
           "raleigh"
          ],
          [
           "4203 CORNERS PKWY",
           "raleigh"
          ],
          [
           "717-199 E MARTIN ST",
           "raleigh"
          ],
          [
           "6429-C GLENWOOD AVE",
           "raleigh"
          ],
          [
           "1580 DUNN RD",
           "raleigh"
          ],
          [
           "135 E DAVIE ST",
           "raleigh"
          ],
          [
           "1600 CROSS LINK RD",
           "raleigh"
          ],
          [
           "1541 SUNDAY DR",
           "raleigh"
          ],
          [
           "8300 HEALTH PARK RD",
           "raleigh"
          ],
          [
           "1000 BROOKSIDE DR",
           "raleigh"
          ],
          [
           "1141 FALLS RIVER AVE",
           "raleigh"
          ],
          [
           "3551 GRENELLE ST",
           "raleigh"
          ],
          [
           "8470 HONEYCUTT  RD",
           "raleigh"
          ],
          [
           "8521 BRIER CREEK PKY",
           "raleigh"
          ],
          [
           "2426 HILLSBOROUGH ST",
           "raleigh"
          ],
          [
           "141 PARK AT NORTH HILLS ST",
           "raleigh"
          ],
          [
           "8107 CREEDMOOR RD",
           "raleigh"
          ],
          [
           "6176 FALLS OF NEUSE  RD",
           "raleigh"
          ],
          [
           "7991 FAYETTEVILLE RD",
           "raleigh"
          ],
          [
           "2526 HILLSBOROUGH ST",
           "raleigh"
          ],
          [
           "12800 SPRUCE TREE  WAY",
           "raleigh"
          ],
          [
           "2304 HILLSBOROUGH ST",
           "raleigh"
          ],
          [
           "3201 EDWARDS MILL RD",
           "raleigh"
          ],
          [
           "8711 SIX FORKS RD",
           "raleigh"
          ],
          [
           "1636 GRADUATION WAY",
           "raleigh"
          ],
          [
           "5609 CREEDMOOR RD",
           "raleigh"
          ],
          [
           "3105 CAPITAL BLVD",
           "raleigh"
          ],
          [
           "555 FAYETTEVILLE ST",
           "raleigh"
          ],
          [
           "1310 E MILLBROOK RD",
           "raleigh"
          ],
          [
           "2130 CLARK AVE",
           "raleigh"
          ],
          [
           "2220 BANDMATE WAY",
           "raleigh"
          ],
          [
           "4509 CREEDMOOR RD",
           "raleigh"
          ],
          [
           "5950 POYNER VILLAGE PKWY",
           "raleigh"
          ],
          [
           "328 DUPONT CIR",
           "raleigh"
          ],
          [
           "500 E DAVIE ST",
           "raleigh"
          ],
          [
           "10341 MONCREIFFE RD",
           "raleigh"
          ],
          [
           "8001 BRIER CREEK PKY",
           "raleigh"
          ],
          [
           "3415 WAKE FOREST RD",
           "raleigh"
          ],
          [
           "1910 FALLS VALLEY DR",
           "raleigh"
          ],
          [
           "3200 BEECHLEAF CT",
           "raleigh"
          ],
          [
           "927 W MORGAN ST",
           "raleigh"
          ],
          [
           "5900 DURALEIGH RD",
           "raleigh"
          ],
          [
           "706 W PEACE ST",
           "raleigh"
          ],
          [
           "3415 HILLSBOROUGH ST",
           "raleigh"
          ],
          [
           "2109 AVENT FERRY RD",
           "raleigh"
          ],
          [
           "6552 GLENWOOD AVE",
           "raleigh"
          ],
          [
           "3805 S WILMINGTON ST",
           "raleigh"
          ],
          [
           "8107 CREEDMOOR RD",
           "raleigh"
          ],
          [
           "540 ST ALBANS DR",
           "raleigh"
          ],
          [
           "7983 FAYETTEVILLE RD",
           "raleigh"
          ],
          [
           "2221 IRONWORKS DR",
           "raleigh"
          ],
          [
           "6501 MT. HERMAN RD",
           "raleigh"
          ],
          [
           "3721 HILLSBOROUGH ST",
           "raleigh"
          ],
          [
           "4551 NEW BERN AVE, STE 130",
           "raleigh"
          ],
          [
           "6401 FALLS OF NEUSE RD",
           "raleigh"
          ],
          [
           "4621 CAPITAL BLVD",
           "raleigh"
          ],
          [
           "8005 BRIER CREEK PKY",
           "raleigh"
          ],
          [
           "4040 CAPITAL BLVD",
           "raleigh"
          ],
          [
           "4411 NEW BERN AVE",
           "raleigh"
          ],
          [
           "2109 AVENT FERRY RD",
           "raleigh"
          ],
          [
           "4413 CAPITAL BLVD",
           "raleigh"
          ],
          [
           "4112 PLEASANT VALLEY RD",
           "raleigh"
          ],
          [
           "2004 NEW BERN AVE",
           "raleigh"
          ],
          [
           "3601 NEW BERN AVE",
           "raleigh"
          ],
          [
           "101 PARK AT NORTH HILLS ST",
           "raleigh"
          ],
          [
           "3000 NEW BERN AVE",
           "raleigh"
          ],
          [
           "3424 CAPITAL BLVD",
           "raleigh"
          ],
          [
           "3601 CAPITAL BLVD, STE 107",
           "raleigh"
          ],
          [
           "13200 FALLS OF NEUSE RD",
           "raleigh"
          ],
          [
           "101 KUMAR CT",
           "raleigh"
          ],
          [
           "4120 MAIN AT NORTH HILLS  ST",
           "raleigh"
          ],
          [
           "1229 WAKE TOWNE DR",
           "raleigh"
          ],
          [
           "10760 WAKEFIELD COMMONS DR",
           "raleigh"
          ],
          [
           "2908 HILLSBOROUGH ST",
           "raleigh"
          ],
          [
           "509 W WHITAKER MILL RD",
           "raleigh"
          ],
          [
           "3625 HILLSBOROUGH  ST",
           "raleigh"
          ],
          [
           "4003 WAKE FOREST RD",
           "raleigh"
          ],
          [
           "3110  NEW BERN AVE",
           "raleigh"
          ],
          [
           "8450-106 HONEYCUTT RD",
           "raleigh"
          ],
          [
           "1200 WAKE TOWNE DR",
           "raleigh"
          ],
          [
           "4506 CAPITAL BLVD",
           "raleigh"
          ],
          [
           "7870 ALEXANDER PROMENADE PL",
           "raleigh"
          ],
          [
           "502 W LENOIR ST",
           "raleigh"
          ],
          [
           "2110 BLUE RIDGE RD",
           "raleigh"
          ],
          [
           "13100 FALLS OF NEUSE RD",
           "raleigh"
          ],
          [
           "4105 WAKE FOREST RD",
           "raleigh"
          ],
          [
           "4750 CAPITAL BLVD",
           "raleigh"
          ],
          [
           "8209 CREEDMOOR RD",
           "raleigh"
          ],
          [
           "7460 LOUISBURG RD",
           "raleigh"
          ],
          [
           "7200 SIX FORKS RD",
           "raleigh"
          ],
          [
           "308 S BOYLAN  ST",
           "raleigh"
          ],
          [
           "8901 BRIER CREEK PKWY",
           "raleigh"
          ],
          [
           "3400 WAKE FOREST RD",
           "raleigh"
          ],
          [
           "8107 CREEDMOOR RD",
           "raleigh"
          ],
          [
           "7949 FAYETTEVILLE  RD",
           "raleigh"
          ],
          [
           "7300 CREEDMOOR RD",
           "raleigh"
          ],
          [
           "3955 NEW BERN AVE",
           "raleigh"
          ],
          [
           "909 SPRING FOREST RD",
           "raleigh"
          ],
          [
           "7617 POOLE RD",
           "raleigh"
          ],
          [
           "9424  FALLS OF NEUSE  RD",
           "raleigh"
          ],
          [
           "3587 MAITLAND DR",
           "raleigh"
          ],
          [
           "6260 PLANTATION CENTER DR",
           "raleigh"
          ],
          [
           "7930 SKYLAND RIDGE PKY",
           "raleigh"
          ],
          [
           "200 PARK AT NORTH HILLS ST",
           "raleigh"
          ],
          [
           "4500 OLD WAKE FOREST RD",
           "raleigh"
          ],
          [
           "9401 GLENWOOD AVE",
           "raleigh"
          ],
          [
           "1500 SAWMILL RD",
           "raleigh"
          ],
          [
           "3113 CHARLES B ROOT WYND",
           "raleigh"
          ],
          [
           "5228 HOLLYRIDGE DR",
           "raleigh"
          ],
          [
           "13 E MARTIN ST",
           "raleigh"
          ],
          [
           "4325 GLENWOOD AVE",
           "raleigh"
          ],
          [
           "9601 STRICKLAND RD",
           "raleigh"
          ],
          [
           "3808 WESTERN BLVD",
           "raleigh"
          ],
          [
           "3821 WESTERN BLVD",
           "raleigh"
          ],
          [
           "2215 NEW HOPE CHURCH RD",
           "raleigh"
          ],
          [
           "7854 ALEXANDER PROMENADE PL",
           "raleigh"
          ],
          [
           "10251 LITTLE BRIER CREEK LN",
           "raleigh"
          ],
          [
           "7494 CREEDMOOR RD",
           "raleigh"
          ],
          [
           "4209 LASSITER MILL RD",
           "raleigh"
          ],
          [
           "6602-3 GLENWOOD AVE",
           "raleigh"
          ],
          [
           "5621 LOUISBURG RD",
           "raleigh"
          ],
          [
           "1100-113 RALEIGH BLVD",
           "raleigh"
          ],
          [
           "4141 PARKLAKE AVE",
           "raleigh"
          ],
          [
           "500 DANIELS ST",
           "raleigh"
          ],
          [
           "801  BUCK JONES RD",
           "raleigh"
          ],
          [
           "111 HAMPTON WOODS LN",
           "raleigh"
          ],
          [
           "1604-101 N MARKET DR",
           "raleigh"
          ],
          [
           "2231 AVENT FERRY RD",
           "raleigh"
          ],
          [
           "1141 FALLS RIVER AVE",
           "raleigh"
          ],
          [
           "8710-104 GLENWOOD AVE",
           "raleigh"
          ],
          [
           "8812 HARVEST OAKS  DR",
           "raleigh"
          ],
          [
           "2217 AVENT FERRY RD",
           "raleigh"
          ],
          [
           "2431-161 SPRING FOREST RD",
           "raleigh"
          ],
          [
           "135 S WILMINGTON ST",
           "raleigh"
          ],
          [
           "2841 JONES FRANKLIN RD",
           "raleigh"
          ],
          [
           "13200 NEW FALLS OF NUESE RD",
           "raleigh"
          ],
          [
           "3131 CAPITAL BLVD",
           "raleigh"
          ],
          [
           "10410 MONCREIFFE  RD",
           "raleigh"
          ],
          [
           "1145  FALLS RIVER AVE",
           "raleigh"
          ],
          [
           "16 W MARTIN  ST",
           "raleigh"
          ],
          [
           "8201-101  BRIER CREEK  PKY",
           "raleigh"
          ],
          [
           "10040 SELLONA ST",
           "raleigh"
          ],
          [
           "2401 WAKE FOREST  RD",
           "raleigh"
          ],
          [
           "225 HILLSBOROUGH ST",
           "raleigh"
          ],
          [
           "7713 LEAD MINE RD",
           "raleigh"
          ],
          [
           "1052 WILLIAM MOORE  DR",
           "raleigh"
          ],
          [
           "3177 CAPITAL  BLVD",
           "raleigh"
          ],
          [
           "4821 GROVE BARTON  RD",
           "raleigh"
          ],
          [
           "9441 STRICKLAND RD",
           "raleigh"
          ],
          [
           "13200 NEW FALLS OF NEUSE RD",
           "raleigh"
          ],
          [
           "2000  CAMERON ST",
           "raleigh"
          ],
          [
           "7840 ALEXANDER PROMENADE PL",
           "raleigh"
          ],
          [
           "4421 SIX FORKS RD",
           "raleigh"
          ],
          [
           "6123 CAPITAL BLVD",
           "raleigh"
          ],
          [
           "9600 FALLS OF NEUSE  RD",
           "raleigh"
          ],
          [
           "222 S BLOUNT ST",
           "raleigh"
          ],
          [
           "6176 FALLS OF NEUSE RD",
           "raleigh"
          ],
          [
           "3945 NEW BERN  AVE",
           "raleigh"
          ],
          [
           "827 W MORGAN ST",
           "raleigh"
          ],
          [
           "5607 CREEDMOOR RD",
           "raleigh"
          ],
          [
           "7900 FAYETTEVILLE  RD",
           "raleigh"
          ],
          [
           "1100 N RALEIGH BLVD",
           "raleigh"
          ],
          [
           "1701 PINEWINDS DR",
           "raleigh"
          ],
          [
           "8021 FALLS OF NEUSE RD",
           "raleigh"
          ],
          [
           "100 E DAVIE ST",
           "raleigh"
          ],
          [
           "2458 WYCLIFF RD",
           "raleigh"
          ],
          [
           "240 JETER DR",
           "raleigh"
          ],
          [
           "10810 SANDY OAK LN",
           "raleigh"
          ],
          [
           "938 N BLOUNT ST",
           "raleigh"
          ],
          [
           "7440 SIX FORKS RD",
           "raleigh"
          ],
          [
           "9919 FAYETTEVILLE  ST",
           "raleigh"
          ],
          [
           "3300 DURALEIGH RD",
           "raleigh"
          ],
          [
           "7501 LEADMINE  RD",
           "raleigh"
          ],
          [
           "4121 NEW BERN AVE",
           "raleigh"
          ],
          [
           "2233-103 AVENT FERRY RD",
           "raleigh"
          ],
          [
           "5275 SIX FORKS RD",
           "raleigh"
          ],
          [
           "5100 CAPITAL BLVD",
           "raleigh"
          ],
          [
           "1305 KILDAIRE FARM RD",
           "raleigh"
          ],
          [
           "2320 DIXIE FOREST ROAD",
           "raleigh"
          ],
          [
           "3252 AUBURN KNIGHTDALE ROAD",
           "raleigh"
          ],
          [
           "320 S WILMINGTON  ST",
           "raleigh"
          ],
          [
           "2520 SULLIVAN  DR",
           "raleigh"
          ],
          [
           "6081  CAPITAL  BLVD",
           "raleigh"
          ],
          [
           "1509  MAIN CAMPUS DR",
           "raleigh"
          ],
          [
           "160 PARK AT NORTH HILLS  ST",
           "raleigh"
          ],
          [
           "8715 FALLS OF NEUSE ROAD",
           "raleigh"
          ],
          [
           "1028-220 OBERLIN RD",
           "raleigh"
          ],
          [
           "4111 ED DR",
           "raleigh"
          ],
          [
           "3909 HILLSBOROUGH ST",
           "raleigh"
          ],
          [
           "6010-B FALLS OF NEUSE RD",
           "raleigh"
          ],
          [
           "6701 FALLS OF NEUSE RD",
           "raleigh"
          ],
          [
           "522 ST. MARY'S ST",
           "raleigh"
          ],
          [
           "1527 TRYON RD",
           "raleigh"
          ],
          [
           "7841-130 ALEXANDER PROMENADE PL",
           "raleigh"
          ],
          [
           "4242 SIX FORKS RD",
           "raleigh"
          ],
          [
           "5300 HOMEWOOD BANKS DR",
           "raleigh"
          ],
          [
           "7461 SIX FORKS RD",
           "raleigh"
          ],
          [
           "11201 GALLERIA AVE",
           "raleigh"
          ],
          [
           "1400 EDWARDS MILL RD",
           "raleigh"
          ],
          [
           "1400 EDWARDS MILL RD",
           "raleigh"
          ],
          [
           "618 N PERSON ST",
           "raleigh"
          ],
          [
           "4600 CRABTREE VALLEY AVE",
           "raleigh"
          ],
          [
           "4020 CAPITAL BLVD",
           "raleigh"
          ],
          [
           "703 W PEACE ST",
           "raleigh"
          ],
          [
           "8460-116 HONEYCUTT RD",
           "raleigh"
          ],
          [
           "9402-103 FALLS OF NEUSE RD",
           "raleigh"
          ],
          [
           "2400 HILLSBOROUGH ST",
           "raleigh"
          ],
          [
           "6679-101 FALLS OF NEUSE RD",
           "raleigh"
          ],
          [
           "616 S SALISBURY ST",
           "raleigh"
          ],
          [
           "1900 HILLSBOROUGH ST",
           "raleigh"
          ],
          [
           "2253 NEW HOPE CHURCH RD",
           "raleigh"
          ],
          [
           "6360 PLANTATION CENTER  DR",
           "raleigh"
          ],
          [
           "3310 CAPITAL  BLVD",
           "raleigh"
          ],
          [
           "300 W HARGETT ST",
           "raleigh"
          ],
          [
           "3812 WESTERN BLVD",
           "raleigh"
          ],
          [
           "9660 FALLS OF NEUSE RD",
           "raleigh"
          ],
          [
           "8450 LOUISBURG RD",
           "raleigh"
          ],
          [
           "3800 LAKE BOONE TRL",
           "raleigh"
          ],
          [
           "101-120 PARK AT NORTH HILLS ST",
           "raleigh"
          ],
          [
           "214 E. MARTIN STREET",
           "raleigh"
          ],
          [
           "8211-107 BRIER CREEK PKY",
           "raleigh"
          ],
          [
           "6679 FALLS OF NEUSE RD",
           "raleigh"
          ],
          [
           "8511 CANTILEVER WAY",
           "raleigh"
          ],
          [
           "10450 LITTLE BRIAR CREEK LN",
           "raleigh"
          ],
          [
           "1200 HURRICANE ALLEY WAY",
           "raleigh"
          ],
          [
           "2340 BALE ST",
           "raleigh"
          ],
          [
           "6213 ROCK QUARRY RD",
           "raleigh"
          ],
          [
           "4420 CAPITAL BLVD",
           "raleigh"
          ],
          [
           "5959 TRIANGLE TOWN BLVD",
           "raleigh"
          ],
          [
           "620 N PERSON ST",
           "raleigh"
          ],
          [
           "8401 CAPITAL  BLVD",
           "raleigh"
          ],
          [
           "8201 CREEDMOOR RD",
           "raleigh"
          ],
          [
           "2261 NEW HOPE CHURCH RD",
           "raleigh"
          ],
          [
           "1100 MERCHANTILE DR",
           "raleigh"
          ],
          [
           "2720 LAKE WHEELER RD",
           "raleigh"
          ],
          [
           "4516 FALLS OF NEUSE RD",
           "raleigh"
          ],
          [
           "4840 GROVE BARTON RD",
           "raleigh"
          ],
          [
           "6820 GLENWOOD AVE",
           "raleigh"
          ],
          [
           "2304 GORMAN ST",
           "raleigh"
          ],
          [
           "227 FAYETTEVILLE ST",
           "raleigh"
          ],
          [
           "6421 HILBURN DR",
           "raleigh"
          ],
          [
           "913 SPRING FOREST RD",
           "raleigh"
          ],
          [
           "10251 LITTLE BRIER CREEK LN",
           "raleigh"
          ],
          [
           "3501 CAPITAL BLVD",
           "raleigh"
          ],
          [
           "2310 BALE ST",
           "raleigh"
          ],
          [
           "3620 BASTION LN",
           "raleigh"
          ],
          [
           "5821 POYNER VILLAGE PKWY",
           "raleigh"
          ],
          [
           "2297 WENDELL FALLS PKY",
           "raleigh"
          ],
          [
           "3201-139 EDWARDS MILL RD",
           "raleigh"
          ],
          [
           "4205 CORNERS PKY",
           "raleigh"
          ],
          [
           "601 CORPORATE CENTER DR",
           "raleigh"
          ],
          [
           "3710 WESTERN BLVD",
           "raleigh"
          ],
          [
           "2020 PROGRESS CT",
           "raleigh"
          ],
          [
           "10630 DURANT RD",
           "raleigh"
          ],
          [
           "6209 ROCK QUARRY RD",
           "raleigh"
          ],
          [
           "600 HILLSBOROUGH ST",
           "raleigh"
          ],
          [
           "409 W. JOHNSON ST.",
           "raleigh"
          ],
          [
           "7901 FALLS OF NEUSE RD",
           "raleigh"
          ],
          [
           "6401 TRIANGLE PLANTATION DR",
           "raleigh"
          ],
          [
           "6320 CAPITAL BLVD",
           "raleigh"
          ],
          [
           "2330 BALE ST",
           "raleigh"
          ],
          [
           "6325 FALLS OF NEUSE  RD",
           "raleigh"
          ],
          [
           "1030 FORESTVILLE RD",
           "raleigh"
          ],
          [
           "411 FAYETTEVILLE ST",
           "raleigh"
          ],
          [
           "3512 WADE AVE",
           "raleigh"
          ],
          [
           "1028 OBERLIN RD",
           "raleigh"
          ],
          [
           "6325 FALLS OF NEUSE RD",
           "raleigh"
          ],
          [
           "3518 WADE AVE",
           "raleigh"
          ],
          [
           "7961 SKYLAND RIDGE PKY",
           "raleigh"
          ],
          [
           "3901 CAPITAL  BLVD",
           "raleigh"
          ],
          [
           "1540  DUNN  RD",
           "raleigh"
          ],
          [
           "5442 SIX FORKS RD",
           "raleigh"
          ],
          [
           "6320 BATTLE BRIDGE RD",
           "raleigh"
          ],
          [
           "3621 SPRING FOREST RD",
           "raleigh"
          ],
          [
           "2409 CRABTREE BLVD",
           "raleigh"
          ],
          [
           "501 METHOD RD",
           "raleigh"
          ],
          [
           "319 FAYETTEVILLE ST",
           "raleigh"
          ],
          [
           "8450 HONEYCUTT  RD",
           "raleigh"
          ],
          [
           "5950  POYNER VILLAGE PKY",
           "raleigh"
          ],
          [
           "5800 DURALEIGH RD",
           "raleigh"
          ],
          [
           "5821 POYNER VILLAGE PKWY",
           "raleigh"
          ],
          [
           "222 GLENWOOD AVE",
           "raleigh"
          ],
          [
           "130 E DAVIE ST",
           "raleigh"
          ],
          [
           "2502 HILLSBOROUGH ST",
           "raleigh"
          ],
          [
           "4509  CREEDMOOR RD",
           "raleigh"
          ],
          [
           "3350 CANES WAY",
           "raleigh"
          ],
          [
           "10750 WAKEFIELD COMMONS DR",
           "raleigh"
          ],
          [
           "4233 CORNERS PKY",
           "raleigh"
          ],
          [
           "4035 LAKE BOONE TRL",
           "raleigh"
          ],
          [
           "1313 HILLSBOROUGH ST",
           "raleigh"
          ],
          [
           "4112 PLEASANT VALLEY RD",
           "raleigh"
          ],
          [
           "2316 HILLSBOROUGH ST",
           "raleigh"
          ],
          [
           "3510 WADE AVE",
           "raleigh"
          ],
          [
           "1013 NEW BERN AVE",
           "raleigh"
          ],
          [
           "15 E PEACE ST",
           "raleigh"
          ],
          [
           "1041 WAKE TOWNE DR",
           "raleigh"
          ],
          [
           "2851 JONES FRANKLIN RD",
           "raleigh"
          ],
          [
           "122 SEABOARD AVE",
           "raleigh"
          ],
          [
           "2904 WAKE FOREST  RD",
           "raleigh"
          ],
          [
           "16 SEABOARD AVE",
           "raleigh"
          ],
          [
           "4325 GLENWOOD AVE",
           "raleigh"
          ],
          [
           "4112 PLEASANT VALLEY RD",
           "raleigh"
          ],
          [
           "7909-109 FALLS OF NEUSE RD",
           "raleigh"
          ],
          [
           "16 W JONES ST",
           "raleigh"
          ],
          [
           "3000 NEW BERN AVE",
           "raleigh"
          ],
          [
           "4617 ATLANTIC AVE",
           "raleigh"
          ],
          [
           "7500 CREEDMOOR RD",
           "raleigh"
          ],
          [
           "6213 FALLS OF NEUSE RD",
           "raleigh"
          ],
          [
           "9101 FAYETTEVILLE RD",
           "raleigh"
          ],
          [
           "10760 WAKEFIELD COMMONS DR",
           "raleigh"
          ],
          [
           "4721 ATLANTIC AVE",
           "raleigh"
          ],
          [
           "601 W PEACE ST",
           "raleigh"
          ],
          [
           "9101 LEESVILLE RD",
           "raleigh"
          ],
          [
           "5959 TRIANGLE TOWN BLV",
           "raleigh"
          ],
          [
           "1217 FARMERS MARKET DR",
           "raleigh"
          ],
          [
           "428 DANIELS ST",
           "raleigh"
          ],
          [
           "8320-142 LITCHFORD RD",
           "raleigh"
          ],
          [
           "200 W PEACE ST",
           "raleigh"
          ],
          [
           "3411 SUMNER BLV",
           "raleigh"
          ],
          [
           "3000 NEW BERN AVE",
           "raleigh"
          ],
          [
           "7498 CREEDMOOR RD",
           "raleigh"
          ],
          [
           "2805 HIGHWOODS BLV",
           "raleigh"
          ],
          [
           "1030-149 N ROGERS LN",
           "raleigh"
          ],
          [
           "7909-121 FALLS OF NEUSE RD",
           "raleigh"
          ],
          [
           "1030-109 N ROGERS LN",
           "raleigh"
          ],
          [
           "7860 ALEXANDER PROMENADE PL",
           "raleigh"
          ],
          [
           "8508 CAPITAL BLVD",
           "raleigh"
          ],
          [
           "1400 EDWARDS MILL RD",
           "raleigh"
          ],
          [
           "1400 EDWARDS MILL RD",
           "raleigh"
          ],
          [
           "4542 CAPITAL BLVD",
           "raleigh"
          ],
          [
           "3026 CAPITAL BLVD",
           "raleigh"
          ],
          [
           "8450 HONEYCUTT RD",
           "raleigh"
          ],
          [
           "6320 PLANTATION CENTER DR",
           "raleigh"
          ],
          [
           "2720 LAKE WHEELER RD",
           "raleigh"
          ],
          [
           "201 E HARGETT ST",
           "raleigh"
          ],
          [
           "4801 HARBOUR TOWNE DR",
           "raleigh"
          ],
          [
           "2808 HILLSBOROUGH ST",
           "raleigh"
          ],
          [
           "1000-109 BROOKSIDE DR",
           "raleigh"
          ],
          [
           "7811 MIDDLE POYNER DR",
           "raleigh"
          ],
          [
           "2950 E MILLBROOK RD",
           "raleigh"
          ],
          [
           "2031 CAMERON ST",
           "raleigh"
          ],
          [
           "5001 FALLS OF NEUSE RD",
           "raleigh"
          ],
          [
           "8401 BRIER CREEK PKY",
           "raleigh"
          ],
          [
           "160 PARK AT NORTH HILLS ST",
           "raleigh"
          ],
          [
           "4005 WAKE FOREST RD",
           "raleigh"
          ],
          [
           "4325 GLENWOOD AVE",
           "raleigh"
          ],
          [
           "8347 CREEDMOOR  RD",
           "raleigh"
          ],
          [
           "1150 EDWARDS MILL RD",
           "raleigh"
          ],
          [
           "6611 GLENWOOD AVE",
           "raleigh"
          ],
          [
           "1401 NEW BERN AVE",
           "raleigh"
          ],
          [
           "3009 CAPITAL BLVD",
           "raleigh"
          ],
          [
           "5433 WADE PARK BLVD",
           "raleigh"
          ],
          [
           "8369 CREEDMOOR  RD",
           "raleigh"
          ],
          [
           "1322 E MILLBROOK RD",
           "raleigh"
          ],
          [
           "4203 WAKE FOREST RD",
           "raleigh"
          ],
          [
           "4122 LAKE BOONE TRL",
           "raleigh"
          ],
          [
           "3951 SUMNER BLVD",
           "raleigh"
          ],
          [
           "8701 SIX FORKS RD",
           "raleigh"
          ],
          [
           "1428  GARNER STATION BLVD",
           "raleigh"
          ],
          [
           "13100 FALLS OF NEUSE RD",
           "raleigh"
          ],
          [
           "3701 HILLSBOROUGH  ST",
           "raleigh"
          ],
          [
           "2920 SHERMAN OAK  PL",
           "raleigh"
          ],
          [
           "10251 LITTLE BRIAR CREEK LN",
           "raleigh"
          ],
          [
           "4200 SIX FORKS RD",
           "raleigh"
          ],
          [
           "3231 AVENT FERRY RD",
           "raleigh"
          ],
          [
           "2526 HILLSBOROUGH ST",
           "raleigh"
          ],
          [
           "1516 NEW BERN AVE",
           "raleigh"
          ],
          [
           "6019-A GLENWOOD AVE",
           "raleigh"
          ],
          [
           "1601-41 CROSS LINK RD",
           "raleigh"
          ],
          [
           "2434 WYCLIFF RD",
           "raleigh"
          ],
          [
           "2000 FAIRVIEW RD",
           "raleigh"
          ],
          [
           "4405 FALLS OF NEUSE RD",
           "raleigh"
          ],
          [
           "2811 BRENTWOOD RD",
           "raleigh"
          ],
          [
           "120 W HARGET ST",
           "raleigh"
          ],
          [
           "423 WOODBURN RD",
           "raleigh"
          ],
          [
           "105 OBERLIN RD",
           "raleigh"
          ],
          [
           "9101-153 LEESVILLE ROAD",
           "raleigh"
          ],
          [
           "11700 NEW LEESVILLE RD",
           "raleigh"
          ],
          [
           "14 E HARGETT ST",
           "raleigh"
          ],
          [
           "8801-107 LEAD MINE RD",
           "raleigh"
          ],
          [
           "5260 NEW BERN AVE",
           "raleigh"
          ],
          [
           "14460 NEW FALLS OF NEUSE RD",
           "raleigh"
          ],
          [
           "2402-A HILLSBOROUGH ST",
           "raleigh"
          ],
          [
           "2838 WAKE FOREST RD",
           "raleigh"
          ],
          [
           "8211 BRIER CREEK PKY",
           "raleigh"
          ],
          [
           "8109-101 FAYETTEVILLE RD",
           "raleigh"
          ],
          [
           "1705 E MILLBROOK RD",
           "raleigh"
          ],
          [
           "6102 FALLS OF NEUSE RD",
           "raleigh"
          ],
          [
           "13220 STRICKLAND  RD",
           "raleigh"
          ],
          [
           "8511 BRIERCREEK PKY",
           "raleigh"
          ],
          [
           "106 S WILMINGTON ST",
           "raleigh"
          ],
          [
           "8021 ARCO CORPORATE  DR",
           "raleigh"
          ],
          [
           "4300 SIX FORKS RD",
           "raleigh"
          ],
          [
           "6300-114 CREEDMOOR RD",
           "raleigh"
          ],
          [
           "10940 RAVEN RIDGE  RD",
           "raleigh"
          ],
          [
           "8410-140 LOUISBURG RD",
           "raleigh"
          ],
          [
           "328 W DAVIE ST",
           "raleigh"
          ],
          [
           "137 S WILMINGTON  ST",
           "raleigh"
          ],
          [
           "1811 NEW HOPE CHURCH RD",
           "raleigh"
          ],
          [
           "10410-103 MONCREIFFE  RD",
           "raleigh"
          ],
          [
           "3101-101 EDWARDS MILL RD",
           "raleigh"
          ],
          [
           "3905 WESTERN  BLVD",
           "raleigh"
          ],
          [
           "10940 RAVEN RIDGE  RD",
           "raleigh"
          ],
          [
           "7471 SIX FORKS RD",
           "raleigh"
          ],
          [
           "8411 BRIER CREEK PKY",
           "raleigh"
          ],
          [
           "13200 NEW FALLS OF NEUSE RD",
           "raleigh"
          ],
          [
           "3699 NEW BERN AVE",
           "raleigh"
          ],
          [
           "5621 LOUISBURG RD",
           "raleigh"
          ],
          [
           "1000  MAIN CAMPUS  DR",
           "raleigh"
          ],
          [
           "9660 FALLS OF NEUSE  RD",
           "raleigh"
          ],
          [
           "2400 E MILLBROOK RD",
           "raleigh"
          ],
          [
           "3801 HILLSBOROUGH ST",
           "raleigh"
          ],
          [
           "6325 FALLS OF NEUSE  RD",
           "raleigh"
          ],
          [
           "7705 LEAD MINE RD",
           "raleigh"
          ],
          [
           "1310 CORPORATION PKY",
           "raleigh"
          ],
          [
           "600 GLENWOOD AVE",
           "raleigh"
          ],
          [
           "9915 FAYETTEVILLE RD",
           "raleigh"
          ],
          [
           "1700 TRAWICK  RD",
           "raleigh"
          ],
          [
           "500 FAYETTEVILLE ST",
           "raleigh"
          ],
          [
           "1910 ENTREPRENEUR DR",
           "raleigh"
          ],
          [
           "8320 LITCHFORD RD",
           "raleigh"
          ],
          [
           "701 N PERSON ST",
           "raleigh"
          ],
          [
           "211 E FRANKLIN ST",
           "raleigh"
          ],
          [
           "6006 FALLS OF NEUSE  RD",
           "raleigh"
          ],
          [
           "311 GLENWOOD AVE",
           "raleigh"
          ],
          [
           "10 HORNE ST",
           "raleigh"
          ],
          [
           "4660 MILLBROOK GREEN DR",
           "raleigh"
          ],
          [
           "3601 CAPITAL BLVD, STE 101",
           "raleigh"
          ],
          [
           "327 S WILMINGTON ST",
           "raleigh"
          ],
          [
           "4040 ED DR",
           "raleigh"
          ],
          [
           "7440-143 LOUISBURG RD",
           "raleigh"
          ],
          [
           "3639 NEW BERN AVE",
           "raleigh"
          ],
          [
           "126 S SALISBURY ST",
           "raleigh"
          ],
          [
           "721 N. RALEIGH BLVD.",
           "raleigh"
          ],
          [
           "141 PARK AT NORTH HILLS STREET",
           "raleigh"
          ],
          [
           "4700 CREEDMOOR RD",
           "raleigh"
          ],
          [
           "105 W HARGETT ST",
           "raleigh"
          ],
          [
           "10000 FALLS OF NEUSE RD",
           "raleigh"
          ],
          [
           "3424 POOLE RD",
           "raleigh"
          ],
          [
           "518-100 PERSHING RD",
           "raleigh"
          ],
          [
           "1270 BUCK JONES RD",
           "raleigh"
          ],
          [
           "6498 RAY RD",
           "raleigh"
          ],
          [
           "7321 SIX FORKS RD",
           "raleigh"
          ],
          [
           "14460 FALLS OF NEUSE RD",
           "raleigh"
          ],
          [
           "3309 WAKE FOREST RD",
           "raleigh"
          ],
          [
           "3901-101 CAPITAL BLVD",
           "raleigh"
          ],
          [
           "5433-280 WADE PARK BLVD",
           "raleigh"
          ],
          [
           "6008 FALLS OF NEUSE RD",
           "raleigh"
          ],
          [
           "8323 CREEDMOOR RD",
           "raleigh"
          ],
          [
           "10020 SELLONA ST",
           "raleigh"
          ],
          [
           "201 W MARTIN ST",
           "raleigh"
          ],
          [
           "1060 WILLIAM MOORE DR",
           "raleigh"
          ],
          [
           "4325-2119 GLENWOOD AVE",
           "raleigh"
          ],
          [
           "6325-73 FALLS OF NEUSE RD",
           "raleigh"
          ],
          [
           "1400 EDWARDS MILL RD",
           "raleigh"
          ],
          [
           "315 BLAKE ST",
           "raleigh"
          ],
          [
           "3400 OLYMPIA DR",
           "raleigh"
          ],
          [
           "1028 OBERLIN RD",
           "raleigh"
          ],
          [
           "1253 BUCK JONES RD",
           "raleigh"
          ],
          [
           "10050 GLENWOOD AVE",
           "raleigh"
          ],
          [
           "218 S BLOUNT ST",
           "raleigh"
          ],
          [
           "4030 CARDINAL AT NORTH HILLS ST",
           "raleigh"
          ],
          [
           "4325-2100 GLENWOOD AVE",
           "raleigh"
          ],
          [
           "5505-104 CAPITAL BLVD",
           "raleigh"
          ],
          [
           "6115 CORPORATE RIDGE RD",
           "raleigh"
          ],
          [
           "7900 BRIER CREEK PKY",
           "raleigh"
          ],
          [
           "421 CHAPANOKE RD",
           "raleigh"
          ],
          [
           "10750 WAKEFIELD COMMONS DR",
           "raleigh"
          ],
          [
           "1207 HILLSBOROUGH ST",
           "raleigh"
          ],
          [
           "4325 GLENWOOD AVE",
           "raleigh"
          ],
          [
           "2101  WESTINGHOUSE BLVD.",
           "raleigh"
          ],
          [
           "2116-D NEW BERN AVE",
           "raleigh"
          ],
          [
           "9660-133 FALLS OF NEUSE RD",
           "raleigh"
          ],
          [
           "6613 FALLS OF NEUSE RD",
           "raleigh"
          ],
          [
           "8529 SIX FORKS RD",
           "raleigh"
          ],
          [
           "200-101 PARK AT NORTH HILLS ST",
           "raleigh"
          ],
          [
           "2235 AVENT FERRY RD",
           "raleigh"
          ],
          [
           "100  E TRYON  RD",
           "raleigh"
          ],
          [
           "411 W HARGETT ST",
           "raleigh"
          ],
          [
           "417 W HARGETT ST",
           "raleigh"
          ],
          [
           "4004 CAPITAL BLVD",
           "raleigh"
          ],
          [
           "2320 BALE ST",
           "raleigh"
          ],
          [
           "403 DANIELS ST",
           "raleigh"
          ],
          [
           "2722 SPRING FOREST RD",
           "raleigh"
          ],
          [
           "201 S BOYLAN AVE",
           "raleigh"
          ],
          [
           "4242 SIX FORKS RD",
           "raleigh"
          ],
          [
           "4121 MAIN AT NORTH HILLS ST",
           "raleigh"
          ],
          [
           "12333 STRICKLAND RD",
           "raleigh"
          ],
          [
           "2610 CATES AVE",
           "raleigh"
          ],
          [
           "404 W HARGETT ST",
           "raleigh"
          ],
          [
           "4025 LAKE BOONE TRL",
           "raleigh"
          ],
          [
           "4203 FAYETTEVILLE RD",
           "raleigh"
          ],
          [
           "3691 NEW BERN AVE",
           "raleigh"
          ],
          [
           "4421 SIX FORKS RD",
           "raleigh"
          ],
          [
           "4000 ATLANTIC AVE",
           "raleigh"
          ],
          [
           "1501 SUNRISE AVE",
           "raleigh"
          ],
          [
           "2450 ALUMNI DR",
           "raleigh"
          ],
          [
           "222 GLENWOOD AVE",
           "raleigh"
          ],
          [
           "7810 TARGET  CIR",
           "raleigh"
          ],
          [
           "7740 FAYETTEVILLE RD",
           "raleigh"
          ],
          [
           "3501 W MILLBROOK RD",
           "raleigh"
          ],
          [
           "8521 BRIER CREEK PKY",
           "raleigh"
          ],
          [
           "3901 CAPITAL  BLVD",
           "raleigh"
          ],
          [
           "6602 GLENWOOD AVE",
           "raleigh"
          ],
          [
           "3817 BERYL RD",
           "raleigh"
          ],
          [
           "6109 ROCK QUARRY RD",
           "raleigh"
          ],
          [
           "1813 GLENWOOD AVE",
           "raleigh"
          ],
          [
           "8711 SIX FORKS RD",
           "raleigh"
          ],
          [
           "8531 BRIER CREEK PKY",
           "raleigh"
          ],
          [
           "4120 MAIN AT NORTH HILLS",
           "raleigh"
          ],
          [
           "603 W MORGAN ST",
           "raleigh"
          ],
          [
           "8300 LITCHFORD RD",
           "raleigh"
          ],
          [
           "5424 SIX FORKS RD",
           "raleigh"
          ],
          [
           "1916 BERNARD ST",
           "raleigh"
          ],
          [
           "4035 LAKE BOONE TRL",
           "raleigh"
          ],
          [
           "651 E SIX FORKS RD",
           "raleigh"
          ],
          [
           "4121 NEW BERN AVE",
           "raleigh"
          ],
          [
           "3333 S WILMINGTON ST",
           "raleigh"
          ],
          [
           "5 E EDENTON ST",
           "raleigh"
          ],
          [
           "3201 NORTHSIDE DRIVE",
           "raleigh"
          ],
          [
           "3800 NEW BERN  AVE",
           "raleigh"
          ],
          [
           "5321 TIN ROOF WAY",
           "raleigh"
          ],
          [
           "4203 FAYETTEVILLE RD, STE 110",
           "raleigh"
          ],
          [
           "10630 DURANT RD",
           "raleigh"
          ],
          [
           "320 ST ALBANS DR",
           "raleigh"
          ],
          [
           "10901 FOREST PINES DR",
           "raleigh"
          ],
          [
           "6825 CHAPEL HILL RD",
           "raleigh"
          ],
          [
           "3931 MACAW ST",
           "raleigh"
          ],
          [
           "1001 WAKE TOWNE DR",
           "raleigh"
          ],
          [
           "3607 FALLS RIVER AVE",
           "raleigh"
          ],
          [
           "4209 WAKE FOREST RD",
           "raleigh"
          ],
          [
           "510 GLENWOOD AVE",
           "raleigh"
          ],
          [
           "3710 EXCHANGE GLENWOOD PL",
           "raleigh"
          ],
          [
           "2010 CLARK AVENUE",
           "raleigh"
          ],
          [
           "1636 GOLD STAR DR",
           "raleigh"
          ],
          [
           "2414 WYCLIFF RD",
           "raleigh"
          ],
          [
           "222 GLENWOOD AVE",
           "raleigh"
          ],
          [
           "402 OBERLIN RD",
           "raleigh"
          ],
          [
           "2920 FORESTVILLE RD",
           "raleigh"
          ],
          [
           "6196 FALLS OF NEUSE RD",
           "raleigh"
          ],
          [
           "120 E MARTIN ST",
           "raleigh"
          ],
          [
           "2237 AVENT FERRY RD",
           "raleigh"
          ],
          [
           "3931 MACAW ST",
           "raleigh"
          ],
          [
           "8111 CREEDMOOR RD",
           "raleigh"
          ],
          [
           "2201 IRON WORKS DR",
           "raleigh"
          ],
          [
           "8201 BRIER CREEK  PKY",
           "raleigh"
          ],
          [
           "223 S WEST ST",
           "raleigh"
          ],
          [
           "2221 IRON WORKS DR",
           "raleigh"
          ],
          [
           "3901 CAPITAL BLVD, STE 163",
           "raleigh"
          ],
          [
           "3810 LAKE BOONE TRL",
           "raleigh"
          ],
          [
           "708 SEABOARD STATION DR",
           "raleigh"
          ],
          [
           "225 N BLOODWORTH ST",
           "raleigh"
          ],
          [
           "10005 SIX FORKS RD",
           "raleigh"
          ],
          [
           "5409 CAPITAL BLVD",
           "raleigh"
          ],
          [
           "6005 GLENWOOD AVE",
           "raleigh"
          ],
          [
           "421 N HARRINGTON  ST",
           "raleigh"
          ],
          [
           "4412 FALLS OF NEUSE RD",
           "raleigh"
          ],
          [
           "6091  CAPITAL  BLVD",
           "raleigh"
          ],
          [
           "6286 GLENWOOD  AVE",
           "raleigh"
          ],
          [
           "2414 WYCLIFF RD",
           "raleigh"
          ],
          [
           "21 GLENWOOD AVE",
           "raleigh"
          ],
          [
           "500 S SALISBURY ST",
           "raleigh"
          ],
          [
           "4420 LAKE BOONE TRL",
           "raleigh"
          ],
          [
           "707A SEAMART DR",
           "raleigh"
          ],
          [
           "3416 POOLE RD",
           "raleigh"
          ],
          [
           "2839 JONES FRANKLIN RD",
           "raleigh"
          ],
          [
           "6612 GLENWOOD AVE",
           "raleigh"
          ],
          [
           "5501 COMMERCIAL AVE",
           "raleigh"
          ],
          [
           "7850-100 ALEXANDER PROMENADE PL",
           "raleigh"
          ],
          [
           "3224 AUBURN-KNIGHTDALE RD RD",
           "raleigh"
          ],
          [
           "8105 FALLS OF NEUSE RD",
           "raleigh"
          ],
          [
           "13250 STRICKLAND RD",
           "raleigh"
          ],
          [
           "2513 FAIRVIEW RD",
           "raleigh"
          ],
          [
           "3930 WESTERN BLV",
           "raleigh"
          ],
          [
           "8111 CREEDMOOR RD",
           "raleigh"
          ],
          [
           "2748 CAPITAL BLVD",
           "raleigh"
          ],
          [
           "301 GLENWOOD AVE",
           "raleigh"
          ],
          [
           "300 N SALISBURY ST",
           "raleigh"
          ],
          [
           "8421-101 BRIER CREEK PKY",
           "raleigh"
          ],
          [
           "4644 CAPITAL BLVD",
           "raleigh"
          ],
          [
           "5000 LEAD MINE RD",
           "raleigh"
          ],
          [
           "7850-115 ALEXANDER PROMONADE PL",
           "raleigh"
          ],
          [
           "2537 S SAUNDERS ST",
           "raleigh"
          ],
          [
           "1400 EDWARDS MILL RD",
           "raleigh"
          ],
          [
           "625 E WHITAKER MILL RD",
           "raleigh"
          ],
          [
           "1400 EDWARDS MILL RD",
           "raleigh"
          ],
          [
           "1400 EDWARDS MILL RD",
           "raleigh"
          ],
          [
           "6260 GLENWOOD AVE",
           "raleigh"
          ],
          [
           "3121-103 EDWARDS MILL RD",
           "raleigh"
          ]
         ],
         "hovertemplate": "<b>%{hovertext}</b><br><br>City=%{customdata[1]}<br>Y=%{lat}<br>X=%{lon}<br>Address 1=%{customdata[0]}<extra></extra>",
         "hovertext": [
          "STARS AND STRIKES",
          "MECCA MARKET",
          "STARBUCK'S",
          "SUBWAY #2017",
          "CHIPOTLE MEXICAN GRILL - GARNER",
          "DUNKIN #358642",
          "FIVE STAR RESTAURANT",
          "IRIS COFFEE LAB",
          "CARNITAS LA BARCA",
          "PARTEE SHACK",
          "WENDY'S #6325",
          "WENDY'S #11554",
          "ELEMENT GASTROPUB",
          "CAPE FEAR SEAFOOD COMPANY",
          "FIVE GUYS #1784",
          "KAZU HIBACHI",
          "ISH DELI",
          "BURGER KING #2983",
          "BURGER KING #8513",
          "MIDTOWN PHO",
          "42 LAWRENCE",
          "COSTCO WHOLESALE #1587 FOOD COURT",
          "HIBACHI 88",
          "DUNKIN #358795",
          "MARRIOTT COURTYARD CRABTREE RESTAURANT",
          "ABBOTSWOOD ASSISTED LIVING DINING SERVICES",
          "ADVENTURE LANDING",
          "HOOTERS OF RALEIGH",
          "PNC ARENA DECK (LUNCH COUNTER)",
          "BUFFALOE LANES",
          "VIC'S ITALIAN CAFE",
          "GLENWOOD GRILL",
          "SECOND EMPIRE AT DODD-HINSDALE",
          "REY'S",
          "LOS CUATES MEXICAN RESTAURANT",
          "STROMBOLI'S",
          "EL RODEO RESTAURANT",
          "BONEFISH GRILL",
          "LONGHORN STEAKHOUSE #251",
          "FU KEE EXPRESS",
          "CHINA FU",
          "KFC/TACO BELL #J120093",
          "JUMBO CHINA",
          "SUBWAY #40338",
          "PHO FAR EAST",
          "TRALI IRISH PUB",
          "RALEIGH CONVENTION CENTER",
          "FLEMING'S PRIME STEAKHOUSE & WINE BAR #4402",
          "THE FLYING BISCUIT CAFE",
          "TASU",
          "SUBWAY #12786",
          "WAFFLE HOUSE #1161",
          "HIBACHI 101",
          "THE STARBAR",
          "CHOW",
          "TUSCAN BLU",
          "WAKEFIELD TAVERN",
          "RELISH CRAFT KITCHEN/THE KITCHEN TABLE",
          "SIMPLY CREPES CAFE & CATERING",
          "CHIPOTLE #1659",
          "PORT CITY JAVA PARK SHOPS",
          "PORT CITY JAVA NELSON",
          "DAILY PLANET CAFE",
          "DAIRY QUEEN ORANGE JULIUS",
          "MURPHY DINING HALL",
          "GUASACA AREPA & SALSA GRILL",
          "SUBWAY #55675",
          "JASMIN & OLIVZ",
          "SUBWAY #57757",
          "MCDONALD'S #35756",
          "MCDONALD'S #25393",
          "DENNY'S #8890",
          "CHUY'S #48",
          "CAFE SOO",
          "DRIFTWOOD CANTINA",
          "SONO SUSHI BAR",
          "MONA PITA MEDITERRANEAN GRILL",
          "AJISAI JAPANESE FUSION",
          "MCDONALD'S #5651",
          "DON BETO'S TACOS",
          "HOLLY HILL CHILDREN'S HOSPITAL DINING",
          "LUCETTEGRACE",
          "TUPELO HONEY CAFE",
          "PANERA #1813",
          "ALPACA PERUVIAN CHARCOAL CHICKEN",
          "CAROLINA ALE HOUSE #GMA",
          "3 OLIVES PIZZA & DELI",
          "TAVERN ON THE GREEN",
          "41 HUNDRED",
          "SOPRANO'S GRILL",
          "TAVERNA AGORA",
          "LIFE CAFE POOLSIDE",
          "CAROLINA SUSHI & ROLL",
          "1887 BISTRO",
          "MI RANCHO MEXICAN RESTAURANT",
          "NINA'S RISTORANTE",
          "DOS TAQUITOS",
          "A SLICE OF NY PIZZA",
          "ALOFT REFUEL AND WXYZ LOUNGE",
          "VITA VITE",
          "ARBY'S #6151",
          "RISE BISCUITS & DONUTS",
          "SONIC DRIVE-IN #4349",
          "THAIPHOON BISTRO",
          "VIDRIO",
          "SHEETZ #620",
          "KARDIA",
          "LA SANTA",
          "CORTEZ SEAFOOD AND COCKTAILS",
          "BENNY CAPITALE'S",
          "SHEETZ #634",
          "ALADDIN'S EATERY",
          "BOWLFUL",
          "TASTE OF CHINA",
          "SERGIO'S PIZZA",
          "OAKWOOD PIZZA BOX",
          "WAYBACK BURGERS",
          "ZAXBY'S #66301",
          "HYATT HOUSE BRIER CREEK H BAR",
          "TONBO RAMEN",
          "CAFE CAPISTRANO",
          "TRIANGLE SPRINGS HOSPITAL FOODSERVICE",
          "RALEIGH CRAB HOUSE",
          "LOLA'S BEACH BAR",
          "RALEIGH MEAT MARKET",
          "PANDA EXPRESS #2962",
          "BAD DADDY'S BURGER BAR #235",
          "KIM'S RESTAURANT",
          "JUMBO CHINA",
          "LONDON BRIDGE PUB",
          "JERSEY MIKE'S #3009",
          "UMAMI",
          "SULLIVANS STEAK HOUSE",
          "PANDA HOUSE CHINESE RESTAURANT",
          "3 OLIVES PIZZA & DELI",
          "DUNKIN' #347369",
          "ALIMENTARI",
          "SMOKESTACKS CAFE",
          "ZAXBY'S",
          "NAFKOT ETHIOPIAN RESTAURANT",
          "UNCORKED WINE BAR",
          "THE VENUE RALEIGH",
          "TAQUERIA EL TORO #2",
          "BRONCO TACOS",
          "TACO BELL #37833(090)",
          "A SLICE OF NY PIZZA",
          "THE SPICECUBED GROUP/CHEF MARIO",
          "MARCO'S PIZZA #8486",
          "STARBUCKS",
          "BUSSIN PIZZA",
          "MISO RAMEN BAR",
          "RALEIGH CHEESY",
          "GRAHAM BUILDING KITCHEN",
          "APPLEBEE'S # 1126",
          "THE RALEIGH WINE SHOP",
          "CARAJILLO'S MEXICAN GRILL",
          "GIORGIO PIZZA BAR",
          "JERSEY MIKE'S #3101",
          "JERSEY MIKE'S #3002",
          "JERSEY MIKE'S #3229",
          "MCDONALD'S #15546",
          "THE PICKLED ONION #3",
          "ASIA POT",
          "HUNT BROTHERS PIZZA",
          "STARBUCKS #69298",
          "THE CROW'S NEST",
          "CARAJILLO'S #2",
          "SALT & LIME CABO GRILL",
          "AJJA",
          "BARCELONA WINE BAR",
          "MADRE",
          "COURTHOUSE DELI",
          "SHEEBA RESTAURANT",
          "DUNKIN DONUTS #337301",
          "TAMASHA MODERN INDIAN",
          "PLAYA BOWLS",
          "NY BAGEL CAFE & DELI",
          "WAKE COUNTY DETENTION CENTER FOODSERVICE",
          "ROO'S TACOS",
          "DUNKIN DONUTS #359321",
          "RUTH'S CHRIS NORTH HILLS",
          "FIVE BROS PIZZA",
          "SUBWAY #22217",
          "FIRST WATCH #6047",
          "BERKELEY CAFE",
          "WINGSTOP",
          "FRANKS PIZZA RESTAURANT",
          "BISCUITVILLE",
          "WATKINS GRILL",
          "42ND ST OYSTER BAR",
          "7-ELEVEN #42196H",
          "THE CURRY CLUB",
          "FENG CHA",
          "WILDWOOD GREEN SNACK BAR",
          "BOJANGLES # 31",
          "LEGISLATIVE BLDG CAFETERIA",
          "CUP A JOE",
          "CHILIS BAR AND GRILL",
          "MOE'S SOUTHWEST GRILL",
          "THE CHEESECAKE FACTORY",
          "MARGAUXS",
          "BURGER KING #223",
          "THAI VILLA RESTAURANT",
          "MCDONALD'S",
          "MITCHELLS CATERING",
          "STATE FARMERS MARKET RESTAURANT",
          "BARNES & NOBLE CAFE #2171",
          "JASON'S DELI",
          "CAROLINA ALE HOUSE",
          "CAFFE LUNA",
          "KORNER CAFE FOOD COURT",
          "BUFFALO BROTHERS",
          "CHUCK E CHEESE",
          "PNC 103-105",
          "PNC BUENA PAPA 301",
          "STARBUCKS COFFEE #08373",
          "SALSA FRESH RESTAURANT",
          "MARCO'S PIZZA 8533",
          "CADENCE LIVING NORTH RALEIGH DINING",
          "TASTE",
          "RISE BISCUITS & DONUTS",
          "THE AREPA BAR",
          "PERRY'S STEAKHOUSE",
          "SUBWAY",
          "OLIVE GARDEN",
          "PITA BOWL",
          "THAIPHOON BISTRO",
          "TROPICAL SMOOTHIE CAFE #NC82",
          "URBAN CAFE",
          "WAFFLE HOUSE #725",
          "AREPA CULTURE",
          "HEYDAY BREWING",
          "LIME & LEMON INDIAN GRILL",
          "WENDY'S #10585",
          "WENDY'S #10533",
          "KALE ME CRAZY",
          "NORTHSIDE BISTRO & COCKTAILS",
          "CHICK-FIL-A #03376",
          "SIZZLIN STIR FRY",
          "FIVE GUYS #2",
          "PENN STATION EAST COAST SUBS #260",
          "CAVA #128",
          "TOWNPLACE SUITES FOOD SERVICE",
          "AMERICA'S BEST WINGS",
          "CHICK-FIL-A #01963",
          "TROPICAL SMOOTHIE CAFE",
          "IRON OAKS TAP ROOM",
          "TROPICAL SMOOTHIE CAFE NC14",
          "CLOOS CONEY ISLAND",
          "RUDINO'S PIZZA & GRINDERS",
          "MEREDITH COLLEGE DINING HALL",
          "EL PASEO",
          "CONFERENCE DINING SERVICES FACILITY",
          "SUBWAY #2615",
          "FIREBIRDS ROCKY MOUNTAIN GRILL #2",
          "WANG'S KITCHEN",
          "SHEETZ #371",
          "STARBUCKS # 9465",
          "LA RANCHERITA MEXICAN RESTAURANT",
          "BOJANGLES #36",
          "GOLDEN CHINA EXPRESS",
          "BIG ED'S CITY MARKET RESTAURANT",
          "EL POLLO RICO MARKET",
          "SUBWAY",
          "GREEK FIESTA AT BRIER CREEK",
          "COQUETTE",
          "HARDEE'S #1206",
          "JASMIN MEDITERRANEAN BISTRO",
          "POOLE'S DINER",
          "JERSEY MIKES SUBS",
          "BRUEGGERS BAGELS #3698",
          "BRUEGGERS BAGELS #192",
          "CARIBBEAN CAFE",
          "PEACE CHINA",
          "GREAT CHINA",
          "TASTE OF CHINA",
          "THE BRICKHOUSE",
          "QDOBA MEXICAN GRILL #203",
          "CHUBBY'S TACOS",
          "CRAZY FIRE MONGOLIAN GRILL",
          "JAMAICAN GRILLE",
          "ROADRUNNERS PIZZA",
          "BISCUITVILLE #184",
          "HOLIDAY INN EXPRESS HOTEL & SUITES BREAKFAST",
          "CANTINA 18",
          "EMBASSY SUITES AND FLYING SPOONS",
          "BUFFALO BROTHERS",
          "WING STOP # 527",
          "MCDONALD'S #7811",
          "SUSHI O",
          "CHECKER'S PIZZA & SUBS",
          "VILLAGE GRILL",
          "THE OAKS AT WHITAKER GLEN",
          "WHOLE FOODS #10338 PREPARED FOODS",
          "VINOS FINOS Y PICADAS",
          "JIN JIN CHINA",
          "D.P. DOUGH",
          "SAN MARCOS/TLC",
          "BEASLEY'S/FOX",
          "TENKO JAPAN",
          "MANDOLIN",
          "JACK'S SEAFOOD",
          "SASSOOL",
          "HYATT PLACE",
          "HIBACHI CHINA BUFFET",
          "PANERA BREAD #1656",
          "SHEETZ #480",
          "HIBACHI 88",
          "CRISTO'S NY STYLE PIZZA, LLC",
          "CHECKERS PIZZA",
          "AGGIE'S GRILL STATION",
          "BEST WESTERN PLUS BREAKFAST",
          "BAD DADDY'S BURGER BAR",
          "UNITED SKATES CAFE",
          "SAINTS AND SCHOLARS IRISH PUB",
          "KAI SUSHI & SAKE BAR",
          "MCDONALDS #15717",
          "PLATES",
          "JAIPUR INDIAN CUISINE",
          "SUBWAY #14347",
          "SUBWAY #35970",
          "BOJANGLES #5",
          "BITTERSWEET",
          "HAKO SUSHI",
          "MCDONALD'S #27549",
          "MCDONALD'S #34347",
          "WING STOP #816",
          "STATE OF BEER",
          "HIBACHI SUSHI",
          "RESIDENCE INN/MARRIOTT COURTYARD FOOD SERVICE",
          "BIG ED'S NORTH",
          "JUICEKEYS",
          "RISE CAMERON VILLAGE",
          "MOE'S #100810",
          "JUBALA COFFEE",
          "RALEIGH RAW",
          "WING STOP",
          "GALAXY FUN PARK",
          "BURGER KING #1094",
          "AMORINO GELATO",
          "THE MAC HOUSE",
          "CHOPT",
          "TOBACCO ROAD",
          "MCDONALDS #13159",
          "MCDONALDS #30839",
          "SIR WALTER COFFEE",
          "ST. ROCH",
          "SUBWAY #5168",
          "MARISCOS NAYARIT",
          "PANERA BREAD #601879",
          "TACO BELL #2836",
          "PHO SURE",
          "PAPAS PIZZA AND SUBS",
          "CREEDMOOR CAFE",
          "BURGER FI",
          "POPEYES #12729",
          "COLD OFF THE PRESS",
          "BARTACO NORTH HILLS",
          "VITA VITE MIDTOWN",
          "HEIRLOOM",
          "FRESKO GREEK KITCHEN",
          "DOMINO'S #4464",
          "WALTONWOOD LAKE BOONE",
          "FIREHOUSE SUBS #785",
          "13 TACOS & TAPS",
          "CHE EMPANADAS @ T CO",
          "PUBLIX 1551 DELI",
          "BENCHWARMERS BAGELS @ T CO",
          "JERRY'S GRILL",
          "MELLOW MUSHROOM",
          "LAYERED CROISSANTERIE",
          "CAPE FEAR SEAFOOD CO",
          "CHIDO TACO",
          "BISCUITVILLE #194",
          "UNION SPECIAL",
          "HARRIS TEETER #21 STARBUCKS",
          "JUMBO CHINA",
          "HARRIS TEETER #136 STARBUCKS",
          "LAS MARIAS TACOS Y PUPUSAS RESTAURANT",
          "PIZZA HUT",
          "MCDONALD'S #5105",
          "TROPICAL SMOOTHIE",
          "FLYING BISCUIT",
          "PRIMO HOAGIES",
          "PIZZA PIT",
          "LUNCHBOX DELI",
          "BOMBAY CURRY",
          "THE CAMBRIDGE VILLAGE AT BRIER CREEK",
          "SCOOTERS GRILL AND BAR",
          "STARBUCK'S #65867",
          "BOWLBA CAFE",
          "ELEMENTS CAFE @ JORDAN HALL (NCSU)",
          "CHICK-FIL-A NORTH HILLS",
          "LONGLEAF SWINE BBQ",
          "ISO ISO RAMEN & BAR",
          "EL SALSA'S MEXICAN GRILL",
          "BRIG'S GREAT BEGINNINGS",
          "GOODNIGHTS COMEDY CLUB",
          "NCMA CAFE (WEST BUILDING)",
          "EASTCUT SANDWICH BAR",
          "BIGGBY COFFEE #870",
          "GINO'S PIZZA",
          "ROMA PIZZERIA",
          "NANCY'S PIZZERIA",
          "GUMBY'S PIZZA",
          "JUSTICE CENTER CAFE",
          "BANDWIDTH CAFE",
          "YEMENI CUISINE",
          "PITA BOWL BLUE RIDGE",
          "DUNKIN DONUTS #306810",
          "DUNKIN DONUTS AND BASKIN ROBBINS #334786",
          "THE DANKERY",
          "PIADA ITALIAN STREET FOOD",
          "COMFORT SUITES RALEIGH WALNUT CREEK BREAKFAST",
          "PROSPECTS CRAFT KITCHEN",
          "QUARTER NOTE COFFEE",
          "ZAXBY'S",
          "FIGULINA",
          "MAC'S SPEED SHOP",
          "HIBACHI & COMPANY",
          "LEO'S ITALIAN SOCIAL",
          "THE COUNTRY CLUB AT WAKEFIELD PLANTATION",
          "I HEART MAC AND CHEESE",
          "FIRST WATCH #6050",
          "FIRST WATCH #6053",
          "FIRST WATCH #6054",
          "WINGSTOP",
          "THE GROVE AT CITY MARKET",
          "BISTRO 401",
          "PRESS COCKTAILS CREPES",
          "GLOBAL VILLAGE ORGANIC COFFEE",
          "TAZIKI'S MEDITERRANEAN CAFE",
          "ROAST GRILL",
          "FIRST BAPTIST CHURCH",
          "PARKSIDE",
          "STARBUCKS",
          "MILTON'S PIZZA HOUSE",
          "KENTUCKY FRIED CHICKEN",
          "SUBWAY #1880",
          "MOE'S SOUTHWEST GRILL #150",
          "PAM'S FARMHOUSE RESTAURANT",
          "CHILI'S GRILL AND BAR #953",
          "PAULS CASH GROCERY &SERVICES",
          "MAYFLOWER SEAFOOD RESTAURANT",
          "PHILLY STEAK AND SUBS",
          "BARNES AND NOBLE CAFE",
          "NO FO AT THE PIG",
          "MCDONALD'S #26522",
          "THE PIPER'S TAVERN",
          "MOJOE'S BURGER JOINT",
          "TACO BELL #1872",
          "MAGNOLIA GLEN SENIOR LIVING",
          "SHABA SHABU",
          "FEI HUANG RESTAURANT AT A&C",
          "TACO BELL",
          "RESIDENCE INN-CRABTREE FOODSERVICE",
          "THE THIRD PLACE",
          "THE HANDY KITCHEN",
          "HONG KONG CHINESE KITCHEN",
          "BROOKDALE OF NORTH RALEIGH FOOD SERVICE",
          "SALSA FRESH MEXICAN GRILL",
          "RUCKUS PIZZA",
          "BEE HIVE CAFE",
          "PNC 114",
          "PNC 329",
          "ROYAL INDIA RESTAURANT",
          "SUBWAY #28785",
          "BURGER KING #9246",
          "OLIVE GARDEN",
          "OLE TIME BARBECUE",
          "BOJANGLES",
          "ZEST, INC",
          "WHOLE FOODS MARKET CAFE",
          "WARAJI JAPANESE RESTAURANT",
          "CARRABBA'S ITALIAN GRILL #3420",
          "STARBUCKS",
          "LA RANCHERITA",
          "WOODY'S @ CITY MARKET",
          "QUIZNOS SUB # 91",
          "TACO BELL / KFC 3248",
          "CITY CLUB RALEIGH",
          "PNC 112 GONZA",
          "PNC 130",
          "THE FLYING SAUCER RESTAURANT",
          "EL RODEO RESTAURANT",
          "FLASK & BEAKER AT STATEVIEW HOTEL",
          "IRREGARDLESS CAFE",
          "TEDDY'S PIZZA & PASTA",
          "THE BUTCHER'S MEXICAN GRILL",
          "CLOUD 9 DINING",
          "SEOUL GARDEN",
          "TROPICAL SMOOTHIE CAFE",
          "GOLDEN KRUST",
          "KWENCH JUICE CAFE",
          "GRINGO A GOGO",
          "MOD PIZZA - MILLBROOK RD",
          "IDLE HOUR COFFEE SHOP",
          "BALI HAI",
          "OUTBACK STEAKHOUSE #3459",
          "CAROLINA CRISPY FRY",
          "AL BARAKA GRILL",
          "STANDARD BEER AND FOOD",
          "BRIXX BEDFORD",
          "MCDONALDS #5028",
          "JOE VAN GOGH CEDAR WEST",
          "WENDY'S",
          "LIBATIONS 317",
          "TORCHY'S TACOS #91",
          "HOMEWOOD SUITES BY HILTON RALEIGH/CRABTREE FOOD SERVICE",
          "BURGER KING #4521",
          "AC HOTEL RALEIGH DOWNTOWN BY MARRIOTT",
          "TACO BELL #32554",
          "FATBOYS KITCHEN",
          "LECHON",
          "COURTYARD BISTRO",
          "QUALITY INN/BREAKFAST",
          "MOGE TEE",
          "ARBY'S #77814",
          "SUSHI MON #2",
          "CHAR-GRILL",
          "CHINA STAR",
          "LAS PALMAS III",
          "HARRIS TEETER #90 DELI",
          "TAZA GRILL",
          "BUFFALOE LANES NORTH FOODSERVICE",
          "DENNY'S RESTAURANT",
          "STARBUCKS #8459",
          "STARBUCKS COFFEE # 8217",
          "SHAW UNIVERSITY CAFETERIA",
          "SAINT MARY'S SCHOOL DINING AND ALDERT'S CORNER MARKET",
          "HARRIS TEETER #289 DELI",
          "BOJANGLES",
          "SHEETZ #361",
          "CIRCLE K #6329",
          "MILTON'S PIZZA & PASTA",
          "AZITRA INDIAN RESTAURANT",
          "FRANKIE'S RESTAURANT",
          "CAROLINA ALE HOUSE",
          "PRUITT HEALTH - RALEIGH DINING",
          "DOMINIC'S NY PIZZERIA",
          "EL TAPATIO #4",
          "701 CAFE",
          "THE BIG EASY",
          "MIZU SUSHI STEAK SEAFOOD",
          "JERSEY MIKE'S SUBS #3008-B",
          "BRUEGGERS BAGELS #143",
          "JUMBO CHINA",
          "TONY'S PIZZA",
          "HILTON GARDEN INN RESTAURANT",
          "HIBACHI JAPAN #2",
          "WELLS FARGO CAFE",
          "PANDA WOK",
          "HARRIS TEETER #422 DELI",
          "SAM'S CLUB #6570 SNACKBAR",
          "TAQUERIA EL TORO #1",
          "TAQUERIA LA CABANA",
          "WADE PARK CAFE",
          "JUBALA COFFEE",
          "SAN JOSE MEXICAN RESTAURANT",
          "MULINO",
          "SUBWAY #2692",
          "SEAN'S SHACK",
          "GONZA TACOS Y TEQUILA",
          "HEREGHTY HEAVENLY DELICIOUS",
          "CLARK DINING HALL",
          "ACRO CAFE",
          "THE YARD HOUSE #41",
          "LA QUINTA INN & SUITES FOODSERVICE",
          "ORO RESTAURANT & LOUNGE",
          "HAMPTON INN & SUITES CRABTREE RALEIGH KITCHEN",
          "ORCHID JAPANESE RESTAURANT",
          "JERSEY MIKES SUBS #3132",
          "THE COWFISH",
          "MCDONALDS #32822",
          "VIVO RISTORANTE",
          "CRAZY FIRE MONGOLIAN GRILL",
          "FAIRFIELD INN & SUITES CRABTREE BREAKFAST",
          "RYE BAR & SOUTHERN KITCHEN",
          "VILLAGE DELI & GRILL LAKE BOONE TRAIL",
          "SAN JOSE TACOS AND TEQUILA",
          "SONIC #5864",
          "RALEIGH CRABTREE MARRIOTT FOODSERVICE",
          "TAJ MAHAL INDIAN CUISINE",
          "TAZZA KITCHEN",
          "SHEETZ #537",
          "PUB 4100",
          "EL TAPATIO",
          "RED LOBSTER",
          "CHIPOTLE #2066",
          "SMASHBURGER",
          "VIRGIL'S TAQUERIA",
          "HIBACHI BOWL",
          "DUNKIN' DONUTS #348417",
          "SHERATON RALEIGH KITCHEN/JIMMY V'S OSTERIA & BAR",
          "SMOOTHIE U",
          "RALEIGH BEER GARDEN",
          "THE GARDEN GRILLE & BAR BY HILTON",
          "NI ASIAN KITCHEN",
          "HOLIDAY INN EXPRESS BREAKFAST",
          "VIC'S ITALIAN RESTAURANT & PIZZERIA",
          "WINGS OVER RALEIGH",
          "MIKE'S PIZZA & ITALIAN RESTAURANT",
          "BA-DA WINGS",
          "BURGER KING #1093",
          "PNC CLUB 220-A (GRILL SIDE)",
          "YOUNG HEARTS DISTILLING COMPANY",
          "TACO BELL #32555",
          "AMERICAN DELI",
          "KIWI CAFE AND SMOOTHIES",
          "NEW CHINA EXPRESS",
          "CITY BARBEQUE #43",
          "MO FU SHOPPE",
          "SPRING CAFE",
          "FAIRFIELD INN &  SUITES KITCHEN",
          "CHOPT NORTH RIDGE",
          "STARBUCKS #8218",
          "HUMMING BIRD",
          "MICHAEL'S ENGLISH MUFFINS",
          "CHINA WON",
          "PENN STATION EAST COAST SUBS",
          "STARBUCKS TARGET #1794",
          "THE MELTING POT",
          "THE ARBOR @ MORGAN STREET FOOD HALL",
          "HOLIDAY INN EXPRESS & SUITES FOOD SERVICE",
          "TAQUERIA ACAPULCO",
          "WILSON'S EATERY",
          "PIEOLOGY #8904",
          "CHIPOTLE #3266",
          "POPEYE'S #12880",
          "GUASACA",
          "ROCKIN ROLL SUSHI EXPRESS",
          "HABIBI GRILL",
          "DRIVE SHACK",
          "KABAB AND CURRY",
          "CREMA AT CITY PLAZA",
          "SHEETZ",
          "HARRIS TEETER #495 STARBUCKS",
          "WEGMANS #108 - MAIN KITCHEN",
          "DUNKIN DONUTS #348408",
          "DUNKIN' #347603",
          "ROSEWATER KITCHEN AND BAR",
          "WHICH WICH #280",
          "SHOWMARS",
          "HADY INTERNATIONAL FOOD",
          "PIZZA HUT #2025",
          "VERENA AT BEDFORD FALLS",
          "DOMINO'S #8855",
          "DOMINO'S #5577",
          "BOJANGLES #53",
          "JARA CAFE",
          "BROOKSIDE BODEGA",
          "MARCO'S PIZZA #8072",
          "GOLDEN CORRAL #950",
          "SUSHI ONE",
          "BRIER CREEK BEER GARDEN",
          "MITCH'S TAVERN",
          "LAS RAMBLAS",
          "FRESKO GREEK KITCHEN",
          "JERSEY MIKE'S #3131",
          "MCDONALD'S #16917",
          "THE DANKERY",
          "HOLIDAY GARDENS AT WAKEFIELD",
          "FUN DIPPOT",
          "THE MILL",
          "TON NOODLES",
          "THE BREW BOX",
          "NEW YORK CORNER PIZZA",
          "KPOT KOREAN BBQ & HOT POT",
          "CHIDO TACO #3",
          "BURRITO SHAK MILLBROOK",
          "CAFE CAROLINA AND BAKERY",
          "CONSTELLATION CULINARY GROUP",
          "MEET FRESH",
          "MR. KABAB",
          "BOULTED BREAD",
          "YATAI MARKET @ T CO",
          "PARIS BAGUETTE",
          "BOB EVANS #427",
          "HILTON RALEIGH NORTH HILLS - 88 OAKS",
          "BOMBAY CENTRAL CAFE & GROCERY",
          "TRUFFLES DELI",
          "GUSSIE'S",
          "NEW WORLD CAFE",
          "SUB SUB",
          "CALI BURGER",
          "NC BAJA BURRITO",
          "LA CUCINA ITALIANA",
          "HUMMINGBIRD CAFE @ THE KITCHEN SPACE",
          "EPIC WINGS",
          "DOSE YOGA AND SMOOTHIE BAR",
          "CHINA MOON",
          "PONYSAURUS RALEIGH",
          "LAS GRINGAS CAFE",
          "BEANSPROUT RESTAURANT",
          "OKOME HOUSE",
          "WINSTON'S GRILLE",
          "CHICK-FIL-A #00868",
          "JIMMY JOHN'S #1027",
          "KENTUCKY FRIED CHICKEN",
          "CHICK-FIL-A  #04884",
          "AKARI EXPRESS",
          "MCDONALD'S #14961",
          "JOSE AND SONS MEXICAN KITCHEN & BAR",
          "CHUAN CAFE",
          "TOUCHDOWN SPORTS BAR",
          "AC HOTEL RALEIGH NORTH HILLS LEVEL 7",
          "PANERA BREAD #9206 AT WAKE MED",
          "GOLDEN CORRAL - CAPITAL BLVD #942",
          "THE DOMINICAN RESTAURANT",
          "SUBWAY",
          "SHEETZ #675",
          "WHICH WICH NORTH HILLS",
          "HAMPTON INN & SUITES-RALEIGH MIDTOWN (FOOD SERVICE)",
          "MOE'S SOUTHWEST GRILL #283",
          "MEAT & BITE",
          "BLOOMSBURY BISTRO",
          "CRAFTY CRAB",
          "SUBWAY 3152",
          "SINBAD'S PIZZA & SEAFOOD",
          "BONGIORNO & SON",
          "WEGMANS #108 PIZZA & SUBS",
          "WINGZ MINI CITY",
          "POKE BROS",
          "SAM JONES BBQ",
          "NC MUSEUM OF ART EXHIBIT CAFE",
          "TOWN HALL BURGERS & BEER RALEIGH",
          "WENDY'S",
          "WENDY'S #1341",
          "WENDY'S",
          "WENDY'S",
          "WENDY'S",
          "HEIGHTS HOUSE KITCHEN",
          "CHICK-FIL-A",
          "DUKE RALEIGH HOSPITAL CAFETERIA",
          "FIVE GUYS #0368",
          "JERSEY MIKE'S #3042",
          "BURGER KING #6010",
          "BURGER KING #5719",
          "POKE BAR",
          "CHECO'S MEXICAN GRILL",
          "YABA MEDITERRANEAN",
          "CASTILLO'S MEXICAN RESTAURANT",
          "GOLDEN KRUST",
          "V PIZZA",
          "JUBALA COFFEE",
          "KANKI JAPANESE HOUSE OF STEAKS",
          "ANGUS BARN",
          "SPRINGMOOR DIETARY DEPT.",
          "INDEPENDENCE VILLAGE OF OLDE RALEIGH",
          "O'MALLEY'S TAVERN",
          "MECCA RESTAURANT",
          "PF CHANGS RESTAURANT",
          "CHAR-GRILL",
          "BOJANGLES #12",
          "TACO BELL #3279",
          "JULIANS INTL. RESTAURANT AND DELI",
          "STARBUCKS",
          "PEI WEI ASIAN DINER #108",
          "SUBWAY #1479",
          "VIVACE",
          "CHIPOTLE MEXICAN GRILL STORE # 0826",
          "SUBWAY #12598",
          "LAM'S GARDEN RESTAURANT",
          "GLENLAKE CAFE AND CATERING",
          "VILLAGE DELI #1",
          "GRACE CHRISTIAN SCHOOL KITCHEN",
          "HAMPTON INN & SUITES FOODSERVICE",
          "LA COCINA DE MAMA GRETA",
          "BRUEGGERS BAGELS #101",
          "SAKE HOUSE JAPANESE RESTAURANT",
          "SUNNY'S DINER",
          "ZAXBY'S",
          "LA TERRAZA",
          "SNOOPY'S HOT DOGS AND MORE",
          "GRAVY",
          "CHINA PEARL CHINESE RESTAURANT",
          "HAYASHI JAPANESE RESTAURANT",
          "HIBACHI GRILL & SUPREME BUFFET",
          "LOS TRES MAGUEYES",
          "NANTUCKET GRILL",
          "CAPITAL CLUB 16 RESTAURANT & BAR",
          "CARIBOU COFFEE #301",
          "FAIRFIELD INN & SUITES FOODSERVICE",
          "MAMI'S LATIN STYLE ROTISSERIE CHICKEN",
          "JAVA CITY @ CAMPBELL LAW SCHOOL",
          "IMPERIAL GARDEN CHINESE RESTAURANT",
          "PORT CITY JAVA VET SCHOOL",
          "TACOS Y MARISCOS VALLARTA",
          "LYNNWOOD GRILL",
          "STARBUCKS #16019",
          "DANTE'S ITALIANO",
          "CHICK-FIL-A #2850",
          "PANERA BREAD #1649",
          "PANERA BREAD #1644",
          "PANERA BREAD #1648",
          "HARRIS TEETER #136 DELI",
          "BIDA MANDA",
          "STARBUCKS #8214",
          "KUMBALA BAR & GRILL",
          "TROPHY BREWING CO",
          "CHOPSTIX",
          "SHEETZ #507",
          "LEE'S KITCHEN #2",
          "POPEYES #11378",
          "HIBERNIAN PUB & RESTAURANT",
          "THE HAT RACK (RED HAT 9TH FLOOR)",
          "RANDY'S PIZZA",
          "CASE DINING HALL",
          "ATRIA OAKRIDGE DINING",
          "STANBURY",
          "VINNIE'S STEAK HOUSE & TAVERN",
          "BOJANGLES #49",
          "CARIBOU #312",
          "WHISPERING PINES DINING",
          "RED PEPPER ASIAN",
          "CHINA QUEEN",
          "HONEY BAKED HAM COMPANY #103",
          "STARBUCKS #21218",
          "CITY BARBECUE",
          "WAFFLE HOUSE #2052",
          "WELCOME MART",
          "MANHATTAN CAFE",
          "FOUNTAIN DINING HALL",
          "CHIPOTLE #2386",
          "TERRACE DINING ROOM/TERRACE SNACK BAR",
          "HYATT HOUSE H BAR",
          "LIFE CAFE",
          "LA CARRETA",
          "FIREHOUSE SUBS #1138",
          "WAFFLE HOUSE #378",
          "NORTH RIDGE PUB",
          "CHICK-FIL-A #792",
          "MY WAY TAVERN",
          "THE 19TH HOLE",
          "PHO XPRESS",
          "THE CAPITAL GRILLE",
          "SAN MARCOS",
          "CLEAN EATZ",
          "SAN JOSE MEX & TEQUILA BAR",
          "PNC CLUB 204-A",
          "PNC CLUB 220-B",
          "CRAWFORD AND SON",
          "J. ALEXANDER'S",
          "MAR-Y-SOL",
          "MCDONALDS #1044",
          "SOUTHERN CRAFT BUTCHERS",
          "BAD DADDY'S BURGER BAR",
          "COCO BONGO",
          "TROPICAL SMOOTHIE CAFE NC-55",
          "RESIDENCE INN DOWNTOWN RALEIGH",
          "DAVID'S DUMPLING & NOODLE BAR",
          "CHILANGO RESTAURANT",
          "RED BOWL ASIAN BISTRO",
          "SAIGON PHO VIETNAMESE CUISINE",
          "A PLACE AT THE TABLE",
          "SUSHI NINE",
          "MOE'S SOUTHWEST GRILL",
          "HWY. 55 BURGERS, SHAKES & FRIES #185",
          "STARBUCKS #11189",
          "CO NOODLE",
          "MARKET HALL",
          "ALPACA PERUVIAN CHARCOAL CHICKEN",
          "JASMIN & OLIVZ",
          "THE PICKLED ONION",
          "HOLIDAY INN EXPRESS & SUITES FOODSERVICE",
          "FOUR POINTS CAFE",
          "SHUCKIN' SHACK",
          "HIBACHI 88",
          "SEAGATE SEAFOOD & SUSHI",
          "ORIENTAL PHO",
          "JOLIE",
          "DUNKIN DONUTS #349131",
          "DUNKIN' #348561",
          "L.A. HORCHATERIA COFFEE SHOP",
          "CAVA MIDTOWN",
          "SUBWAY #1570",
          "LA BUENA VIDA",
          "RALEIGH GRANDE",
          "MARCO'S PIZZA #8524",
          "HARDEE'S #1205",
          "AMITIE MACARON",
          "BIG AIR",
          "GUASACA",
          "FIREHOUSE SUBS #178",
          "MAYAMI",
          "BREW COFFEE BAR- MCNEILL POINTE",
          "K & W CAFETERIA",
          "FAT TUESDAY",
          "WENDY'S 13670",
          "JERSEY MIKE'S #3149",
          "JERSEY MIKE'S #3181",
          "MCDONALD'S #33850",
          "MCDONALD'S #2510",
          "EAST END BISTROT",
          "FALLS RIVER CAFE",
          "AMERICA'S BEST WINGS",
          "THE AVENUE DOGS",
          "MIDWOOD SMOKEHOUSE",
          "SUSHI TIME",
          "PHO SUPER 9",
          "BONCHON KOREAN FRIED CHICKEN",
          "GEN RAMEN",
          "STREET TACOS CANTINA",
          "TIKILA TACOS & MEZCAL",
          "MUSTANG HOUSE",
          "50 CUPS",
          "TROPICAL SMOOTHIE",
          "EVERBOWL",
          "TACO BAMBA RIDGEWOOD",
          "FLAME KABOB",
          "O.M. TEA BOBA & BITES",
          "MAMACITA MEXICAN MODERN",
          "BULL AND BEAR",
          "MCDONALD'S #31681",
          "HAMPTON INN BY HILTON FOODSERVICE",
          "THE FICTION KITCHEN",
          "AL-BASHA MARKET & GRILL",
          "FLAVOR HILLS",
          "FARINA NEIGHBORHOOD ITALIAN",
          "DOMINO'S #5561",
          "CHINATOWN EXPRESS",
          "FLIP IT CHICKEN",
          "DEMOS PIZZARIA & DELI",
          "SOSTA CAFE",
          "SHANGHAI EXPRESS",
          "THE OPTIMIST",
          "COUNTRY CLUB AT WAKEFIELD PLANTATION SPORTS CLUB",
          "BRUEGGERS BAGELS",
          "FIRST WATCH #6051",
          "FIRST WATCH #6052",
          "ALPACA PERUVIAN CHARCOAL CHICKEN",
          "MOCHINUT",
          "GRK YEERO",
          "DRIFT CAFE RIDGEWOOD",
          "BOJANGLES # 3",
          "WILLIAM PEACE UNIVERSITY CAFETERIA",
          "NORTH RALEIGH COURTYARD BY MARRIOTT",
          "BARRYS CAFE",
          "TACOS MAMA CHAVA",
          "JIMMY JOHN'S",
          "STARBUCKS",
          "KANKI JAPANESE HOUSE OF STEAKS AND SUSHI",
          "SUBWAY",
          "LOS TRES VAQUEROS",
          "LEGISLATIVE BLDG SNACK BAR",
          "WAKE MED KITCHEN",
          "CHAR-GRILL",
          "OUTBACK STEAKHOUSE #3440",
          "MCDONALD'S # 13334",
          "WAKE TECHNICAL COMMUNITY COLLEGE REST.",
          "STARBUCKS #2970",
          "TORERO'S RESTAURANT",
          "MELLOW MUSHROOM",
          "SUBWAY #4331",
          "BARNES & NOBLE BOOK SELLERS #2126",
          "NC SEAFOOD RESTAURANT",
          "VILLAGE DRAFT HOUSE",
          "LEMONGRASS THAI RESTAURANT",
          "JERSEY MIKE'S SUBS",
          "CHILI'S BAR AND GRILL",
          "CAFE 3000 AT WAKE MED",
          "STARBUCKS #8270",
          "REALE",
          "OVERTIME SPORTS PUB",
          "N.Y. BAGELS & DELI",
          "WANG'S KITCHEN",
          "RED ROBIN #306",
          "KORNER POCKET",
          "PNC 310",
          "PNC 318",
          "JERSEY MIKES RESTAURANT",
          "MCDONALD'S #14342",
          "ZANYU ASIAN NOODLES",
          "CRAB DU JOUR CAJUN SEAFOOD RESTAURANT & BAR",
          "CHINA WOK",
          "BEAN SPROUTS CAFE",
          "MISSION BEEF AND BREWS",
          "NATURE'S JUICE BAR & CAFE",
          "THE OPTIMIST",
          "JAPAN XO",
          "EL MANDADO SUPERMARKET & TAQUERIA",
          "NOODLES & COMPANY #871",
          "DEJA BREW",
          "BAR LOUIE",
          "ANOTHER BROKEN EGG",
          "BROOKLYN ORIGINAL SLICES",
          "BRIO",
          "CHAI'S ASIAN BISTRO",
          "WENDY'S #8216",
          "WENDY'S",
          "CHURCH'S CHICKEN",
          "IHOP #4408",
          "BRU'S PUBLIC HOUSE",
          "PURE VEGAN CAFE",
          "MORNING ROLLS",
          "BURGER KING #3768",
          "CITY BARBEQUE #10056",
          "HOME 2 SUITES RALEIGH NORTH FOOD SERVICE",
          "TARGET STARBUCKS & SNACK BAR",
          "QUE PASHOO/ MARISCOS - BAR - GRILL",
          "BETO EL POBLANO",
          "GYM TACOS",
          "BB'S CRISPY CHICKEN",
          "KUNG FU TEA",
          "CUCCIOLO TERRAZZA",
          "AVENT FERRY PIZZA",
          "BUL BOX",
          "JACKS SEAFOOD RESTAURANT",
          "CASA CARBONE",
          "WANG'S KITCHEN",
          "SUSHI & THAI RESTAURANT",
          "HAYES BARTON CAFE & DESSERTERY",
          "BOJANGLES # 2",
          "EL DORADO MEXICAN RESTAURANT",
          "FIRST PRESBYTERIAN CHURCH",
          "PICCOLA ITALIA",
          "PLAYERS RETREAT",
          "MANCHESTERS BAR AND GRILL",
          "CIRCLE K #6314",
          "RALEIGH TIMES BAR",
          "POPPY SEED MARKET",
          "DQ GRILL AND CHILL #41609",
          "FIESTA MEXICANA RESTAURANTE",
          "GOLDEN DRAGON",
          "COSTCO WHOLESALE #645 FOOD COURT",
          "BRUEGGER'S BAGEL BAKERY #93-0683",
          "SUBWAY",
          "1705 PRIME CATERING AND EVENTS",
          "CHIPOTLE MEXICAN GRILL #0942",
          "SCHIANO'S PIZZA PASTA & GRILL #2",
          "BRIXX BRIERCREEK",
          "CENTRO",
          "HAMPTON INN & SUITES BRIER CREEK FOODSERVICE",
          "FIRST CITIZENS BANK KITCHEN",
          "WANG'S KITCHEN",
          "TAZA GRILL #2",
          "SUBWAY #41217",
          "THE PIT",
          "SITTI BY NEOMONDE",
          "NEW CHINA KING RESTAURANT",
          "ZAYKA INDIAN CUISINE",
          "RUDINOS'S PIZZA & GRINDERS SPORTS CORNER",
          "AMEDEO'S",
          "RIVER PUB",
          "IHOP #3331",
          "NOODLES AND COMPANY #857",
          "BANGKOK THAI",
          "POPEYES #11025",
          "PIZZA SHACK",
          "SOCIAL FABRIC",
          "NC JAPAN EXPRESS",
          "THE GARDEN ON MILLBROOK",
          "JASMIN BISTRO",
          "TENKO JAPAN",
          "SOLA COFFEE & CAFE",
          "MAR-Y-SOL II",
          "HAMPTON INN & SUITES FOOD SERVICE",
          "SHEETZ #513",
          "MCDONALDS #4997",
          "STARBUCKS #75937",
          "THE OVAL",
          "SUBWAY #59146",
          "THE STATION AT PERSON ST",
          "WINE AUTHORITIES",
          "SALT& LIME CABO GRILL",
          "HIBERNIAN PUB",
          "GROUCHO'S DELI",
          "SHEETZ #536",
          "FILIPINO EXPRESS RESTAURANT",
          "CLYDE COOPER'S BARBECUE",
          "ROLY POLY",
          "CHINA WOK",
          "SUBWAY #1120",
          "LINUS & PEPPER'S",
          "RALPH E. CAPPS TEEN CENTER GRILL",
          "KINGS BOWL",
          "AXIS (AT EMBASSY SUITES)",
          "DEATH AND TAXES",
          "WAKE MED NORTH FALLS CAFE",
          "MCDONALD'S #12293",
          "NEUSE RIVER BREWING COMPANY",
          "CRAZY FIRE MONGOLIAN GRILL",
          "CAPITAL OAKS CULINARY & DINING SERVICES",
          "PERI BROTHERS PIZZA",
          "HONEYBAKED HAM & CAFE",
          "BAHAMA BREEZE RESTAURANT",
          "MUM'S JAMAICAN RESTAURANT",
          "SPRING ROLLS",
          "CAFE TIRAMISU",
          "DUCK DONUTS",
          "ALOFT RDU REFUEL",
          "WHISKEY KITCHEN",
          "WOLVES DEN",
          "STARBUCKS #8589",
          "METRO DINER #3002",
          "PNC CLUB 204-B (PIZZA SIDE)",
          "CITY MARKET SUSHI",
          "WAFFLE HOUSE #2220",
          "DICED GOURMET SALADS & WRAPS #2",
          "JOY LUCK CLUB OF GRAND ASIA MARKET",
          "MCDONALDS #29233 BRIER CREEK WALMART",
          "BREWERY BHAVANA",
          "THE CARDINAL AT NORTH HILLS INDEPENDENT LIVING CLUBHOUSE KITCHEN",
          "SEASONS 52 #4547",
          "MCALISTERS DELI #100956",
          "WINGATE BY WYNDHAM",
          "WILD WING CAFE #119",
          "EL PATRON",
          "THE PICKLED ONION",
          "JADE GARDEN CHINESE RESTAURANT",
          "CRABTREE ALE HOUSE",
          "SKY ZONE",
          "ALAMO DRAFTHOUSE CINEMA",
          "MANHATTAN PIZZA",
          "POKE BURRI RALEIGH",
          "TAKE 5 CAFE RALEIGH",
          "HAPPY & HALE @ NORTH HILLS",
          "SAMMY'S TAP & GRILL",
          "FIRST CITIZENS OPERATIONS CENTER CAFETERIA",
          "O-KU",
          "OAK STEAKHOUSE",
          "TACO BELL #34556",
          "VENTURE PIZZA",
          "CAVA #84",
          "TREEO SENIOR LIVING FOODSERVICE",
          "WYE HILL KITCHEN & BREWING",
          "STIR",
          "MASON'S FAMOUS LOBSTER ROLLS",
          "NORA CAFE",
          "STARBUCKS NCSU",
          "WEAVER STREET MARKET",
          "BROOKLYN PICKLE",
          "STARBUCKS #57972",
          "PIZZA HUT #036586",
          "CLEAN JUICE",
          "FUEGO LATINO RESTAURANT AND BAR",
          "BRIGHT SPOT DOUGHNUTS",
          "PARK ALUMNI CENTER",
          "ANISE PHO",
          "EL PATIO BAR & GRILL",
          "CHICK-FIL-A #04822",
          "ASSAGGIO'S ITALIAN BISTRO",
          "CHAMPA THAI & SUSHI RESTAURANT",
          "PALETERIA MONARCA MICHOACANA",
          "BAZIL INDIAN CUISINE",
          "NEOMONDE MEDITERRANEAN",
          "ELLE ET MOI CUISINE",
          "LILLY'S PIZZA",
          "HAPPY & HALE",
          "FF CHICKEN",
          "THE BBQ LAB NORTH HILLS",
          "GOOD DAY GOOD NIGHT",
          "POLLO CAMPERO",
          "BIGGBY COFFEE",
          "J. BETSKI'S",
          "THE OAK",
          "CHICK-FIL-A  #04618",
          "JERSEY MIKE'S #3130",
          "CAPTAIN STANLEY'S SEAFOOD",
          "PREMIER CAKES DINER @ NC MUSEUM OF HISTORY",
          "COMPASS ROSE BREWERY",
          "EL TACO MARKET",
          "SMOOTH JOE COFFEE",
          "MARCO'S PIZZA #8521",
          "BELLA ITALIA RISTORANTE",
          "THE CARDINAL TOWER - MAIN KITCHEN",
          "CASA CUBANA RESTAURANT & RUM BAR",
          "HOME2 SUITES",
          "IL FALO",
          "COMFORT INN KITCHEN",
          "BEDFORD FOOD AND DRINK",
          "CRAFTY CRAB #2",
          "BURGER VILLAGE",
          "LADYFINGERS MARKET & EATERY",
          "SHAKE SHACK #1416",
          "GOLD STAR CAFE",
          "CHICKEN SALAD CHICK",
          "WONDERLAND",
          "BENELUX CAFE",
          "WING STOP",
          "BUFFALO WILD WINGS GO #3998",
          "BUDACAI",
          "CHICKEN BEE",
          "ESTAMPA GAUCHA",
          "BEOW'S BOOKS AND BREW",
          "BRODETO",
          "ALADDIN'S EATERY",
          "LA TARRAZZA & ROOFTOP BAR (9TH FLOOR)",
          "JAGUAR BOLERA",
          "NAMI ASIAN NOODLE BAR",
          "MCDONALD'S #3452",
          "BISCUIT BELLY",
          "SIDE STREET RESTAURANT",
          "TAYLOR'S CONVENIENCE STORE",
          "BOJANGLES #15",
          "THE PEDDLER STEAK HOUSE",
          "TUCKER STREET DINER",
          "DOMINOS #4453",
          "VERA PIZZA AND GRILL",
          "JIMMY JOHNS #1863",
          "DUCK DONUTS",
          "ANTHONY'S LA PIAZZA",
          "COMPLEX BREW",
          "REX HOSPITAL CAFETERIA",
          "SEABOARD CAFE",
          "WANG'S KITCHEN",
          "FIESTA MEXICANA",
          "CHICK-FIL-A",
          "AMF SNACK BAR AND LOUNGE",
          "SUBWAY #30454",
          "RIVER RIDGE GOLF CLUB",
          "TOOKIE'S",
          "BACKYARD BURGERS #1130",
          "RED DRAGON CHINESE RESTAURANT",
          "COOK OUT #25",
          "EL DORADO #8",
          "TACO BELL",
          "SUSHI BLUES CAFE",
          "LEGISLATIVE OFFICE BLDG. SNACK BAR",
          "JASON'S DELI",
          "KING CHEF",
          "HOLY TRINITY GREEK ORTHODOX CHURCH KITCHEN",
          "MOE'S SOUTHWEST GRILL",
          "SAM'S CLUB #8223 CAFE",
          "PNC ARENA MAIN KITCHEN",
          "HIGH PARK BAR AND GRILL",
          "PNC CLUB KITCHEN",
          "PNC 118-120",
          "KADHAI-THE INDIAN WOK",
          "BELLA MONICA"
         ],
         "lat": [
          35.83551025,
          35.78402076,
          35.82131683,
          35.87073431,
          35.72206519,
          35.92540089,
          35.78410942,
          35.785973,
          35.83624582,
          35.70773611,
          35.78448759,
          35.79810492,
          35.77440851,
          35.78996917,
          35.86064464,
          35.8985009,
          35.78910584,
          35.85939507,
          35.75475159,
          35.82001966,
          35.77657759,
          35.6686402,
          35.89359506,
          35.66239504,
          35.834925,
          35.89544915,
          35.82525799,
          35.83833482,
          35.80324451,
          35.6849577,
          35.77592959,
          35.81550158,
          35.78102351,
          35.76819877,
          35.8419524,
          35.85494991,
          35.81378275,
          35.8401699,
          35.90950816,
          35.87073431,
          35.90603231,
          35.87045657,
          35.94075522,
          35.72312635,
          35.83623673,
          35.89996606,
          35.77365209,
          35.83931725,
          35.78996917,
          35.89996606,
          35.78458793,
          35.7982395,
          35.91424048,
          35.8006875,
          35.90105464,
          35.77523676,
          35.94075522,
          35.85879308,
          35.89510631,
          35.78770917,
          35.78447976,
          35.78447976,
          35.78220966,
          35.9068519,
          35.80167817,
          35.81457601,
          35.77712668,
          35.82001966,
          35.78662875,
          35.83876666,
          35.94210405,
          35.72058019,
          35.836617,
          35.81728333,
          35.89510631,
          35.77609151,
          35.85814357,
          35.78996917,
          35.90035381,
          35.73464526,
          35.77913325,
          35.77728809,
          35.78995167,
          35.85593782,
          35.84834257,
          35.78656583,
          35.76522001,
          35.67202311,
          35.83600374,
          35.79167791,
          35.78101266,
          35.89622051,
          35.86464073,
          35.78447976,
          35.74908293,
          35.9051959,
          35.85487607,
          35.78770917,
          35.78687334,
          35.77820659,
          35.87164373,
          35.9068519,
          35.84763241,
          35.78456842,
          35.78656583,
          35.87590106,
          35.81817357,
          35.78363334,
          35.78555892,
          35.77888942,
          35.87359573,
          35.83964841,
          35.78928458,
          35.94386897,
          35.87454257,
          35.78856375,
          35.87073431,
          35.78902526,
          35.89547498,
          35.77783793,
          35.89638473,
          35.90306257,
          35.84571465,
          35.80474566,
          35.78851092,
          35.83940582,
          35.9189124,
          35.86067383,
          35.83860449,
          35.77795401,
          35.81292749,
          35.9068519,
          35.78564875,
          35.72582568,
          35.72344884,
          35.88733073,
          35.77487676,
          35.78369533,
          35.80363397,
          35.77835842,
          35.9079869,
          35.77523676,
          35.73079494,
          35.82691391,
          35.6620792,
          35.9068519,
          35.81786883,
          35.87630472,
          35.83796708,
          35.79046367,
          35.80541224,
          35.80950917,
          35.79630442,
          35.86695398,
          35.77584717,
          35.72148835,
          35.83739883,
          35.94386897,
          35.85872108,
          35.90878681,
          35.86339974,
          35.89359506,
          35.76674009,
          35.7468331,
          35.90461115,
          35.78475018,
          35.87396657,
          35.8711034,
          35.80050708,
          35.77782018,
          35.78610909,
          35.7762615,
          35.78366859,
          35.84176374,
          35.83592274,
          35.78834892,
          35.87630472,
          35.73379135,
          35.78016009,
          35.86226615,
          35.83697574,
          35.87186823,
          35.7548246,
          35.87073431,
          35.77458784,
          35.66239504,
          35.77870975,
          35.81542941,
          35.80177809,
          35.78312867,
          35.66791195,
          35.76674009,
          35.90105464,
          35.91006573,
          35.90586963,
          35.78320992,
          35.79005017,
          35.85833232,
          35.87396657,
          35.83931725,
          35.8985009,
          35.73082051,
          35.76485926,
          35.90928307,
          35.80200175,
          35.76445518,
          35.9068519,
          35.86765564,
          35.8431939,
          35.77800001,
          35.81817357,
          35.82314249,
          35.82783317,
          35.80324451,
          35.80324451,
          35.78835767,
          35.90420522,
          35.86226615,
          35.85273532,
          35.8074925,
          35.86923291,
          35.89329706,
          35.8427619,
          35.72582568,
          35.90993065,
          35.89676189,
          35.88786089,
          35.9189124,
          35.86464073,
          35.81659024,
          35.85876533,
          35.8634444,
          35.78901492,
          35.6638977,
          35.71891301,
          35.79148992,
          35.86627157,
          35.81676957,
          35.9068519,
          35.83719099,
          35.86923291,
          35.86546174,
          35.75561559,
          35.8349864,
          35.89806882,
          35.82544758,
          35.83176516,
          35.8985009,
          35.77835842,
          35.90264065,
          35.799967,
          35.82214441,
          35.78391192,
          35.76724392,
          35.83719099,
          35.79885066,
          35.79321009,
          35.79892391,
          35.88157149,
          35.8867449,
          35.84096299,
          35.77605392,
          35.8349864,
          35.81728333,
          35.9068519,
          35.83719099,
          35.85814391,
          35.78791642,
          35.77471409,
          35.90603231,
          35.78753009,
          35.90232406,
          35.84880107,
          35.79056208,
          35.91424048,
          35.72312635,
          35.79387526,
          35.82544758,
          35.81676957,
          35.85591308,
          35.85752173,
          35.89359506,
          35.72039952,
          35.75440001,
          35.79001283,
          35.90726649,
          35.81457601,
          35.83634582,
          35.87020365,
          35.78363334,
          35.74406085,
          35.89510631,
          35.80887766,
          35.89889531,
          35.89510631,
          35.73464526,
          35.77835842,
          35.78844792,
          35.77705417,
          35.82517717,
          35.80902966,
          35.73196384,
          35.90420522,
          35.79191292,
          35.85057474,
          35.89889531,
          35.78976201,
          35.76724392,
          35.84978383,
          35.78960042,
          35.82214441,
          35.85617199,
          35.78861051,
          35.82028016,
          35.86765564,
          35.88617756,
          35.83619182,
          35.78456842,
          35.80134442,
          35.7787201,
          35.71894127,
          35.73506094,
          35.7765855,
          35.81550158,
          35.9103894,
          35.90639172,
          35.91424048,
          35.78016859,
          35.76674009,
          35.91660723,
          35.84978383,
          35.84978383,
          35.79148992,
          35.8985009,
          35.78687334,
          35.77809884,
          35.79869883,
          35.94386897,
          35.8709239,
          35.77583968,
          35.94386897,
          35.78996917,
          35.78205742,
          35.83722866,
          35.80046199,
          35.77583968,
          35.77751166,
          35.85499399,
          35.87315531,
          35.81609474,
          35.7359326,
          35.88064315,
          35.88617756,
          35.90105464,
          35.82333174,
          35.78509092,
          35.77253534,
          35.83719099,
          35.83534565,
          35.77782018,
          35.81292749,
          35.86043849,
          35.81399959,
          35.89352248,
          35.9079869,
          35.77487676,
          35.90563757,
          35.77487676,
          35.80777159,
          35.90341365,
          35.79144425,
          35.86627157,
          35.81292749,
          35.78575692,
          35.80541224,
          35.79148992,
          35.81908341,
          35.90523097,
          35.83816391,
          35.90654489,
          35.81913009,
          35.86881664,
          35.90279248,
          35.83739883,
          35.67533837,
          35.81946241,
          35.90878681,
          35.9187774,
          35.85143932,
          35.66728061,
          35.9295858,
          35.78447976,
          35.83719099,
          35.78088842,
          35.78976083,
          35.88257822,
          35.8985009,
          35.78996917,
          35.81624816,
          35.80801391,
          35.85971899,
          35.85876533,
          35.83624582,
          35.8985009,
          35.78888791,
          35.77632534,
          35.81550133,
          35.72344884,
          35.81500717,
          35.73574276,
          35.85331091,
          35.74570676,
          35.82333174,
          35.79804326,
          35.79144425,
          35.83071166,
          35.87467572,
          35.77631676,
          35.80339725,
          35.78770917,
          35.83600374,
          35.95508338,
          35.84978383,
          35.85532699,
          35.82015424,
          35.78036718,
          35.76771142,
          35.77586726,
          35.77542367,
          35.78105068,
          35.78790893,
          35.89352248,
          35.78023101,
          35.78096884,
          35.77679384,
          35.82544758,
          35.89932731,
          35.76819868,
          35.76674009,
          35.79148992,
          35.78599159,
          35.90773457,
          35.75588542,
          35.82461108,
          35.84801798,
          35.83931725,
          35.80508875,
          35.85547149,
          35.89456664,
          35.78849409,
          35.85868508,
          35.85410207,
          35.82333174,
          35.73682477,
          35.89979648,
          35.834583,
          35.80484566,
          35.89676189,
          35.78412834,
          35.86397574,
          35.85872108,
          35.77835842,
          35.799967,
          35.80324451,
          35.80324451,
          35.8349864,
          35.90512431,
          35.76737783,
          35.85089099,
          35.78733184,
          35.81837341,
          35.89932731,
          35.80211883,
          35.85872108,
          35.85253808,
          35.82154066,
          35.83931725,
          35.77636109,
          35.87396657,
          35.85499399,
          35.7787201,
          35.80324451,
          35.80324451,
          35.78005933,
          35.77567633,
          35.76375243,
          35.78118568,
          35.78412834,
          35.78851092,
          35.78839392,
          35.84801798,
          35.82333174,
          35.71955708,
          35.90523097,
          35.78126517,
          35.85737049,
          35.80883384,
          35.90420522,
          35.85666832,
          35.76445518,
          35.79418891,
          35.790355,
          35.92540089,
          35.77218661,
          35.81700516,
          35.91248707,
          35.77942992,
          35.82131683,
          35.836203,
          35.77835842,
          35.78151809,
          35.72411618,
          35.79875367,
          35.86600165,
          35.86693589,
          35.74994601,
          35.78758493,
          35.81840799,
          35.83176516,
          35.82555466,
          35.82544758,
          35.90722226,
          35.90878681,
          35.86923291,
          35.86304848,
          35.82707549,
          35.8401699,
          35.85876533,
          35.77078109,
          35.78272392,
          35.81550158,
          35.79891433,
          35.89902231,
          35.86068106,
          35.94426388,
          35.9068519,
          35.91880306,
          35.91437565,
          35.74808234,
          35.8643881,
          35.79875367,
          35.7918045,
          35.77758501,
          35.94195239,
          35.8985009,
          35.88940031,
          35.89359506,
          35.88567515,
          35.87240049,
          35.83620957,
          35.80060633,
          35.88567515,
          35.83739883,
          35.84648891,
          35.73081135,
          35.82807441,
          35.80750109,
          35.89510631,
          35.86464073,
          35.78455109,
          35.81503266,
          35.84907157,
          35.88617756,
          35.81550158,
          35.78447976,
          35.78220966,
          35.83691241,
          35.81624833,
          35.7768407,
          35.83620099,
          35.88786089,
          35.78888791,
          35.83691241,
          35.87991482,
          35.88157149,
          35.90878681,
          35.83413141,
          35.773597,
          35.81676957,
          35.91399765,
          35.7841545,
          35.84277157,
          35.87396657,
          35.78994091,
          35.86286924,
          35.83723708,
          35.94075522,
          35.841135,
          35.90183973,
          35.87396657,
          35.77862093,
          35.66336704,
          35.78436967,
          35.77493808,
          35.78776429,
          35.7880515,
          35.83540932,
          35.89932731,
          35.796368,
          35.81457601,
          35.78961876,
          35.800455,
          35.87186823,
          35.82022691,
          35.80324451,
          35.77744193,
          35.89359506,
          35.7548246,
          35.94865663,
          35.82783317,
          35.90143398,
          35.77586726,
          35.85494991,
          35.87180565,
          35.86546174,
          35.79001283,
          35.80873266,
          35.85591308,
          35.66336704,
          35.78909475,
          35.90295406,
          35.82333174,
          35.77945659,
          35.95134822,
          35.7548246,
          35.80873266,
          35.83719099,
          35.8401699,
          35.82460991,
          35.78824042,
          35.90420522,
          35.78509117,
          35.80195625,
          35.78785459,
          35.77440851,
          35.9435178,
          35.90105464,
          35.82131683,
          35.94316638,
          35.90762548,
          35.83755199,
          35.78996917,
          35.9189124,
          35.77678342,
          35.85846715,
          35.92446548,
          35.77583968,
          35.75403243,
          35.80016718,
          35.89591665,
          35.79244258,
          35.90718422,
          35.73188419,
          35.89510631,
          35.9068519,
          35.78790893,
          35.83739883,
          35.89788698,
          35.86656916,
          35.66510253,
          35.78834892,
          35.9429143,
          35.78758493,
          35.82544758,
          35.89932731,
          35.6508562,
          35.85879308,
          35.82314249,
          35.77356117,
          35.84978383,
          35.78976083,
          35.81550133,
          35.8427619,
          35.86464073,
          35.77638884,
          35.77487676,
          35.89996606,
          35.91092781,
          35.82973066,
          35.89821964,
          35.82061517,
          35.78214708,
          35.85814525,
          35.78886217,
          35.79255318,
          35.77835842,
          35.8607444,
          35.72742869,
          35.89788698,
          35.83439199,
          35.66508436,
          35.80924691,
          35.9086874,
          35.79393767,
          35.79980482,
          35.86964481,
          35.84746032,
          35.9111629,
          35.83615615,
          35.79898742,
          35.77835842,
          35.8441304,
          35.86043849,
          35.77870975,
          35.79679992,
          35.83817241,
          35.78391192,
          35.82680683,
          35.82957833,
          35.94075522,
          35.74608019,
          35.83719099,
          35.82237867,
          35.94279822,
          35.78961876,
          35.80399134,
          35.79323558,
          35.83620957,
          35.78851092,
          35.89510631,
          35.82131683,
          35.84571465,
          35.91424048,
          35.77340093,
          35.81624816,
          35.94053989,
          35.83751608,
          35.85030449,
          35.89926532,
          35.87454257,
          35.87800648,
          35.77665734,
          35.90106473,
          35.82845408,
          35.89788698,
          35.66508436,
          35.88659323,
          35.79959925,
          35.86765564,
          35.75444592,
          35.90143398,
          35.79725075,
          35.87315531,
          35.91583398,
          35.83534565,
          35.8419524,
          35.89836431,
          35.8839559,
          35.82648166,
          35.85321065,
          35.77709034,
          35.83931725,
          35.90114598,
          35.7852001,
          35.78425417,
          35.83624582,
          35.91424048,
          35.91133298,
          35.88786089,
          35.83964841,
          35.86036632,
          35.85459908,
          35.79422483,
          35.83548258,
          35.79148992,
          35.77190635,
          35.79297584,
          35.84068382,
          35.77835842,
          35.90718422,
          35.88733073,
          35.90324407,
          35.77835842,
          35.86142765,
          35.77853917,
          35.74360868,
          35.94075522,
          35.82314249,
          35.89996606,
          35.90718422,
          35.7771451,
          35.9068519,
          35.89550341,
          35.81373749,
          35.78010542,
          35.88617756,
          35.79771784,
          35.82363017,
          35.87043723,
          35.90093848,
          35.94075522,
          35.7914175,
          35.91424048,
          35.8401699,
          35.86881664,
          35.90523097,
          35.77726159,
          35.86656916,
          35.800455,
          35.77970792,
          35.85879308,
          35.66674111,
          35.79422483,
          35.71643877,
          35.89404532,
          35.77518083,
          35.81676957,
          35.78447976,
          35.90822081,
          35.7934425,
          35.88157149,
          35.63414404,
          35.82532908,
          35.88240865,
          35.80114582,
          35.77835842,
          35.85331091,
          35.8556149,
          35.76164477,
          35.86284098,
          35.71972309,
          35.77609151,
          35.78447976,
          35.86881664,
          35.762815,
          35.83636391,
          35.89622051,
          35.79783425,
          35.82558141,
          35.79444318,
          35.8662804,
          35.87534416,
          35.78716042,
          35.73522176,
          35.91424048,
          35.83798332,
          35.83702099,
          35.88064315,
          35.94818871,
          35.80324451,
          35.80324451,
          35.78882667,
          35.84046674,
          35.83551025,
          35.78827767,
          35.89510631,
          35.90143398,
          35.78779193,
          35.87396657,
          35.77259808,
          35.78599033,
          35.83624582,
          35.87315531,
          35.82439324,
          35.77886166,
          35.78530675,
          35.90523097,
          35.89359506,
          35.81617759,
          35.83817241,
          35.77650484,
          35.90950749,
          35.87396657,
          35.88567515,
          35.9142679,
          35.79764659,
          35.81292749,
          35.72312635,
          35.84340082,
          35.86600165,
          35.78882667,
          35.89382822,
          35.8986354,
          35.83624582,
          35.82131683,
          35.74406085,
          35.84373466,
          35.87197598,
          35.86271633,
          35.76740727,
          35.77738717,
          35.86750298,
          35.86797165,
          35.91133298,
          35.82783317,
          35.81292749,
          35.79755701,
          35.86392064,
          35.779832,
          35.82544758,
          35.9189124,
          35.79000425,
          35.78529767,
          35.80894192,
          35.90622131,
          35.72312635,
          35.78095908,
          35.78610909,
          35.89352248,
          35.87315531,
          35.87073431,
          35.81292749,
          35.86923291,
          35.9452704,
          35.77508217,
          35.80211883,
          35.79783425,
          35.86923291,
          35.80211883,
          35.91399765,
          35.8349864,
          35.92540089,
          35.85499399,
          35.72382785,
          35.85595598,
          35.80541224,
          35.79423551,
          35.77609151,
          35.89510631,
          35.86464073,
          35.85736049,
          35.86392064,
          35.78363334,
          35.77518083,
          35.78802467,
          35.8427619,
          35.96493872,
          35.94195239,
          35.9189124,
          35.81457601,
          35.78326308,
          35.86043849,
          35.78770917,
          35.80211883,
          35.78024775,
          35.78928458,
          35.82408017,
          35.74360868,
          35.78898595,
          35.82015424,
          35.78941958,
          35.83931725,
          35.86043849,
          35.89329706,
          35.78320992,
          35.78391192,
          35.84801798,
          35.8882399,
          35.86745099,
          35.6508562,
          35.94279822,
          35.84801798,
          35.78826809,
          35.89676189,
          35.86600165,
          35.76388303,
          35.78996917,
          35.89223606,
          35.78866476,
          35.86600165,
          35.78391192,
          35.88786089,
          35.81782408,
          35.79167791,
          35.89329706,
          35.79167791,
          35.91424048,
          35.89527831,
          35.80324451,
          35.80324451,
          35.84571465,
          35.82042374,
          35.89510631,
          35.87315531,
          35.74406085,
          35.77853909,
          35.80720509,
          35.78960042,
          35.79244258,
          35.86546965,
          35.84853241,
          35.78996917,
          35.84978383,
          35.90722132,
          35.83636391,
          35.83620957,
          35.83931725,
          35.90105464,
          35.79833968,
          35.85970982,
          35.78033026,
          35.82124307,
          35.80695217,
          35.90105464,
          35.84978383,
          35.83835215,
          35.81593467,
          35.86380448,
          35.89851007,
          35.7254846,
          35.94053989,
          35.79354192,
          35.82131683,
          35.91133298,
          35.83592274,
          35.76674009,
          35.78834892,
          35.77973525,
          35.85400324,
          35.7548246,
          35.81676957,
          35.80453192,
          35.84129524,
          35.81728333,
          35.77902559,
          35.78996917,
          35.78621542,
          35.89676189,
          35.91945307,
          35.77806083,
          35.9051959,
          35.79264192,
          35.94386897,
          35.78779193,
          35.81825683,
          35.90950749,
          35.66336704,
          35.85065481,
          35.8662804,
          35.90878681,
          35.9068519,
          35.77926733,
          35.90736456,
          35.83913507,
          35.87186823,
          35.90790481,
          35.89359506,
          35.77605475,
          35.77837659,
          35.83603982,
          35.89996606,
          35.82544758,
          35.78405475,
          35.90790481,
          35.88191391,
          35.9068519,
          35.94075522,
          35.79885066,
          35.85459908,
          35.762815,
          35.90523097,
          35.84755141,
          35.79387526,
          35.86923291,
          35.88527957,
          35.79794409,
          35.78751192,
          35.63477203,
          35.79907767,
          35.773597,
          35.77013571,
          35.89223606,
          35.78916867,
          35.790355,
          35.8662804,
          35.78474042,
          35.78808792,
          35.84885683,
          35.82957833,
          35.7765961,
          35.82517717,
          35.87454257,
          35.79885066,
          35.77862093,
          35.79169717,
          35.83739883,
          35.84477033,
          35.77816925,
          35.90891239,
          35.76749617,
          35.80415325,
          35.76713475,
          35.86810758,
          35.88064315,
          35.94386897,
          35.82855957,
          35.8349864,
          35.80695217,
          35.8662804,
          35.90105464,
          35.89559324,
          35.77671251,
          35.79771784,
          35.83931725,
          35.86923291,
          35.80324451,
          35.77622718,
          35.73409567,
          35.79783425,
          35.76583135,
          35.91234265,
          35.77740551,
          35.83591391,
          35.83931725,
          35.86064464,
          35.78961018,
          35.9142139,
          35.73464526,
          35.94195239,
          35.78266992,
          35.83931725,
          35.80806,
          35.77870975,
          35.90523097,
          35.87396657,
          35.89518007,
          35.83534565,
          35.77835842,
          35.72823709,
          35.77782018,
          35.77782018,
          35.83563533,
          35.81292749,
          35.79001283,
          35.85753199,
          35.77828617,
          35.83798332,
          35.83719099,
          35.90556515,
          35.78447976,
          35.77871833,
          35.81457601,
          35.72206519,
          35.79885066,
          35.8401699,
          35.83795741,
          35.80149859,
          35.762815,
          35.78363334,
          35.86643206,
          35.66774012,
          35.86327265,
          35.9068519,
          35.8349864,
          35.86036632,
          35.79325476,
          35.72427852,
          35.80484566,
          35.89932731,
          35.9068519,
          35.83719099,
          35.77972726,
          35.89213664,
          35.85499399,
          35.8074925,
          35.81457601,
          35.81939891,
          35.80114582,
          35.73402367,
          35.78185875,
          35.88393748,
          35.79743766,
          35.8634444,
          35.72206519,
          35.90622131,
          35.83604958,
          35.94428213,
          35.79039125,
          35.90461115,
          35.8244305,
          35.9295858,
          35.83911025,
          35.78682725,
          35.83287258,
          35.78996917,
          35.81624816,
          35.81676957,
          35.78363334,
          35.78976083,
          35.89359506,
          35.8662804,
          35.77657759,
          35.77835842,
          35.90461115,
          35.8985009,
          35.80769092,
          35.9068519,
          35.77782018,
          35.80924691,
          35.8349864,
          35.81615117,
          35.78941958,
          35.78351542,
          35.91578847,
          35.85985466,
          35.85400324,
          35.78661175,
          35.84340166,
          35.86881664,
          35.85876533,
          35.81676957,
          35.78151809,
          35.77365209,
          35.81817357,
          35.79007692,
          35.76724392,
          35.74360868,
          35.86104241,
          35.85721598,
          35.91424048,
          35.72829959,
          35.89435881,
          35.90762548,
          35.80920957,
          35.78482975,
          35.8985009,
          35.81729325,
          35.78456842,
          35.78561401,
          35.9068519,
          35.84834257,
          35.84928665,
          35.91424048,
          35.75036893,
          35.80324451,
          35.8074925,
          35.80324451,
          35.80324451,
          35.85876533,
          35.82544758
         ],
         "legendgroup": "raleigh",
         "lon": [
          -78.57967665,
          -78.6910692,
          -78.62082881,
          -78.57847149,
          -78.65202015,
          -78.58619614,
          -78.64609239,
          -78.64966681,
          -78.60062541,
          -78.66097713,
          -78.6876397,
          -78.57735524,
          -78.63936489,
          -78.6602578,
          -78.58265898,
          -78.68248846,
          -78.6340898,
          -78.70639645,
          -78.6129409,
          -78.62602306,
          -78.63713722,
          -78.69889946,
          -78.50931118,
          -78.70141647,
          -78.67369538,
          -78.67951071,
          -78.58785441,
          -78.61159224,
          -78.72293853,
          -78.68338522,
          -78.63562889,
          -78.66059971,
          -78.64468881,
          -78.74145494,
          -78.60995698,
          -78.59114223,
          -78.62594081,
          -78.64349731,
          -78.78398142,
          -78.57847149,
          -78.58941115,
          -78.62197848,
          -78.55982173,
          -78.54796209,
          -78.5837309,
          -78.79210026,
          -78.64125889,
          -78.67900996,
          -78.6602578,
          -78.79210026,
          -78.69349029,
          -78.57689448,
          -78.77695584,
          -78.57833999,
          -78.68223246,
          -78.6449398,
          -78.55982173,
          -78.68200654,
          -78.62166264,
          -78.66664947,
          -78.67872314,
          -78.67872314,
          -78.63943264,
          -78.78334835,
          -78.71758269,
          -78.6970997,
          -78.63957497,
          -78.62602306,
          -78.66276463,
          -78.61155582,
          -78.5596234,
          -78.65441789,
          -78.63751871,
          -78.5961504,
          -78.62166264,
          -78.63879789,
          -78.58018191,
          -78.6602578,
          -78.68140762,
          -78.65333672,
          -78.5783839,
          -78.63978806,
          -78.66382646,
          -78.70383637,
          -78.57926433,
          -78.64701822,
          -78.559998,
          -78.66911755,
          -78.64420613,
          -78.54837151,
          -78.64443555,
          -78.61206281,
          -78.56916558,
          -78.67872314,
          -78.64827489,
          -78.65724712,
          -78.70209786,
          -78.66664947,
          -78.66354397,
          -78.64424247,
          -78.57917807,
          -78.78334835,
          -78.60126281,
          -78.64802898,
          -78.64701822,
          -78.53896075,
          -78.70241812,
          -78.64697296,
          -78.64778556,
          -78.63865982,
          -78.72883394,
          -78.64524988,
          -78.63745155,
          -78.54362149,
          -78.53977075,
          -78.63409388,
          -78.57847149,
          -78.6754918,
          -78.80632484,
          -78.63804248,
          -78.56852507,
          -78.81423008,
          -78.57896431,
          -78.64642614,
          -78.5867454,
          -78.61267389,
          -78.78791959,
          -78.71215703,
          -78.60822523,
          -78.63784322,
          -78.6274814,
          -78.78334835,
          -78.64672697,
          -78.65475972,
          -78.65551681,
          -78.74405677,
          -78.63206282,
          -78.62913782,
          -78.78302381,
          -78.67605304,
          -78.5888659,
          -78.6449398,
          -78.6584509,
          -78.70344887,
          -78.7015238,
          -78.78334835,
          -78.69062278,
          -78.53751091,
          -78.61355673,
          -78.67978737,
          -78.61383257,
          -78.67723095,
          -78.71515946,
          -78.57080607,
          -78.63312881,
          -78.65211655,
          -78.63883981,
          -78.54362149,
          -78.71199827,
          -78.72593594,
          -78.71191096,
          -78.50931118,
          -78.69565546,
          -78.69524954,
          -78.7814356,
          -78.6471218,
          -78.62444739,
          -78.71583278,
          -78.63898681,
          -78.64560315,
          -78.64517014,
          -78.63983138,
          -78.69268962,
          -78.61262665,
          -78.63896506,
          -78.66922671,
          -78.53751091,
          -78.63888739,
          -78.6211989,
          -78.60033173,
          -78.64445422,
          -78.67834695,
          -78.6148089,
          -78.57847149,
          -78.64394589,
          -78.70141647,
          -78.60562466,
          -78.62569015,
          -78.62518839,
          -78.64633472,
          -78.69488138,
          -78.69565546,
          -78.68223246,
          -78.68572854,
          -78.59121831,
          -78.63894782,
          -78.67755529,
          -78.70465562,
          -78.62444739,
          -78.67900996,
          -78.68248846,
          -78.6504203,
          -78.74230845,
          -78.72754236,
          -78.61947006,
          -78.66331081,
          -78.78334835,
          -78.62312498,
          -78.61261997,
          -78.6368973,
          -78.70241812,
          -78.59044224,
          -78.58692931,
          -78.72293853,
          -78.72293853,
          -78.64795656,
          -78.65677038,
          -78.60033173,
          -78.60482357,
          -78.6305369,
          -78.62251588,
          -78.62599455,
          -78.68316687,
          -78.65475972,
          -78.78356301,
          -78.72548111,
          -78.67810638,
          -78.78791959,
          -78.56916558,
          -78.59823624,
          -78.70313537,
          -78.53911051,
          -78.67588797,
          -78.69876496,
          -78.65543106,
          -78.66105896,
          -78.62263364,
          -78.69299571,
          -78.78334835,
          -78.64297679,
          -78.62251588,
          -78.61995256,
          -78.69926871,
          -78.58517482,
          -78.65140847,
          -78.70695545,
          -78.66651263,
          -78.68248846,
          -78.67605304,
          -78.65760254,
          -78.68916146,
          -78.59154908,
          -78.58796431,
          -78.57953607,
          -78.64297679,
          -78.57923890000001,
          -78.54858801,
          -78.56075374,
          -78.64526746,
          -78.74320378,
          -78.61339405,
          -78.63598665,
          -78.58517482,
          -78.5961504,
          -78.78334835,
          -78.64297679,
          -78.68107546,
          -78.66782663,
          -78.64230481,
          -78.58941115,
          -78.66599004,
          -78.65729604,
          -78.59079165,
          -78.63962897,
          -78.77695584,
          -78.54796209,
          -78.6885627,
          -78.70695545,
          -78.69299571,
          -78.57981065,
          -78.59668816,
          -78.50931118,
          -78.65307122,
          -78.69949471,
          -78.66157289,
          -78.77639968,
          -78.6970997,
          -78.61023615,
          -78.5801169,
          -78.64697296,
          -78.68034205,
          -78.62166264,
          -78.63298515,
          -78.65023579,
          -78.62166264,
          -78.65333672,
          -78.67605304,
          -78.65035098,
          -78.63804239,
          -78.70319603,
          -78.65518655,
          -78.56010141,
          -78.65677038,
          -78.7380576,
          -78.58213499,
          -78.65023579,
          -78.73922078,
          -78.57953607,
          -78.61557773,
          -78.67444996,
          -78.59154908,
          -78.70428645,
          -78.64016631,
          -78.58934581,
          -78.62312498,
          -78.6604412,
          -78.67578687,
          -78.64802898,
          -78.70563187,
          -78.63970739,
          -78.65858039,
          -78.6498043,
          -78.63876765,
          -78.66059971,
          -78.78220459,
          -78.60132682,
          -78.77695584,
          -78.64534681,
          -78.69565546,
          -78.79032466,
          -78.61557773,
          -78.61557773,
          -78.66105896,
          -78.68248846,
          -78.66354397,
          -78.63958047,
          -78.558703,
          -78.54362149,
          -78.5796679,
          -78.6375318,
          -78.54362149,
          -78.6602578,
          -78.64644431,
          -78.60826682,
          -78.56000658,
          -78.6375318,
          -78.63794415,
          -78.64059755,
          -78.5823769,
          -78.69757128,
          -78.65090865,
          -78.64730313,
          -78.6604412,
          -78.68223246,
          -78.6203889,
          -78.69043496,
          -78.64610114,
          -78.64297679,
          -78.63753339,
          -78.64560315,
          -78.6274814,
          -78.70472779,
          -78.68915338,
          -78.62784564,
          -78.5888659,
          -78.63206282,
          -78.72728628,
          -78.63206282,
          -78.62548323,
          -78.80178225,
          -78.64438113,
          -78.62263364,
          -78.6274814,
          -78.69252396,
          -78.61383257,
          -78.66105896,
          -78.62606423,
          -78.60015315,
          -78.61018997,
          -78.59143464,
          -78.62471247,
          -78.5830954,
          -78.79921509,
          -78.63883981,
          -78.5509444,
          -78.59041041,
          -78.72593594,
          -78.78145533,
          -78.60143149,
          -78.69788238,
          -78.56497149,
          -78.67872314,
          -78.64297679,
          -78.63447339,
          -78.66234255,
          -78.50942592,
          -78.68248846,
          -78.6602578,
          -78.72639361,
          -78.62000014,
          -78.70578836,
          -78.70313537,
          -78.60062541,
          -78.68248846,
          -78.6717023,
          -78.64112031,
          -78.71802378,
          -78.65551681,
          -78.70656396,
          -78.64970614,
          -78.6431573,
          -78.5988819,
          -78.6203889,
          -78.56920192,
          -78.64438113,
          -78.66617613,
          -78.54086333,
          -78.64497597,
          -78.64536713,
          -78.66664947,
          -78.64420613,
          -78.56243598,
          -78.61557773,
          -78.70249095,
          -78.62209482,
          -78.64871664,
          -78.69521896,
          -78.6362389,
          -78.6390914,
          -78.64544073,
          -78.66770188,
          -78.62784564,
          -78.64564339,
          -78.64073856,
          -78.64378688,
          -78.70695545,
          -78.65461063,
          -78.57981132,
          -78.69565546,
          -78.66105896,
          -78.7118452,
          -78.78491351,
          -78.51574535,
          -78.58813766,
          -78.60292756,
          -78.67900996,
          -78.64689671,
          -78.55660033,
          -78.61981672,
          -78.64692472,
          -78.70522396,
          -78.68244762,
          -78.6203889,
          -78.65148932,
          -78.65212104,
          -78.6756247,
          -78.64652514,
          -78.72548111,
          -78.72050862,
          -78.61848048,
          -78.71199827,
          -78.67605304,
          -78.68916146,
          -78.72293853,
          -78.72293853,
          -78.58517482,
          -78.58889189,
          -78.57713899,
          -78.58155933,
          -78.73876969,
          -78.61499807,
          -78.65461063,
          -78.68557988,
          -78.71199827,
          -78.58143557,
          -78.59178165,
          -78.67900996,
          -78.6364343,
          -78.62444739,
          -78.64059755,
          -78.63970739,
          -78.72293853,
          -78.72293853,
          -78.64477322,
          -78.63625114,
          -78.67777654,
          -78.65602922,
          -78.72050862,
          -78.5867454,
          -78.67544621,
          -78.60292756,
          -78.6203889,
          -78.65424256,
          -78.60015315,
          -78.63447714,
          -78.67971246,
          -78.65522188,
          -78.65677038,
          -78.58031708,
          -78.66331081,
          -78.68961671,
          -78.6348233,
          -78.58619614,
          -78.63819747,
          -78.60554815,
          -78.78305127,
          -78.64400439,
          -78.62082881,
          -78.68057238,
          -78.67605304,
          -78.64791388,
          -78.54741583,
          -78.55938499,
          -78.576038,
          -78.58018074,
          -78.64828473,
          -78.6661813,
          -78.62513131,
          -78.66651263,
          -78.70580387,
          -78.70695545,
          -78.72831743,
          -78.72593594,
          -78.62251588,
          -78.5885334,
          -78.62096506,
          -78.64349731,
          -78.70313537,
          -78.63776722,
          -78.65261196,
          -78.66059971,
          -78.55786634,
          -78.55724525,
          -78.60021973,
          -78.54212983,
          -78.78334835,
          -78.79335143,
          -78.782819,
          -78.67644139,
          -78.57021007,
          -78.55938499,
          -78.74123044,
          -78.63976838,
          -78.54122916,
          -78.68248846,
          -78.67871396,
          -78.50931118,
          -78.73779336,
          -78.5778899,
          -78.61511107,
          -78.73483602,
          -78.73779336,
          -78.63883981,
          -78.58500532,
          -78.65709855,
          -78.58408349,
          -78.72815294,
          -78.62166264,
          -78.56916558,
          -78.64347238,
          -78.6259334,
          -78.58383641,
          -78.6604412,
          -78.66059971,
          -78.67872314,
          -78.63943264,
          -78.63994698,
          -78.59714191,
          -78.63846095,
          -78.67284929,
          -78.67810638,
          -78.6717023,
          -78.63994698,
          -78.64639989,
          -78.64526746,
          -78.72593594,
          -78.6749137,
          -78.63997331,
          -78.69299571,
          -78.78225809,
          -78.72126053,
          -78.67772805,
          -78.62444739,
          -78.65854788,
          -78.59936856,
          -78.67111545,
          -78.55982173,
          -78.6105829,
          -78.65494329,
          -78.62444739,
          -78.64041314,
          -78.69975164,
          -78.68893987,
          -78.63990648,
          -78.66895681,
          -78.64672339,
          -78.67330245,
          -78.65461063,
          -78.57834823,
          -78.6970997,
          -78.67526563,
          -78.57014675,
          -78.67834695,
          -78.59202873,
          -78.72293853,
          -78.63794281,
          -78.50931118,
          -78.6148089,
          -78.54331275,
          -78.58692931,
          -78.60286056,
          -78.6362389,
          -78.59114223,
          -78.57841741,
          -78.61995256,
          -78.66157289,
          -78.62123948,
          -78.57981065,
          -78.69975164,
          -78.67702546,
          -78.78588652,
          -78.6203889,
          -78.6456934,
          -78.54090991,
          -78.6148089,
          -78.62123948,
          -78.64297679,
          -78.64349731,
          -78.58651607,
          -78.66874097,
          -78.65677038,
          -78.6935077,
          -78.73919345,
          -78.66730471,
          -78.63936489,
          -78.55932341,
          -78.68223246,
          -78.62082881,
          -78.55751941,
          -78.72644486,
          -78.64031598,
          -78.6602578,
          -78.78791959,
          -78.62694565,
          -78.70717553,
          -78.5866289,
          -78.6375318,
          -78.61369782,
          -78.72967919,
          -78.65910504,
          -78.62465289,
          -78.58877607,
          -78.65223464,
          -78.62166264,
          -78.78334835,
          -78.66770188,
          -78.63883981,
          -78.68116671,
          -78.62018089,
          -78.69867189,
          -78.66922671,
          -78.56215992,
          -78.6661813,
          -78.70695545,
          -78.65461063,
          -78.70387364,
          -78.68200654,
          -78.59044224,
          -78.6389358,
          -78.61557773,
          -78.66234255,
          -78.71802378,
          -78.68316687,
          -78.56916558,
          -78.64845022,
          -78.63206282,
          -78.79210026,
          -78.7816286,
          -78.6205969,
          -78.60855499,
          -78.6084454,
          -78.65591555,
          -78.71243545,
          -78.64931998,
          -78.68373088,
          -78.67605304,
          -78.70609953,
          -78.64840838,
          -78.68116671,
          -78.6308723,
          -78.6974243,
          -78.61951523,
          -78.76699418,
          -78.68759163,
          -78.55806917,
          -78.62162989,
          -78.58118558,
          -78.78255001,
          -78.58106883,
          -78.56140607,
          -78.67605304,
          -78.58053199,
          -78.70472779,
          -78.60562466,
          -78.579872,
          -78.64018864,
          -78.58796431,
          -78.5844104,
          -78.5859304,
          -78.55982173,
          -78.73643071,
          -78.64297679,
          -78.61871772,
          -78.54088691,
          -78.67526563,
          -78.64475172,
          -78.68493288,
          -78.61511107,
          -78.5867454,
          -78.62166264,
          -78.62082881,
          -78.57896431,
          -78.77695584,
          -78.64668781,
          -78.72639361,
          -78.56176207,
          -78.61367305,
          -78.57990149,
          -78.68129095,
          -78.53977075,
          -78.64500313,
          -78.65097198,
          -78.79050176,
          -78.61848906,
          -78.68116671,
          -78.6974243,
          -78.67906547,
          -78.56962782,
          -78.62312498,
          -78.50618802,
          -78.60286056,
          -78.58046533,
          -78.5823769,
          -78.78380008,
          -78.63753339,
          -78.60995698,
          -78.76417626,
          -78.67552154,
          -78.70965428,
          -78.70051428,
          -78.6386433,
          -78.67900996,
          -78.6558313,
          -78.68874338,
          -78.68953247,
          -78.60062541,
          -78.77695584,
          -78.785168,
          -78.67810638,
          -78.64524988,
          -78.70776162,
          -78.55796941,
          -78.61144573,
          -78.68985362,
          -78.66105896,
          -78.73693928,
          -78.74897136,
          -78.61016957,
          -78.67605304,
          -78.58877607,
          -78.74405677,
          -78.65754589,
          -78.67605304,
          -78.59794707,
          -78.6379868,
          -78.7377362,
          -78.55982173,
          -78.59044224,
          -78.79210026,
          -78.58877607,
          -78.64002756,
          -78.78334835,
          -78.80455042,
          -78.6271484,
          -78.64278081,
          -78.6604412,
          -78.70048955,
          -78.58860915,
          -78.71709244,
          -78.65443046,
          -78.55982173,
          -78.65851138,
          -78.77695584,
          -78.64349731,
          -78.5830954,
          -78.60015315,
          -78.63692681,
          -78.62018089,
          -78.57014675,
          -78.65337738,
          -78.68200654,
          -78.69848171,
          -78.61144573,
          -78.65506564,
          -78.62452738,
          -78.63762465,
          -78.69299571,
          -78.67872314,
          -78.59303849,
          -78.63503164,
          -78.64526746,
          -78.71414453,
          -78.70861911,
          -78.66223072,
          -78.56526425,
          -78.67605304,
          -78.6431573,
          -78.58044649,
          -78.78332836,
          -78.60008773,
          -78.51969051,
          -78.63879789,
          -78.67872314,
          -78.5830954,
          -78.67973754,
          -78.6381178,
          -78.61206281,
          -78.65844846,
          -78.70458312,
          -78.69054455,
          -78.61874148,
          -78.62404348,
          -78.65060281,
          -78.66755414,
          -78.77695584,
          -78.64071606,
          -78.67982913,
          -78.64730313,
          -78.54362316,
          -78.72293853,
          -78.72293853,
          -78.63406305,
          -78.68450362,
          -78.57967665,
          -78.64914873,
          -78.62166264,
          -78.60286056,
          -78.66706688,
          -78.62444739,
          -78.64078597,
          -78.66158647,
          -78.60062541,
          -78.5823769,
          -78.5854729,
          -78.64406655,
          -78.68935862,
          -78.60015315,
          -78.50931118,
          -78.69378488,
          -78.64018864,
          -78.63599738,
          -78.78199843,
          -78.62444739,
          -78.73779336,
          -78.78894643,
          -78.72528929,
          -78.6274814,
          -78.54796209,
          -78.57899808,
          -78.576038,
          -78.63406305,
          -78.55984932,
          -78.68124087,
          -78.60062541,
          -78.62082881,
          -78.68034205,
          -78.61307274,
          -78.71688653,
          -78.71079236,
          -78.69461129,
          -78.63872597,
          -78.71681146,
          -78.62235847,
          -78.785168,
          -78.58692931,
          -78.6274814,
          -78.582419,
          -78.57119108,
          -78.43559053,
          -78.70695545,
          -78.78791959,
          -78.74074061,
          -78.68803646,
          -78.62268231,
          -78.59244949,
          -78.54796209,
          -78.64783696,
          -78.64517014,
          -78.62784564,
          -78.5823769,
          -78.57847149,
          -78.6274814,
          -78.62251588,
          -78.50666572,
          -78.63883957,
          -78.68557988,
          -78.65844846,
          -78.62251588,
          -78.68557988,
          -78.78225809,
          -78.58517482,
          -78.58619614,
          -78.64059755,
          -78.54689984,
          -78.57895791,
          -78.61383257,
          -78.69326596,
          -78.63879789,
          -78.62166264,
          -78.56916558,
          -78.71190154,
          -78.57119108,
          -78.64697296,
          -78.63762465,
          -78.66817897,
          -78.68316687,
          -78.54752891,
          -78.54122916,
          -78.78791959,
          -78.6970997,
          -78.65671571,
          -78.70472779,
          -78.66664947,
          -78.68557988,
          -78.62298982,
          -78.63745155,
          -78.62297698,
          -78.7377362,
          -78.6407806,
          -78.62209482,
          -78.6390763,
          -78.67900996,
          -78.70472779,
          -78.62599455,
          -78.63894782,
          -78.58796431,
          -78.60292756,
          -78.67923546,
          -78.62123397,
          -78.70387364,
          -78.54088691,
          -78.60292756,
          -78.64756772,
          -78.72548111,
          -78.576038,
          -78.66408894,
          -78.6602578,
          -78.59988047,
          -78.64195105,
          -78.576038,
          -78.58796431,
          -78.67810638,
          -78.60147607,
          -78.54837151,
          -78.62599455,
          -78.54837151,
          -78.77695584,
          -78.55805483,
          -78.72293853,
          -78.72293853,
          -78.57896431,
          -78.591122,
          -78.62166264,
          -78.5823769,
          -78.68034205,
          -78.63610348,
          -78.55468707,
          -78.67444996,
          -78.62465289,
          -78.57108641,
          -78.58256557,
          -78.6602578,
          -78.61557773,
          -78.78506092,
          -78.6381178,
          -78.61511107,
          -78.67900996,
          -78.68223246,
          -78.72658862,
          -78.7086882,
          -78.61745339,
          -78.59245741,
          -78.73034637,
          -78.68223246,
          -78.61557773,
          -78.6130788,
          -78.69966638,
          -78.57259382,
          -78.65241871,
          -78.65210481,
          -78.56176207,
          -78.68565747,
          -78.62082881,
          -78.785168,
          -78.63896506,
          -78.69565546,
          -78.66922671,
          -78.61632082,
          -78.70153994,
          -78.6148089,
          -78.69299571,
          -78.64632273,
          -78.61244606,
          -78.5961504,
          -78.64072906,
          -78.6602578,
          -78.66152339,
          -78.72548111,
          -78.74436193,
          -78.63861647,
          -78.65724712,
          -78.547511,
          -78.54362149,
          -78.66706688,
          -78.62231322,
          -78.78199843,
          -78.69975164,
          -78.60608449,
          -78.61874148,
          -78.72593594,
          -78.78334835,
          -78.63844656,
          -78.77725767,
          -78.64107422,
          -78.67834695,
          -78.59009764,
          -78.50931118,
          -78.64472422,
          -78.63795172,
          -78.60815223,
          -78.79210026,
          -78.70695545,
          -78.69045628,
          -78.59009764,
          -78.64671839,
          -78.78334835,
          -78.55982173,
          -78.57923890000001,
          -78.55796941,
          -78.67973754,
          -78.60015315,
          -78.59604248,
          -78.6885627,
          -78.62251588,
          -78.65998321,
          -78.567803,
          -78.64657439,
          -78.7138927,
          -78.57712949,
          -78.63997331,
          -78.67343826,
          -78.59988047,
          -78.63456255,
          -78.6348233,
          -78.61874148,
          -78.64755788,
          -78.66772047,
          -78.58749799,
          -78.5859304,
          -78.63784764,
          -78.70319603,
          -78.53977075,
          -78.57923890000001,
          -78.64041314,
          -78.61395647,
          -78.63883981,
          -78.67921987,
          -78.64044813,
          -78.59784664,
          -78.578215,
          -78.63276831,
          -78.7417682,
          -78.69653237,
          -78.64730313,
          -78.54362149,
          -78.62050623,
          -78.58517482,
          -78.73034637,
          -78.61874148,
          -78.68223246,
          -78.80779441,
          -78.64215198,
          -78.70048955,
          -78.67900996,
          -78.62251588,
          -78.72293853,
          -78.6356103,
          -78.65165973,
          -78.65844846,
          -78.74067395,
          -78.77801283,
          -78.63692223,
          -78.63634089,
          -78.67900996,
          -78.58265898,
          -78.74356085,
          -78.78114592,
          -78.65333672,
          -78.54122916,
          -78.65564997,
          -78.67900996,
          -78.5959354,
          -78.60562466,
          -78.60015315,
          -78.62444739,
          -78.65050613,
          -78.63753339,
          -78.67605304,
          -78.63926064,
          -78.64560315,
          -78.64560315,
          -78.58146366,
          -78.6274814,
          -78.66157289,
          -78.59543749,
          -78.64902222,
          -78.64071606,
          -78.64297679,
          -78.70279728,
          -78.67872314,
          -78.64555664,
          -78.6970997,
          -78.65202015,
          -78.57923890000001,
          -78.64349731,
          -78.60078131,
          -78.6362898,
          -78.67973754,
          -78.64697296,
          -78.57108515,
          -78.69716847,
          -78.71057387,
          -78.78334835,
          -78.58517482,
          -78.70776162,
          -78.69018863,
          -78.54853184,
          -78.64652514,
          -78.65461063,
          -78.78334835,
          -78.64297679,
          -78.64794639,
          -78.60122673,
          -78.64059755,
          -78.6305369,
          -78.6970997,
          -78.62160697,
          -78.56526425,
          -78.64955339,
          -78.63858306,
          -78.58271074,
          -78.576001,
          -78.53911051,
          -78.65202015,
          -78.59244949,
          -78.63427855,
          -78.54524884,
          -78.74247244,
          -78.7814356,
          -78.62437847,
          -78.56497149,
          -78.61320123,
          -78.64666065,
          -78.66458347,
          -78.6602578,
          -78.72639361,
          -78.69299571,
          -78.64697296,
          -78.66234255,
          -78.50931118,
          -78.61874148,
          -78.63713722,
          -78.67605304,
          -78.7814356,
          -78.68248846,
          -78.61920065,
          -78.78334835,
          -78.64560315,
          -78.61951523,
          -78.58517482,
          -78.69425705,
          -78.6390763,
          -78.63331248,
          -78.65046954,
          -78.582482,
          -78.70153994,
          -78.64485464,
          -78.61118939,
          -78.5830954,
          -78.70313537,
          -78.69299571,
          -78.64791388,
          -78.64125889,
          -78.70241812,
          -78.6406953,
          -78.57953607,
          -78.7377362,
          -78.70866037,
          -78.7093492,
          -78.77695584,
          -78.52542834,
          -78.62373189,
          -78.72644486,
          -78.65491974,
          -78.69305829,
          -78.68248846,
          -78.59785732,
          -78.64802898,
          -78.63882022,
          -78.78334835,
          -78.57926433,
          -78.67202971,
          -78.77695584,
          -78.64662048,
          -78.72293853,
          -78.6305369,
          -78.72293853,
          -78.72293853,
          -78.70313537,
          -78.70695545
         ],
         "marker": {
          "color": "#00cc96"
         },
         "mode": "markers",
         "name": "raleigh",
         "showlegend": true,
         "subplot": "mapbox",
         "type": "scattermapbox"
        },
        {
         "customdata": [
          [
           "101 DICKENS RD",
           "fuquay-varina"
          ],
          [
           "135 S MAIN ST",
           "fuquay-varina"
          ],
          [
           "1412 N MAIN ST",
           "fuquay-varina"
          ],
          [
           "1326 N MAIN ST",
           "fuquay-varina"
          ],
          [
           "1380 N MAIN ST",
           "fuquay-varina"
          ],
          [
           "1613  S MAIN ST",
           "fuquay-varina"
          ],
          [
           "1518 BROAD ST",
           "fuquay-varina"
          ],
          [
           "3427 N MAIN ST",
           "fuquay-varina"
          ],
          [
           "1424 N MAIN ST",
           "fuquay-varina"
          ],
          [
           "1303 N MAIN ST",
           "fuquay-varina"
          ],
          [
           "3429 N MAIN ST",
           "fuquay-varina"
          ],
          [
           "129 N MAIN ST",
           "fuquay-varina"
          ],
          [
           "1560 N BROAD ST",
           "fuquay-varina"
          ],
          [
           "8101 FAYETTEVILLE RD",
           "fuquay-varina"
          ],
          [
           "1313 N MAIN ST",
           "fuquay-varina"
          ],
          [
           "1330 N MAIN ST",
           "fuquay-varina"
          ],
          [
           "601 E BROAD ST",
           "fuquay-varina"
          ],
          [
           "7616 PURFOY RD",
           "fuquay-varina"
          ],
          [
           "1460 N MAIN ST",
           "fuquay-varina"
          ],
          [
           "1121 E ACADEMY ST",
           "fuquay-varina"
          ],
          [
           "1063 E BROAD ST",
           "fuquay-varina"
          ],
          [
           "1221 BROAD ST",
           "fuquay-varina"
          ],
          [
           "7509 PURFOY RD",
           "fuquay-varina"
          ],
          [
           "1133 OLD HONEYCUTT RD",
           "fuquay-varina"
          ],
          [
           "6516 JOHNSON POND RD",
           "fuquay-varina"
          ],
          [
           "1420 E BROAD ST",
           "fuquay-varina"
          ],
          [
           "513 E BROAD ST",
           "fuquay-varina"
          ],
          [
           "1029 E BROAD ST",
           "fuquay-varina"
          ],
          [
           "1625 N MAIN ST",
           "fuquay-varina"
          ],
          [
           "1450 N MAIN ST",
           "fuquay-varina"
          ],
          [
           "411 E BROAD ST",
           "fuquay-varina"
          ],
          [
           "112 E VANCE ST",
           "fuquay-varina"
          ],
          [
           "724 N JUDD PKY",
           "fuquay-varina"
          ],
          [
           "1400 N MAIN ST",
           "fuquay-varina"
          ],
          [
           "1384 N MAIN ST",
           "fuquay-varina"
          ],
          [
           "2916 N MAIN ST",
           "fuquay-varina"
          ],
          [
           "1404 N MAIN ST",
           "fuquay-varina"
          ],
          [
           "1430 N MAIN ST",
           "fuquay-varina"
          ],
          [
           "401 WAKE CHAPEL RD",
           "fuquay-varina"
          ],
          [
           "511 N JUDD PKY NE",
           "fuquay-varina"
          ],
          [
           "600 E BROAD ST",
           "fuquay-varina"
          ],
          [
           "973 E BROAD ST",
           "fuquay-varina"
          ],
          [
           "525 BROAD  ST",
           "fuquay-varina"
          ],
          [
           "708  N JUDD PKY",
           "fuquay-varina"
          ],
          [
           "138 S MAIN ST",
           "fuquay-varina"
          ],
          [
           "1057 E BROAD ST",
           "fuquay-varina"
          ],
          [
           "900 N MAIN ST",
           "fuquay-varina"
          ],
          [
           "1301 E BROAD ST",
           "fuquay-varina"
          ],
          [
           "2916 N MAIN  ST",
           "fuquay-varina"
          ],
          [
           "1409 N MAIN ST",
           "fuquay-varina"
          ],
          [
           "1351 E BROAD ST",
           "fuquay-varina"
          ],
          [
           "1341 N MAIN ST",
           "fuquay-varina"
          ],
          [
           "3421 N MAIN ST",
           "fuquay-varina"
          ],
          [
           "1408 N MAIN ST",
           "fuquay-varina"
          ],
          [
           "1061 E BROAD ST",
           "fuquay-varina"
          ],
          [
           "155 S MAIN ST",
           "fuquay-varina"
          ],
          [
           "624 LAKESTONE COMMONS AVE",
           "fuquay-varina"
          ],
          [
           "2100 GATHERING SQUARE CT",
           "fuquay-varina"
          ],
          [
           "133 S FUQUAY AVE",
           "fuquay-varina"
          ],
          [
           "605 STELLATA DR",
           "fuquay-varina"
          ],
          [
           "1374 N MAIN ST",
           "fuquay-varina"
          ],
          [
           "722 N JUDD PKWY NE",
           "fuquay-varina"
          ],
          [
           "100 DICKENS RD",
           "fuquay-varina"
          ],
          [
           "1406 E BROAD ST",
           "fuquay-varina"
          ],
          [
           "2221 N GRASSLAND DR",
           "fuquay-varina"
          ],
          [
           "305 S MAIN ST",
           "fuquay-varina"
          ],
          [
           "1436 N MAIN ST",
           "fuquay-varina"
          ],
          [
           "1385 N MAIN ST",
           "fuquay-varina"
          ],
          [
           "7405 SUNSET LAKE RD",
           "fuquay-varina"
          ],
          [
           "1655 N MAIN ST",
           "fuquay-varina"
          ],
          [
           "1480 N MAIN ST",
           "fuquay-varina"
          ],
          [
           "701 N MAIN ST",
           "fuquay-varina"
          ],
          [
           "1440 E BOAD  ST",
           "fuquay-varina"
          ],
          [
           "1629 N MAIN ST",
           "fuquay-varina"
          ],
          [
           "1860 CINEMA DR",
           "fuquay-varina"
          ],
          [
           "736 N MAIN ST",
           "fuquay-varina"
          ],
          [
           "500 E BROAD ST",
           "fuquay-varina"
          ],
          [
           "1299 N MAIN ST",
           "fuquay-varina"
          ],
          [
           "146 S. MAIN STREET",
           "fuquay-varina"
          ],
          [
           "1885 N BROAD ST",
           "fuquay-varina"
          ],
          [
           "1311 E BROAD ST",
           "fuquay-varina"
          ],
          [
           "8000 PURFOY RD",
           "fuquay-varina"
          ],
          [
           "1526 BROAD ST",
           "fuquay-varina"
          ],
          [
           "132 S FUQUAY AVE",
           "fuquay-varina"
          ],
          [
           "711 N MAIN ST",
           "fuquay-varina"
          ],
          [
           "943 E BROAD ST",
           "fuquay-varina"
          ],
          [
           "1051 E BROAD ST",
           "fuquay-varina"
          ],
          [
           "1324 N MAIN ST",
           "fuquay-varina"
          ],
          [
           "400 W RANSOM ST",
           "fuquay-varina"
          ],
          [
           "1005 E BROAD ST",
           "fuquay-varina"
          ],
          [
           "7417 SUNSET LAKE RD",
           "fuquay-varina"
          ]
         ],
         "hovertemplate": "<b>%{hovertext}</b><br><br>City=%{customdata[1]}<br>Y=%{lat}<br>X=%{lon}<br>Address 1=%{customdata[0]}<extra></extra>",
         "hovertext": [
          "TAQUERIA LA COSTENA",
          "BRUS ON MAIN",
          "WAFFLE HOUSE",
          "SUBWAY",
          "STARBUCKS #14381",
          "HIGHGROVE ESTATE",
          "JUMBO CHINA RESTUARANT",
          "NEW RAINBOW CHINESE RESTAURANT",
          "MEI WEI ASIAN DINER",
          "FIREHOUSE SUBS #917",
          "SUBWAY #42484",
          "JOYCE AND FAMILY RESTAURANT",
          "HARDEE'S #1655",
          "HARRIS TEETER #283 STARBUCKS",
          "DAN SUSHI HIBACHI",
          "PANERA BREAD #6073",
          "AVIATOR PIZZERIA & BEER SHOP",
          "COMFORT INN OF FUQUAY BREAKFAST",
          "CHICK-FIL-A #1359",
          "CALYX LIVING OF FUQUAY DINING",
          "FIESTA TIME MEXICAN RESTAURANT",
          "WINDSOR POINT RESTAURANT",
          "MILANO'S PIZZA",
          "WILLOW CREEK EXXON",
          "THE ADDISON OF FUQUAY-VARINA DINING",
          "CLEVELAND DRAFT HOUSE",
          "NIL'S CAFE MEDITERRANEAN CUISINE",
          "KING CHINESE BUFFET",
          "WINGIN'IT BAR AND GRILLE",
          "DUNKIN'",
          "SUPABOWLZ",
          "CASA AMIGOS MEXICAN COCINA",
          "JIMMY JOHN'S #3665",
          "BOJANGLES",
          "TACO BELL",
          "TIOS PIZZA EMPANADAS & WINGS",
          "ARBY'S #70286",
          "TACOS MEXICO",
          "LOS TRES MAGUEYES",
          "QUALITY INN FOOD SERVICE",
          "AVIATOR BREWING TAP HOUSE",
          "LA TAQUERIA",
          "AVIATOR SMOKEHOUSE",
          "HIBACHI & CO",
          "ANNAS PIZZERIA",
          "SUBWAY #54848 @ WALMART",
          "GARIBALDI TRATTORIA PIZZA E PASTA",
          "EL LOBO MEXICAN RESTAURANT",
          "KUMO SUSHI & HIBACHI",
          "MCDONALDS #28653",
          "CELLAR 55",
          "ZAXBY'S #66201",
          "HWY 55 BURGERS SHAKES & FRIES",
          "DAIRY QUEEN #40925",
          "WING IT ON",
          "EL CANTARITO BAR & GRILL",
          "INIS KITCHEN",
          "KHAO SEN",
          "THE LIBRARY STEAKHOUSE",
          "BISCUITVILLE # 169",
          "WENDY'S #1985",
          "JOHNNY'S PIZZA",
          "BLUEGRASS BAGELS",
          "MOE'S SOUTHWEST GRILL",
          "TRIPLE BARREL TAVERN",
          "THE MASON JAR TAVERN",
          "EGGS UP GRILL #17",
          "CHIPOTLE #3024",
          "KING WOK",
          "SHEETZ #365",
          "APPLEBEE'S #1125",
          "JERSEY MIKE'S #3021",
          "SMITHFIELD'S CHICKEN 'N BAR-B-Q FUQUAY-VARINA",
          "MARCO'S #8655",
          "CULVER'S OF FUQUAY VARINA",
          "LITTLE PORTUGAL",
          "J & S NEW YORK PIZZA",
          "BURGER KING #6063",
          "THE MILL",
          "SHEETZ #598",
          "ZEERA INDIAN RESTAURANT",
          "CONNECTIONS CAFE",
          "DADDY D'S BBQ",
          "VICIOUS FISHES BREWERY TAP & KITCHEN",
          "ABBEY ROAD TAVERN & GRILL",
          "JERSEY BOY SUBS #001",
          "TROPICAL SMOOTHIE",
          "TACOS OAXACA",
          "THE HOPE CENTER KITCHEN",
          "THE GYRO SPOT",
          "ASSAGGIO'S PIZZERIA RISTORANTE"
         ],
         "lat": [
          35.61594555,
          35.58320372,
          35.59255304,
          35.59047463,
          35.59178022,
          35.55650081,
          35.60486538,
          35.62516146,
          35.59261655,
          35.59228296,
          35.62516146,
          35.58594805,
          35.60446164,
          35.66364619,
          35.59228296,
          35.59047463,
          35.59304771,
          35.58999797,
          35.59383062,
          35.58446389,
          35.59287671,
          35.60086921,
          35.59151022,
          35.58333855,
          35.60633196,
          35.59376972,
          35.59342697,
          35.59365979,
          35.59674746,
          35.59359847,
          35.59380547,
          35.58169896,
          35.59344505,
          35.59221963,
          35.59204904,
          35.61559312,
          35.59236555,
          35.59261655,
          35.59072588,
          35.59061005,
          35.59278922,
          35.59365979,
          35.59327288,
          35.59344505,
          35.58309396,
          35.59255975,
          35.59111313,
          35.59548914,
          35.61559312,
          35.59372439,
          35.59548914,
          35.59242914,
          35.62463692,
          35.59258972,
          35.59287671,
          35.58291547,
          35.59281562,
          35.60086921,
          35.5829243,
          35.5913653,
          35.59164622,
          35.59344505,
          35.61517071,
          35.59427406,
          35.6156488,
          35.58164505,
          35.59261655,
          35.59278889,
          35.59548914,
          35.5969458,
          35.59397705,
          35.59174506,
          35.59446238,
          35.5966758,
          35.60142788,
          35.59079805,
          35.59303938,
          35.59222172,
          35.58300413,
          35.61019279,
          35.59548914,
          35.57846771,
          35.60486538,
          35.58323847,
          35.59183497,
          35.59365979,
          35.59449788,
          35.59047463,
          35.57760564,
          35.59365979,
          35.59548914
         ],
         "legendgroup": "fuquay-varina",
         "lon": [
          -78.81133335,
          -78.79933219,
          -78.77205977,
          -78.77764161,
          -78.77523328,
          -78.80703969,
          -78.80247593,
          -78.72588545,
          -78.77067019,
          -78.77762736,
          -78.72588545,
          -78.80056986,
          -78.8035376,
          -78.70124301,
          -78.77762736,
          -78.77764161,
          -78.79337176,
          -78.77411336,
          -78.76758644,
          -78.78155519,
          -78.78156011,
          -78.8037686,
          -78.77314612,
          -78.75761886,
          -78.75831269,
          -78.77496836,
          -78.79402435,
          -78.78267477,
          -78.76145495,
          -78.76831644,
          -78.79474069,
          -78.79884485,
          -78.77866077,
          -78.77334769,
          -78.7742087,
          -78.73259512,
          -78.7727976,
          -78.77067019,
          -78.8000676,
          -78.78040495,
          -78.79392968,
          -78.78267477,
          -78.79375985,
          -78.77866077,
          -78.80003668,
          -78.78159378,
          -78.7869122,
          -78.77604193,
          -78.73259512,
          -78.77166402,
          -78.77604193,
          -78.77669586,
          -78.72395407,
          -78.77235878,
          -78.78156011,
          -78.79939011,
          -78.76563737,
          -78.78286119,
          -78.79783769,
          -78.78197903,
          -78.77581928,
          -78.77866077,
          -78.81080601,
          -78.77524303,
          -78.81032918,
          -78.79935735,
          -78.77067019,
          -78.77436352,
          -78.77604193,
          -78.76014604,
          -78.7668277,
          -78.79264676,
          -78.7746317,
          -78.76086545,
          -78.75373787,
          -78.78930477,
          -78.7946961,
          -78.77869436,
          -78.80003584,
          -78.80807893,
          -78.77604193,
          -78.77357778,
          -78.80247593,
          -78.79867852,
          -78.79214145,
          -78.78267477,
          -78.78150211,
          -78.77764161,
          -78.80500144,
          -78.78267477,
          -78.77604193
         ],
         "marker": {
          "color": "#ab63fa"
         },
         "mode": "markers",
         "name": "fuquay-varina",
         "showlegend": true,
         "subplot": "mapbox",
         "type": "scattermapbox"
        },
        {
         "customdata": [
          [
           "305 MATTHEWS DR",
           "holly springs"
          ],
          [
           "242 S MAIN ST",
           "holly springs"
          ],
          [
           "200 N MAIN ST",
           "holly springs"
          ],
          [
           "523 N MAIN ST",
           "holly springs"
          ],
          [
           "181 GRAND HILL PL",
           "holly springs"
          ],
          [
           "7108  GB ALFORD HWY",
           "holly springs"
          ],
          [
           "601 N MAIN ST",
           "holly springs"
          ],
          [
           "401 VILLAGE WALK DR",
           "holly springs"
          ],
          [
           "413 VILLAGE WALK DR",
           "holly springs"
          ],
          [
           "7224 GB ALFORD HWY",
           "holly springs"
          ],
          [
           "301 MATTHEWS DR",
           "holly springs"
          ],
          [
           "511 N MAIN ST",
           "holly springs"
          ],
          [
           "108 GRAND HILL PL",
           "holly springs"
          ],
          [
           "4928 LINKSLAND DR",
           "holly springs"
          ],
          [
           "7280 GB ALFORD  HWY",
           "holly springs"
          ],
          [
           "5249 SUNSET LAKE RD",
           "holly springs"
          ],
          [
           "108 OSTERVILLE DR",
           "holly springs"
          ],
          [
           "308  VILLAGE WALK  DR",
           "holly springs"
          ],
          [
           "851 VILLAGE WALK DR",
           "holly springs"
          ],
          [
           "101 GRAND HILL PL",
           "holly springs"
          ],
          [
           "632  HOLLY SPRINGS RD",
           "holly springs"
          ],
          [
           "7100 GB ALFORD HWY",
           "holly springs"
          ],
          [
           "7304 GB ALFORD HWY",
           "holly springs"
          ],
          [
           "169 GRAND HILL PL",
           "holly springs"
          ],
          [
           "5217 SUNSET LAKE RD",
           "holly springs"
          ],
          [
           "120 BASS LAKE RD",
           "holly springs"
          ],
          [
           "4212 LASSITER RD",
           "holly springs"
          ],
          [
           "150 W HOLLY SPRINGS RD",
           "holly springs"
          ],
          [
           "300 S MAIN ST",
           "holly springs"
          ],
          [
           "300 S MAIN ST",
           "holly springs"
          ],
          [
           "304 GRAND HILL PL",
           "holly springs"
          ],
          [
           "5107 LINKSLAND DR",
           "holly springs"
          ],
          [
           "133 GRAND HILL PL",
           "holly springs"
          ],
          [
           "9800 HOLLY SPRINGS RD",
           "holly springs"
          ],
          [
           "428 VILLAGE WALK DR",
           "holly springs"
          ],
          [
           "221 GRAND HILL PL",
           "holly springs"
          ],
          [
           "320 GRAND HILL PL",
           "holly springs"
          ],
          [
           "201 GRAND HILL PL",
           "holly springs"
          ],
          [
           "475 GREEN OAKS PKY",
           "holly springs"
          ],
          [
           "324 VILLAGE WALK",
           "holly springs"
          ],
          [
           "409 VILLAGE WALK DR",
           "holly springs"
          ],
          [
           "1100 AVENT FERRY RD",
           "holly springs"
          ],
          [
           "242 S MAIN ST",
           "holly springs"
          ],
          [
           "801 VILLAGE WALK DR",
           "holly springs"
          ],
          [
           "7216 GB ALFORD HWY",
           "holly springs"
          ],
          [
           "242 GRAND HILL PL",
           "holly springs"
          ],
          [
           "242 S MAIN ST",
           "holly springs"
          ],
          [
           "128 BASS LAKE RD",
           "holly springs"
          ],
          [
           "161 GRAND HILL PL",
           "holly springs"
          ],
          [
           "208 MATTHEWS DR",
           "holly springs"
          ],
          [
           "303 MATTHEWS DR",
           "holly springs"
          ],
          [
           "515 N MAIN ST",
           "holly springs"
          ],
          [
           "301  W CENTER ST",
           "holly springs"
          ],
          [
           "107 GRAND HILL PL",
           "holly springs"
          ],
          [
           "204 VILLAGE WALK DR",
           "holly springs"
          ],
          [
           "111 GRAND HILL PL",
           "holly springs"
          ],
          [
           "316 GRAND HILL PL",
           "holly springs"
          ],
          [
           "324 GRAND HILL PL",
           "holly springs"
          ],
          [
           "231 GRAND HILL PL",
           "holly springs"
          ],
          [
           "1501 WERRINGTON  DR",
           "holly springs"
          ],
          [
           "300 S MAIN ST",
           "holly springs"
          ],
          [
           "7016 GB ALFORD HWY",
           "holly springs"
          ],
          [
           "5160 SUNSET LAKE RD",
           "holly springs"
          ],
          [
           "150 COLLINS CROSSING RD",
           "holly springs"
          ],
          [
           "2004 GREEN OAKS PKWY.",
           "holly springs"
          ],
          [
           "300 S MAIN ST",
           "holly springs"
          ],
          [
           "850 S MAIN ST",
           "holly springs"
          ],
          [
           "601 VILLAGE WALK DR",
           "holly springs"
          ],
          [
           "700 CAYMAN AVE",
           "holly springs"
          ],
          [
           "121 GRAND HILL PL",
           "holly springs"
          ],
          [
           "185 GRAND HILL PL",
           "holly springs"
          ],
          [
           "7272 GB ALFORD HWY",
           "holly springs"
          ],
          [
           "5277 SUNSET LAKE RD",
           "holly springs"
          ],
          [
           "4216 LASSITER RD",
           "holly springs"
          ],
          [
           "1050 S MAIN ST",
           "holly springs"
          ],
          [
           "7256 GB ALFORD HWY",
           "holly springs"
          ],
          [
           "634 HOLLY SPRING RD",
           "holly springs"
          ],
          [
           "7244 GB ALFORD HWY",
           "holly springs"
          ],
          [
           "7244 GB ALFORD HWY",
           "holly springs"
          ],
          [
           "151 COLLINS CROSSING RD",
           "holly springs"
          ],
          [
           "114 GRAND HILL PLACE",
           "holly springs"
          ],
          [
           "325 N MAIN ST",
           "holly springs"
          ],
          [
           "124 BASS LAKE RD",
           "holly springs"
          ]
         ],
         "hovertemplate": "<b>%{hovertext}</b><br><br>City=%{customdata[1]}<br>Y=%{lat}<br>X=%{lon}<br>Address 1=%{customdata[0]}<extra></extra>",
         "hovertext": [
          "MANHATTAN PIZZA",
          "VIENI RISTOBAR",
          "PIMIENTO TEA ROOM",
          "CHEN'S GARDEN",
          "WENDY'S #6319",
          "KFC/TACO BELL #118",
          "SUBWAY #50592",
          "HICKORY TAVERN #29",
          "FIREHOUSE SUBS #1052",
          "SKRIMP SHACK #21",
          "TOWN HALL BURGER AND BEER OF HOLLY SPRINGS",
          "PAPA'S SUBS & PIZZA",
          "TAZIKI'S MEDITERRANEAN CAFE",
          "HOMEGROWN PIZZA",
          "MICHELANGELOS",
          "PANDA GARDEN",
          "THAI THAI CUISINE",
          "CHINA UNO",
          "BURGER KING #17359",
          "ZAXBY'S #44901",
          "CHINA BEST",
          "MCDONALDS #32242",
          "IHOP #2130",
          "RISE BISCUITS & DONUTS",
          "CRISTO'S BISTRO",
          "THE BLIND PELICAN",
          "SMOOTHIE KING #1662",
          "SUPABOWLZ CAFE",
          "BEP VIETNAMESE KITCHEN",
          "NIGHTINGALE",
          "FIRST WATCH #6036",
          "DEVILS RIDGE GOLF CLUB",
          "MARCO'S PIZZA #8285",
          "SUBWAY #30443",
          "FIESTA MEXICANA #6",
          "FREDDY'S FROZEN CUSTARD & STEAKBURGERS #3207",
          "AMC HOLLY SPRINGS 9",
          "TEXAS ROADHOUSE #594",
          "SEQIRUS CAFE",
          "HARRIS TEETER #311 STARBUCKS",
          "TROPICAL SMOOTHIE CAFE",
          "SHEETZ #659",
          "OSHA THAI KITCHEN AND SUSHI",
          "CHICK-FIL-A #2181",
          "HIBACHI JAPAN",
          "JERSEY MIKE'S #3176",
          "SMASHED BURGERS & COCKTAILS",
          "SPAZIO",
          "TIJUANA FLATS #182",
          "DUNKIN' #358815",
          "AYE TORO",
          "KOBE HIBACHI & SUSHI",
          "MY WAY TAVERN",
          "OLIVE GARDEN #4441",
          "ACME PIZZA CO",
          "CHILI'S GRILL & BAR #1566",
          "BLAZE PIZZA #1193",
          "MI CANCUN",
          "PANERA BREAD #6039",
          "DUNKIN' #350292",
          "LOVEGRASS KITCHEN",
          "SUBWAY #40395",
          "OSTERIA G",
          "HOLIDAY INN EXPRESS HOLLY SPRINGS BREAKFAST",
          "THE CLUB AT 12 OAKS",
          "MAMMA MIA ITALIAN BISTRO HS",
          "UNC HEALTH REX HOLLY SPRINGS HOSPITAL KITCHEN",
          "CHIPOTLE",
          "SONIC DRIVE-IN #3975",
          "BUFFALO WILD WINGS #439",
          "STARBUCKS #19453",
          "GREEK BASMA",
          "HARRIS TEETER #118 STARBUCKS",
          "EGGS UP GRILL #31",
          "HAMPTON INN & SUITES BREAKFAST HOLLY SPRINGS",
          "BELLINI LLC",
          "RANDY'S PIZZA - HOLLY SPRINGS",
          "HALAL MEAT MARKET",
          "CHASKA INDIAN CUISINE",
          "BOJANGLE'S #55",
          "DAVE'S HOT CHICKEN",
          "MR. CANCUN",
          "BASS LAKE DRAFT HOUSE"
         ],
         "lat": [
          35.66435704,
          35.64920029,
          35.65330488,
          35.65965929,
          35.66222178,
          35.6357982,
          35.6609717,
          35.64081288,
          35.64081288,
          35.63499737,
          35.66435704,
          35.65965929,
          35.66266429,
          35.65750586,
          35.63499737,
          35.66679612,
          35.67779295,
          35.63987629,
          35.6388402,
          35.65904554,
          35.65380862,
          35.63624795,
          35.63485497,
          35.66266429,
          35.66679612,
          35.65380862,
          35.66435704,
          35.6557607,
          35.64817337,
          35.64817337,
          35.66711929,
          35.65562662,
          35.66266429,
          35.66712753,
          35.63987629,
          35.66457195,
          35.66711929,
          35.66375337,
          35.65081004,
          35.63987629,
          35.64081288,
          35.63913796,
          35.64920029,
          35.63921896,
          35.63499737,
          35.66566995,
          35.64920029,
          35.65380862,
          35.66266429,
          35.66473278,
          35.66435704,
          35.65965929,
          35.65096454,
          35.66266429,
          35.63987629,
          35.65965837,
          35.66711929,
          35.66711929,
          35.66506662,
          35.6373838,
          35.64817337,
          35.63635562,
          35.66756996,
          35.6345287,
          35.67147453,
          35.64817337,
          35.64254063,
          35.63983004,
          35.66114388,
          35.66266429,
          35.66266429,
          35.63499737,
          35.66679612,
          35.66435704,
          35.63626822,
          35.63499737,
          35.65380862,
          35.63499737,
          35.63499737,
          35.63361296,
          35.66266429,
          35.65627312,
          35.65380862
         ],
         "legendgroup": "holly springs",
         "lon": [
          -78.79440651,
          -78.83394934,
          -78.83347091,
          -78.83686967,
          -78.84762391,
          -78.83081276,
          -78.83661826,
          -78.83773926,
          -78.83773926,
          -78.83292633,
          -78.79440651,
          -78.83686967,
          -78.84947984,
          -78.81055334,
          -78.83292633,
          -78.79652369,
          -78.83224417,
          -78.83920975,
          -78.83499326,
          -78.85029683,
          -78.824804,
          -78.83107876,
          -78.83001067,
          -78.84947984,
          -78.79652369,
          -78.824804,
          -78.79440651,
          -78.83588526,
          -78.83425908,
          -78.83425908,
          -78.84367417,
          -78.80138176,
          -78.84947984,
          -78.79913701,
          -78.83920975,
          -78.84526683,
          -78.84367417,
          -78.8461585,
          -78.86718725,
          -78.83920975,
          -78.83773926,
          -78.84464992,
          -78.83394934,
          -78.83458935,
          -78.83292633,
          -78.84589725,
          -78.83394934,
          -78.824804,
          -78.84947984,
          -78.79563484,
          -78.79440651,
          -78.83686967,
          -78.83406226,
          -78.84947984,
          -78.83920975,
          -78.84935292,
          -78.84367417,
          -78.84367417,
          -78.8447265,
          -78.83014318,
          -78.83425908,
          -78.83404691,
          -78.79955568,
          -78.83110842,
          -78.87675782,
          -78.83425908,
          -78.83556193,
          -78.83592967,
          -78.83534593,
          -78.84947984,
          -78.84947984,
          -78.83292633,
          -78.79652369,
          -78.79440651,
          -78.83785366,
          -78.83292633,
          -78.824804,
          -78.83292633,
          -78.83292633,
          -78.83033442,
          -78.84947984,
          -78.83516526,
          -78.824804
         ],
         "marker": {
          "color": "#FFA15A"
         },
         "mode": "markers",
         "name": "holly springs",
         "showlegend": true,
         "subplot": "mapbox",
         "type": "scattermapbox"
        },
        {
         "customdata": [
          [
           "51 CABELA DR",
           "garner"
          ],
          [
           "1155  TIMBER DR E",
           "garner"
          ],
          [
           "205 NEW FIDELITY CT",
           "garner"
          ],
          [
           "1857 AVERSBORO RD",
           "garner"
          ],
          [
           "100 VANDORA SPRINGS RD",
           "garner"
          ],
          [
           "1205 TIMBER DR E",
           "garner"
          ],
          [
           "733 US 70 HWY W",
           "garner"
          ],
          [
           "110 CABELA DR",
           "garner"
          ],
          [
           "300 CONSERVATION RD",
           "garner"
          ],
          [
           "1845 AVERSBORO RD",
           "garner"
          ],
          [
           "15 CABELA DR",
           "garner"
          ],
          [
           "141 W MAIN ST",
           "garner"
          ],
          [
           "1040 TIMBER DR E",
           "garner"
          ],
          [
           "1805 AVERSBORO RD",
           "garner"
          ],
          [
           "200  MINGLEWOOD DR",
           "garner"
          ],
          [
           "1900 US 70 HWY E",
           "garner"
          ],
          [
           "1251 TIMBER DR E",
           "garner"
          ],
          [
           "2720 TIMBER DR",
           "garner"
          ],
          [
           "2660 TIMBER DR",
           "garner"
          ],
          [
           "57 CABELA DR",
           "garner"
          ],
          [
           "1851 AVERSBORO RD",
           "garner"
          ],
          [
           "4005 JONES SAUSAGE RD",
           "garner"
          ],
          [
           "225 SHENSTONE BLVD",
           "garner"
          ],
          [
           "1340 W GARNER RD",
           "garner"
          ],
          [
           "2700 TIMBER DR",
           "garner"
          ],
          [
           "1322 FIFTH AVE",
           "garner"
          ],
          [
           "1912 W GARNER  RD",
           "garner"
          ],
          [
           "110 DREXMERE ST",
           "garner"
          ],
          [
           "10 CABELA DR",
           "garner"
          ],
          [
           "40 CABELA DR",
           "garner"
          ],
          [
           "2686 TIMBER DR",
           "garner"
          ],
          [
           "1599 US HWY 70",
           "garner"
          ],
          [
           "1861 AVERSBORO RD",
           "garner"
          ],
          [
           "1303 5TH AVE",
           "garner"
          ],
          [
           "845 US 70 HWY W",
           "garner"
          ],
          [
           "220 SHENSTONE BLVD",
           "garner"
          ],
          [
           "3920 JONES SAUSAGE RD",
           "garner"
          ],
          [
           "1450 US 70 HWY",
           "garner"
          ],
          [
           "520 VILLAGE CT",
           "garner"
          ],
          [
           "1100 TIMBER  DR E",
           "garner"
          ],
          [
           "168 SHENSTONE BLVD",
           "garner"
          ],
          [
           "1411 AVERSBORO RD",
           "garner"
          ],
          [
           "1310 FIFTH  AVE",
           "garner"
          ],
          [
           "1571 US 70 HWY W",
           "garner"
          ],
          [
           "2634 TIMBER DR",
           "garner"
          ],
          [
           "200 BELLAROSE LAKE WAY",
           "garner"
          ],
          [
           "1551 US 70  HWY W",
           "garner"
          ],
          [
           "1549 US 70 HWY W",
           "garner"
          ],
          [
           "235 TIMBER DR",
           "garner"
          ],
          [
           "101 TIMBER POINTE LN",
           "garner"
          ],
          [
           "2345 TIMBER  DR",
           "garner"
          ],
          [
           "1437 AVERSBORO RD",
           "garner"
          ],
          [
           "148 SHENSTONE BLVD",
           "garner"
          ],
          [
           "2640 TIMBER DR",
           "garner"
          ],
          [
           "1227 TIMBER  DR E",
           "garner"
          ],
          [
           "7901 WHITE OAK  RD",
           "garner"
          ],
          [
           "1405 GARNER STATION  BLVD",
           "garner"
          ],
          [
           "305 MCCORMICK STREET",
           "garner"
          ],
          [
           "1125 US HIGHWAY 70 W",
           "garner"
          ],
          [
           "1595 MECHANICAL BLVD",
           "garner"
          ],
          [
           "140 CABELA DR",
           "garner"
          ],
          [
           "1300 E 5TH AVE",
           "garner"
          ],
          [
           "7245 WHITE OAK RD",
           "garner"
          ],
          [
           "3130 INTEGRITY DR",
           "garner"
          ],
          [
           "20 EAGLE WING WAY",
           "garner"
          ],
          [
           "180 CABELA DR",
           "garner"
          ],
          [
           "4001 JONES SAUSAGE RD",
           "garner"
          ],
          [
           "239 TIMBER  DR",
           "garner"
          ],
          [
           "565 US 70  HWY E",
           "garner"
          ],
          [
           "166 CABELA DR",
           "garner"
          ],
          [
           "1566 BENSON  RD",
           "garner"
          ],
          [
           "110 CARILLON  DR",
           "garner"
          ],
          [
           "101 TIMBER DR",
           "garner"
          ],
          [
           "115 CARILLON DR",
           "garner"
          ],
          [
           "1000 TIMBER DR E",
           "garner"
          ],
          [
           "3101 INTEGRITY DR",
           "garner"
          ],
          [
           "1020 TIMBER DR E",
           "garner"
          ],
          [
           "225  TIMBER DR",
           "garner"
          ],
          [
           "150 CABELA DR",
           "garner"
          ],
          [
           "1553 US HWY 70W",
           "garner"
          ],
          [
           "1221 TIMBER DR E",
           "garner"
          ],
          [
           "1506 US 70 HWY W",
           "garner"
          ],
          [
           "2648 TIMBER DR",
           "garner"
          ],
          [
           "1542 MECHANICAL BLVD",
           "garner"
          ],
          [
           "3608 BENSON RD",
           "garner"
          ],
          [
           "263 W TIMBER DR",
           "garner"
          ],
          [
           "400 CONSERVATION RD",
           "garner"
          ],
          [
           "1177 TIMBER DR E",
           "garner"
          ],
          [
           "69 EAGLE WING WAY",
           "garner"
          ],
          [
           "2656 TIMBER DR",
           "garner"
          ],
          [
           "231 TIMBER DR",
           "garner"
          ],
          [
           "15 EAGLE WING WAY",
           "garner"
          ],
          [
           "160  SHENSTONE BLVD",
           "garner"
          ],
          [
           "4000 JONES SAUSAGE  RD",
           "garner"
          ],
          [
           "1567 HWY70 W",
           "garner"
          ],
          [
           "2311 TIMBER DR",
           "garner"
          ],
          [
           "1321 5TH AVE",
           "garner"
          ]
         ],
         "hovertemplate": "<b>%{hovertext}</b><br><br>City=%{customdata[1]}<br>Y=%{lat}<br>X=%{lon}<br>Address 1=%{customdata[0]}<extra></extra>",
         "hovertext": [
          "WING STOP #1542",
          "DEMARIO'S",
          "THE GRAND MARQUISE BALLROOM",
          "CAPPOLLA'S PIZZA & GRILL",
          "HARDEE'S #1189",
          "WHITE OAK STADIUM 14",
          "CAROLINA BARBECUE",
          "CITY BARBEQUE #27",
          "LONGHORN 5556",
          "LOWES FOODS #185 DELI",
          "PANERA BREAD #1869",
          "FULL BLOOM COFFEE AND CRAFT",
          "STARBUCKS TARGET 1824",
          "PIZZA HUT #036631",
          "CADENCE ASSISTED LIVING OF GARNER FOODSERVICE",
          "CIRCLE K #3479",
          "KAZE",
          "CHICK-FIL-A #00678",
          "NEW PANDA CHINESE RESTAURANT",
          "ALPACA PERUVIAN CHARCOAL CHICKEN",
          "PLANT SLANT JUICE",
          "SHEETZ #703",
          "NEW JAPAN EXPRESS",
          "ANGIE'S RESTAURANT",
          "STARBUCKS TARGET #1104",
          "LA ROMA PIZZA",
          "GROCERY BOY JR.",
          "HAMPTON INN BREAKFAST",
          "RED ROBIN #688",
          "SHEETZ #607",
          "EGGS UP GRILL GARNER",
          "KENTUCKY FRIED CHICKEN",
          "CHINA KING",
          "EL DORADO RESTAURANT",
          "OUTBACK STEAKHOUSE #3467",
          "CHICK-FIL-A #01488",
          "BOJANGLES #27",
          "INTERNATIONAL HOUSE OF PANCAKES",
          "TAQUERIA LA ZACATECANA",
          "TGI FRIDAY'S #2175",
          "MOE'S SOUTHWEST GRILL #205",
          "AVERSBORO RESTAURANT AND SPORTS BAR",
          "SUBWAY #52435",
          "BALI-HAI",
          "SAKURA 8",
          "BELLAROSE NURSING AND REHAB CENTER FOODSERVICE",
          "FIREHOUSE SUBS #487",
          "MI PERU",
          "SUBWAY #12044",
          "LORRAINE'S COFFEE HOUSE",
          "JERSEY MIKE'S #3091",
          "FOUNDATION SENIOR LIVING FOOD SERVICE",
          "BUFFALO WILD WINGS # 113",
          "RUDINO'S PIZZA & GRINDERS",
          "MIA BISTRO",
          "NEW WHITE OAK GRILL & LOUNGE",
          "KICK BACK JACK'S",
          "LOCKED & LOADED GRILL",
          "TACO BELL #30930",
          "BEST WESTERN PLUS EDISON INN FOODSERVICE",
          "BLAZE PIZZA #1125",
          "ARBY'S #6335",
          "BUFFALO BROTHERS GARNER",
          "SUBWAY #1119",
          "ZAXBY'S #60701",
          "STARBUCKS #25115",
          "COOK OUT #305",
          "HIBACHI CHINA 88",
          "TRU BY HILTON RALEIGH/GARNER (FOOD SERVICE)",
          "JERSEY MIKE'S #3189",
          "CAROLINA FISH FRY",
          "MCDONALD'S #28245",
          "MCDONALD'S #13824",
          "CHILI'S GRILL AND BAR #867",
          "LOGAN'S ROADHOUSE",
          "BURGER KING #12979",
          "WENDY'S #9393",
          "THE MUSE COFFEE CO.",
          "FIVE GUYS #1728",
          "TROPICAL SMOOTHIE CAFE NC74",
          "LA COCINA #6",
          "MOONRUNNERS SALOON",
          "MOJO'S GRILL",
          "WINGATE BY WYNDHAM BREAKFAST",
          "CHANELLO'S PIZZA OF GARNER",
          "ALEXANDER'S MEDITERRANEAN CUISINE",
          "CAROLINA ALE HOUSE",
          "KRAFTY'S BURGERS & BREWS",
          "CHIPOTLE #2950",
          "CHIOS ROTISSERIE",
          "BIG ED'S GARNER",
          "TROPICAL SMOOTHIE CAFE NC 106",
          "BUL BOX",
          "SMITHFIELD'S CHICKEN 'N BAR-B-QUE",
          "MCDONALD'S #7618",
          "SULLY'S GOLF AND GATHER",
          "TASTE OF CHINA"
         ],
         "lat": [
          35.69877319,
          35.68894411,
          35.71328952,
          35.68506427,
          35.71260426,
          35.68908894,
          35.7117051,
          35.69798885,
          35.69664811,
          35.68506427,
          35.69767385,
          35.70708752,
          35.68747635,
          35.68585652,
          35.68150161,
          35.68663211,
          35.68797311,
          35.71713143,
          35.71605085,
          35.69877319,
          35.68506427,
          35.72510551,
          35.69110486,
          35.7173481,
          35.71533143,
          35.70948085,
          35.72598726,
          35.7220281,
          35.69744078,
          35.69803519,
          35.71605085,
          35.72389051,
          35.68506427,
          35.70820461,
          35.7128921,
          35.69212161,
          35.72686093,
          35.72164018,
          35.70775293,
          35.68884452,
          35.69110486,
          35.69428077,
          35.70948085,
          35.72323486,
          35.71605085,
          35.66980052,
          35.72323486,
          35.72323486,
          35.68500311,
          35.69379519,
          35.7022181,
          35.69057294,
          35.69110486,
          35.71605085,
          35.68894411,
          35.67217636,
          35.72437568,
          35.72321476,
          35.71643061,
          35.72391743,
          35.69798885,
          35.70888693,
          35.68789077,
          35.7261596,
          35.69781777,
          35.69798885,
          35.72566318,
          35.68500311,
          35.7000941,
          35.69798885,
          35.68442644,
          35.69257868,
          35.6856311,
          35.69333602,
          35.68893435,
          35.72489085,
          35.68908668,
          35.68500311,
          35.69798885,
          35.72323486,
          35.68894411,
          35.72377502,
          35.71605085,
          35.72536576,
          35.63067753,
          35.68500311,
          35.69648535,
          35.68894411,
          35.69769523,
          35.71605085,
          35.68500311,
          35.69793452,
          35.69110486,
          35.72648209,
          35.72471935,
          35.70153552,
          35.70820461
         ],
         "legendgroup": "garner",
         "lon": [
          -78.58553066,
          -78.57544624,
          -78.63155664,
          -78.61583865,
          -78.62108073,
          -78.57456433,
          -78.6263419,
          -78.58356058,
          -78.58232308,
          -78.61583865,
          -78.58702125,
          -78.6064114,
          -78.57962775,
          -78.61707232,
          -78.61883973,
          -78.54953743,
          -78.57611001,
          -78.63762924,
          -78.63679232,
          -78.58553066,
          -78.61583865,
          -78.57990574,
          -78.58054024,
          -78.6235069,
          -78.63848256,
          -78.62185674,
          -78.62580682,
          -78.64137673,
          -78.58612516,
          -78.58532117,
          -78.63679232,
          -78.65015189,
          -78.61583865,
          -78.62278807,
          -78.62906965,
          -78.58261701,
          -78.58008566,
          -78.64196989,
          -78.6185934,
          -78.57860891,
          -78.58054024,
          -78.61586582,
          -78.62185674,
          -78.64815222,
          -78.63679232,
          -78.60082191,
          -78.64815222,
          -78.64815222,
          -78.60613274,
          -78.63579506,
          -78.64123273,
          -78.61571891,
          -78.58054024,
          -78.63679232,
          -78.57544624,
          -78.57505416,
          -78.6523773,
          -78.64232131,
          -78.6347529,
          -78.64471648,
          -78.58356058,
          -78.62072106,
          -78.58073891,
          -78.5817004,
          -78.58765158,
          -78.58356058,
          -78.57906091,
          -78.60613274,
          -78.59024758,
          -78.58356058,
          -78.60448524,
          -78.582823,
          -78.6045005,
          -78.58321749,
          -78.58103133,
          -78.58226016,
          -78.58031608,
          -78.60613274,
          -78.58356058,
          -78.64815222,
          -78.57544624,
          -78.64623698,
          -78.63679232,
          -78.64395073,
          -78.61154057,
          -78.60613274,
          -78.58112499,
          -78.57544624,
          -78.58455796,
          -78.63679232,
          -78.60613274,
          -78.5885004,
          -78.58054024,
          -78.58070283,
          -78.64954739,
          -78.64123156,
          -78.62278807
         ],
         "marker": {
          "color": "#19d3f3"
         },
         "mode": "markers",
         "name": "garner",
         "showlegend": true,
         "subplot": "mapbox",
         "type": "scattermapbox"
        },
        {
         "customdata": [
          [
           "2880 ROGERS RD",
           "wake forest"
          ],
          [
           "11051 LIGON MILL RD",
           "wake forest"
          ],
          [
           "999 DURHAM RD",
           "wake forest"
          ],
          [
           "1040  FORESTVILLE  RD",
           "wake forest"
          ],
          [
           "238  S. WHITE ST",
           "wake forest"
          ],
          [
           "2207 S MAIN ST",
           "wake forest"
          ],
          [
           "12600 CAPITAL BLVD",
           "wake forest"
          ],
          [
           "922 GATEWAY COMMON CIR",
           "wake forest"
          ],
          [
           "1895  S FRANKLIN ST",
           "wake forest"
          ],
          [
           "13654 CAPITAL BLVD",
           "wake forest"
          ],
          [
           "11720 RETAIL DR",
           "wake forest"
          ],
          [
           "1009-128 STADIUM DR",
           "wake forest"
          ],
          [
           "2101 S MAIN ST",
           "wake forest"
          ],
          [
           "11704 RETAIL DR",
           "wake forest"
          ],
          [
           "999 DURHAM  RD",
           "wake forest"
          ],
          [
           "3218  HERITAGE TRADE DR",
           "wake forest"
          ],
          [
           "1009 STADIUM  DR",
           "wake forest"
          ],
          [
           "3612 ROGERS BRANCH RD",
           "wake forest"
          ],
          [
           "505 DR. CALVIN JONES HWY",
           "wake forest"
          ],
          [
           "3600 ROGERS BRANCH RD",
           "wake forest"
          ],
          [
           "1250  HERITAGE CLUB AVE",
           "wake forest"
          ],
          [
           "12281 CAPITAL BLVD",
           "wake forest"
          ],
          [
           "2808 ROGERS RD",
           "wake forest"
          ],
          [
           "214 S WHITE ST",
           "wake forest"
          ],
          [
           "12313 CAPITAL  BLVD",
           "wake forest"
          ],
          [
           "12109 CLOVERLEAF DR",
           "wake forest"
          ],
          [
           "1010 FORESTVILLE RD",
           "wake forest"
          ],
          [
           "2114 S MAIN ST",
           "wake forest"
          ],
          [
           "2091 S MAIN ST",
           "wake forest"
          ],
          [
           "11051 LIGON MILL RD",
           "wake forest"
          ],
          [
           "923 GATEWAY COMMONS CIR",
           "wake forest"
          ],
          [
           "11420 CAPITAL  BLVD",
           "wake forest"
          ],
          [
           "11440 CAPITAL BLVD",
           "wake forest"
          ],
          [
           "3622 ROGERS RD",
           "wake forest"
          ],
          [
           "960 GATEWAY COMMONS CIR",
           "wake forest"
          ],
          [
           "929 HERITAGE LAKE  RD",
           "wake forest"
          ],
          [
           "419 S BROOKS ST",
           "wake forest"
          ],
          [
           "1001 FORESTVILLE  RD",
           "wake forest"
          ],
          [
           "11735  RETAIL DR",
           "wake forest"
          ],
          [
           "948 GATEWAY COMMONS CIRCLE",
           "wake forest"
          ],
          [
           "203 WAIT AVE",
           "wake forest"
          ],
          [
           "12516-104 CAPITAL BLVD",
           "wake forest"
          ],
          [
           "1425 BROGDEN WOODS DR",
           "wake forest"
          ],
          [
           "3652 ROGERS RD",
           "wake forest"
          ],
          [
           "339 S BROOKS ST",
           "wake forest"
          ],
          [
           "3638 ROGERS RD",
           "wake forest"
          ],
          [
           "11665 NORTHPARK DR",
           "wake forest"
          ],
          [
           "3325  ROGERS RD",
           "wake forest"
          ],
          [
           "13600 CAPITAL BLVD",
           "wake forest"
          ],
          [
           "2808 ROGERS RD",
           "wake forest"
          ],
          [
           "203 BROOKS ST",
           "wake forest"
          ],
          [
           "951 GATEWAY COMMONS CIR",
           "wake forest"
          ],
          [
           "3612 ROGERS BRANCH RD",
           "wake forest"
          ],
          [
           "11216 CAPITAL  BLVD",
           "wake forest"
          ],
          [
           "515 DR CALVIN JONES HWY",
           "wake forest"
          ],
          [
           "1228 HERITAGE LINKS DR",
           "wake forest"
          ],
          [
           "113 S WHITE ST.",
           "wake forest"
          ],
          [
           "1898 S FRANKLIN ST",
           "wake forest"
          ],
          [
           "12646 CAPITAL  BLVD",
           "wake forest"
          ],
          [
           "12504 CAPITAL BLVD",
           "wake forest"
          ],
          [
           "12400 WAKE UNION CHURCH RD",
           "wake forest"
          ],
          [
           "103 N WHITE ST",
           "wake forest"
          ],
          [
           "219 S WHITE ST",
           "wake forest"
          ],
          [
           "2815  ROGERS  RD",
           "wake forest"
          ],
          [
           "12430 CAPITAL BLVD",
           "wake forest"
          ],
          [
           "12271 CAPITAL  BLVD",
           "wake forest"
          ],
          [
           "1849 S MAIN ST",
           "wake forest"
          ],
          [
           "2101 S MAIN  ST",
           "wake forest"
          ],
          [
           "2125 S MAIN ST",
           "wake forest"
          ],
          [
           "3309 ROGERS RD",
           "wake forest"
          ],
          [
           "1051 DURHAM  RD",
           "wake forest"
          ],
          [
           "1318 S MAIN ST",
           "wake forest"
          ],
          [
           "11690 NORTHPARK DR",
           "wake forest"
          ],
          [
           "1849 S MAIN ST",
           "wake forest"
          ],
          [
           "2104 S MAIN ST",
           "wake forest"
          ],
          [
           "1030 FORESTVILLE RD",
           "wake forest"
          ],
          [
           "2819 ROGERS RD",
           "wake forest"
          ],
          [
           "109 CAPCOM AVE",
           "wake forest"
          ],
          [
           "11700 RETAIL DR",
           "wake forest"
          ],
          [
           "13654 CAPITAL BLVD",
           "wake forest"
          ],
          [
           "1040-128 FORESTVILLE RD",
           "wake forest"
          ],
          [
           "110 S WHITE ST",
           "wake forest"
          ],
          [
           "12239 CAPITAL BLVD",
           "wake forest"
          ],
          [
           "2808 ROGERS RD",
           "wake forest"
          ],
          [
           "1318 S MAIN ST",
           "wake forest"
          ],
          [
           "2010 S. MAIN ST",
           "wake forest"
          ],
          [
           "415 BROOKS STREET",
           "wake forest"
          ],
          [
           "3325 ROGERS  RD",
           "wake forest"
          ],
          [
           "1608 MANGUM AVE",
           "wake forest"
          ],
          [
           "3604 ROGERS BRANCH",
           "wake forest"
          ],
          [
           "11480 CAPITAL BLVD",
           "wake forest"
          ],
          [
           "11380 CAPITAL  BLVD",
           "wake forest"
          ],
          [
           "11685 NORTHPARK DR",
           "wake forest"
          ],
          [
           "1839-200 S MAIN ST",
           "wake forest"
          ],
          [
           "942 GATEWAY COMMONS CIR",
           "wake forest"
          ],
          [
           "1925 S MAIN ST",
           "wake forest"
          ],
          [
           "929 HERITAGE LAKE  RD",
           "wake forest"
          ],
          [
           "1151 S MAIN ST",
           "wake forest"
          ],
          [
           "928 GATEWAY COMMONS CIR",
           "wake forest"
          ],
          [
           "11460 ROYAL COTTON RD",
           "wake forest"
          ],
          [
           "1000 FORESTVILLE RD.",
           "wake forest"
          ],
          [
           "2815 ROGERS RD",
           "wake forest"
          ],
          [
           "1009 STADIUM DR",
           "wake forest"
          ],
          [
           "13654 CAPITAL BLVD SUITE 108",
           "wake forest"
          ],
          [
           "11708 RETAIL DR",
           "wake forest"
          ],
          [
           "11712 RETAIL DR",
           "wake forest"
          ],
          [
           "12051 RETAIL DR",
           "wake forest"
          ],
          [
           "2101 S. MAIN ST",
           "wake forest"
          ],
          [
           "950 GATEWAY COMMONS CIR",
           "wake forest"
          ],
          [
           "413 BROOKS  ST",
           "wake forest"
          ],
          [
           "3612 ROGERS BRANCH ROAD",
           "wake forest"
          ],
          [
           "3624 ROGERS RD",
           "wake forest"
          ],
          [
           "12287 CAPITAL BLVD",
           "wake forest"
          ],
          [
           "1012 HOLDING VILLAGE WAY",
           "wake forest"
          ],
          [
           "12277 CAPITAL BLVD",
           "wake forest"
          ],
          [
           "11730 RETAIL DR",
           "wake forest"
          ],
          [
           "12524 CAPITAL BLVD",
           "wake forest"
          ],
          [
           "2101 S MAIN ST",
           "wake forest"
          ],
          [
           "2108 S MAIN ST",
           "wake forest"
          ],
          [
           "12612 CAPITAL  BLVD",
           "wake forest"
          ],
          [
           "12301 CAPITAL  BLVD",
           "wake forest"
          ],
          [
           "3626 ROGERS RD",
           "wake forest"
          ],
          [
           "120 N WINGATE ST",
           "wake forest"
          ],
          [
           "12235 CAPITAL BLVD",
           "wake forest"
          ],
          [
           "12233 CAPITAL BLVD",
           "wake forest"
          ],
          [
           "12520 CAPITAL BLVD",
           "wake forest"
          ],
          [
           "1318 S MAIN ST",
           "wake forest"
          ],
          [
           "3309 ROGERS RD",
           "wake forest"
          ],
          [
           "12318 WAKE UNION CHURCH RD",
           "wake forest"
          ],
          [
           "995 DURHAM RD",
           "wake forest"
          ],
          [
           "865 DURHAM RD",
           "wake forest"
          ],
          [
           "12508 CAPITAL BLVD",
           "wake forest"
          ],
          [
           "1432 BROGDEN WOODS DR",
           "wake forest"
          ],
          [
           "1440-103 BROGDEN WOODS DR",
           "wake forest"
          ],
          [
           "12338 WAKE UNION CHURCH RD",
           "wake forest"
          ],
          [
           "12401 WAKE UNION CHURCH RD",
           "wake forest"
          ],
          [
           "1009-120 STADIUM DR",
           "wake forest"
          ],
          [
           "11206 CAPITAL  BLVD",
           "wake forest"
          ],
          [
           "1009-100 STADIUM DR",
           "wake forest"
          ],
          [
           "1248 S MAIN ST",
           "wake forest"
          ],
          [
           "3625 ROGERS RD",
           "wake forest"
          ],
          [
           "109 CAPCOM AVENUE",
           "wake forest"
          ],
          [
           "12500 CAPITAL BLVD",
           "wake forest"
          ],
          [
           "131 CRENSHAW CORNERS DR",
           "wake forest"
          ],
          [
           "12315 HAMPTON WAY DR",
           "wake forest"
          ],
          [
           "1040 FORESTVILLE RD",
           "wake forest"
          ],
          [
           "712 N MAIN ST",
           "wake forest"
          ],
          [
           "3325 ROGERS RD",
           "wake forest"
          ]
         ],
         "hovertemplate": "<b>%{hovertext}</b><br><br>City=%{customdata[1]}<br>Y=%{lat}<br>X=%{lon}<br>Address 1=%{customdata[0]}<extra></extra>",
         "hovertext": [
          "DUNKIN #358977",
          "WEGMANS #145 MAIN KITCHEN",
          "MARIO'S PIZZERIA",
          "SUNRISE SUPERFOOD CAFE",
          "GEORGE'S PIZZERIA",
          "TACO BELL #22798",
          "OLIVE GARDEN #1831",
          "SUBWAY #41211",
          "SHEETZ #505",
          "NEW ASIAN GARDEN",
          "STARBUCKS #53826",
          "SHOWMARS - WAKE FOREST",
          "ASUKA",
          "FIREHOUSE SUBS #1517",
          "DUNKIN' #351119",
          "CADENCE AT WAKE FOREST DINING",
          "JERSEY MIKE'S #3157",
          "CAPE FEAR SEAFOOD COMPANY",
          "TORCHY'S TACOS",
          "WAYBACK BURGERS",
          "1250 HERITAGE GOLF CLUB",
          "SOO CAFE",
          "FIRST WATCH #6048",
          "SHORTYS",
          "KENTUCKY FRIED CHICKEN",
          "BOJANGLES # 29",
          "CHICK-FIL-A #4239",
          "DOMINO'S 9020",
          "WENDY'S #11590",
          "WEGMANS #145 COFFEE SUBS PIZZA",
          "BURGER KING #27555",
          "RED ROBIN #573",
          "TEXAS ROADHOUSE #294",
          "IL BACIO",
          "FARMTABLE & GATEHOUSE TAVERN",
          "CHARLIE'S KABOBS #2",
          "OVER THE FALLS",
          "MCDONALDS #35357",
          "BUFFALO BROTHERS",
          "SCHIANO'S PIZZA PASTA WINGS",
          "THE BURGER SHOP",
          "DON JULIO MEXICAN RESTAURANT",
          "BOJANGLES #51",
          "STEWART'S BISTRO",
          "THE FORKS CAFETERIA AND CATERING",
          "HARRIS TEETER #43 STARBUCKS",
          "PANERA BREAD #1938",
          "REAL MCCOY'S",
          "CHAR-GRILL WAKE FOREST",
          "PLANET SMOOTHIE",
          "NORSE BREWING COMPANY",
          "TACO BELL #47",
          "CRAVIN' CONFECTIONS",
          "HIBACHI JAPAN",
          "CAVA WAKE FOREST",
          "HERITAGE GRILLE AND WINE BARREL",
          "THE SOUP AND SALAD SHOP",
          "TAZA GRILL",
          "EAST COAST WINGS AND GRILL",
          "SMITHFIELD CHICKEN & BAR-B-QUE",
          "LOS TRES MAGUEYES # 4",
          "WAKE FOREST BP RESTAURANT",
          "SUGAR MAGNOLIA CAFE",
          "MOD PIZZA - WAKE FOREST",
          "WENDY'S #6338",
          "DAIRY QUEEN #11993",
          "THE VILLAGE DELI",
          "MACKEY'S PUB",
          "MELLOW MUSHROOM",
          "SHUCKERS OYSTER BAR & GRILL",
          "WAFFLE HOUSE #1901",
          "LAZEEZ INDIAN RESTAURANT",
          "PDQ WAKE FOREST",
          "GONZA TACOS Y TEQUILA",
          "ARBY'S #7668",
          "PUBLIX #1514 DELI",
          "CULVER'S OF WAKE FOREST",
          "BELLA ITALIA PIZZERIA",
          "CHIPOTLE #3212",
          "JOHNNY'S PIZZA #3",
          "ASIA EXPRESS",
          "BODEGA",
          "HARTURA",
          "WHICH WICH #770",
          "SMITHS SMOKEHOUSE AND SMOOTHIES",
          "THE EMPANADA FACTORY",
          "THE LEMON TREE CAFE",
          "MILAZZO'S ITALIAN RESTAURANT",
          "ALPACA PERUVIAN CHARCOAL CHICKEN",
          "THE CHA HOUSE",
          "PIZZA HUT #37653",
          "CHILI'S #1393",
          "CAROLINA ALE HOUSE",
          "THE FACTORY ICE HOUSE SNACK BAR",
          "#1 CHINA WOK",
          "SONIC DRIVE IN #6020",
          "COURTNEY'S NY BAGEL & DELI",
          "THE LODGE AT WAKE FOREST #5647",
          "SUSHI SIAM",
          "SAMS' CLUB #6976 CAFE",
          "RUDINO'S PIZZA & GRINDERS HERITAGE",
          "STARBUCKS #29679",
          "HIBACHI EXPRESS",
          "9.19 ISLAND CUISINE",
          "FREDDY'S FROZEN CUSTARD & STEAKBURGERS #3213",
          "MARCO'S PIZZA",
          "FAIRFIELD INN & SUITES BY MARRIOTT FOODSERVICE",
          "KOREAN KITCHEN",
          "BIG AL'S BBQ & CATERING",
          "STRIKE & BARREL",
          "TDLLO RAMEN & SUSHI",
          "KWENCH JUICE CAFE - WAKE FOREST",
          "HONG KONG CHINESE RESTAURANT",
          "REFUEL #190",
          "PTA OF WAKE FOREST",
          "CHICK-FIL-A",
          "LOWES FOODS #187 DELI",
          "CURRY HOUSE",
          "PAT MURNANE'S IRISH PUB",
          "DUNKIN #359813",
          "BURGER KING #6563",
          "PANDA KING",
          "MAGNOLIA KITCHEN",
          "CHARLIE'S KABOB GRILL",
          "SUBWAY #3726",
          "RAINBOW KING",
          "LIN'S GARDEN",
          "THAI CAFE #2",
          "HAMPTON INN WAKE FOREST HOT BREAKFAST",
          "ZAXBY'S #46101",
          "MCDONALDS #12332",
          "SONIC DRIVE IN #4809",
          "HARRIS TEETER #395 DELI",
          "PANDA GARDEN",
          "BRIGS AT THE FOREST",
          "CLARION POINTE WAKE FOREST FOOD SERVICE",
          "TROPICAL SMOOTHIE CAFE",
          "TLAQUEPAQUE MEXICAN CUISINE",
          "BACKFINS CRABHOUSE",
          "AMALIA'S AUTHENTIC ITALIAN RESTAURANT",
          "MARCO'S PIZZA #8188",
          "EL CHAPIN",
          "REFUEL #1109",
          "PATRONIES PIZZA",
          "TRU BY HILTON FOOD SERVICE",
          "JERSEY MIKE'S #3257",
          "THE BORDER RESTAURANT",
          "FENG CHA"
         ],
         "lat": [
          35.95184355,
          35.96402779,
          35.97582905,
          35.94610971,
          35.97698837,
          35.94669522,
          35.98839296,
          35.96733271,
          35.95034047,
          36.00549137,
          35.96629663,
          35.98957154,
          35.94801797,
          35.96629663,
          35.97582905,
          35.95099722,
          35.98957154,
          35.94278947,
          35.96599929,
          35.94278947,
          35.94973671,
          35.98087662,
          35.95272354,
          35.9776018,
          35.98263322,
          35.97689004,
          35.94595764,
          35.95207713,
          35.94844913,
          35.96402779,
          35.96847362,
          35.95578496,
          35.95645904,
          35.94464405,
          35.96733271,
          35.94688497,
          35.97419021,
          35.94490296,
          35.96793437,
          35.96733271,
          35.9788888,
          35.98593529,
          35.99120972,
          35.94464405,
          35.97552162,
          35.94464405,
          35.96466721,
          35.95072814,
          36.00462913,
          35.95272354,
          35.97739278,
          35.96738646,
          35.94278947,
          35.95247355,
          35.96599929,
          35.94544363,
          35.9788888,
          35.95135713,
          35.98759087,
          35.98666429,
          35.98314387,
          35.97984104,
          35.97752929,
          35.95329289,
          35.98551162,
          35.98090471,
          35.9510248,
          35.94801797,
          35.94710013,
          35.95074547,
          35.97391996,
          35.9609338,
          35.96485738,
          35.9510248,
          35.94899005,
          35.94610971,
          35.95309447,
          35.9508628,
          35.96629663,
          36.00549137,
          35.94610971,
          35.97912171,
          35.97989629,
          35.95272354,
          35.9609338,
          35.94957379,
          35.97419021,
          35.95072814,
          35.94851422,
          35.94278947,
          35.95710687,
          35.95485679,
          35.96466721,
          35.9510248,
          35.96733271,
          35.94975597,
          35.94688497,
          35.96434421,
          35.96733271,
          35.9567568,
          35.94610971,
          35.95329289,
          35.98957154,
          36.00549137,
          35.96629663,
          35.96629663,
          35.97661971,
          35.94801797,
          35.96733271,
          35.97419021,
          35.94278947,
          35.94464405,
          35.98087662,
          35.96475771,
          35.98087662,
          35.96706288,
          35.98593529,
          35.94801797,
          35.94965714,
          35.98892245,
          35.9820388,
          35.94464405,
          35.98136178,
          35.98087662,
          35.98087662,
          35.98593529,
          35.9609338,
          35.95074547,
          35.9810848,
          35.9759368,
          35.97885255,
          35.98698871,
          35.99120972,
          35.99120972,
          35.98159662,
          35.9841877,
          35.98957154,
          35.95167196,
          35.98957154,
          35.96221214,
          35.94520904,
          35.9508628,
          35.98622195,
          35.97113997,
          35.98008571,
          35.94610971,
          35.98936312,
          35.95072814
         ],
         "legendgroup": "wake forest",
         "lon": [
          -78.52451276,
          -78.53369932,
          -78.54726425,
          -78.50759601,
          -78.51038617,
          -78.53614341,
          -78.53167158,
          -78.49517643,
          -78.50852192,
          -78.51867626,
          -78.54349375,
          -78.52990283,
          -78.53310175,
          -78.54349375,
          -78.54726425,
          -78.51669534,
          -78.52990283,
          -78.50628751,
          -78.53335391,
          -78.50628751,
          -78.49666134,
          -78.54097708,
          -78.52660249,
          -78.51012825,
          -78.53917224,
          -78.54093275,
          -78.50659734,
          -78.53503308,
          -78.53253117,
          -78.53369932,
          -78.49643475,
          -78.5401275,
          -78.540344,
          -78.50482784,
          -78.49517643,
          -78.50377685,
          -78.50875692,
          -78.50623234,
          -78.54322367,
          -78.49517643,
          -78.50924667,
          -78.53270457,
          -78.69147587,
          -78.50482784,
          -78.50893309,
          -78.50482784,
          -78.54382882,
          -78.51408375,
          -78.52002008,
          -78.52660249,
          -78.50814626,
          -78.49152933,
          -78.50628751,
          -78.53734575,
          -78.53335391,
          -78.50262233,
          -78.50924667,
          -78.50941468,
          -78.53001025,
          -78.53382082,
          -78.53897033,
          -78.509346,
          -78.50967992,
          -78.52502308,
          -78.53512691,
          -78.53978525,
          -78.52626549,
          -78.53310175,
          -78.53549684,
          -78.51539151,
          -78.55120124,
          -78.51926333,
          -78.54504583,
          -78.52626549,
          -78.53398975,
          -78.50759601,
          -78.52437516,
          -78.52881174,
          -78.54349375,
          -78.51867626,
          -78.50759601,
          -78.50961776,
          -78.54067857,
          -78.52660249,
          -78.51926333,
          -78.53283608,
          -78.50875692,
          -78.51408375,
          -78.531541,
          -78.50628751,
          -78.540514,
          -78.53983299,
          -78.54382882,
          -78.52626549,
          -78.49517643,
          -78.52999775,
          -78.50377685,
          -78.517068,
          -78.49517643,
          -78.53862825,
          -78.50759601,
          -78.52502308,
          -78.52990283,
          -78.51867626,
          -78.54349375,
          -78.54349375,
          -78.54414941,
          -78.53310175,
          -78.49517643,
          -78.50875692,
          -78.50628751,
          -78.50482784,
          -78.54097708,
          -78.51119483,
          -78.54097708,
          -78.5427515,
          -78.53270457,
          -78.53310175,
          -78.53406941,
          -78.53100933,
          -78.53943475,
          -78.50482784,
          -78.51237159,
          -78.54097708,
          -78.54097708,
          -78.53270457,
          -78.51926333,
          -78.51539151,
          -78.54222908,
          -78.54661007,
          -78.53778608,
          -78.53341607,
          -78.69147587,
          -78.69147587,
          -78.54195266,
          -78.53961908,
          -78.52990283,
          -78.53890825,
          -78.52990283,
          -78.51859967,
          -78.50332084,
          -78.52881174,
          -78.53437633,
          -78.55386183,
          -78.54341158,
          -78.50759601,
          -78.50484966,
          -78.51408375
         ],
         "marker": {
          "color": "#FF6692"
         },
         "mode": "markers",
         "name": "wake forest",
         "showlegend": true,
         "subplot": "mapbox",
         "type": "scattermapbox"
        },
        {
         "customdata": [
          [
           "1018 SHOPPES AT MIDWAY DR",
           "knightdale"
          ],
          [
           "6725 KNIGHTDALE BLVD",
           "knightdale"
          ],
          [
           "1018-C SHOPPES AT MIDWAY DR",
           "knightdale"
          ],
          [
           "909-1 MCKNIGHT DR",
           "knightdale"
          ],
          [
           "7605 KNIGHTDALE BLVD",
           "knightdale"
          ],
          [
           "1016  SHOPPES AT MIDWAY",
           "knightdale"
          ],
          [
           "5804  POOR BOY FARM RD",
           "knightdale"
          ],
          [
           "405 HINTON OAKS BLVD",
           "knightdale"
          ],
          [
           "4001  WIDEWATERS PKY",
           "knightdale"
          ],
          [
           "835 N SMITHFIELD RD",
           "knightdale"
          ],
          [
           "903  N SMITHFIELD RD",
           "knightdale"
          ],
          [
           "6711 KNIGHTDALE  BLVD",
           "knightdale"
          ],
          [
           "7039 KNIGHTDALE BLVD",
           "knightdale"
          ],
          [
           "6605 KNIGHTDALE BLVD",
           "knightdale"
          ],
          [
           "6707 KNIGHTDALE BLVD",
           "knightdale"
          ],
          [
           "2009 VILLAGE PARK DR",
           "knightdale"
          ],
          [
           "7304 KNIGHTDALE  BLVD",
           "knightdale"
          ],
          [
           "212 HINTON OAKS BLVD",
           "knightdale"
          ],
          [
           "7110 KNIGHTDALE BLVD, STE P",
           "knightdale"
          ],
          [
           "7144 KNIGHTDALE BLVD",
           "knightdale"
          ],
          [
           "2210 HINTON OAKS BLVD",
           "knightdale"
          ],
          [
           "7137 KNIGHTDALE  BLVD",
           "knightdale"
          ],
          [
           "6800 KNIGHTDALE BLVD",
           "knightdale"
          ],
          [
           "7425 KNIGHTDALE BLVD",
           "knightdale"
          ],
          [
           "4001 WIDEWATER PKY",
           "knightdale"
          ],
          [
           "4022 VILLAGE PARK DR",
           "knightdale"
          ],
          [
           "403 KNIGHTDALE STATION RUN",
           "knightdale"
          ],
          [
           "7132 US HIGHWAY 64 E",
           "knightdale"
          ],
          [
           "7526 KNIGHTDALE BLVD E",
           "knightdale"
          ],
          [
           "6700 KNIGHTDALE BLVD",
           "knightdale"
          ],
          [
           "4001 WIDE WATERS SUITE B PKY",
           "knightdale"
          ],
          [
           "6601 KNIGHTDALE BLVD",
           "knightdale"
          ],
          [
           "706 MONEY CT",
           "knightdale"
          ],
          [
           "7102 KNIGHTDALE BLVD",
           "knightdale"
          ],
          [
           "1151 N SMITHFIELD RD",
           "knightdale"
          ],
          [
           "1018-I SHOPPES AT MIDWAY PLANTATION",
           "knightdale"
          ],
          [
           "7141 KNIGHTDALE  BLVD",
           "knightdale"
          ],
          [
           "6030 VILLAGE PARK DR",
           "knightdale"
          ],
          [
           "6000 VILLAGE PARK DR",
           "knightdale"
          ],
          [
           "7106 KNIGHTDALE BLVD",
           "knightdale"
          ],
          [
           "6727-C KNIGHTDALE BLVD",
           "knightdale"
          ],
          [
           "7200 KNIGHTDALE BLVD",
           "knightdale"
          ],
          [
           "608 N FIRST AVE",
           "knightdale"
          ],
          [
           "7040 KNIGHTDALE BLVD",
           "knightdale"
          ],
          [
           "7036 KNIGHTDALE BLVD",
           "knightdale"
          ],
          [
           "2408 HODGE  RD",
           "knightdale"
          ],
          [
           "7063 KNIGHTDALE BLVD",
           "knightdale"
          ],
          [
           "901 N SMITHFIELD RD",
           "knightdale"
          ],
          [
           "1018 SHOPPES AT MIDWAY DR",
           "knightdale"
          ],
          [
           "1016-A SHOPPES AT MIDWAY DRIVE",
           "knightdale"
          ],
          [
           "6702 KNIGHTDALE  BLVD",
           "knightdale"
          ],
          [
           "210A HINTON OAKS BLVD",
           "knightdale"
          ],
          [
           "7120 KNIGHTDALE BLVD",
           "knightdale"
          ],
          [
           "4001 WIDEWATERS PKY",
           "knightdale"
          ],
          [
           "1011 N SMITHFIELD  RD",
           "knightdale"
          ],
          [
           "3001 WIDEWATERS PKY",
           "knightdale"
          ],
          [
           "2001 WIDEWATER PKY",
           "knightdale"
          ]
         ],
         "hovertemplate": "<b>%{hovertext}</b><br><br>City=%{customdata[1]}<br>Y=%{lat}<br>X=%{lon}<br>Address 1=%{customdata[0]}<extra></extra>",
         "hovertext": [
          "FIVE GUYS #0128",
          "ARBY'S #77820",
          "KIKO JAPAN EXPRESS",
          "NEW YORK DINER",
          "WAFFLE HOUSE #1279",
          "SLICE OF N. Y. PIZZA",
          "POOR BOY GENERAL STORE AND GRILL",
          "HAMPTON INN - FOODSERVICE",
          "101 KITCHEN",
          "THE SPORTS PAGE BAR & GRILL",
          "CAKE TOWN BAKERY",
          "CHICK-FIL-A #1760",
          "LA CASITA MEXICANA",
          "CHILI'S GRILL AND BAR #1183",
          "IHOP-MIDWAY PLANTATION #3180",
          "A'NETS KATCH",
          "SMITHFIELD'S CHICKEN'N BAR-B-Q",
          "STARBUCKS # 26652",
          "YUMMY HIBACHI",
          "SAMOONI ITALIAN RESTAURANT",
          "TROPICAL SMOOTHIE NC94",
          "DUNKIN DONUTS #331785",
          "PANERA BREAD #6153",
          "EL JIMADOR",
          "FUJI CHINA",
          "RUDINO'S PARKSIDE",
          "PRIME BARBECUE",
          "WENDY'S",
          "MACK'S MART",
          "BUFFALO WILD WINGS #206",
          "HIBACHI K EXPRESS",
          "SALTGRASS STEAKHOUSE",
          "TIKILA TACOS & MEZCAL",
          "BURGER KING #7810",
          "COOK OUT #297",
          "SUBWAY #37092",
          "MCDONALD'S #11646",
          "SHEETZ #664",
          "ALPACA PERUVIAN CHARCOAL CHICKEN",
          "SUBWAY #33002",
          "JERSEY MIKE'S #3151",
          "WHICH WICH #670",
          "THE DEPOT ON FIRST",
          "KENTUCKY FRIED CHICKEN G135985",
          "TACO BELL OF KNIGHTDALE",
          "THE ADDISON OF KNIGHTDALE DINING",
          "CHINA HOUSE",
          "GRAND STREET PIZZA",
          "VIDA DULCE ICE CREAM SHOP",
          "MOE'S SOUTHWEST GRILL #837",
          "ZAXBY'S OF KNIGHTDALE",
          "QDOBA MEXICAN GRILL #612",
          "POPEYES #12346",
          "IPHO SUSHI KITCHEN & BAR",
          "HIGHWAY 55 BURGERS SHAKES & FRIES",
          "LOWES FOODS #189 DELI",
          "EL SENOR"
         ],
         "lat": [
          35.79842841,
          35.79796133,
          35.79842841,
          35.79657483,
          35.80004791,
          35.79842841,
          35.75699359,
          35.80022075,
          35.79511649,
          35.7957655,
          35.7957655,
          35.79768216,
          35.79982416,
          35.79679074,
          35.79752075,
          35.79721391,
          35.79790758,
          35.79763599,
          35.79638583,
          35.797116,
          35.8010717,
          35.798745,
          35.79707841,
          35.79937492,
          35.79511649,
          35.798087,
          35.79722375,
          35.80561159,
          35.79852808,
          35.79644858,
          35.79511649,
          35.79658408,
          35.79888799,
          35.79787209,
          35.79784458,
          35.79842841,
          35.79878016,
          35.79758258,
          35.79778882,
          35.79651208,
          35.79796133,
          35.79774491,
          35.79328907,
          35.79796991,
          35.79807017,
          35.75881008,
          35.79796991,
          35.7957655,
          35.79842841,
          35.79842841,
          35.79659333,
          35.79763599,
          35.79779841,
          35.79511649,
          35.797116,
          35.79511649,
          35.79511649
         ],
         "legendgroup": "knightdale",
         "lon": [
          -78.50727643,
          -78.50344844,
          -78.50727643,
          -78.49260711,
          -78.47367578,
          -78.50727643,
          -78.44826736,
          -78.5111511,
          -78.5051576,
          -78.48796386,
          -78.48796386,
          -78.50467694,
          -78.49003668,
          -78.50846518,
          -78.50544001,
          -78.49335819,
          -78.48481193,
          -78.51259235,
          -78.48999269,
          -78.48874851,
          -78.51225974,
          -78.48975911,
          -78.50198485,
          -78.47987094,
          -78.5051576,
          -78.49683635,
          -78.47356828,
          -78.42460971,
          -78.47551952,
          -78.50464002,
          -78.5051576,
          -78.50948151,
          -78.47298186,
          -78.4917021,
          -78.48810244,
          -78.50727643,
          -78.48855644,
          -78.50003518,
          -78.49906376,
          -78.49110777,
          -78.50344844,
          -78.48707602,
          -78.47662353,
          -78.49327386,
          -78.49388935,
          -78.51955243,
          -78.49327386,
          -78.48796386,
          -78.50727643,
          -78.50727643,
          -78.50401469,
          -78.51259235,
          -78.49002028,
          -78.5051576,
          -78.48874851,
          -78.5051576,
          -78.5051576
         ],
         "marker": {
          "color": "#B6E880"
         },
         "mode": "markers",
         "name": "knightdale",
         "showlegend": true,
         "subplot": "mapbox",
         "type": "scattermapbox"
        },
        {
         "customdata": [
          [
           "1561 E WILLIAMS ST",
           "apex"
          ],
          [
           "1431 BEAVER CREEK COMMONS",
           "apex"
          ],
          [
           "758 WILLIAMS ST",
           "apex"
          ],
          [
           "1581 E WILLIAMS ST",
           "apex"
          ],
          [
           "1006 MARCO DR",
           "apex"
          ],
          [
           "1001 BEAVER CREEK COMMONS DR",
           "apex"
          ],
          [
           "5490 APEX PEAKWAY",
           "apex"
          ],
          [
           "1061 PINE PLAZA DR",
           "apex"
          ],
          [
           "800 W WILLIAMS ST",
           "apex"
          ],
          [
           "1400 E WILLIAMS ST",
           "apex"
          ],
          [
           "1487 KELLY RD",
           "apex"
          ],
          [
           "2127 TEN TEN RD",
           "apex"
          ],
          [
           "760 W WILLIAMS ST",
           "apex"
          ],
          [
           "1001 DAVIS DR",
           "apex"
          ],
          [
           "1460 CHAPEL RIDGE RD",
           "apex"
          ],
          [
           "3675 GREEN LEVEL WEST RD",
           "apex"
          ],
          [
           "6108 OLD JENKS  RD",
           "apex"
          ],
          [
           "5460 APEX PEAKWAY",
           "apex"
          ],
          [
           "930 US 64 HWY W",
           "apex"
          ],
          [
           "1209 LAURA VILLAGE  RD",
           "apex"
          ],
          [
           "5400 APEX PEAKWAY",
           "apex"
          ],
          [
           "209 E WILLIAMS ST",
           "apex"
          ],
          [
           "1501 N SALEM ST",
           "apex"
          ],
          [
           "1900 LAKE PINE DR",
           "apex"
          ],
          [
           "1286 W WILLIAMS ST",
           "apex"
          ],
          [
           "922 US 64 HWY W",
           "apex"
          ],
          [
           "1761 NC-55 HWY",
           "apex"
          ],
          [
           "1205 LAURA VILLAGE RD",
           "apex"
          ],
          [
           "1201 HADDON HALL DR",
           "apex"
          ],
          [
           "1001 E WILLIAMS ST",
           "apex"
          ],
          [
           "764 W WILLIAMS ST",
           "apex"
          ],
          [
           "5444 APEX PEAKWAY",
           "apex"
          ],
          [
           "1005 BEAVER CREEK COMMONS",
           "apex"
          ],
          [
           "113 N SALEM ST",
           "apex"
          ],
          [
           "780 W WILLIAMS ST",
           "apex"
          ],
          [
           "2105 TEN TEN RD",
           "apex"
          ],
          [
           "1769 W WILLIAMS ST",
           "apex"
          ],
          [
           "225 N SALEM ST",
           "apex"
          ],
          [
           "320 S SALEM ST",
           "apex"
          ],
          [
           "1421 KELLY RD",
           "apex"
          ],
          [
           "2045 CREEKSIDE LANDING DR",
           "apex"
          ],
          [
           "106 INVESTMENT BLVD",
           "apex"
          ],
          [
           "772 W WILLIAMS ST",
           "apex"
          ],
          [
           "900 US 64 HWY W",
           "apex"
          ],
          [
           "2512 TEN TEN RD",
           "apex"
          ],
          [
           "102 N SALEM ST",
           "apex"
          ],
          [
           "712 LAURA DUNCAN RD",
           "apex"
          ],
          [
           "1284 W WILLIAMS ST",
           "apex"
          ],
          [
           "1264 W WILLIAMS ST",
           "apex"
          ],
          [
           "1268 W WILLIAMS ST",
           "apex"
          ],
          [
           "1101 E WILLIAMS ST",
           "apex"
          ],
          [
           "1411 BEAVER CREEK COMMONS DR",
           "apex"
          ],
          [
           "1000 BEAVER CREEK COMMONS DR",
           "apex"
          ],
          [
           "700 E WILLIAMS ST",
           "apex"
          ],
          [
           "770  W WILLIAMS ST",
           "apex"
          ],
          [
           "4000 LUFKIN RD",
           "apex"
          ],
          [
           "518 E WILLIAMS ST",
           "apex"
          ],
          [
           "620 LAURA DUNCAN RD",
           "apex"
          ],
          [
           "804 PERRY RD",
           "apex"
          ],
          [
           "4402 TEN TEN RD",
           "apex"
          ],
          [
           "119 N SALEM ST",
           "apex"
          ],
          [
           "1700 CENTER ST",
           "apex"
          ],
          [
           "800 PERRY RD",
           "apex"
          ],
          [
           "1401 KELLY RD",
           "apex"
          ],
          [
           "126 N SALEM ST",
           "apex"
          ],
          [
           "1100 MARCO DR",
           "apex"
          ],
          [
           "809 E WILLIAMS ST",
           "apex"
          ],
          [
           "1301 E WILLIAMS ST",
           "apex"
          ],
          [
           "1280 W WILLIAMS ST",
           "apex"
          ],
          [
           "124 N SALEM ST",
           "apex"
          ],
          [
           "1232 W WILLIAMS ST",
           "apex"
          ],
          [
           "1000 MILLS CHASE LOOP",
           "apex"
          ],
          [
           "1763 W WILLIAMS ST",
           "apex"
          ],
          [
           "830 E WILLIAMS ST",
           "apex"
          ],
          [
           "1075 PINE PLAZA BLVD",
           "apex"
          ],
          [
           "2143 TEN-TEN RD",
           "apex"
          ],
          [
           "1120 BEAVER CREEK COMMONS DRIVE",
           "apex"
          ],
          [
           "1047 BEAVER CREEK COMMONS DR",
           "apex"
          ],
          [
           "1150 BEAVER CREEK COMMONS  DR",
           "apex"
          ],
          [
           "100 N SALEM ST",
           "apex"
          ],
          [
           "1441 BEAVER CREEK COMMONS DR",
           "apex"
          ],
          [
           "2026 CREEKSIDE LANDING DR",
           "apex"
          ],
          [
           "5412 APEX PEAKWAY",
           "apex"
          ],
          [
           "8759 HOLLY SPRINGS RD",
           "apex"
          ],
          [
           "906 US 64 HWY W",
           "apex"
          ],
          [
           "6204 TEN TEN RD",
           "apex"
          ],
          [
           "1021 PINE PLAZA DR",
           "apex"
          ],
          [
           "2125 TEN TEN RD",
           "apex"
          ],
          [
           "1440 CHAPEL RIDGE RD",
           "apex"
          ],
          [
           "1413 KELLY RD",
           "apex"
          ],
          [
           "928 US 64 HWY W",
           "apex"
          ],
          [
           "1403 W WILLIAMS ST",
           "apex"
          ],
          [
           "1107 PINE PLAZA DR",
           "apex"
          ],
          [
           "790 W WILLIAMS ST",
           "apex"
          ],
          [
           "5470 APEX PEAKWAY",
           "apex"
          ],
          [
           "1430 W WILLIAMS ST",
           "apex"
          ],
          [
           "1110 BEAVER CREEK COMMONS DR",
           "apex"
          ],
          [
           "1417 E WILLIAMS ST",
           "apex"
          ],
          [
           "10000 CAMBRIDGE VILLAGE LOOP",
           "apex"
          ],
          [
           "1411 E WILLIAMS ST",
           "apex"
          ],
          [
           "800 W WILLIAMS ST",
           "apex"
          ],
          [
           "708 LAURA DUNCAN  RD",
           "apex"
          ],
          [
           "1459 BEAVER CREEK COMMONS DR",
           "apex"
          ],
          [
           "1055 BEAVER CREEK COMMONS DR",
           "apex"
          ],
          [
           "1500 E WILLIAMS ST",
           "apex"
          ],
          [
           "1081 PINE PLAZA DR",
           "apex"
          ],
          [
           "1055 PINE PLAZA DR",
           "apex"
          ],
          [
           "1101 PINE PLAZA DR",
           "apex"
          ],
          [
           "5160 SUNSET LAKE RD",
           "apex"
          ],
          [
           "5800 TECHNOLOGY  DR",
           "apex"
          ],
          [
           "1171 PINE PLAZA DR",
           "apex"
          ],
          [
           "841 PERRY RD",
           "apex"
          ],
          [
           "301 N SALEM ST",
           "apex"
          ],
          [
           "2017 CREEKSIDE LANDING DR",
           "apex"
          ],
          [
           "803 E WILLIAMS ST",
           "apex"
          ],
          [
           "76 HUNTER ST",
           "apex"
          ],
          [
           "802 PERRY RD",
           "apex"
          ],
          [
           "1305 E WILLIAMS ST",
           "apex"
          ],
          [
           "1750 OLIVE CHAPEL RD",
           "apex"
          ],
          [
           "1201 BEAVER CREEK COMMONS DR",
           "apex"
          ]
         ],
         "hovertemplate": "<b>%{hovertext}</b><br><br>City=%{customdata[1]}<br>Y=%{lat}<br>X=%{lon}<br>Address 1=%{customdata[0]}<extra></extra>",
         "hovertext": [
          "AKAMI SUSHI BAR",
          "RED ROBIN #571",
          "BAAN THAI RESTAURANT",
          "BOJANGLES #39",
          "HOLIDAY INN EXPRESS",
          "PANERA BREAD #1650",
          "DOHERTY'S IRISH PUB & RESTAURANT",
          "MCALISTER'S DELI #100958",
          "BAWARCHI GRILL & SPIRITS",
          "QUALITY INN AND SUITES (BREAKFAST AREA)",
          "MARCO'S PIZZA #8403",
          "BIG SERGIO'S PIZZA OF APEX",
          "PIZZA HUT 039535",
          "DIRTY V",
          "AMAZING GRAZING",
          "MEZCALITO OF APEX",
          "WAKE OASIS COFFEE",
          "NAAN HOUSE INDIAN BISTRO",
          "CHINA CHEF",
          "BOJANGLES",
          "LOWES FOODS #184 (DELI)",
          "TACOS MEXICO RESTAURANT",
          "MUSTANG CHARLIE'S",
          "WENDY'S",
          "MEZEH GRILL",
          "JM APEX #3028",
          "JM PEAK PLAZA #3080",
          "TACO BELL",
          "CARRABBA'S ITALIAN GRILL #8412",
          "SKIPPER'S FISH FRY AND MARKET",
          "#1 CHINA",
          "NAMOLIS NY PIZZERIA",
          "QDOBA MEXICAN GRILL #215",
          "SALEM STREET PUB",
          "RUDY'S PUB & GRILL",
          "DQ GRILL & CHILL #24227",
          "NEW CHINA CHEF",
          "SCRATCH KITCHEN AND TAPROOM",
          "TAP STATION",
          "EGGS UP GRILL #73",
          "MAMACITA APEX",
          "XL SIDELINE",
          "KWENCH JUICE CAFE",
          "MCDONALD'S #17721",
          "KNIGHTS PLAY GOLF CENTER",
          "LA RANCHERITA",
          "NEW WANGS KITCHEN",
          "DOMINO'S #8925",
          "TROPICAL SMOOTHIE CAFE",
          "STARBUCKS #55618",
          "DALLAS FRIED CHICKEN",
          "LONGHORN STEAKHOUSE #277",
          "PANDA EXPRESS #1352",
          "YAMATO",
          "MOE'S SOUTHWEST GRILL #838",
          "SHEETZ #540",
          "APEX WINGS",
          "FOOD LION #1338 DELI",
          "J & S NEW YORK PIZZA",
          "CIRCLE K #2723635",
          "THE PROVINCIAL",
          "ABBEY ROAD TAVERN & GRILL APEX",
          "DUNKIN DONUTS 344467",
          "CULVER'S OF APEX #730",
          "PEAK ON SALEM",
          "SPRINGHILL SUITES KITCHEN",
          "MI CANCUN",
          "LA TABERNA MEXICAN BAR & GRILL",
          "FIRST WATCH #6037",
          "MISSION MARKET CAFE",
          "BONAFIDE BAKESHOP & CAFE",
          "THE RESERVE AT MILLS FARM",
          "MEZZA LUNA PIZZERIA",
          "MCDONALD'S #3923",
          "FIVE GUYS #1797",
          "KYLIN ASIAN CUISINE",
          "CHILI'S",
          "FIREHOUSE SUBS",
          "IHOP #3181",
          "ANNA'S PIZZERIA",
          "BEAVER CREEK CINEMAS 12",
          "SUSHI IWA APEX",
          "SUBWAY #29952",
          "JOHNNY'S PIZZA",
          "SCHLOTZSKY'S",
          "AJ'S FOOD MART",
          "COSTCO WHOLESALE #1206 FOOD COURT",
          "COCINA MEXICANA LA PENA DE HOREB",
          "YAGG SII TENN",
          "THE DUGOUT TAVERN AND GRILL",
          "MICHELANGELO'S PIZZA",
          "KENTUCKY FRIED CHICKEN G135995",
          "ALPACA PERUVIAN CHARCOAL CHICKEN",
          "WENDY'S",
          "MR. DUMPLING",
          "DANIEL'S RESTAURANT",
          "CHICK-FIL-A",
          "WAFFLE HOUSE #1302",
          "CAMBRIDGE VILLAGE DINING",
          "COMFORT INN BREAKFAST",
          "JD'S TAVERN",
          "MAMMA  MIA ITALIAN BISTRO",
          "SULTAN'S DELI",
          "NOODLES & COMPANY #866",
          "ARBYS #6768",
          "CHIPOTLE  #2822",
          "RUCKUS PIZZA, PASTA & SPIRITS APEX",
          "STARBUCKS #29148",
          "SHAKEY RAY'S",
          "DELL/EMC2",
          "ZAXBY'S #69201",
          "THE FISH HOUSE EATERY",
          "SUYU SUSHI",
          "TANDOORI TRAIL",
          "VEGAN COMMUNITY KITCHEN",
          "MYRA CAFE",
          "PEAK CITY DINER",
          "FUSION CAFE",
          "WAKE OASIS COFFEE",
          "SUPER TARGET #1932 FOOD AVENUE"
         ],
         "lat": [
          35.70675427,
          35.74630069,
          35.73802969,
          35.70600786,
          35.71704186,
          35.74374594,
          35.73684286,
          35.74657144,
          35.73964977,
          35.71213569,
          35.73604019,
          35.72082295,
          35.73802969,
          35.75386935,
          35.73806703,
          35.77733176,
          35.75386935,
          35.73684286,
          35.74557219,
          35.74886593,
          35.73684286,
          35.72667311,
          35.74825394,
          35.74322335,
          35.74703843,
          35.74557219,
          35.81937159,
          35.74864094,
          35.74215135,
          35.72110919,
          35.73802969,
          35.73684286,
          35.74374594,
          35.73127902,
          35.73802969,
          35.7216782,
          35.75964659,
          35.73263061,
          35.72763486,
          35.73782353,
          35.74513927,
          35.72524123,
          35.73802969,
          35.7445101,
          35.71128077,
          35.73076686,
          35.73510393,
          35.74703843,
          35.74703843,
          35.74703843,
          35.7204971,
          35.74686903,
          35.74520176,
          35.72361102,
          35.73802969,
          35.72194761,
          35.72374694,
          35.73510393,
          35.72084835,
          35.69447836,
          35.73144127,
          35.72521503,
          35.72084835,
          35.73713785,
          35.73153236,
          35.71725828,
          35.72219936,
          35.7170247,
          35.74703843,
          35.73146061,
          35.74618301,
          35.75053068,
          35.75964659,
          35.72190261,
          35.74657144,
          35.72082295,
          35.74628411,
          35.74374594,
          35.74677019,
          35.73076686,
          35.74574202,
          35.74506886,
          35.73684286,
          35.69264269,
          35.74469111,
          35.67670277,
          35.74641768,
          35.72082295,
          35.7385532,
          35.73782353,
          35.74557219,
          35.75015302,
          35.74675893,
          35.73836243,
          35.73684286,
          35.75245627,
          35.74592403,
          35.71142477,
          35.7181047,
          35.71228894,
          35.73964977,
          35.73510393,
          35.74506886,
          35.74374594,
          35.71089628,
          35.74657144,
          35.74743561,
          35.74675893,
          35.66756996,
          35.69280461,
          35.74738085,
          35.71972361,
          35.73305294,
          35.74513927,
          35.72219936,
          35.73545669,
          35.72084835,
          35.71592594,
          35.73604019,
          35.7448776
         ],
         "legendgroup": "apex",
         "lon": [
          -78.83534593,
          -78.8838039,
          -78.86276232,
          -78.83501293,
          -78.8403395,
          -78.87238782,
          -78.86537408,
          -78.82939058,
          -78.86480258,
          -78.84131209,
          -78.89528074,
          -78.81811359,
          -78.86276232,
          -78.848894,
          -78.88889823,
          -78.90547223,
          -78.848894,
          -78.86537408,
          -78.820808,
          -78.83682643,
          -78.86537408,
          -78.85166491,
          -78.85363641,
          -78.82229551,
          -78.87327823,
          -78.820808,
          -78.87367214,
          -78.83614033,
          -78.87101582,
          -78.84350608,
          -78.86276232,
          -78.86537408,
          -78.87238782,
          -78.85149992,
          -78.86276232,
          -78.819009,
          -78.87770732,
          -78.85087425,
          -78.85435308,
          -78.89379364,
          -78.8866569,
          -78.838492,
          -78.86276232,
          -78.82150684,
          -78.81416443,
          -78.85126634,
          -78.84201291,
          -78.87327823,
          -78.87327823,
          -78.87327823,
          -78.84324242,
          -78.88385899,
          -78.8731794,
          -78.84651358,
          -78.86276232,
          -78.82092709,
          -78.84778658,
          -78.84201291,
          -78.84460908,
          -78.77213694,
          -78.85138233,
          -78.82753575,
          -78.84460908,
          -78.89533507,
          -78.8506564,
          -78.83908833,
          -78.84409317,
          -78.84117499,
          -78.87327823,
          -78.85070691,
          -78.87260949,
          -78.82985842,
          -78.87770732,
          -78.84504566,
          -78.82939058,
          -78.81811359,
          -78.87450315,
          -78.87238782,
          -78.87654682,
          -78.85126634,
          -78.8825619,
          -78.88353507,
          -78.86537408,
          -78.77345985,
          -78.82279451,
          -78.73671029,
          -78.82726692,
          -78.81811359,
          -78.88885323,
          -78.89379364,
          -78.820808,
          -78.87727082,
          -78.83026409,
          -78.86423058,
          -78.86537408,
          -78.87657382,
          -78.87405749,
          -78.83789634,
          -78.84579249,
          -78.83826509,
          -78.86480258,
          -78.84201291,
          -78.88353507,
          -78.87238782,
          -78.83904409,
          -78.82939058,
          -78.82904884,
          -78.83026409,
          -78.79955568,
          -78.84423141,
          -78.83218833,
          -78.84486616,
          -78.85047017,
          -78.8866569,
          -78.84409317,
          -78.84651308,
          -78.84460908,
          -78.84062784,
          -78.89528074,
          -78.87777608
         ],
         "marker": {
          "color": "#FF97FF"
         },
         "mode": "markers",
         "name": "apex",
         "showlegend": true,
         "subplot": "mapbox",
         "type": "scattermapbox"
        },
        {
         "customdata": [
          [
           "3030 SLATER RD",
           "morrisville"
          ],
          [
           "962 AIRPORT BLVD",
           "morrisville"
          ],
          [
           "1117 MARKET CENTER DR",
           "morrisville"
          ],
          [
           "3536 DAVIS DR",
           "morrisville"
          ],
          [
           "100 JERUSALEM DR",
           "morrisville"
          ],
          [
           "10300 CHAPEL HILL RD",
           "morrisville"
          ],
          [
           "1516 VILLAGE MARKET  PL",
           "morrisville"
          ],
          [
           "1201 MARKET CENTER DR",
           "morrisville"
          ],
          [
           "948 AIRPORT BLVD",
           "morrisville"
          ],
          [
           "1995 NW CARY  PKY",
           "morrisville"
          ],
          [
           "10962 CHAPEL HILL RD",
           "morrisville"
          ],
          [
           "1100 MARKET CENTER DR",
           "morrisville"
          ],
          [
           "9567 CHAPEL HILL RD",
           "morrisville"
          ],
          [
           "10285 CHAPEL HILL  RD",
           "morrisville"
          ],
          [
           "101 KEYBRIDGE DR",
           "morrisville"
          ],
          [
           "1500 VILLAGE MARKET PL",
           "morrisville"
          ],
          [
           "1020 LOWER SHILOH  WAY",
           "morrisville"
          ],
          [
           "962A AIRPORT BLVD",
           "morrisville"
          ],
          [
           "1000 LOWER SHILOH WAY",
           "morrisville"
          ],
          [
           "3037 VILLAGE MARKET PL",
           "morrisville"
          ],
          [
           "10970 CHAPEL HILL RD",
           "morrisville"
          ],
          [
           "5911 MCCRIMMON PKY",
           "morrisville"
          ],
          [
           "1301 MARKET CENTER DR",
           "morrisville"
          ],
          [
           "3524 DAVIS DRIVE",
           "morrisville"
          ],
          [
           "1004 LOWER SHILOH WAY",
           "morrisville"
          ],
          [
           "1550 AVIATION PKWY",
           "morrisville"
          ],
          [
           "1101 GRACE PARK DR",
           "morrisville"
          ],
          [
           "9545 CHAPEL HILL RD",
           "morrisville"
          ],
          [
           "3570 DAVIS DR",
           "morrisville"
          ],
          [
           "1021 CARRINGTON MILL BLVD",
           "morrisville"
          ],
          [
           "108 FACTORY SHOPS RD",
           "morrisville"
          ],
          [
           "4121 DAVIS DR",
           "morrisville"
          ],
          [
           "2020 HOSPITALITY CT",
           "morrisville"
          ],
          [
           "1211 MARKET CENTER  DR",
           "morrisville"
          ],
          [
           "1017 MARKET CENTER DR",
           "morrisville"
          ],
          [
           "10970 CHAPEL HILL RD",
           "morrisville"
          ],
          [
           "2007 NW CARY PKY",
           "morrisville"
          ],
          [
           "1017 CARRINGTON MILL BLVD",
           "morrisville"
          ],
          [
           "3400 VILLAGE MARKET  PL",
           "morrisville"
          ],
          [
           "10908 CHAPEL HILL RD",
           "morrisville"
          ],
          [
           "1012 AIRPORT BLVD",
           "morrisville"
          ],
          [
           "1000 CLAREN CIR",
           "morrisville"
          ],
          [
           "4129 DAVIS DR",
           "morrisville"
          ],
          [
           "1200 CLAREN CIR",
           "morrisville"
          ],
          [
           "1101 MARKET CENTER  DR",
           "morrisville"
          ],
          [
           "5000 DAVIS DR",
           "morrisville"
          ],
          [
           "1600 JOHN BRANTLEY  BLVD",
           "morrisville"
          ],
          [
           "8001 DEVELOPMENT DRIVE",
           "morrisville"
          ],
          [
           "1024 MARKET CENTER DRIVE",
           "morrisville"
          ],
          [
           "4200 PARAMOUNT  PKY",
           "morrisville"
          ],
          [
           "4141 DAVIS DR",
           "morrisville"
          ],
          [
           "1019 MORRISVILLE PKY",
           "morrisville"
          ],
          [
           "3001 MARKET CENTER DR",
           "morrisville"
          ],
          [
           "9525 CHAPEL HILL RD",
           "morrisville"
          ],
          [
           "1012-150 MORRISVILLE PKY",
           "morrisville"
          ],
          [
           "962-B AIRPORT BLVD",
           "morrisville"
          ],
          [
           "2107 GRACE PARK  DR",
           "morrisville"
          ],
          [
           "1000 MARKET CENTER DR",
           "morrisville"
          ],
          [
           "2101 GRACE PARK DR",
           "morrisville"
          ],
          [
           "9906 CHAPEL HILL RD",
           "morrisville"
          ],
          [
           "1125 HATCHES POND LN",
           "morrisville"
          ],
          [
           "10966 CHAPEL HILL RD",
           "morrisville"
          ],
          [
           "10970 CHAPEL HILL RD",
           "morrisville"
          ],
          [
           "9928 CHAPEL HILL RD",
           "morrisville"
          ],
          [
           "1550 AVIATION PKY",
           "morrisville"
          ],
          [
           "1550 AVIATION PKWY",
           "morrisville"
          ],
          [
           "300 AIRGATE DR",
           "morrisville"
          ],
          [
           "9825 CHAPEL HILL RD",
           "morrisville"
          ],
          [
           "218 SOUTHPORT DR",
           "morrisville"
          ],
          [
           "4051 DAVIS DR",
           "morrisville"
          ],
          [
           "9589 CHAPEL HILL RD",
           "morrisville"
          ],
          [
           "9605 CHAPEL HILL RD",
           "morrisville"
          ],
          [
           "3301 VILLAGE MARKET  PL",
           "morrisville"
          ],
          [
           "2001 HOSPITALITY CT",
           "morrisville"
          ],
          [
           "4023 DAVIS DR",
           "morrisville"
          ],
          [
           "3605 DAVIS DR",
           "morrisville"
          ],
          [
           "3532 DAVIS DR",
           "morrisville"
          ],
          [
           "3588 DAVIS DR",
           "morrisville"
          ],
          [
           "930 AIRPORT BLVD",
           "morrisville"
          ],
          [
           "1006 AIRPORT BLVD",
           "morrisville"
          ],
          [
           "909 AVIATION PKY",
           "morrisville"
          ],
          [
           "3200 VILLAGE MARKET PL",
           "morrisville"
          ],
          [
           "1108 MORRISVILLE CARPENTER RD",
           "morrisville"
          ],
          [
           "9575 CHAPEL HILL  RD",
           "morrisville"
          ],
          [
           "1106 GRACE PARK DRIVE",
           "morrisville"
          ],
          [
           "1010 AIRPORT BLVD.",
           "morrisville"
          ],
          [
           "995 AIRPORT BLVD",
           "morrisville"
          ],
          [
           "3607 DAVIS DR",
           "morrisville"
          ],
          [
           "108-A FACTORY SHOPS RD",
           "morrisville"
          ],
          [
           "152 MORRISVILLE SQUARE WAY",
           "morrisville"
          ],
          [
           "9549 CHAPEL HILL RD",
           "morrisville"
          ],
          [
           "1100 VILLAGE MARKET PL",
           "morrisville"
          ],
          [
           "2400 JOHN BRANTLEY BLVD",
           "morrisville"
          ],
          [
           "9573 CHAPEL HILL RD",
           "morrisville"
          ],
          [
           "350 AIRGATE DR",
           "morrisville"
          ],
          [
           "1030 SYNC ST",
           "morrisville"
          ],
          [
           "1025 THINK  PL",
           "morrisville"
          ],
          [
           "2400 JOHN BRANTLEY BLVD",
           "morrisville"
          ],
          [
           "1001 HOSPITALITY CT",
           "morrisville"
          ],
          [
           "10970 CHAPEL HILL RD",
           "morrisville"
          ],
          [
           "1021 WCC LANE",
           "morrisville"
          ],
          [
           "201 AIRGATE DR",
           "morrisville"
          ],
          [
           "3578 DAVIS DR",
           "morrisville"
          ],
          [
           "2400 JOHN BRANTLEY RD",
           "morrisville"
          ],
          [
           "7033 LOUIS STEPHENS DR",
           "morrisville"
          ],
          [
           "1600 AVIATION PKWY",
           "morrisville"
          ],
          [
           "3504 DAVIS DR",
           "morrisville"
          ],
          [
           "101 - 500 KEYBRIDGE ST",
           "morrisville"
          ],
          [
           "2400 JOHN BRANTLEY BLVD",
           "morrisville"
          ],
          [
           "10255 CHAPEL HILL RD",
           "morrisville"
          ],
          [
           "6105 GRACE PARK DR",
           "morrisville"
          ],
          [
           "4101 GRACE PARK DR",
           "morrisville"
          ],
          [
           "1000 AERIAL CENTER PKY",
           "morrisville"
          ],
          [
           "1020 AVIATION PKWY",
           "morrisville"
          ],
          [
           "3107 GRACE PARK DR",
           "morrisville"
          ],
          [
           "3608 DAVIS DR",
           "morrisville"
          ],
          [
           "1008 MORRISVILLE CARPENTER RD",
           "morrisville"
          ],
          [
           "200 AIRGATE DR",
           "morrisville"
          ],
          [
           "1014 AIRPORT  BLVD",
           "morrisville"
          ],
          [
           "1300 VILLAGE MARKET PL",
           "morrisville"
          ],
          [
           "1600 JOHN BRANTLEY BLVD",
           "morrisville"
          ],
          [
           "10500 CHAPEL HILL RD",
           "morrisville"
          ],
          [
           "3609 DAVIS DR",
           "morrisville"
          ],
          [
           "3108 GRACE PARK DR",
           "morrisville"
          ],
          [
           "10958 CHAPEL HILL RD",
           "morrisville"
          ],
          [
           "1013 MARKET CENTER DR",
           "morrisville"
          ],
          [
           "2400 JOHN BRANTLEY BLVD",
           "morrisville"
          ],
          [
           "144 MORRISVILLE SQUARE WAY",
           "morrisville"
          ],
          [
           "4149 DAVIS DR",
           "morrisville"
          ],
          [
           "10290 CHAPEL HILL RD",
           "morrisville"
          ],
          [
           "9585 CHAPEL HILL",
           "morrisville"
          ],
          [
           "2016 MARKET CENTER DR",
           "morrisville"
          ],
          [
           "801 AIRPORT BLVD",
           "morrisville"
          ],
          [
           "1001 MORRISVILLE-CARPENTER RD",
           "morrisville"
          ],
          [
           "3607 DAVIS DR",
           "morrisville"
          ],
          [
           "9958 CHAPEL HILL RD",
           "morrisville"
          ],
          [
           "1600 JOHN BRANTLEY RD",
           "morrisville"
          ],
          [
           "4137 DAVIS DR",
           "morrisville"
          ],
          [
           "6933 LOUIS STEPHENS DR",
           "morrisville"
          ],
          [
           "4075 DAVIS DR",
           "morrisville"
          ],
          [
           "10235 CHAPEL HILL RD",
           "morrisville"
          ],
          [
           "1001 CLAREN CIR",
           "morrisville"
          ],
          [
           "10208 CHAPEL HILL RD",
           "morrisville"
          ],
          [
           "2600 JOHN BRANTLEY BLVD",
           "morrisville"
          ],
          [
           "111 COMPETITION CENTER DR",
           "morrisville"
          ],
          [
           "120 MORRISVILLE SQUARE WAY",
           "morrisville"
          ],
          [
           "1500 RDU CENTER DR",
           "morrisville"
          ],
          [
           "10420 CHAPEL HILL  RD",
           "morrisville"
          ],
          [
           "130 MORRISVILLE SQUARE WAY",
           "morrisville"
          ],
          [
           "1901  NW CARY PKY",
           "morrisville"
          ],
          [
           "10970 CHAPEL HILL RD",
           "morrisville"
          ],
          [
           "2400 JOHN BRANTLEY  BLVD",
           "morrisville"
          ],
          [
           "7301 KIT CREEK RD",
           "morrisville"
          ],
          [
           "3300 VILLAGE MARKET PL",
           "morrisville"
          ],
          [
           "100 JERUSALEM DR",
           "morrisville"
          ],
          [
           "7001 DEVELOPMENT DRIVE",
           "morrisville"
          ],
          [
           "1600 VILLAGE MARKET PL",
           "morrisville"
          ],
          [
           "4093 DAVIS DRIVE",
           "morrisville"
          ],
          [
           "9825-G CHAPEL HILL RD",
           "morrisville"
          ],
          [
           "9601 CHAPEL HILL RD",
           "morrisville"
          ],
          [
           "3735 DAVIS  DR",
           "morrisville"
          ],
          [
           "9662 CHAPEL HILL RD",
           "morrisville"
          ],
          [
           "3035 VILLAGE MARKET PL",
           "morrisville"
          ],
          [
           "2400 JOHN BRANTLEY BLVD",
           "morrisville"
          ],
          [
           "10954 CHAPEL HILL RD",
           "morrisville"
          ],
          [
           "2750 SLATER RD",
           "morrisville"
          ],
          [
           "3025 CARRINGTON MILL BLVD",
           "morrisville"
          ],
          [
           "3608 DAVIS DR",
           "morrisville"
          ],
          [
           "10119 CHAPEL HILL RD",
           "morrisville"
          ],
          [
           "10255 CHAPEL HILL RD",
           "morrisville"
          ],
          [
           "955 AIRPORT BLVD",
           "morrisville"
          ],
          [
           "151 AIRGATE DR",
           "morrisville"
          ],
          [
           "7100 KIT CREEK RD",
           "morrisville"
          ]
         ],
         "hovertemplate": "<b>%{hovertext}</b><br><br>City=%{customdata[1]}<br>Y=%{lat}<br>X=%{lon}<br>Address 1=%{customdata[0]}<extra></extra>",
         "hovertext": [
          "COASTAL CAFE",
          "JERSEY MIKE RDU #3013",
          "SMOOTHIE KING 501",
          "GEORGINA'S PIZZERIA",
          "BABYMOON CAFE",
          "SUBWAY #42679",
          "CHIPOTLE #1946",
          "CHILI'S #1534",
          "TEXAS STEAKHOUSE AND SALOON",
          "MEDALLION DINING SERVICE",
          "HYATT HOUSE FOOD SERVICE",
          "RISE BISCUITS & DONUTS",
          "FOOD LION #1514 DELI",
          "SZECHUAN GARDEN MORRISVILLE",
          "ACACIA TREE ASIAN CUISINE",
          "HIBACHI BLUE",
          "HOME2 SUITES INSPIRED TABLE",
          "VICINO'S PIZZA",
          "NAGA'S SOUTH INDIAN CUISINE",
          "FENG CHA",
          "YINDEE",
          "BRIER POINTE RETIREMENT COMMUNITY RESTAURANT",
          "LEO'S ITALIAN SOCIAL",
          "KINOKO",
          "MANHATTAN CAFE",
          "WAYBACK BURGER / MEX CAFE",
          "SHARETEA",
          "MEEPLE'S BREW MORRISVILLE",
          "DUNKIN' - BASKIN-ROBBINS' #344346",
          "TOWNPLACES BREAKFAST BUFFET",
          "CARMEN'S CUBAN CAFE",
          "CHUTNEYS",
          "SONESTA ES SUITES RALEIGH DURHAM AIRPORT FOODSERVICE",
          "ANOTHER BROKEN EGG",
          "CAVA #117",
          "IT'S A WRAP",
          "WENDYS",
          "STARBUCKS",
          "B&B THEATRES PARK WEST CONCESSIONS",
          "WAKE TECH RT2 DINING",
          "STAYBRIDGE SUITES SUNDOWNER ROOM",
          "BOJANGLES #37",
          "RANDY'S PIZZA",
          "SPINNERS BAR & GRILL AT FOUR POINTS",
          "RUCKUS PIZZA PASTA & SPIRITS #3",
          "BI CAFE",
          "ACC AMERICAN CAFE/LA TAPENADE",
          "LENOVO BUILDING 8 CAFETERIA",
          "BLAZE PIZZA #1062",
          "SOUTHERN FOODSERVICE CHARTER",
          "QUICKLY",
          "SHEETZ #600",
          "TARGET CAFE #2721",
          "AMC PARK PLACE 16",
          "FUSION NINE",
          "ROOTS GRILL & BAR",
          "EMPANADAS & MORE",
          "RED HOT & BLUE PARK WEST",
          "ACME PIZZA CO MORRISVILLE",
          "MARCO'S PIZZA #8400",
          "CHAAT MANDI",
          "HOPPY HOUSE TAPROOM & HANGOUT PLACE",
          "BLR BAR AND CURRY",
          "MAMACITA MORRISVILLE",
          "GLORIA JEANS COFFEE",
          "PIZZA HUT / WHICH WICH",
          "CAMBRIA HOTEL FOOD AND BEVERAGE",
          "JP'S BIRYANI",
          "LAND OF THOUSAND HILLS",
          "HOKKAIDO RAMEN HOUSE",
          "CHAI FRESH",
          "MI CANCUN 2",
          "WHICH WICH OF PARK WEST",
          "SONESTA SELECT RALEIGH DURHAM AIRPORT FOODSERVICE",
          "WENDY'S",
          "ROSATI'S PIZZA MORRISVILLE",
          "INCHIN'S BAMBOO GARDEN",
          "SALSA FRESH #3",
          "DALY CAFE AND PUB AT HOLIDAY INN",
          "WAFFLE HOUSE #1090",
          "VILLAGE DELI & GRILL",
          "FIREBIRDS",
          "TACO BELL #29283",
          "ALPACA PERUVIAN CHARCOAL CHICKEN",
          "MI CANCUN",
          "HAMPTON INN (BREAKFAST AREA)",
          "LOS TRES MAGUEYES",
          "J J CHINA",
          "PENG'S ASIAN CUISINE",
          "TASTE VIETNAMESE CUISINE",
          "SWAGAT INDIAN CUISINE",
          "PANERA BREAD #1643",
          "POPEYE'S RDU JV",
          "HI POKE",
          "TRU BY HILTON FOODSERVICE",
          "SYNEOS HEALTH CAFE",
          "UNC HEALTHCARE MOTOWN CAFE",
          "BURGER FI RDU",
          "LAQUINTA RDU FOOD SERVICE",
          "KOKI",
          "RUSH HOUR INC.",
          "COUNTRY INN & SUITES BREAKFAST AREA",
          "SMITHFIELD'S CHICKEN 'N BAR-B-Q",
          "BEYU CAFFE T2",
          "THE OPENING BELL",
          "SHEETZ #399",
          "PHO 919",
          "PAOLO'S",
          "BLACK & WHITE COFFEE ROASTERS",
          "ROYAL MAHARAJA INDIAN KITCHEN",
          "ADDA BISTRO & DINING",
          "THAI'S NOODLE",
          "WENDY'S",
          "BAPS SHAYONA",
          "WOODY'S SPORTS TAVERN & GRILL",
          "STARBUCKS COFFEE #9657",
          "DQ GRILL AND CHILL #41656",
          "HYATT PLACE CAFE",
          "HOLIDAY INN EXPRESS FOODSERVICE",
          "BUFFALO WILD WINGS #357",
          "CHAR GRILL/SALSARITAS",
          "TAQUERIA LA ESQUINA",
          "FOOD LION #2196 DELI",
          "N. C. BAGEL CAFE & DELI",
          "G-58 CUISINE",
          "PENN STATION #251",
          "WHISKY RIVER",
          "TOWER INDIA",
          "TWO GUYS GRILLE",
          "THAI 54",
          "EASTERN CHINA CHINESE RESTAURANT",
          "PIADA ITALIAN STREET FOOD",
          "7-11",
          "MCDONALD'S #32336",
          "HONEST VEGETARIAN RESTAURANT",
          "MOCHINUT",
          "BEYU CAFFE T1",
          "ALIE HIBACHI & SUSHI",
          "THE EXCHANGE CAFE",
          "TOYAR'S BBQ & HOT POT RESTAURANT",
          "NEOMONDE BAKERY & DELI",
          "HOOTERS",
          "LA CUCINA ITALIANA",
          "LA FARM RDU",
          "WCC CAFE",
          "BALI HAI",
          "THE GARDEN GRILL & BAR",
          "TRIANGLE MINI MART",
          "C & T WOK CHINESE AND THAI CUISINE",
          "HOT BREADS CAFE",
          "TERIYAKIN",
          "JASON'S DELI #890",
          "NET APP CAFE BLDG3",
          "BAD DADDY'S BURGER BAR",
          "DIM SUM HOUSE",
          "LENOVO BUILDING 7 CAFE",
          "FULL MOON OYSTER BAR",
          "HARRIS TEETER #104 STARBUCKS",
          "TAIPEI CAFE",
          "BAWARCHI",
          "HYDERABAD HOUSE",
          "POTBELLY SANDWICH SHOP",
          "CLEAN JUICE PARKWEST",
          "STARBUCKS T2D",
          "FOUNT COFFEE & KITCHEN",
          "FAIRFIELD INN & SUITES RDU FOODSERVICE",
          "THE PERK CAFE",
          "JERSEY MIKE'S #3150",
          "MILO'S CAFE",
          "PI BAR GRILL AND GAMES",
          "CRACKER BARREL #461",
          "CAPITAL CITY CHOP HOUSE",
          "ARENA CAFE- CISCO BLDG 7"
         ],
         "lat": [
          35.86836875,
          35.85719025,
          35.80454792,
          35.81812092,
          35.85101709,
          35.83264725,
          35.80454792,
          35.80454792,
          35.85750382,
          35.80768967,
          35.85506616,
          35.80776192,
          35.8045755,
          35.83012817,
          35.82037975,
          35.80454792,
          35.86395017,
          35.85719025,
          35.86545974,
          35.80675484,
          35.85637857,
          35.83928967,
          35.80454792,
          35.81812092,
          35.86494917,
          35.85315724,
          35.821117,
          35.8045755,
          35.81803975,
          35.85803709,
          35.86238182,
          35.8356255,
          35.85787324,
          35.8080114,
          35.80454792,
          35.85637857,
          35.80538508,
          35.85731675,
          35.80768075,
          35.85314875,
          35.85781916,
          35.85573174,
          35.8356255,
          35.85503992,
          35.80454792,
          35.86068133,
          35.86970016,
          35.86448849,
          35.80776192,
          35.86029407,
          35.8356255,
          35.80911142,
          35.80562042,
          35.80411608,
          35.81021926,
          35.85719025,
          35.821117,
          35.80776192,
          35.821117,
          35.81480892,
          35.82663584,
          35.85590291,
          35.85637857,
          35.81480892,
          35.85315724,
          35.85315724,
          35.86547024,
          35.81105542,
          35.83804809,
          35.8356255,
          35.8045755,
          35.80641066,
          35.80768075,
          35.85903365,
          35.83815358,
          35.82130617,
          35.81812092,
          35.81812092,
          35.85658767,
          35.85853032,
          35.83559841,
          35.80768075,
          35.82080217,
          35.8045755,
          35.821117,
          35.85781916,
          35.85954674,
          35.82130617,
          35.86238182,
          35.819515,
          35.8045755,
          35.80607817,
          35.86970016,
          35.8045755,
          35.86618957,
          35.86278841,
          35.8571005,
          35.86970016,
          35.85962807,
          35.85637857,
          35.84104266,
          35.86365191,
          35.81858817,
          35.86970016,
          35.86424465,
          35.86970016,
          35.81812092,
          35.82037975,
          35.86970016,
          35.83012817,
          35.821117,
          35.821117,
          35.85877316,
          35.83913667,
          35.821117,
          35.82155875,
          35.81970534,
          35.86454333,
          35.85781916,
          35.80605318,
          35.86970016,
          35.84049491,
          35.8221795,
          35.821117,
          35.85633416,
          35.80454792,
          35.86970016,
          35.819515,
          35.8356255,
          35.83290708,
          35.8045755,
          35.80776192,
          35.85448991,
          35.81889576,
          35.82130617,
          35.81480892,
          35.86970016,
          35.8356255,
          35.86197758,
          35.8356255,
          35.83012817,
          35.85640683,
          35.82830791,
          35.86970016,
          35.84279958,
          35.819515,
          35.85106891,
          35.83981209,
          35.819515,
          35.80912908,
          35.85637857,
          35.86970016,
          35.85727866,
          35.80768075,
          35.85101709,
          35.86577474,
          35.80454792,
          35.8356255,
          35.81105542,
          35.80602375,
          35.83375442,
          35.8087155,
          35.80675484,
          35.86970016,
          35.85570416,
          35.86023208,
          35.8650279,
          35.82155875,
          35.82670809,
          35.83012817,
          35.85849466,
          35.8634455,
          35.85784809
         ],
         "legendgroup": "morrisville",
         "lon": [
          -78.82729724,
          -78.82039891,
          -78.81676084,
          -78.84576057,
          -78.827069,
          -78.82715883,
          -78.81676084,
          -78.81676084,
          -78.82133466,
          -78.81074351,
          -78.84052916,
          -78.81670042,
          -78.81120592,
          -78.82787824,
          -78.8227355,
          -78.81676084,
          -78.84386232,
          -78.82039891,
          -78.8472274,
          -78.81851333,
          -78.8405695,
          -78.8459875,
          -78.81676084,
          -78.84576057,
          -78.84689283,
          -78.79583909,
          -78.84652233,
          -78.81120592,
          -78.84694074,
          -78.84117566,
          -78.81829034,
          -78.85811524,
          -78.81549059,
          -78.81476759,
          -78.81676084,
          -78.8405695,
          -78.81235076,
          -78.84206123,
          -78.81918416,
          -78.83692358,
          -78.81827567,
          -78.82373883,
          -78.85811524,
          -78.82296,
          -78.81676084,
          -78.86834433,
          -78.7893961,
          -78.8782524,
          -78.81670042,
          -78.83206467,
          -78.85811524,
          -78.82183184,
          -78.81583709,
          -78.809108,
          -78.82189875,
          -78.82039891,
          -78.84652233,
          -78.81670042,
          -78.84652233,
          -78.820634,
          -78.84968191,
          -78.84122141,
          -78.8405695,
          -78.820634,
          -78.79583909,
          -78.79583909,
          -78.81485226,
          -78.817267,
          -78.81685492,
          -78.85811524,
          -78.81120592,
          -78.81159392,
          -78.81918416,
          -78.81504975,
          -78.85701615,
          -78.84976358,
          -78.84576057,
          -78.84576057,
          -78.82187449,
          -78.81924308,
          -78.81391983,
          -78.81918416,
          -78.84967358,
          -78.81120592,
          -78.84652233,
          -78.81827567,
          -78.82030966,
          -78.84976358,
          -78.81829034,
          -78.82897767,
          -78.81120592,
          -78.81334451,
          -78.7893961,
          -78.81120592,
          -78.81505867,
          -78.82790874,
          -78.83605482,
          -78.7893961,
          -78.81641325,
          -78.8405695,
          -78.81843392,
          -78.815634,
          -78.84698091,
          -78.7893961,
          -78.88683231,
          -78.7893961,
          -78.84576057,
          -78.8227355,
          -78.7893961,
          -78.82787824,
          -78.84652233,
          -78.84652233,
          -78.81733925,
          -78.80838942,
          -78.84652233,
          -78.84755867,
          -78.84488899,
          -78.81447359,
          -78.81827567,
          -78.81477626,
          -78.7893961,
          -78.83169117,
          -78.84918557,
          -78.84652233,
          -78.84206375,
          -78.81676084,
          -78.7893961,
          -78.82897767,
          -78.85811524,
          -78.82634075,
          -78.81120592,
          -78.81670042,
          -78.82561874,
          -78.84482217,
          -78.84976358,
          -78.820634,
          -78.7893961,
          -78.85811524,
          -78.88753006,
          -78.85811524,
          -78.82787824,
          -78.82295583,
          -78.82634517,
          -78.7893961,
          -78.81738525,
          -78.82897767,
          -78.79604483,
          -78.8309265,
          -78.82897767,
          -78.81047275,
          -78.8405695,
          -78.7893961,
          -78.88578599,
          -78.81918416,
          -78.827069,
          -78.87426839,
          -78.81676084,
          -78.85811524,
          -78.817267,
          -78.81065625,
          -78.85587824,
          -78.81492334,
          -78.81851333,
          -78.7893961,
          -78.84207574,
          -78.82088575,
          -78.83271675,
          -78.84755867,
          -78.82681658,
          -78.82787824,
          -78.82292366,
          -78.81478791,
          -78.87552982
         ],
         "marker": {
          "color": "#FECB52"
         },
         "mode": "markers",
         "name": "morrisville",
         "showlegend": true,
         "subplot": "mapbox",
         "type": "scattermapbox"
        }
       ],
       "layout": {
        "height": 800,
        "legend": {
         "title": {
          "text": "City"
         },
         "tracegroupgap": 0
        },
        "mapbox": {
         "center": {
          "lat": 35.804112551825554,
          "lon": -78.69103802188235
         },
         "domain": {
          "x": [
           0,
           1
          ],
          "y": [
           0,
           1
          ]
         },
         "style": "open-street-map",
         "zoom": 10
        },
        "margin": {
         "t": 60
        },
        "template": {
         "data": {
          "bar": [
           {
            "error_x": {
             "color": "#2a3f5f"
            },
            "error_y": {
             "color": "#2a3f5f"
            },
            "marker": {
             "line": {
              "color": "#E5ECF6",
              "width": 0.5
             },
             "pattern": {
              "fillmode": "overlay",
              "size": 10,
              "solidity": 0.2
             }
            },
            "type": "bar"
           }
          ],
          "barpolar": [
           {
            "marker": {
             "line": {
              "color": "#E5ECF6",
              "width": 0.5
             },
             "pattern": {
              "fillmode": "overlay",
              "size": 10,
              "solidity": 0.2
             }
            },
            "type": "barpolar"
           }
          ],
          "carpet": [
           {
            "aaxis": {
             "endlinecolor": "#2a3f5f",
             "gridcolor": "white",
             "linecolor": "white",
             "minorgridcolor": "white",
             "startlinecolor": "#2a3f5f"
            },
            "baxis": {
             "endlinecolor": "#2a3f5f",
             "gridcolor": "white",
             "linecolor": "white",
             "minorgridcolor": "white",
             "startlinecolor": "#2a3f5f"
            },
            "type": "carpet"
           }
          ],
          "choropleth": [
           {
            "colorbar": {
             "outlinewidth": 0,
             "ticks": ""
            },
            "type": "choropleth"
           }
          ],
          "contour": [
           {
            "colorbar": {
             "outlinewidth": 0,
             "ticks": ""
            },
            "colorscale": [
             [
              0,
              "#0d0887"
             ],
             [
              0.1111111111111111,
              "#46039f"
             ],
             [
              0.2222222222222222,
              "#7201a8"
             ],
             [
              0.3333333333333333,
              "#9c179e"
             ],
             [
              0.4444444444444444,
              "#bd3786"
             ],
             [
              0.5555555555555556,
              "#d8576b"
             ],
             [
              0.6666666666666666,
              "#ed7953"
             ],
             [
              0.7777777777777778,
              "#fb9f3a"
             ],
             [
              0.8888888888888888,
              "#fdca26"
             ],
             [
              1,
              "#f0f921"
             ]
            ],
            "type": "contour"
           }
          ],
          "contourcarpet": [
           {
            "colorbar": {
             "outlinewidth": 0,
             "ticks": ""
            },
            "type": "contourcarpet"
           }
          ],
          "heatmap": [
           {
            "colorbar": {
             "outlinewidth": 0,
             "ticks": ""
            },
            "colorscale": [
             [
              0,
              "#0d0887"
             ],
             [
              0.1111111111111111,
              "#46039f"
             ],
             [
              0.2222222222222222,
              "#7201a8"
             ],
             [
              0.3333333333333333,
              "#9c179e"
             ],
             [
              0.4444444444444444,
              "#bd3786"
             ],
             [
              0.5555555555555556,
              "#d8576b"
             ],
             [
              0.6666666666666666,
              "#ed7953"
             ],
             [
              0.7777777777777778,
              "#fb9f3a"
             ],
             [
              0.8888888888888888,
              "#fdca26"
             ],
             [
              1,
              "#f0f921"
             ]
            ],
            "type": "heatmap"
           }
          ],
          "heatmapgl": [
           {
            "colorbar": {
             "outlinewidth": 0,
             "ticks": ""
            },
            "colorscale": [
             [
              0,
              "#0d0887"
             ],
             [
              0.1111111111111111,
              "#46039f"
             ],
             [
              0.2222222222222222,
              "#7201a8"
             ],
             [
              0.3333333333333333,
              "#9c179e"
             ],
             [
              0.4444444444444444,
              "#bd3786"
             ],
             [
              0.5555555555555556,
              "#d8576b"
             ],
             [
              0.6666666666666666,
              "#ed7953"
             ],
             [
              0.7777777777777778,
              "#fb9f3a"
             ],
             [
              0.8888888888888888,
              "#fdca26"
             ],
             [
              1,
              "#f0f921"
             ]
            ],
            "type": "heatmapgl"
           }
          ],
          "histogram": [
           {
            "marker": {
             "pattern": {
              "fillmode": "overlay",
              "size": 10,
              "solidity": 0.2
             }
            },
            "type": "histogram"
           }
          ],
          "histogram2d": [
           {
            "colorbar": {
             "outlinewidth": 0,
             "ticks": ""
            },
            "colorscale": [
             [
              0,
              "#0d0887"
             ],
             [
              0.1111111111111111,
              "#46039f"
             ],
             [
              0.2222222222222222,
              "#7201a8"
             ],
             [
              0.3333333333333333,
              "#9c179e"
             ],
             [
              0.4444444444444444,
              "#bd3786"
             ],
             [
              0.5555555555555556,
              "#d8576b"
             ],
             [
              0.6666666666666666,
              "#ed7953"
             ],
             [
              0.7777777777777778,
              "#fb9f3a"
             ],
             [
              0.8888888888888888,
              "#fdca26"
             ],
             [
              1,
              "#f0f921"
             ]
            ],
            "type": "histogram2d"
           }
          ],
          "histogram2dcontour": [
           {
            "colorbar": {
             "outlinewidth": 0,
             "ticks": ""
            },
            "colorscale": [
             [
              0,
              "#0d0887"
             ],
             [
              0.1111111111111111,
              "#46039f"
             ],
             [
              0.2222222222222222,
              "#7201a8"
             ],
             [
              0.3333333333333333,
              "#9c179e"
             ],
             [
              0.4444444444444444,
              "#bd3786"
             ],
             [
              0.5555555555555556,
              "#d8576b"
             ],
             [
              0.6666666666666666,
              "#ed7953"
             ],
             [
              0.7777777777777778,
              "#fb9f3a"
             ],
             [
              0.8888888888888888,
              "#fdca26"
             ],
             [
              1,
              "#f0f921"
             ]
            ],
            "type": "histogram2dcontour"
           }
          ],
          "mesh3d": [
           {
            "colorbar": {
             "outlinewidth": 0,
             "ticks": ""
            },
            "type": "mesh3d"
           }
          ],
          "parcoords": [
           {
            "line": {
             "colorbar": {
              "outlinewidth": 0,
              "ticks": ""
             }
            },
            "type": "parcoords"
           }
          ],
          "pie": [
           {
            "automargin": true,
            "type": "pie"
           }
          ],
          "scatter": [
           {
            "fillpattern": {
             "fillmode": "overlay",
             "size": 10,
             "solidity": 0.2
            },
            "type": "scatter"
           }
          ],
          "scatter3d": [
           {
            "line": {
             "colorbar": {
              "outlinewidth": 0,
              "ticks": ""
             }
            },
            "marker": {
             "colorbar": {
              "outlinewidth": 0,
              "ticks": ""
             }
            },
            "type": "scatter3d"
           }
          ],
          "scattercarpet": [
           {
            "marker": {
             "colorbar": {
              "outlinewidth": 0,
              "ticks": ""
             }
            },
            "type": "scattercarpet"
           }
          ],
          "scattergeo": [
           {
            "marker": {
             "colorbar": {
              "outlinewidth": 0,
              "ticks": ""
             }
            },
            "type": "scattergeo"
           }
          ],
          "scattergl": [
           {
            "marker": {
             "colorbar": {
              "outlinewidth": 0,
              "ticks": ""
             }
            },
            "type": "scattergl"
           }
          ],
          "scattermapbox": [
           {
            "marker": {
             "colorbar": {
              "outlinewidth": 0,
              "ticks": ""
             }
            },
            "type": "scattermapbox"
           }
          ],
          "scatterpolar": [
           {
            "marker": {
             "colorbar": {
              "outlinewidth": 0,
              "ticks": ""
             }
            },
            "type": "scatterpolar"
           }
          ],
          "scatterpolargl": [
           {
            "marker": {
             "colorbar": {
              "outlinewidth": 0,
              "ticks": ""
             }
            },
            "type": "scatterpolargl"
           }
          ],
          "scatterternary": [
           {
            "marker": {
             "colorbar": {
              "outlinewidth": 0,
              "ticks": ""
             }
            },
            "type": "scatterternary"
           }
          ],
          "surface": [
           {
            "colorbar": {
             "outlinewidth": 0,
             "ticks": ""
            },
            "colorscale": [
             [
              0,
              "#0d0887"
             ],
             [
              0.1111111111111111,
              "#46039f"
             ],
             [
              0.2222222222222222,
              "#7201a8"
             ],
             [
              0.3333333333333333,
              "#9c179e"
             ],
             [
              0.4444444444444444,
              "#bd3786"
             ],
             [
              0.5555555555555556,
              "#d8576b"
             ],
             [
              0.6666666666666666,
              "#ed7953"
             ],
             [
              0.7777777777777778,
              "#fb9f3a"
             ],
             [
              0.8888888888888888,
              "#fdca26"
             ],
             [
              1,
              "#f0f921"
             ]
            ],
            "type": "surface"
           }
          ],
          "table": [
           {
            "cells": {
             "fill": {
              "color": "#EBF0F8"
             },
             "line": {
              "color": "white"
             }
            },
            "header": {
             "fill": {
              "color": "#C8D4E3"
             },
             "line": {
              "color": "white"
             }
            },
            "type": "table"
           }
          ]
         },
         "layout": {
          "annotationdefaults": {
           "arrowcolor": "#2a3f5f",
           "arrowhead": 0,
           "arrowwidth": 1
          },
          "autotypenumbers": "strict",
          "coloraxis": {
           "colorbar": {
            "outlinewidth": 0,
            "ticks": ""
           }
          },
          "colorscale": {
           "diverging": [
            [
             0,
             "#8e0152"
            ],
            [
             0.1,
             "#c51b7d"
            ],
            [
             0.2,
             "#de77ae"
            ],
            [
             0.3,
             "#f1b6da"
            ],
            [
             0.4,
             "#fde0ef"
            ],
            [
             0.5,
             "#f7f7f7"
            ],
            [
             0.6,
             "#e6f5d0"
            ],
            [
             0.7,
             "#b8e186"
            ],
            [
             0.8,
             "#7fbc41"
            ],
            [
             0.9,
             "#4d9221"
            ],
            [
             1,
             "#276419"
            ]
           ],
           "sequential": [
            [
             0,
             "#0d0887"
            ],
            [
             0.1111111111111111,
             "#46039f"
            ],
            [
             0.2222222222222222,
             "#7201a8"
            ],
            [
             0.3333333333333333,
             "#9c179e"
            ],
            [
             0.4444444444444444,
             "#bd3786"
            ],
            [
             0.5555555555555556,
             "#d8576b"
            ],
            [
             0.6666666666666666,
             "#ed7953"
            ],
            [
             0.7777777777777778,
             "#fb9f3a"
            ],
            [
             0.8888888888888888,
             "#fdca26"
            ],
            [
             1,
             "#f0f921"
            ]
           ],
           "sequentialminus": [
            [
             0,
             "#0d0887"
            ],
            [
             0.1111111111111111,
             "#46039f"
            ],
            [
             0.2222222222222222,
             "#7201a8"
            ],
            [
             0.3333333333333333,
             "#9c179e"
            ],
            [
             0.4444444444444444,
             "#bd3786"
            ],
            [
             0.5555555555555556,
             "#d8576b"
            ],
            [
             0.6666666666666666,
             "#ed7953"
            ],
            [
             0.7777777777777778,
             "#fb9f3a"
            ],
            [
             0.8888888888888888,
             "#fdca26"
            ],
            [
             1,
             "#f0f921"
            ]
           ]
          },
          "colorway": [
           "#636efa",
           "#EF553B",
           "#00cc96",
           "#ab63fa",
           "#FFA15A",
           "#19d3f3",
           "#FF6692",
           "#B6E880",
           "#FF97FF",
           "#FECB52"
          ],
          "font": {
           "color": "#2a3f5f"
          },
          "geo": {
           "bgcolor": "white",
           "lakecolor": "white",
           "landcolor": "#E5ECF6",
           "showlakes": true,
           "showland": true,
           "subunitcolor": "white"
          },
          "hoverlabel": {
           "align": "left"
          },
          "hovermode": "closest",
          "mapbox": {
           "style": "light"
          },
          "paper_bgcolor": "white",
          "plot_bgcolor": "#E5ECF6",
          "polar": {
           "angularaxis": {
            "gridcolor": "white",
            "linecolor": "white",
            "ticks": ""
           },
           "bgcolor": "#E5ECF6",
           "radialaxis": {
            "gridcolor": "white",
            "linecolor": "white",
            "ticks": ""
           }
          },
          "scene": {
           "xaxis": {
            "backgroundcolor": "#E5ECF6",
            "gridcolor": "white",
            "gridwidth": 2,
            "linecolor": "white",
            "showbackground": true,
            "ticks": "",
            "zerolinecolor": "white"
           },
           "yaxis": {
            "backgroundcolor": "#E5ECF6",
            "gridcolor": "white",
            "gridwidth": 2,
            "linecolor": "white",
            "showbackground": true,
            "ticks": "",
            "zerolinecolor": "white"
           },
           "zaxis": {
            "backgroundcolor": "#E5ECF6",
            "gridcolor": "white",
            "gridwidth": 2,
            "linecolor": "white",
            "showbackground": true,
            "ticks": "",
            "zerolinecolor": "white"
           }
          },
          "shapedefaults": {
           "line": {
            "color": "#2a3f5f"
           }
          },
          "ternary": {
           "aaxis": {
            "gridcolor": "white",
            "linecolor": "white",
            "ticks": ""
           },
           "baxis": {
            "gridcolor": "white",
            "linecolor": "white",
            "ticks": ""
           },
           "bgcolor": "#E5ECF6",
           "caxis": {
            "gridcolor": "white",
            "linecolor": "white",
            "ticks": ""
           }
          },
          "title": {
           "x": 0.05
          },
          "xaxis": {
           "automargin": true,
           "gridcolor": "white",
           "linecolor": "white",
           "ticks": "",
           "title": {
            "standoff": 15
           },
           "zerolinecolor": "white",
           "zerolinewidth": 2
          },
          "yaxis": {
           "automargin": true,
           "gridcolor": "white",
           "linecolor": "white",
           "ticks": "",
           "title": {
            "standoff": 15
           },
           "zerolinecolor": "white",
           "zerolinewidth": 2
          }
         }
        },
        "title": {
         "text": "Restaurant Locations in Wake County, NC"
        }
       }
      }
     },
     "metadata": {},
     "output_type": "display_data"
    }
   ],
   "source": [
    "fig = px.scatter_mapbox(\n",
    "    df,\n",
    "    lat=\"Y\",\n",
    "    lon=\"X\",\n",
    "    hover_name=\"Name\",\n",
    "    hover_data=[\"Address 1\", \"City\"],\n",
    "    color=\"City\",\n",
    "    zoom=10,\n",
    "    height=800\n",
    ")\n",
    "\n",
    "fig.update_layout(\n",
    "    mapbox_style=\"open-street-map\",\n",
    "    title=\"Restaurant Locations in Wake County, NC\"\n",
    ")\n",
    "\n",
    "fig.show()\n",
    "# See if I can find all the common shopping complexs and plot those around areas to showcase the density is based on the shopping areas"
   ]
  },
  {
   "cell_type": "code",
   "execution_count": 101,
   "metadata": {},
   "outputs": [],
   "source": [
    "#Create a cool plot of all towns with the X & Y coordinates\n",
    "#Create subplots of each city and have different colored dots for Fast Food vs others"
   ]
  },
  {
   "cell_type": "code",
   "execution_count": null,
   "metadata": {},
   "outputs": [],
   "source": [
    "#Use the Yelp API to get the type of restaunts, the average star review and any menu items"
   ]
  },
  {
   "cell_type": "code",
   "execution_count": 16,
   "metadata": {},
   "outputs": [],
   "source": [
    "url = 'https://api.yelp.com/v3/businesses/search/phone'\n",
    "key = 'aXDMy4mi33fsq_SKw6A50fneNIzWxA90PVWaqL9a-7DFVPEYHSD1jjopuufqcQ-dJogcLYCWxkWkqPdLltrY0kWCrzHlWwvd_LrdMQvYjFfC0CYpucmrb7S5MdeRZnYx'\n",
    "headers = {'Authorization': 'Bearer %s' % key}"
   ]
  },
  {
   "cell_type": "code",
   "execution_count": 17,
   "metadata": {},
   "outputs": [],
   "source": [
    "def process_phone_number(phone_number): #function used to convert phone number into format required for yelp api \n",
    "    if type(phone_number) == str:\n",
    "        output = phone_number.replace('(919)', '+1919').replace('(984)', '+1984').replace('-', '').replace(' ', '').replace('ext.5', '')\n",
    "        return output\n",
    "    \n",
    "df['Phone Number'] = df['Phone Number'].apply(process_phone_number)"
   ]
  },
  {
   "cell_type": "code",
   "execution_count": 18,
   "metadata": {},
   "outputs": [],
   "source": [
    "def get_details(phone_number):\n",
    "    if type(phone_number) == str:\n",
    "        parameters = {'phone': phone_number}\n",
    "        response = requests.get(url=url, headers=headers, params=parameters)\n",
    "        return response.json()"
   ]
  },
  {
   "cell_type": "code",
   "execution_count": 192,
   "metadata": {},
   "outputs": [],
   "source": [
    "#Run sat Jul 13\n",
    "yelp_1 = pd.read_excel('Yelp_Batch_1.xlsx')\n",
    "yelp_2 = pd.read_excel('Yelp_Batch_2.xlsx')\n",
    "yelp_3 = pd.read_excel('Yelp_Batch_3.xlsx')\n",
    "yelp_4 = pd.read_excel('Yelp_Batch_4.xlsx')[:522]\n",
    "final_df = pd.concat([yelp_1, yelp_2, yelp_3, yelp_4])\n",
    "final_df = final_df.drop(columns=['Name', 'Name Clean'])"
   ]
  },
  {
   "cell_type": "code",
   "execution_count": 193,
   "metadata": {},
   "outputs": [
    {
     "data": {
      "text/html": [
       "<div>\n",
       "<style scoped>\n",
       "    .dataframe tbody tr th:only-of-type {\n",
       "        vertical-align: middle;\n",
       "    }\n",
       "\n",
       "    .dataframe tbody tr th {\n",
       "        vertical-align: top;\n",
       "    }\n",
       "\n",
       "    .dataframe thead th {\n",
       "        text-align: right;\n",
       "    }\n",
       "</style>\n",
       "<table border=\"1\" class=\"dataframe\">\n",
       "  <thead>\n",
       "    <tr style=\"text-align: right;\">\n",
       "      <th></th>\n",
       "      <th>Unnamed: 0</th>\n",
       "      <th>Address 1</th>\n",
       "      <th>Address 2</th>\n",
       "      <th>City</th>\n",
       "      <th>State</th>\n",
       "      <th>Postal Code</th>\n",
       "      <th>Phone Number</th>\n",
       "      <th>Restaurant Open Date</th>\n",
       "      <th>X</th>\n",
       "      <th>Y</th>\n",
       "      <th>Check Chain</th>\n",
       "      <th>Yelp Details</th>\n",
       "    </tr>\n",
       "  </thead>\n",
       "  <tbody>\n",
       "    <tr>\n",
       "      <th>0</th>\n",
       "      <td>0</td>\n",
       "      <td>920 NE MAYNARD RD</td>\n",
       "      <td>NaN</td>\n",
       "      <td>cary</td>\n",
       "      <td>NC</td>\n",
       "      <td>27513</td>\n",
       "      <td>+19194699991</td>\n",
       "      <td>2019-12-27</td>\n",
       "      <td>-78.768384</td>\n",
       "      <td>35.800435</td>\n",
       "      <td>Chain</td>\n",
       "      <td>{'businesses': [{'id': 'XrWXY_ajpR7nJAGzr3g5JQ...</td>\n",
       "    </tr>\n",
       "    <tr>\n",
       "      <th>1</th>\n",
       "      <td>1</td>\n",
       "      <td>877 E GANNON AVE</td>\n",
       "      <td>SUITE 105</td>\n",
       "      <td>zebulon</td>\n",
       "      <td>NC</td>\n",
       "      <td>27597</td>\n",
       "      <td>+19196460064</td>\n",
       "      <td>2019-12-31</td>\n",
       "      <td>-78.294186</td>\n",
       "      <td>35.830163</td>\n",
       "      <td>Not Chain</td>\n",
       "      <td>{'businesses': [{'id': 'pAVqVeJvAEJ8_noz18Whsg...</td>\n",
       "    </tr>\n",
       "    <tr>\n",
       "      <th>2</th>\n",
       "      <td>2</td>\n",
       "      <td>4020 CAPITAL BLVD</td>\n",
       "      <td>SUITE 160</td>\n",
       "      <td>raleigh</td>\n",
       "      <td>NC</td>\n",
       "      <td>27604</td>\n",
       "      <td>(678)9655707</td>\n",
       "      <td>2020-01-27</td>\n",
       "      <td>-78.579677</td>\n",
       "      <td>35.835510</td>\n",
       "      <td>Not Chain</td>\n",
       "      <td>{'businesses': [], 'total': 0}</td>\n",
       "    </tr>\n",
       "    <tr>\n",
       "      <th>3</th>\n",
       "      <td>3</td>\n",
       "      <td>1353 KILDAIRE FARM RD</td>\n",
       "      <td>NaN</td>\n",
       "      <td>cary</td>\n",
       "      <td>NC</td>\n",
       "      <td>27511</td>\n",
       "      <td>+19198001802</td>\n",
       "      <td>2020-01-27</td>\n",
       "      <td>-78.781938</td>\n",
       "      <td>35.759765</td>\n",
       "      <td>Not Chain</td>\n",
       "      <td>{'businesses': [{'id': '9vGngnH26Og_MjILOiGGuw...</td>\n",
       "    </tr>\n",
       "    <tr>\n",
       "      <th>4</th>\n",
       "      <td>4</td>\n",
       "      <td>3913 WESTERN BLVD</td>\n",
       "      <td>NaN</td>\n",
       "      <td>raleigh</td>\n",
       "      <td>NC</td>\n",
       "      <td>27606</td>\n",
       "      <td>+19196131286</td>\n",
       "      <td>2020-02-07</td>\n",
       "      <td>-78.691069</td>\n",
       "      <td>35.784021</td>\n",
       "      <td>Not Chain</td>\n",
       "      <td>{'businesses': [], 'total': 0}</td>\n",
       "    </tr>\n",
       "    <tr>\n",
       "      <th>...</th>\n",
       "      <td>...</td>\n",
       "      <td>...</td>\n",
       "      <td>...</td>\n",
       "      <td>...</td>\n",
       "      <td>...</td>\n",
       "      <td>...</td>\n",
       "      <td>...</td>\n",
       "      <td>...</td>\n",
       "      <td>...</td>\n",
       "      <td>...</td>\n",
       "      <td>...</td>\n",
       "      <td>...</td>\n",
       "    </tr>\n",
       "    <tr>\n",
       "      <th>517</th>\n",
       "      <td>2060</td>\n",
       "      <td>1430 W WILLIAMS ST</td>\n",
       "      <td>NaN</td>\n",
       "      <td>apex</td>\n",
       "      <td>NC</td>\n",
       "      <td>27523-9300</td>\n",
       "      <td>+19193031006</td>\n",
       "      <td>2021-11-05</td>\n",
       "      <td>-78.876574</td>\n",
       "      <td>35.752456</td>\n",
       "      <td>Not Chain</td>\n",
       "      <td>{'businesses': [{'id': 'LjvHGYAC113ZGUs0mue43w...</td>\n",
       "    </tr>\n",
       "    <tr>\n",
       "      <th>518</th>\n",
       "      <td>2061</td>\n",
       "      <td>100 MACALYSON CT</td>\n",
       "      <td>NaN</td>\n",
       "      <td>cary</td>\n",
       "      <td>NC</td>\n",
       "      <td>27511</td>\n",
       "      <td>+19194674444</td>\n",
       "      <td>2021-11-15</td>\n",
       "      <td>-78.800617</td>\n",
       "      <td>35.735069</td>\n",
       "      <td>Not Chain</td>\n",
       "      <td>{'businesses': [{'id': '9QrZvEVV_eXBZ-2AuhZNuA...</td>\n",
       "    </tr>\n",
       "    <tr>\n",
       "      <th>519</th>\n",
       "      <td>2062</td>\n",
       "      <td>3701 HILLSBOROUGH  ST</td>\n",
       "      <td>NaN</td>\n",
       "      <td>raleigh</td>\n",
       "      <td>NC</td>\n",
       "      <td>27614</td>\n",
       "      <td>+19196008708</td>\n",
       "      <td>2021-11-05</td>\n",
       "      <td>-78.685657</td>\n",
       "      <td>35.793542</td>\n",
       "      <td>Not Chain</td>\n",
       "      <td>{'businesses': [], 'total': 0}</td>\n",
       "    </tr>\n",
       "    <tr>\n",
       "      <th>520</th>\n",
       "      <td>2063</td>\n",
       "      <td>2920 SHERMAN OAK  PL</td>\n",
       "      <td>STE 140</td>\n",
       "      <td>raleigh</td>\n",
       "      <td>NC</td>\n",
       "      <td>27609</td>\n",
       "      <td>+19842723300</td>\n",
       "      <td>2021-10-26</td>\n",
       "      <td>-78.620829</td>\n",
       "      <td>35.821317</td>\n",
       "      <td>Chain</td>\n",
       "      <td>{'businesses': [{'id': 'IPEvg78LskbnWg9sCOmcvg...</td>\n",
       "    </tr>\n",
       "    <tr>\n",
       "      <th>521</th>\n",
       "      <td>2064</td>\n",
       "      <td>10251 LITTLE BRIAR CREEK LN</td>\n",
       "      <td>SUITE 106</td>\n",
       "      <td>raleigh</td>\n",
       "      <td>NC</td>\n",
       "      <td>27617</td>\n",
       "      <td>+19844844105</td>\n",
       "      <td>2021-10-21</td>\n",
       "      <td>-78.785168</td>\n",
       "      <td>35.911333</td>\n",
       "      <td>Not Chain</td>\n",
       "      <td>{'businesses': [], 'total': 0}</td>\n",
       "    </tr>\n",
       "  </tbody>\n",
       "</table>\n",
       "<p>2022 rows × 12 columns</p>\n",
       "</div>"
      ],
      "text/plain": [
       "     Unnamed: 0                    Address 1  Address 2     City State  \\\n",
       "0             0            920 NE MAYNARD RD        NaN     cary    NC   \n",
       "1             1             877 E GANNON AVE  SUITE 105  zebulon    NC   \n",
       "2             2            4020 CAPITAL BLVD  SUITE 160  raleigh    NC   \n",
       "3             3        1353 KILDAIRE FARM RD        NaN     cary    NC   \n",
       "4             4            3913 WESTERN BLVD        NaN  raleigh    NC   \n",
       "..          ...                          ...        ...      ...   ...   \n",
       "517        2060           1430 W WILLIAMS ST        NaN     apex    NC   \n",
       "518        2061             100 MACALYSON CT        NaN     cary    NC   \n",
       "519        2062        3701 HILLSBOROUGH  ST        NaN  raleigh    NC   \n",
       "520        2063         2920 SHERMAN OAK  PL    STE 140  raleigh    NC   \n",
       "521        2064  10251 LITTLE BRIAR CREEK LN  SUITE 106  raleigh    NC   \n",
       "\n",
       "    Postal Code  Phone Number Restaurant Open Date          X          Y  \\\n",
       "0         27513  +19194699991           2019-12-27 -78.768384  35.800435   \n",
       "1         27597  +19196460064           2019-12-31 -78.294186  35.830163   \n",
       "2         27604  (678)9655707           2020-01-27 -78.579677  35.835510   \n",
       "3         27511  +19198001802           2020-01-27 -78.781938  35.759765   \n",
       "4         27606  +19196131286           2020-02-07 -78.691069  35.784021   \n",
       "..          ...           ...                  ...        ...        ...   \n",
       "517  27523-9300  +19193031006           2021-11-05 -78.876574  35.752456   \n",
       "518       27511  +19194674444           2021-11-15 -78.800617  35.735069   \n",
       "519       27614  +19196008708           2021-11-05 -78.685657  35.793542   \n",
       "520       27609  +19842723300           2021-10-26 -78.620829  35.821317   \n",
       "521       27617  +19844844105           2021-10-21 -78.785168  35.911333   \n",
       "\n",
       "    Check Chain                                       Yelp Details  \n",
       "0         Chain  {'businesses': [{'id': 'XrWXY_ajpR7nJAGzr3g5JQ...  \n",
       "1     Not Chain  {'businesses': [{'id': 'pAVqVeJvAEJ8_noz18Whsg...  \n",
       "2     Not Chain                     {'businesses': [], 'total': 0}  \n",
       "3     Not Chain  {'businesses': [{'id': '9vGngnH26Og_MjILOiGGuw...  \n",
       "4     Not Chain                     {'businesses': [], 'total': 0}  \n",
       "..          ...                                                ...  \n",
       "517   Not Chain  {'businesses': [{'id': 'LjvHGYAC113ZGUs0mue43w...  \n",
       "518   Not Chain  {'businesses': [{'id': '9QrZvEVV_eXBZ-2AuhZNuA...  \n",
       "519   Not Chain                     {'businesses': [], 'total': 0}  \n",
       "520       Chain  {'businesses': [{'id': 'IPEvg78LskbnWg9sCOmcvg...  \n",
       "521   Not Chain                     {'businesses': [], 'total': 0}  \n",
       "\n",
       "[2022 rows x 12 columns]"
      ]
     },
     "execution_count": 193,
     "metadata": {},
     "output_type": "execute_result"
    }
   ],
   "source": [
    "final_df"
   ]
  },
  {
   "cell_type": "code",
   "execution_count": 201,
   "metadata": {},
   "outputs": [
    {
     "data": {
      "text/html": [
       "<div>\n",
       "<style scoped>\n",
       "    .dataframe tbody tr th:only-of-type {\n",
       "        vertical-align: middle;\n",
       "    }\n",
       "\n",
       "    .dataframe tbody tr th {\n",
       "        vertical-align: top;\n",
       "    }\n",
       "\n",
       "    .dataframe thead th {\n",
       "        text-align: right;\n",
       "    }\n",
       "</style>\n",
       "<table border=\"1\" class=\"dataframe\">\n",
       "  <thead>\n",
       "    <tr style=\"text-align: right;\">\n",
       "      <th></th>\n",
       "      <th>Name</th>\n",
       "      <th>Address 1</th>\n",
       "      <th>Address 2</th>\n",
       "      <th>City</th>\n",
       "      <th>State</th>\n",
       "      <th>Postal Code</th>\n",
       "      <th>Phone Number</th>\n",
       "      <th>Restaurant Open Date</th>\n",
       "      <th>X</th>\n",
       "      <th>Y</th>\n",
       "      <th>Name Clean</th>\n",
       "      <th>Check Chain</th>\n",
       "    </tr>\n",
       "  </thead>\n",
       "  <tbody>\n",
       "    <tr>\n",
       "      <th>2066</th>\n",
       "      <td>CUCCIOLO TERRAZZA</td>\n",
       "      <td>4200 SIX FORKS RD</td>\n",
       "      <td>SUITE 100</td>\n",
       "      <td>raleigh</td>\n",
       "      <td>NC</td>\n",
       "      <td>26802-7609</td>\n",
       "      <td>+19197477887</td>\n",
       "      <td>2021-11-23</td>\n",
       "      <td>-78.638965</td>\n",
       "      <td>35.835923</td>\n",
       "      <td>CUCCIOLO TERRAZZA</td>\n",
       "      <td>Not Chain</td>\n",
       "    </tr>\n",
       "    <tr>\n",
       "      <th>2067</th>\n",
       "      <td>AVENT FERRY PIZZA</td>\n",
       "      <td>3231 AVENT FERRY RD</td>\n",
       "      <td>SUITE 102</td>\n",
       "      <td>raleigh</td>\n",
       "      <td>NC</td>\n",
       "      <td>27606-3171</td>\n",
       "      <td>+19197030027</td>\n",
       "      <td>2021-12-02</td>\n",
       "      <td>-78.695655</td>\n",
       "      <td>35.766740</td>\n",
       "      <td>AVENT FERRY PIZZA</td>\n",
       "      <td>Not Chain</td>\n",
       "    </tr>\n",
       "    <tr>\n",
       "      <th>2069</th>\n",
       "      <td>CHIPOTLE</td>\n",
       "      <td>601 VILLAGE WALK DR</td>\n",
       "      <td>NaN</td>\n",
       "      <td>holly springs</td>\n",
       "      <td>NC</td>\n",
       "      <td>27540</td>\n",
       "      <td>+19195868560</td>\n",
       "      <td>2021-12-08</td>\n",
       "      <td>-78.835930</td>\n",
       "      <td>35.639830</td>\n",
       "      <td>CHIPOTLE</td>\n",
       "      <td>Chain</td>\n",
       "    </tr>\n",
       "    <tr>\n",
       "      <th>2070</th>\n",
       "      <td>THE GARDEN GRILL &amp; BAR</td>\n",
       "      <td>1500 RDU CENTER DR</td>\n",
       "      <td>NaN</td>\n",
       "      <td>morrisville</td>\n",
       "      <td>NC</td>\n",
       "      <td>27560-8278</td>\n",
       "      <td>+19198488088</td>\n",
       "      <td>2021-12-13</td>\n",
       "      <td>-78.796045</td>\n",
       "      <td>35.851069</td>\n",
       "      <td>THE GARDEN GRILL &amp; BAR</td>\n",
       "      <td>Not Chain</td>\n",
       "    </tr>\n",
       "    <tr>\n",
       "      <th>2071</th>\n",
       "      <td>BUL BOX</td>\n",
       "      <td>2526 HILLSBOROUGH ST</td>\n",
       "      <td>STE 100</td>\n",
       "      <td>raleigh</td>\n",
       "      <td>NC</td>\n",
       "      <td>27607</td>\n",
       "      <td>+19198805900</td>\n",
       "      <td>2021-12-28</td>\n",
       "      <td>-78.669227</td>\n",
       "      <td>35.788349</td>\n",
       "      <td>BUL BOX</td>\n",
       "      <td>Chain</td>\n",
       "    </tr>\n",
       "    <tr>\n",
       "      <th>...</th>\n",
       "      <td>...</td>\n",
       "      <td>...</td>\n",
       "      <td>...</td>\n",
       "      <td>...</td>\n",
       "      <td>...</td>\n",
       "      <td>...</td>\n",
       "      <td>...</td>\n",
       "      <td>...</td>\n",
       "      <td>...</td>\n",
       "      <td>...</td>\n",
       "      <td>...</td>\n",
       "      <td>...</td>\n",
       "    </tr>\n",
       "    <tr>\n",
       "      <th>2507</th>\n",
       "      <td>PNC CLUB KITCHEN</td>\n",
       "      <td>1400 EDWARDS MILL RD</td>\n",
       "      <td>NaN</td>\n",
       "      <td>raleigh</td>\n",
       "      <td>NC</td>\n",
       "      <td>27607-3624</td>\n",
       "      <td>+19198612300</td>\n",
       "      <td>1999-10-28</td>\n",
       "      <td>-78.722939</td>\n",
       "      <td>35.803245</td>\n",
       "      <td>PNC CLUB KITCHEN</td>\n",
       "      <td>Not Chain</td>\n",
       "    </tr>\n",
       "    <tr>\n",
       "      <th>2508</th>\n",
       "      <td>PNC 118-120</td>\n",
       "      <td>1400 EDWARDS MILL RD</td>\n",
       "      <td>NaN</td>\n",
       "      <td>raleigh</td>\n",
       "      <td>NC</td>\n",
       "      <td>27607-3624</td>\n",
       "      <td>+19198612300</td>\n",
       "      <td>1999-12-07</td>\n",
       "      <td>-78.722939</td>\n",
       "      <td>35.803245</td>\n",
       "      <td>PNC 118-120</td>\n",
       "      <td>Not Chain</td>\n",
       "    </tr>\n",
       "    <tr>\n",
       "      <th>2509</th>\n",
       "      <td>KADHAI-THE INDIAN WOK</td>\n",
       "      <td>6260 GLENWOOD AVE</td>\n",
       "      <td>STE 12</td>\n",
       "      <td>raleigh</td>\n",
       "      <td>NC</td>\n",
       "      <td>27612-2650</td>\n",
       "      <td>+19197859730</td>\n",
       "      <td>1992-07-29</td>\n",
       "      <td>-78.703135</td>\n",
       "      <td>35.858765</td>\n",
       "      <td>KADHAI-THE INDIAN WOK</td>\n",
       "      <td>Not Chain</td>\n",
       "    </tr>\n",
       "    <tr>\n",
       "      <th>2510</th>\n",
       "      <td>ARENA CAFE- CISCO BLDG 7</td>\n",
       "      <td>7100 KIT CREEK RD</td>\n",
       "      <td>NaN</td>\n",
       "      <td>morrisville</td>\n",
       "      <td>NC</td>\n",
       "      <td>27560</td>\n",
       "      <td>+19196996109</td>\n",
       "      <td>2000-04-01</td>\n",
       "      <td>-78.875530</td>\n",
       "      <td>35.857848</td>\n",
       "      <td>ARENA CAFE- CISCO BLDG 7</td>\n",
       "      <td>Not Chain</td>\n",
       "    </tr>\n",
       "    <tr>\n",
       "      <th>2511</th>\n",
       "      <td>BELLA MONICA</td>\n",
       "      <td>3121-103 EDWARDS MILL RD</td>\n",
       "      <td>NaN</td>\n",
       "      <td>raleigh</td>\n",
       "      <td>NC</td>\n",
       "      <td>27612-5369</td>\n",
       "      <td>+19198819778</td>\n",
       "      <td>2000-08-02</td>\n",
       "      <td>-78.706955</td>\n",
       "      <td>35.825448</td>\n",
       "      <td>BELLA MONICA</td>\n",
       "      <td>Not Chain</td>\n",
       "    </tr>\n",
       "  </tbody>\n",
       "</table>\n",
       "<p>442 rows × 12 columns</p>\n",
       "</div>"
      ],
      "text/plain": [
       "                          Name                 Address 1  Address 2  \\\n",
       "2066         CUCCIOLO TERRAZZA         4200 SIX FORKS RD  SUITE 100   \n",
       "2067         AVENT FERRY PIZZA       3231 AVENT FERRY RD  SUITE 102   \n",
       "2069                  CHIPOTLE       601 VILLAGE WALK DR        NaN   \n",
       "2070    THE GARDEN GRILL & BAR        1500 RDU CENTER DR        NaN   \n",
       "2071                   BUL BOX      2526 HILLSBOROUGH ST    STE 100   \n",
       "...                        ...                       ...        ...   \n",
       "2507          PNC CLUB KITCHEN      1400 EDWARDS MILL RD        NaN   \n",
       "2508               PNC 118-120      1400 EDWARDS MILL RD        NaN   \n",
       "2509     KADHAI-THE INDIAN WOK         6260 GLENWOOD AVE     STE 12   \n",
       "2510  ARENA CAFE- CISCO BLDG 7         7100 KIT CREEK RD        NaN   \n",
       "2511              BELLA MONICA  3121-103 EDWARDS MILL RD        NaN   \n",
       "\n",
       "               City State Postal Code  Phone Number Restaurant Open Date  \\\n",
       "2066        raleigh    NC  26802-7609  +19197477887           2021-11-23   \n",
       "2067        raleigh    NC  27606-3171  +19197030027           2021-12-02   \n",
       "2069  holly springs    NC       27540  +19195868560           2021-12-08   \n",
       "2070    morrisville    NC  27560-8278  +19198488088           2021-12-13   \n",
       "2071        raleigh    NC       27607  +19198805900           2021-12-28   \n",
       "...             ...   ...         ...           ...                  ...   \n",
       "2507        raleigh    NC  27607-3624  +19198612300           1999-10-28   \n",
       "2508        raleigh    NC  27607-3624  +19198612300           1999-12-07   \n",
       "2509        raleigh    NC  27612-2650  +19197859730           1992-07-29   \n",
       "2510    morrisville    NC       27560  +19196996109           2000-04-01   \n",
       "2511        raleigh    NC  27612-5369  +19198819778           2000-08-02   \n",
       "\n",
       "              X          Y                Name Clean Check Chain  \n",
       "2066 -78.638965  35.835923         CUCCIOLO TERRAZZA   Not Chain  \n",
       "2067 -78.695655  35.766740         AVENT FERRY PIZZA   Not Chain  \n",
       "2069 -78.835930  35.639830                  CHIPOTLE       Chain  \n",
       "2070 -78.796045  35.851069    THE GARDEN GRILL & BAR   Not Chain  \n",
       "2071 -78.669227  35.788349                   BUL BOX       Chain  \n",
       "...         ...        ...                       ...         ...  \n",
       "2507 -78.722939  35.803245          PNC CLUB KITCHEN   Not Chain  \n",
       "2508 -78.722939  35.803245               PNC 118-120   Not Chain  \n",
       "2509 -78.703135  35.858765     KADHAI-THE INDIAN WOK   Not Chain  \n",
       "2510 -78.875530  35.857848  ARENA CAFE- CISCO BLDG 7   Not Chain  \n",
       "2511 -78.706955  35.825448              BELLA MONICA   Not Chain  \n",
       "\n",
       "[442 rows x 12 columns]"
      ]
     },
     "execution_count": 201,
     "metadata": {},
     "output_type": "execute_result"
    }
   ],
   "source": [
    "df[2023:]\n",
    "# df_4['Yelp Details'] = df_4['Phone Number'].apply(get_details)\n",
    "# #df_5['Yelp Details'] = df_5['Phone Number'].apply(get_details)\n",
    "# df_4.to_excel('Yelp_Batch_4.xlsx')\n",
    "#df_5.to_excel('Yelp_Batch_5.xlsx')       "
   ]
  },
  {
   "cell_type": "code",
   "execution_count": 175,
   "metadata": {},
   "outputs": [],
   "source": [
    "yelp_4['Filter From'] = yelp_4['Yelp Details'].apply(lambda x: 'bad' if isinstance(x, dict) and 'error' in x else 'good' if isinstance(x, dict) else 'invalid')"
   ]
  },
  {
   "cell_type": "code",
   "execution_count": 191,
   "metadata": {},
   "outputs": [
    {
     "data": {
      "text/html": [
       "<div>\n",
       "<style scoped>\n",
       "    .dataframe tbody tr th:only-of-type {\n",
       "        vertical-align: middle;\n",
       "    }\n",
       "\n",
       "    .dataframe tbody tr th {\n",
       "        vertical-align: top;\n",
       "    }\n",
       "\n",
       "    .dataframe thead th {\n",
       "        text-align: right;\n",
       "    }\n",
       "</style>\n",
       "<table border=\"1\" class=\"dataframe\">\n",
       "  <thead>\n",
       "    <tr style=\"text-align: right;\">\n",
       "      <th></th>\n",
       "      <th>Unnamed: 0</th>\n",
       "      <th>Name</th>\n",
       "      <th>Address 1</th>\n",
       "      <th>Address 2</th>\n",
       "      <th>City</th>\n",
       "      <th>State</th>\n",
       "      <th>Postal Code</th>\n",
       "      <th>Phone Number</th>\n",
       "      <th>Restaurant Open Date</th>\n",
       "      <th>X</th>\n",
       "      <th>Y</th>\n",
       "      <th>Name Clean</th>\n",
       "      <th>Check Chain</th>\n",
       "      <th>Yelp Details</th>\n",
       "      <th>Filter From</th>\n",
       "    </tr>\n",
       "  </thead>\n",
       "  <tbody>\n",
       "    <tr>\n",
       "      <th>0</th>\n",
       "      <td>1529</td>\n",
       "      <td>COOK OUT #297</td>\n",
       "      <td>1151 N SMITHFIELD RD</td>\n",
       "      <td>NaN</td>\n",
       "      <td>knightdale</td>\n",
       "      <td>NC</td>\n",
       "      <td>27545</td>\n",
       "      <td>+19196188532</td>\n",
       "      <td>2021-12-29</td>\n",
       "      <td>-78.488102</td>\n",
       "      <td>35.797845</td>\n",
       "      <td>COOK OUT</td>\n",
       "      <td>Chain</td>\n",
       "      <td>{'businesses': [], 'total': 0}</td>\n",
       "      <td>invalid</td>\n",
       "    </tr>\n",
       "    <tr>\n",
       "      <th>1</th>\n",
       "      <td>1530</td>\n",
       "      <td>PINEAPPLE SOL</td>\n",
       "      <td>302  COLONADES WAY</td>\n",
       "      <td>STE 109</td>\n",
       "      <td>cary</td>\n",
       "      <td>NC</td>\n",
       "      <td>27518</td>\n",
       "      <td>+19198038533</td>\n",
       "      <td>2022-01-04</td>\n",
       "      <td>-78.777565</td>\n",
       "      <td>35.738534</td>\n",
       "      <td>PINEAPPLE SOL</td>\n",
       "      <td>Not Chain</td>\n",
       "      <td>{'businesses': [], 'total': 0}</td>\n",
       "      <td>invalid</td>\n",
       "    </tr>\n",
       "    <tr>\n",
       "      <th>2</th>\n",
       "      <td>1531</td>\n",
       "      <td>V PIZZA</td>\n",
       "      <td>7930 SKYLAND RIDGE PKY</td>\n",
       "      <td>STE 100</td>\n",
       "      <td>raleigh</td>\n",
       "      <td>NC</td>\n",
       "      <td>27617</td>\n",
       "      <td>+19197483633</td>\n",
       "      <td>2021-12-06</td>\n",
       "      <td>-78.783800</td>\n",
       "      <td>35.915834</td>\n",
       "      <td>V PIZZA</td>\n",
       "      <td>Chain</td>\n",
       "      <td>{'businesses': [{'id': 'z4J6T88PypSvJo7VgDWSBQ...</td>\n",
       "      <td>invalid</td>\n",
       "    </tr>\n",
       "    <tr>\n",
       "      <th>3</th>\n",
       "      <td>1532</td>\n",
       "      <td>ARBY'S #76036</td>\n",
       "      <td>151 WAKELON ST</td>\n",
       "      <td>NaN</td>\n",
       "      <td>zebulon</td>\n",
       "      <td>NC</td>\n",
       "      <td>27597</td>\n",
       "      <td>+19192690995</td>\n",
       "      <td>2022-01-19</td>\n",
       "      <td>-78.315729</td>\n",
       "      <td>35.833475</td>\n",
       "      <td>ARBY'S</td>\n",
       "      <td>Chain</td>\n",
       "      <td>{'businesses': [{'id': 'CNpVd0dF9gs7X76suQ5mdA...</td>\n",
       "      <td>invalid</td>\n",
       "    </tr>\n",
       "    <tr>\n",
       "      <th>4</th>\n",
       "      <td>1533</td>\n",
       "      <td>JUBALA COFFEE</td>\n",
       "      <td>200 PARK AT NORTH HILLS ST</td>\n",
       "      <td>SUITE 140</td>\n",
       "      <td>raleigh</td>\n",
       "      <td>NC</td>\n",
       "      <td>27609</td>\n",
       "      <td>+19192005048</td>\n",
       "      <td>2022-01-24</td>\n",
       "      <td>-78.637533</td>\n",
       "      <td>35.835346</td>\n",
       "      <td>JUBALA COFFEE</td>\n",
       "      <td>Chain</td>\n",
       "      <td>{'businesses': [], 'total': 0}</td>\n",
       "      <td>invalid</td>\n",
       "    </tr>\n",
       "    <tr>\n",
       "      <th>...</th>\n",
       "      <td>...</td>\n",
       "      <td>...</td>\n",
       "      <td>...</td>\n",
       "      <td>...</td>\n",
       "      <td>...</td>\n",
       "      <td>...</td>\n",
       "      <td>...</td>\n",
       "      <td>...</td>\n",
       "      <td>...</td>\n",
       "      <td>...</td>\n",
       "      <td>...</td>\n",
       "      <td>...</td>\n",
       "      <td>...</td>\n",
       "      <td>...</td>\n",
       "      <td>...</td>\n",
       "    </tr>\n",
       "    <tr>\n",
       "      <th>517</th>\n",
       "      <td>2060</td>\n",
       "      <td>DANIEL'S RESTAURANT</td>\n",
       "      <td>1430 W WILLIAMS ST</td>\n",
       "      <td>NaN</td>\n",
       "      <td>apex</td>\n",
       "      <td>NC</td>\n",
       "      <td>27523-9300</td>\n",
       "      <td>+19193031006</td>\n",
       "      <td>2021-11-05</td>\n",
       "      <td>-78.876574</td>\n",
       "      <td>35.752456</td>\n",
       "      <td>DANIEL'S RESTAURANT</td>\n",
       "      <td>Not Chain</td>\n",
       "      <td>{'businesses': [{'id': 'LjvHGYAC113ZGUs0mue43w...</td>\n",
       "      <td>invalid</td>\n",
       "    </tr>\n",
       "    <tr>\n",
       "      <th>518</th>\n",
       "      <td>2061</td>\n",
       "      <td>HOMEWOOD SUITES RALEIGH/CARY FOOD SERVICE</td>\n",
       "      <td>100 MACALYSON CT</td>\n",
       "      <td>NaN</td>\n",
       "      <td>cary</td>\n",
       "      <td>NC</td>\n",
       "      <td>27511</td>\n",
       "      <td>+19194674444</td>\n",
       "      <td>2021-11-15</td>\n",
       "      <td>-78.800617</td>\n",
       "      <td>35.735069</td>\n",
       "      <td>HOMEWOOD SUITES RALEIGH/CARY FOOD SERVICE</td>\n",
       "      <td>Not Chain</td>\n",
       "      <td>{'businesses': [{'id': '9QrZvEVV_eXBZ-2AuhZNuA...</td>\n",
       "      <td>invalid</td>\n",
       "    </tr>\n",
       "    <tr>\n",
       "      <th>519</th>\n",
       "      <td>2062</td>\n",
       "      <td>GYM TACOS</td>\n",
       "      <td>3701 HILLSBOROUGH  ST</td>\n",
       "      <td>NaN</td>\n",
       "      <td>raleigh</td>\n",
       "      <td>NC</td>\n",
       "      <td>27614</td>\n",
       "      <td>+19196008708</td>\n",
       "      <td>2021-11-05</td>\n",
       "      <td>-78.685657</td>\n",
       "      <td>35.793542</td>\n",
       "      <td>GYM TACOS</td>\n",
       "      <td>Not Chain</td>\n",
       "      <td>{'businesses': [], 'total': 0}</td>\n",
       "      <td>invalid</td>\n",
       "    </tr>\n",
       "    <tr>\n",
       "      <th>520</th>\n",
       "      <td>2063</td>\n",
       "      <td>BB'S CRISPY CHICKEN</td>\n",
       "      <td>2920 SHERMAN OAK  PL</td>\n",
       "      <td>STE 140</td>\n",
       "      <td>raleigh</td>\n",
       "      <td>NC</td>\n",
       "      <td>27609</td>\n",
       "      <td>+19842723300</td>\n",
       "      <td>2021-10-26</td>\n",
       "      <td>-78.620829</td>\n",
       "      <td>35.821317</td>\n",
       "      <td>BB'S CRISPY CHICKEN</td>\n",
       "      <td>Chain</td>\n",
       "      <td>{'businesses': [{'id': 'IPEvg78LskbnWg9sCOmcvg...</td>\n",
       "      <td>invalid</td>\n",
       "    </tr>\n",
       "    <tr>\n",
       "      <th>521</th>\n",
       "      <td>2064</td>\n",
       "      <td>KUNG FU TEA</td>\n",
       "      <td>10251 LITTLE BRIAR CREEK LN</td>\n",
       "      <td>SUITE 106</td>\n",
       "      <td>raleigh</td>\n",
       "      <td>NC</td>\n",
       "      <td>27617</td>\n",
       "      <td>+19844844105</td>\n",
       "      <td>2021-10-21</td>\n",
       "      <td>-78.785168</td>\n",
       "      <td>35.911333</td>\n",
       "      <td>KUNG FU TEA</td>\n",
       "      <td>Not Chain</td>\n",
       "      <td>{'businesses': [], 'total': 0}</td>\n",
       "      <td>invalid</td>\n",
       "    </tr>\n",
       "  </tbody>\n",
       "</table>\n",
       "<p>522 rows × 15 columns</p>\n",
       "</div>"
      ],
      "text/plain": [
       "     Unnamed: 0                                       Name  \\\n",
       "0          1529                              COOK OUT #297   \n",
       "1          1530                              PINEAPPLE SOL   \n",
       "2          1531                                    V PIZZA   \n",
       "3          1532                              ARBY'S #76036   \n",
       "4          1533                              JUBALA COFFEE   \n",
       "..          ...                                        ...   \n",
       "517        2060                        DANIEL'S RESTAURANT   \n",
       "518        2061  HOMEWOOD SUITES RALEIGH/CARY FOOD SERVICE   \n",
       "519        2062                                  GYM TACOS   \n",
       "520        2063                        BB'S CRISPY CHICKEN   \n",
       "521        2064                                KUNG FU TEA   \n",
       "\n",
       "                       Address 1  Address 2        City State Postal Code  \\\n",
       "0           1151 N SMITHFIELD RD        NaN  knightdale    NC       27545   \n",
       "1             302  COLONADES WAY    STE 109        cary    NC       27518   \n",
       "2         7930 SKYLAND RIDGE PKY    STE 100     raleigh    NC       27617   \n",
       "3                 151 WAKELON ST        NaN     zebulon    NC       27597   \n",
       "4     200 PARK AT NORTH HILLS ST  SUITE 140     raleigh    NC       27609   \n",
       "..                           ...        ...         ...   ...         ...   \n",
       "517           1430 W WILLIAMS ST        NaN        apex    NC  27523-9300   \n",
       "518             100 MACALYSON CT        NaN        cary    NC       27511   \n",
       "519        3701 HILLSBOROUGH  ST        NaN     raleigh    NC       27614   \n",
       "520         2920 SHERMAN OAK  PL    STE 140     raleigh    NC       27609   \n",
       "521  10251 LITTLE BRIAR CREEK LN  SUITE 106     raleigh    NC       27617   \n",
       "\n",
       "     Phone Number Restaurant Open Date          X          Y  \\\n",
       "0    +19196188532           2021-12-29 -78.488102  35.797845   \n",
       "1    +19198038533           2022-01-04 -78.777565  35.738534   \n",
       "2    +19197483633           2021-12-06 -78.783800  35.915834   \n",
       "3    +19192690995           2022-01-19 -78.315729  35.833475   \n",
       "4    +19192005048           2022-01-24 -78.637533  35.835346   \n",
       "..            ...                  ...        ...        ...   \n",
       "517  +19193031006           2021-11-05 -78.876574  35.752456   \n",
       "518  +19194674444           2021-11-15 -78.800617  35.735069   \n",
       "519  +19196008708           2021-11-05 -78.685657  35.793542   \n",
       "520  +19842723300           2021-10-26 -78.620829  35.821317   \n",
       "521  +19844844105           2021-10-21 -78.785168  35.911333   \n",
       "\n",
       "                                    Name Clean Check Chain  \\\n",
       "0                                     COOK OUT       Chain   \n",
       "1                                PINEAPPLE SOL   Not Chain   \n",
       "2                                      V PIZZA       Chain   \n",
       "3                                       ARBY'S       Chain   \n",
       "4                                JUBALA COFFEE       Chain   \n",
       "..                                         ...         ...   \n",
       "517                        DANIEL'S RESTAURANT   Not Chain   \n",
       "518  HOMEWOOD SUITES RALEIGH/CARY FOOD SERVICE   Not Chain   \n",
       "519                                  GYM TACOS   Not Chain   \n",
       "520                        BB'S CRISPY CHICKEN       Chain   \n",
       "521                                KUNG FU TEA   Not Chain   \n",
       "\n",
       "                                          Yelp Details Filter From  \n",
       "0                       {'businesses': [], 'total': 0}     invalid  \n",
       "1                       {'businesses': [], 'total': 0}     invalid  \n",
       "2    {'businesses': [{'id': 'z4J6T88PypSvJo7VgDWSBQ...     invalid  \n",
       "3    {'businesses': [{'id': 'CNpVd0dF9gs7X76suQ5mdA...     invalid  \n",
       "4                       {'businesses': [], 'total': 0}     invalid  \n",
       "..                                                 ...         ...  \n",
       "517  {'businesses': [{'id': 'LjvHGYAC113ZGUs0mue43w...     invalid  \n",
       "518  {'businesses': [{'id': '9QrZvEVV_eXBZ-2AuhZNuA...     invalid  \n",
       "519                     {'businesses': [], 'total': 0}     invalid  \n",
       "520  {'businesses': [{'id': 'IPEvg78LskbnWg9sCOmcvg...     invalid  \n",
       "521                     {'businesses': [], 'total': 0}     invalid  \n",
       "\n",
       "[522 rows x 15 columns]"
      ]
     },
     "execution_count": 191,
     "metadata": {},
     "output_type": "execute_result"
    }
   ],
   "source": [
    "# View the last 50 rows of yelp_4\n",
    "yelp_4[:522]\n"
   ]
  },
  {
   "cell_type": "code",
   "execution_count": 80,
   "metadata": {},
   "outputs": [
    {
     "data": {
      "text/html": [
       "<div>\n",
       "<style scoped>\n",
       "    .dataframe tbody tr th:only-of-type {\n",
       "        vertical-align: middle;\n",
       "    }\n",
       "\n",
       "    .dataframe tbody tr th {\n",
       "        vertical-align: top;\n",
       "    }\n",
       "\n",
       "    .dataframe thead th {\n",
       "        text-align: right;\n",
       "    }\n",
       "</style>\n",
       "<table border=\"1\" class=\"dataframe\">\n",
       "  <thead>\n",
       "    <tr style=\"text-align: right;\">\n",
       "      <th></th>\n",
       "      <th>Unnamed: 0</th>\n",
       "      <th>Address 1</th>\n",
       "      <th>Address 2</th>\n",
       "      <th>City</th>\n",
       "      <th>State</th>\n",
       "      <th>Postal Code</th>\n",
       "      <th>Phone Number</th>\n",
       "      <th>Restaurant Open Date</th>\n",
       "      <th>X</th>\n",
       "      <th>Y</th>\n",
       "      <th>Check Chain</th>\n",
       "      <th>Yelp Details</th>\n",
       "      <th>Yelp Details Clean</th>\n",
       "    </tr>\n",
       "  </thead>\n",
       "  <tbody>\n",
       "    <tr>\n",
       "      <th>0</th>\n",
       "      <td>0</td>\n",
       "      <td>920 NE MAYNARD RD</td>\n",
       "      <td>NaN</td>\n",
       "      <td>cary</td>\n",
       "      <td>NC</td>\n",
       "      <td>27513</td>\n",
       "      <td>+19194699991</td>\n",
       "      <td>2019-12-27</td>\n",
       "      <td>-78.768384</td>\n",
       "      <td>35.800435</td>\n",
       "      <td>Chain</td>\n",
       "      <td>{'businesses': [{'id': 'XrWXY_ajpR7nJAGzr3g5JQ...</td>\n",
       "      <td>{'id': 'XrWXY_ajpR7nJAGzr3g5JQ', 'alias': 'piz...</td>\n",
       "    </tr>\n",
       "    <tr>\n",
       "      <th>1</th>\n",
       "      <td>1</td>\n",
       "      <td>877 E GANNON AVE</td>\n",
       "      <td>SUITE 105</td>\n",
       "      <td>zebulon</td>\n",
       "      <td>NC</td>\n",
       "      <td>27597</td>\n",
       "      <td>+19196460064</td>\n",
       "      <td>2019-12-31</td>\n",
       "      <td>-78.294186</td>\n",
       "      <td>35.830163</td>\n",
       "      <td>Not Chain</td>\n",
       "      <td>{'businesses': [{'id': 'pAVqVeJvAEJ8_noz18Whsg...</td>\n",
       "      <td>{'id': 'pAVqVeJvAEJ8_noz18Whsg', 'alias': 'mem...</td>\n",
       "    </tr>\n",
       "    <tr>\n",
       "      <th>2</th>\n",
       "      <td>2</td>\n",
       "      <td>4020 CAPITAL BLVD</td>\n",
       "      <td>SUITE 160</td>\n",
       "      <td>raleigh</td>\n",
       "      <td>NC</td>\n",
       "      <td>27604</td>\n",
       "      <td>(678)9655707</td>\n",
       "      <td>2020-01-27</td>\n",
       "      <td>-78.579677</td>\n",
       "      <td>35.835510</td>\n",
       "      <td>Not Chain</td>\n",
       "      <td>{'businesses': [], 'total': 0}</td>\n",
       "      <td>None</td>\n",
       "    </tr>\n",
       "    <tr>\n",
       "      <th>3</th>\n",
       "      <td>3</td>\n",
       "      <td>1353 KILDAIRE FARM RD</td>\n",
       "      <td>NaN</td>\n",
       "      <td>cary</td>\n",
       "      <td>NC</td>\n",
       "      <td>27511</td>\n",
       "      <td>+19198001802</td>\n",
       "      <td>2020-01-27</td>\n",
       "      <td>-78.781938</td>\n",
       "      <td>35.759765</td>\n",
       "      <td>Not Chain</td>\n",
       "      <td>{'businesses': [{'id': '9vGngnH26Og_MjILOiGGuw...</td>\n",
       "      <td>{'id': '9vGngnH26Og_MjILOiGGuw', 'alias': 'sze...</td>\n",
       "    </tr>\n",
       "    <tr>\n",
       "      <th>4</th>\n",
       "      <td>4</td>\n",
       "      <td>3913 WESTERN BLVD</td>\n",
       "      <td>NaN</td>\n",
       "      <td>raleigh</td>\n",
       "      <td>NC</td>\n",
       "      <td>27606</td>\n",
       "      <td>+19196131286</td>\n",
       "      <td>2020-02-07</td>\n",
       "      <td>-78.691069</td>\n",
       "      <td>35.784021</td>\n",
       "      <td>Not Chain</td>\n",
       "      <td>{'businesses': [], 'total': 0}</td>\n",
       "      <td>None</td>\n",
       "    </tr>\n",
       "    <tr>\n",
       "      <th>5</th>\n",
       "      <td>5</td>\n",
       "      <td>101 DICKENS RD</td>\n",
       "      <td>NaN</td>\n",
       "      <td>fuquay-varina</td>\n",
       "      <td>NC</td>\n",
       "      <td>27526</td>\n",
       "      <td>+19192449788</td>\n",
       "      <td>2020-03-02</td>\n",
       "      <td>-78.811333</td>\n",
       "      <td>35.615946</td>\n",
       "      <td>Not Chain</td>\n",
       "      <td>{'businesses': [], 'total': 0}</td>\n",
       "      <td>None</td>\n",
       "    </tr>\n",
       "  </tbody>\n",
       "</table>\n",
       "</div>"
      ],
      "text/plain": [
       "   Unnamed: 0              Address 1  Address 2           City State  \\\n",
       "0           0      920 NE MAYNARD RD        NaN           cary    NC   \n",
       "1           1       877 E GANNON AVE  SUITE 105        zebulon    NC   \n",
       "2           2      4020 CAPITAL BLVD  SUITE 160        raleigh    NC   \n",
       "3           3  1353 KILDAIRE FARM RD        NaN           cary    NC   \n",
       "4           4      3913 WESTERN BLVD        NaN        raleigh    NC   \n",
       "5           5         101 DICKENS RD        NaN  fuquay-varina    NC   \n",
       "\n",
       "  Postal Code  Phone Number Restaurant Open Date          X          Y  \\\n",
       "0       27513  +19194699991           2019-12-27 -78.768384  35.800435   \n",
       "1       27597  +19196460064           2019-12-31 -78.294186  35.830163   \n",
       "2       27604  (678)9655707           2020-01-27 -78.579677  35.835510   \n",
       "3       27511  +19198001802           2020-01-27 -78.781938  35.759765   \n",
       "4       27606  +19196131286           2020-02-07 -78.691069  35.784021   \n",
       "5       27526  +19192449788           2020-03-02 -78.811333  35.615946   \n",
       "\n",
       "  Check Chain                                       Yelp Details  \\\n",
       "0       Chain  {'businesses': [{'id': 'XrWXY_ajpR7nJAGzr3g5JQ...   \n",
       "1   Not Chain  {'businesses': [{'id': 'pAVqVeJvAEJ8_noz18Whsg...   \n",
       "2   Not Chain                     {'businesses': [], 'total': 0}   \n",
       "3   Not Chain  {'businesses': [{'id': '9vGngnH26Og_MjILOiGGuw...   \n",
       "4   Not Chain                     {'businesses': [], 'total': 0}   \n",
       "5   Not Chain                     {'businesses': [], 'total': 0}   \n",
       "\n",
       "                                  Yelp Details Clean  \n",
       "0  {'id': 'XrWXY_ajpR7nJAGzr3g5JQ', 'alias': 'piz...  \n",
       "1  {'id': 'pAVqVeJvAEJ8_noz18Whsg', 'alias': 'mem...  \n",
       "2                                               None  \n",
       "3  {'id': '9vGngnH26Og_MjILOiGGuw', 'alias': 'sze...  \n",
       "4                                               None  \n",
       "5                                               None  "
      ]
     },
     "execution_count": 80,
     "metadata": {},
     "output_type": "execute_result"
    }
   ],
   "source": [
    "# Function to clean and load JSON strings\n",
    "def clean_and_load_json(value):\n",
    "    if pd.isna(value):\n",
    "        return None\n",
    "    try:\n",
    "        return ast.literal_eval(value)\n",
    "    except (ValueError, SyntaxError) as e:\n",
    "        print(f\"Error evaluating string: {e}\")\n",
    "        return None\n",
    "\n",
    "def select_only_open_restaurants(yelp_details):\n",
    "    if isinstance(yelp_details, dict) and 'total' in yelp_details:\n",
    "        for item in yelp_details['businesses']:\n",
    "            if item['is_closed'] == False:\n",
    "                return item\n",
    "    return None\n",
    "\n",
    "def process_yelp_details(value):\n",
    "    # Clean and load JSON\n",
    "    cleaned_json = clean_and_load_json(value)\n",
    "    if cleaned_json is None:\n",
    "        return None\n",
    "    \n",
    "    # Select only open restaurants\n",
    "    return select_only_open_restaurants(cleaned_json)\n",
    "\n",
    "# # Apply the function to the column\n",
    "final_df['Yelp Details Clean'] = final_df['Yelp Details'].apply(process_yelp_details)\n",
    "\n",
    "\n",
    "# # # Apply the function to the column\n",
    "# final_df['Yelp Details'] = final_df['Yelp Details'].apply(clean_and_load_json)\n",
    "\n",
    "final_df.head(6)\n"
   ]
  },
  {
   "cell_type": "code",
   "execution_count": 88,
   "metadata": {},
   "outputs": [],
   "source": [
    "def extract_detail(field, field_name):\n",
    "    try:\n",
    "        return field[field_name]\n",
    "        # if isinstance(field, dict): # and 'businesses' in field:\n",
    "        #     return field['businesses'][0][field_name]\n",
    "    except:\n",
    "        return 'Field does not exist'\n",
    "    \n",
    "def create_new_columns(df):\n",
    "    columns = ['name', 'is_closed', 'url', 'review_count', 'rating', 'review_count', 'categories', 'price']\n",
    "    for col in columns:\n",
    "        df[col] = df['Yelp Details Clean'].apply(lambda x: extract_detail(x, col))\n",
    "    \n",
    "    return df\n",
    "    "
   ]
  },
  {
   "cell_type": "code",
   "execution_count": 89,
   "metadata": {},
   "outputs": [],
   "source": [
    "final_df = create_new_columns(final_df)"
   ]
  },
  {
   "cell_type": "code",
   "execution_count": 91,
   "metadata": {},
   "outputs": [],
   "source": [
    "def parse_category(category):\n",
    "    if isinstance(category, list):\n",
    "        return [val['title'] for val in category]\n",
    "    else:\n",
    "        return 'Field does not exist'"
   ]
  },
  {
   "cell_type": "code",
   "execution_count": 92,
   "metadata": {},
   "outputs": [],
   "source": [
    "final_df['categories'] = final_df['categories'].apply(parse_category)"
   ]
  },
  {
   "cell_type": "markdown",
   "metadata": {},
   "source": [
    "#Explain everything done up until here"
   ]
  },
  {
   "cell_type": "markdown",
   "metadata": {},
   "source": [
    "#Fun Analysis\n",
    "- Get counts for how many I found yelp matches for \n",
    "- Get the categories and find the top most prevelant categories in the area and then in each of the 10 cities\n",
    "- Pull the top 50 highest rated restaurants (See if any are fast food lol) --> then find the top 20 highest rated fast food places\n",
    "- Do some analysis on relationship between review count and overall review #"
   ]
  },
  {
   "cell_type": "code",
   "execution_count": 93,
   "metadata": {},
   "outputs": [
    {
     "data": {
      "text/html": [
       "<div>\n",
       "<style scoped>\n",
       "    .dataframe tbody tr th:only-of-type {\n",
       "        vertical-align: middle;\n",
       "    }\n",
       "\n",
       "    .dataframe tbody tr th {\n",
       "        vertical-align: top;\n",
       "    }\n",
       "\n",
       "    .dataframe thead th {\n",
       "        text-align: right;\n",
       "    }\n",
       "</style>\n",
       "<table border=\"1\" class=\"dataframe\">\n",
       "  <thead>\n",
       "    <tr style=\"text-align: right;\">\n",
       "      <th></th>\n",
       "      <th>Unnamed: 0</th>\n",
       "      <th>Address 1</th>\n",
       "      <th>Address 2</th>\n",
       "      <th>City</th>\n",
       "      <th>State</th>\n",
       "      <th>Postal Code</th>\n",
       "      <th>Phone Number</th>\n",
       "      <th>Restaurant Open Date</th>\n",
       "      <th>X</th>\n",
       "      <th>Y</th>\n",
       "      <th>Check Chain</th>\n",
       "      <th>Yelp Details</th>\n",
       "      <th>Yelp Details Clean</th>\n",
       "      <th>name</th>\n",
       "      <th>is_closed</th>\n",
       "      <th>url</th>\n",
       "      <th>review_count</th>\n",
       "      <th>rating</th>\n",
       "      <th>categories</th>\n",
       "      <th>price</th>\n",
       "    </tr>\n",
       "  </thead>\n",
       "  <tbody>\n",
       "    <tr>\n",
       "      <th>0</th>\n",
       "      <td>0</td>\n",
       "      <td>920 NE MAYNARD RD</td>\n",
       "      <td>NaN</td>\n",
       "      <td>cary</td>\n",
       "      <td>NC</td>\n",
       "      <td>27513</td>\n",
       "      <td>+19194699991</td>\n",
       "      <td>2019-12-27</td>\n",
       "      <td>-78.768384</td>\n",
       "      <td>35.800435</td>\n",
       "      <td>Chain</td>\n",
       "      <td>{'businesses': [{'id': 'XrWXY_ajpR7nJAGzr3g5JQ...</td>\n",
       "      <td>{'id': 'XrWXY_ajpR7nJAGzr3g5JQ', 'alias': 'piz...</td>\n",
       "      <td>Pizza Hut</td>\n",
       "      <td>False</td>\n",
       "      <td>https://www.yelp.com/biz/pizza-hut-cary-3?adju...</td>\n",
       "      <td>35</td>\n",
       "      <td>2.0</td>\n",
       "      <td>[Pizza, Chicken Wings, Fast Food]</td>\n",
       "      <td>$</td>\n",
       "    </tr>\n",
       "    <tr>\n",
       "      <th>1</th>\n",
       "      <td>1</td>\n",
       "      <td>877 E GANNON AVE</td>\n",
       "      <td>SUITE 105</td>\n",
       "      <td>zebulon</td>\n",
       "      <td>NC</td>\n",
       "      <td>27597</td>\n",
       "      <td>+19196460064</td>\n",
       "      <td>2019-12-31</td>\n",
       "      <td>-78.294186</td>\n",
       "      <td>35.830163</td>\n",
       "      <td>Not Chain</td>\n",
       "      <td>{'businesses': [{'id': 'pAVqVeJvAEJ8_noz18Whsg...</td>\n",
       "      <td>{'id': 'pAVqVeJvAEJ8_noz18Whsg', 'alias': 'mem...</td>\n",
       "      <td>Memo’s Pizza</td>\n",
       "      <td>False</td>\n",
       "      <td>https://www.yelp.com/biz/memo-s-pizza-zebulon?...</td>\n",
       "      <td>16</td>\n",
       "      <td>4.2</td>\n",
       "      <td>[Italian, Seafood, Sandwiches]</td>\n",
       "      <td>Field does not exist</td>\n",
       "    </tr>\n",
       "    <tr>\n",
       "      <th>2</th>\n",
       "      <td>2</td>\n",
       "      <td>4020 CAPITAL BLVD</td>\n",
       "      <td>SUITE 160</td>\n",
       "      <td>raleigh</td>\n",
       "      <td>NC</td>\n",
       "      <td>27604</td>\n",
       "      <td>(678)9655707</td>\n",
       "      <td>2020-01-27</td>\n",
       "      <td>-78.579677</td>\n",
       "      <td>35.835510</td>\n",
       "      <td>Not Chain</td>\n",
       "      <td>{'businesses': [], 'total': 0}</td>\n",
       "      <td>None</td>\n",
       "      <td>Field does not exist</td>\n",
       "      <td>Field does not exist</td>\n",
       "      <td>Field does not exist</td>\n",
       "      <td>Field does not exist</td>\n",
       "      <td>Field does not exist</td>\n",
       "      <td>Field does not exist</td>\n",
       "      <td>Field does not exist</td>\n",
       "    </tr>\n",
       "  </tbody>\n",
       "</table>\n",
       "</div>"
      ],
      "text/plain": [
       "   Unnamed: 0          Address 1  Address 2     City State Postal Code  \\\n",
       "0           0  920 NE MAYNARD RD        NaN     cary    NC       27513   \n",
       "1           1   877 E GANNON AVE  SUITE 105  zebulon    NC       27597   \n",
       "2           2  4020 CAPITAL BLVD  SUITE 160  raleigh    NC       27604   \n",
       "\n",
       "   Phone Number Restaurant Open Date          X          Y Check Chain  \\\n",
       "0  +19194699991           2019-12-27 -78.768384  35.800435       Chain   \n",
       "1  +19196460064           2019-12-31 -78.294186  35.830163   Not Chain   \n",
       "2  (678)9655707           2020-01-27 -78.579677  35.835510   Not Chain   \n",
       "\n",
       "                                        Yelp Details  \\\n",
       "0  {'businesses': [{'id': 'XrWXY_ajpR7nJAGzr3g5JQ...   \n",
       "1  {'businesses': [{'id': 'pAVqVeJvAEJ8_noz18Whsg...   \n",
       "2                     {'businesses': [], 'total': 0}   \n",
       "\n",
       "                                  Yelp Details Clean                  name  \\\n",
       "0  {'id': 'XrWXY_ajpR7nJAGzr3g5JQ', 'alias': 'piz...             Pizza Hut   \n",
       "1  {'id': 'pAVqVeJvAEJ8_noz18Whsg', 'alias': 'mem...          Memo’s Pizza   \n",
       "2                                               None  Field does not exist   \n",
       "\n",
       "              is_closed                                                url  \\\n",
       "0                 False  https://www.yelp.com/biz/pizza-hut-cary-3?adju...   \n",
       "1                 False  https://www.yelp.com/biz/memo-s-pizza-zebulon?...   \n",
       "2  Field does not exist                               Field does not exist   \n",
       "\n",
       "           review_count                rating  \\\n",
       "0                    35                   2.0   \n",
       "1                    16                   4.2   \n",
       "2  Field does not exist  Field does not exist   \n",
       "\n",
       "                          categories                 price  \n",
       "0  [Pizza, Chicken Wings, Fast Food]                     $  \n",
       "1     [Italian, Seafood, Sandwiches]  Field does not exist  \n",
       "2               Field does not exist  Field does not exist  "
      ]
     },
     "execution_count": 93,
     "metadata": {},
     "output_type": "execute_result"
    }
   ],
   "source": [
    "final_df.head(3)"
   ]
  },
  {
   "cell_type": "code",
   "execution_count": 448,
   "metadata": {},
   "outputs": [
    {
     "data": {
      "text/plain": [
       "Counter({'Fast Food': 129,\n",
       "         'Sandwiches': 101,\n",
       "         'Burgers': 72,\n",
       "         'Pizza': 66,\n",
       "         'Coffee & Tea': 66,\n",
       "         'Breakfast & Brunch': 61,\n",
       "         'American': 61,\n",
       "         'Mexican': 54,\n",
       "         'Chinese': 48,\n",
       "         'Salad': 45,\n",
       "         'Italian': 41,\n",
       "         'Seafood': 41,\n",
       "         'Chicken Wings': 38,\n",
       "         'Japanese': 26,\n",
       "         'New American': 25,\n",
       "         'Bars': 23,\n",
       "         'Sushi Bars': 23,\n",
       "         'Delis': 22,\n",
       "         'Juice Bars & Smoothies': 20,\n",
       "         'Hotels': 20,\n",
       "         'Wine Bars': 19,\n",
       "         'Soup': 19,\n",
       "         'Indian': 19,\n",
       "         'Grocery': 18,\n",
       "         'Southern': 18,\n",
       "         'Mediterranean': 18,\n",
       "         'Sports Bars': 18,\n",
       "         'Cocktail Bars': 17,\n",
       "         'Steakhouses': 17,\n",
       "         'Chicken Shop': 16,\n",
       "         'Desserts': 16,\n",
       "         'Hot Dogs': 15,\n",
       "         'Barbeque': 15,\n",
       "         'Convenience Stores': 15,\n",
       "         'Tex-Mex': 14,\n",
       "         'Gas Stations': 14,\n",
       "         'Venues & Event Spaces': 13,\n",
       "         'Bakeries': 12,\n",
       "         'Donuts': 11,\n",
       "         'Thai': 11,\n",
       "         'Asian Fusion': 10,\n",
       "         'Cafes': 10,\n",
       "         'Beer, Wine & Spirits': 10,\n",
       "         'Diners': 8,\n",
       "         'Korean': 8,\n",
       "         'Noodles': 7,\n",
       "         'Performing Arts': 7,\n",
       "         'Bagels': 7,\n",
       "         'Bubble Tea': 7,\n",
       "         'Buffets': 7,\n",
       "         'Ramen': 6,\n",
       "         'Pubs': 6,\n",
       "         'Greek': 6,\n",
       "         'Beer Bar': 5,\n",
       "         'Halal': 5,\n",
       "         'Tacos': 5,\n",
       "         'Szechuan': 4,\n",
       "         'Vietnamese': 4,\n",
       "         'Arcades': 4,\n",
       "         'Pasta Shops': 4,\n",
       "         'Caribbean': 4,\n",
       "         'Ice Cream & Frozen Yogurt': 4,\n",
       "         'Himalayan/Nepalese': 4,\n",
       "         'Caterers': 4,\n",
       "         'Pharmacy': 4,\n",
       "         'Breweries': 4,\n",
       "         'Vegan': 4,\n",
       "         'Vegetarian': 4,\n",
       "         'Food Court': 4,\n",
       "         'Latin American': 4,\n",
       "         'Hot Pot': 3,\n",
       "         'Bowling': 3,\n",
       "         'Soul Food': 3,\n",
       "         'French': 3,\n",
       "         'Irish Pub': 3,\n",
       "         'Coffee Roasteries': 3,\n",
       "         'Lebanese': 3,\n",
       "         'Tapas/Small Plates': 3,\n",
       "         'Bookstores': 3,\n",
       "         'Tea Rooms': 2,\n",
       "         'Mini Golf': 2,\n",
       "         'Health Markets': 2,\n",
       "         'Irish': 2,\n",
       "         'Lounges': 2,\n",
       "         'Fish & Chips': 2,\n",
       "         'Venezuelan': 2,\n",
       "         'Food Delivery Services': 2,\n",
       "         'Retirement Homes': 2,\n",
       "         'Counseling & Mental Health': 2,\n",
       "         'Peruvian': 2,\n",
       "         'Gluten-Free': 2,\n",
       "         'Butcher': 2,\n",
       "         'Amateur Sports Teams': 2,\n",
       "         'Party & Event Planning': 2,\n",
       "         'Patisserie/Cake Shop': 2,\n",
       "         'Cheesesteaks': 2,\n",
       "         'Mongolian': 2,\n",
       "         'Taiwanese': 2,\n",
       "         'Department Stores': 2,\n",
       "         'Furniture Stores': 2,\n",
       "         'Electronics': 2,\n",
       "         'Macarons': 2,\n",
       "         'Organic Stores': 2,\n",
       "         'Cinema': 2,\n",
       "         'International Grocery': 2,\n",
       "         'Turkish': 1,\n",
       "         'Shanghainese': 1,\n",
       "         'Pool Halls': 1,\n",
       "         'Laser Tag': 1,\n",
       "         'Creperies': 1,\n",
       "         'Moroccan': 1,\n",
       "         'Addiction Medicine': 1,\n",
       "         'Gastropubs': 1,\n",
       "         'Chiropractors': 1,\n",
       "         'Gyms': 1,\n",
       "         'Swimming Pools': 1,\n",
       "         'Trainers': 1,\n",
       "         'Pakistani': 1,\n",
       "         'Art Galleries': 1,\n",
       "         'Modern European': 1,\n",
       "         'Uzbek': 1,\n",
       "         'Shaved Ice': 1,\n",
       "         'Laotian': 1,\n",
       "         'Cheese Shops': 1,\n",
       "         'Music & DVDs': 1,\n",
       "         'Afghan': 1,\n",
       "         'Kebab': 1,\n",
       "         'Poke': 1,\n",
       "         'Eatertainment': 1,\n",
       "         'Health & Medical': 1,\n",
       "         'Meat Shops': 1,\n",
       "         'Wedding Planning': 1,\n",
       "         'Newspapers & Magazines': 1,\n",
       "         'Cuban': 1,\n",
       "         'Assisted Living Facilities': 1,\n",
       "         'Memory Care': 1,\n",
       "         'Cupcakes': 1,\n",
       "         'Wraps': 1,\n",
       "         'Acai Bowls': 1,\n",
       "         'Smokehouse': 1,\n",
       "         'Churches': 1,\n",
       "         'Comfort Food': 1,\n",
       "         'Spanish': 1,\n",
       "         'Brasseries': 1,\n",
       "         'Middle Eastern': 1,\n",
       "         'Skilled Nursing': 1,\n",
       "         'Tapas Bars': 1,\n",
       "         'Falafel': 1,\n",
       "         'Skating Rinks': 1,\n",
       "         'Drugstores': 1,\n",
       "         'Waffles': 1,\n",
       "         'Cafeteria': 1,\n",
       "         'Amusement Parks': 1,\n",
       "         'Gelato': 1,\n",
       "         'Cajun/Creole': 1,\n",
       "         'Seafood Markets': 1,\n",
       "         'Go Karts': 1,\n",
       "         'Axe Throwing': 1,\n",
       "         'Empanadas': 1,\n",
       "         'Comedy Clubs': 1,\n",
       "         'Speakeasies': 1,\n",
       "         'Sports Clubs': 1,\n",
       "         'Soccer': 1,\n",
       "         'Specialty Food': 1,\n",
       "         'Dive Bars': 1,\n",
       "         'Social Clubs': 1,\n",
       "         'University Housing': 1})"
      ]
     },
     "execution_count": 448,
     "metadata": {},
     "output_type": "execute_result"
    }
   ],
   "source": [
    "from collections import Counter\n",
    "list_categories = final_df['categories'].tolist()\n",
    "flat_list_cats = Counter([cat for cats in list_categories for cat in cats if cats != 'Field does not exist'])\n",
    "flat_list_cats"
   ]
  },
  {
   "cell_type": "code",
   "execution_count": 94,
   "metadata": {},
   "outputs": [
    {
     "data": {
      "text/plain": [
       "price\n",
       "Field does not exist    411\n",
       "$$                      308\n",
       "$                       263\n",
       "$$$                      16\n",
       "$$$$                      2\n",
       "Name: count, dtype: int64"
      ]
     },
     "execution_count": 94,
     "metadata": {},
     "output_type": "execute_result"
    }
   ],
   "source": [
    "final_df['price'].value_counts()"
   ]
  },
  {
   "cell_type": "code",
   "execution_count": 95,
   "metadata": {},
   "outputs": [
    {
     "data": {
      "text/plain": [
       "City\n",
       "raleigh    14\n",
       "cary        3\n",
       "garner      1\n",
       "Name: count, dtype: int64"
      ]
     },
     "execution_count": 95,
     "metadata": {},
     "output_type": "execute_result"
    }
   ],
   "source": [
    "final_df[(final_df['price'] != '$') & (final_df['price'] != '$$') & (final_df['price'] != 'Field does not exist') & (final_df['price'].notna())]['City'].value_counts()"
   ]
  },
  {
   "cell_type": "code",
   "execution_count": 96,
   "metadata": {},
   "outputs": [
    {
     "data": {
      "text/plain": [
       "70        Second Empire Restaurant And Tavern\n",
       "71                           Rey's Restaurant\n",
       "106     Fleming’s Prime Steakhouse & Wine Bar\n",
       "181     Renaissance Raleigh North Hills Hotel\n",
       "205                               Lowes Foods\n",
       "276                     Sullivan's Steakhouse\n",
       "362                        Barcelona Wine Bar\n",
       "387                  Ruth's Chris Steak House\n",
       "405    42nd Street Oyster Bar & Seafood Grill\n",
       "422                      Margaux's Restaurant\n",
       "427                  Ruth's Chris Steak House\n",
       "437            Maximillians Grill & Wine Bar \n",
       "470     Perry's Steakhouse & Grille - Raleigh\n",
       "57                                    Poole's\n",
       "106                                  Mandolin\n",
       "109                                China Cary\n",
       "194                           Galaxy Fun Park\n",
       "197                            Amorino Gelato\n",
       "Name: name, dtype: object"
      ]
     },
     "execution_count": 96,
     "metadata": {},
     "output_type": "execute_result"
    }
   ],
   "source": [
    "final_df[(final_df['price'] != '$') & (final_df['price'] != '$$') & (final_df['price'] != 'Field does not exist') & (final_df['price'].notna())]['name']"
   ]
  },
  {
   "cell_type": "code",
   "execution_count": 97,
   "metadata": {},
   "outputs": [],
   "source": [
    "rating_df = final_df[final_df['Yelp Details'].notna() & (final_df['review_count'] != 'Field does not exist') & (final_df['rating'] != 'Field does not exist')]"
   ]
  },
  {
   "cell_type": "code",
   "execution_count": 101,
   "metadata": {},
   "outputs": [
    {
     "data": {
      "application/vnd.plotly.v1+json": {
       "config": {
        "plotlyServerURL": "https://plot.ly"
       },
       "data": [
        {
         "hovertemplate": "Check Chain=Chain<br>Number of Reviews=%{x}<br>Rating=%{y}<extra></extra>",
         "legendgroup": "Chain",
         "marker": {
          "color": "#636efa",
          "symbol": "circle"
         },
         "mode": "markers",
         "name": "Chain",
         "orientation": "v",
         "showlegend": true,
         "type": "scatter",
         "x": [
          35,
          88,
          10,
          23,
          19,
          83,
          56,
          23,
          19,
          21,
          101,
          20,
          38,
          25,
          113,
          54,
          63,
          50,
          25,
          7,
          17,
          19,
          36,
          6,
          72,
          341,
          235,
          47,
          59,
          19,
          22,
          49,
          152,
          21,
          48,
          8,
          129,
          45,
          67,
          560,
          23,
          29,
          36,
          22,
          159,
          120,
          4,
          96,
          301,
          89,
          10,
          132,
          551,
          1135,
          108,
          4,
          19,
          85,
          14,
          20,
          53,
          409,
          25,
          23,
          28,
          239,
          88,
          283,
          301,
          6,
          207,
          18,
          20,
          109,
          85,
          34,
          25,
          98,
          158,
          66,
          43,
          280,
          425,
          16,
          18,
          23,
          118,
          38,
          77,
          80,
          57,
          22,
          30,
          37,
          29,
          42,
          99,
          235,
          43,
          7,
          27,
          20,
          114,
          45,
          56,
          26,
          47,
          1,
          350,
          15,
          4,
          47,
          109,
          36,
          24,
          20,
          56,
          10,
          114,
          104,
          3,
          55,
          214,
          60,
          9,
          9,
          39,
          32,
          153,
          150,
          10,
          373,
          10,
          85,
          5,
          36,
          36,
          80,
          38,
          18,
          32,
          36,
          17,
          15,
          355,
          102,
          234,
          141,
          56,
          41,
          180,
          68,
          2,
          66,
          83,
          36,
          27,
          426,
          68,
          10,
          37,
          31,
          56,
          45,
          29,
          25,
          78,
          14,
          77,
          79,
          125,
          56,
          26,
          60,
          3,
          104,
          12,
          85,
          60,
          43,
          11,
          22,
          116,
          14,
          44,
          37,
          68,
          9,
          52,
          170,
          127,
          74,
          111,
          32,
          37,
          475,
          32,
          39,
          43,
          53,
          35,
          128,
          47,
          14,
          214,
          31,
          94,
          432,
          209,
          54,
          34,
          62,
          217,
          18,
          58,
          821,
          165,
          62,
          22,
          34,
          8,
          5,
          19,
          60,
          45,
          100,
          97,
          74,
          56,
          76,
          15,
          194,
          53,
          49,
          21,
          27,
          16,
          31,
          69,
          78,
          4,
          116,
          10,
          28,
          80,
          413,
          376,
          62,
          44,
          55,
          31,
          281,
          8,
          16,
          32,
          32,
          14,
          54,
          163,
          13,
          5,
          51,
          36,
          84,
          10,
          10,
          5,
          34,
          552,
          71,
          24,
          69,
          7,
          26,
          19,
          12,
          77,
          15,
          211,
          165,
          25,
          34,
          26,
          84,
          25,
          42,
          36,
          169,
          12,
          9,
          181,
          205,
          21,
          201,
          44,
          254,
          310,
          26,
          81,
          98,
          491,
          92,
          55,
          45,
          32,
          9,
          17,
          9,
          31,
          213,
          77
         ],
         "xaxis": "x",
         "y": [
          2,
          3.9,
          3.6,
          3.2,
          2.5,
          4.1,
          1.9,
          2,
          1.8,
          1.8,
          2,
          2.6,
          1.8,
          4.1,
          4.4,
          3.4,
          3.1,
          1.9,
          4.1,
          3.1,
          3.6,
          2.4,
          2.9,
          2.5,
          3.7,
          3.4,
          3.2,
          2,
          3.5,
          1.9,
          3.9,
          3.3,
          3,
          1.8,
          3.2,
          3.1,
          3.3,
          2.2,
          2.9,
          3.2,
          2.1,
          1.3,
          1.9,
          2.1,
          3.1,
          3.2,
          1.5,
          2.8,
          3.5,
          2.8,
          3.3,
          1.9,
          4.3,
          4.4,
          2.3,
          2.8,
          3.1,
          3.1,
          2.3,
          2,
          1.2,
          3.4,
          2.4,
          3.2,
          2.1,
          4.2,
          2.3,
          4.4,
          3.9,
          2.3,
          3.5,
          2.9,
          2.1,
          3.5,
          2.4,
          2.1,
          2.7,
          2.3,
          3.7,
          2.2,
          3.5,
          3.7,
          4.3,
          2.4,
          3.1,
          3.6,
          4.5,
          3,
          3.4,
          3.5,
          2.3,
          2.3,
          3.5,
          1.8,
          2.1,
          1.8,
          2,
          3.3,
          3.3,
          2.7,
          2.9,
          2.4,
          4.7,
          2.2,
          2.4,
          3.1,
          1.3,
          4,
          4.4,
          3.1,
          3.3,
          3.7,
          2.2,
          3.1,
          3.3,
          2.8,
          3.7,
          2.1,
          1.4,
          3.9,
          3.3,
          4.3,
          2.4,
          4.2,
          4,
          3.9,
          3.7,
          3.6,
          3.8,
          4.4,
          3.4,
          4.1,
          4.1,
          3.5,
          5,
          3.1,
          2,
          2.2,
          2.2,
          1.7,
          2.7,
          2.5,
          1.7,
          3.1,
          3.3,
          3.3,
          2.9,
          3.5,
          3.7,
          2.9,
          3.6,
          4.3,
          2,
          2.8,
          4.1,
          3.4,
          2,
          3.6,
          3.4,
          4.9,
          2.5,
          1.6,
          1.6,
          1.8,
          1.8,
          4.1,
          3.9,
          3.6,
          3.6,
          4.1,
          4,
          3.5,
          4,
          2.2,
          1,
          2.7,
          3.7,
          3.2,
          1.9,
          2.1,
          2.4,
          3.1,
          3.5,
          2.9,
          3.1,
          2.9,
          3,
          1.8,
          2.2,
          1.8,
          3.2,
          3.7,
          2.8,
          1.8,
          3.6,
          3.2,
          2,
          2.6,
          3.5,
          3.4,
          3.3,
          2.6,
          3.5,
          2.8,
          3.1,
          1.4,
          3.5,
          4.4,
          2.8,
          2.8,
          3.4,
          3.6,
          3.6,
          1.9,
          1.7,
          4.3,
          2.5,
          1.9,
          4.1,
          3.1,
          4,
          1.4,
          3,
          1.6,
          1.8,
          3.8,
          2.5,
          3.4,
          1.5,
          2.5,
          1.9,
          4.3,
          2.6,
          2.1,
          3.8,
          3,
          3.3,
          1.8,
          3.2,
          2.1,
          1,
          3.1,
          2.5,
          2,
          3.5,
          3.7,
          3.4,
          1.9,
          1.4,
          1.6,
          2.8,
          4.2,
          3.3,
          3.8,
          3,
          3.8,
          2.8,
          4,
          4.2,
          1.7,
          1.8,
          3.5,
          3.1,
          1.6,
          3.1,
          4.5,
          4.2,
          3.4,
          4.1,
          3.9,
          3.5,
          4,
          2.9,
          3.1,
          4,
          2.8,
          1.8,
          3.1,
          2.7,
          2.3,
          3,
          3.2,
          1.5,
          1.8,
          2,
          1.9,
          3,
          2.6,
          1.7,
          1.9,
          2.9,
          3.6,
          2.8,
          3.2,
          3.4,
          3.9,
          3.6,
          3.2,
          3.7,
          3.8,
          4,
          2.7,
          3.1,
          4,
          4.5,
          1.9,
          3.1,
          2.8,
          3.1,
          2.5,
          3.7
         ],
         "yaxis": "y"
        },
        {
         "hovertemplate": "Check Chain=Not Chain<br>Number of Reviews=%{x}<br>Rating=%{y}<extra></extra>",
         "legendgroup": "Not Chain",
         "marker": {
          "color": "#EF553B",
          "symbol": "circle"
         },
         "mode": "markers",
         "name": "Not Chain",
         "orientation": "v",
         "showlegend": true,
         "type": "scatter",
         "x": [
          16,
          219,
          182,
          281,
          99,
          109,
          199,
          36,
          142,
          60,
          204,
          41,
          61,
          174,
          156,
          41,
          10,
          38,
          39,
          113,
          57,
          68,
          83,
          215,
          18,
          302,
          364,
          665,
          302,
          199,
          90,
          311,
          58,
          211,
          438,
          206,
          538,
          423,
          238,
          317,
          21,
          121,
          72,
          365,
          1016,
          35,
          130,
          45,
          289,
          306,
          241,
          102,
          531,
          12,
          3,
          83,
          2,
          14,
          105,
          32,
          1,
          29,
          243,
          120,
          1,
          2,
          366,
          79,
          629,
          300,
          31,
          142,
          397,
          687,
          51,
          56,
          479,
          1500,
          756,
          18,
          102,
          487,
          7,
          1060,
          91,
          125,
          356,
          112,
          11,
          82,
          158,
          85,
          253,
          97,
          126,
          160,
          399,
          547,
          61,
          209,
          46,
          202,
          81,
          477,
          398,
          218,
          119,
          53,
          120,
          150,
          174,
          492,
          152,
          29,
          8,
          415,
          139,
          17,
          169,
          170,
          84,
          454,
          17,
          4,
          225,
          13,
          17,
          181,
          103,
          95,
          151,
          653,
          8,
          27,
          71,
          31,
          117,
          82,
          28,
          46,
          20,
          7,
          46,
          67,
          70,
          8,
          105,
          237,
          6,
          11,
          51,
          75,
          79,
          78,
          110,
          101,
          67,
          146,
          2,
          441,
          15,
          81,
          37,
          8,
          113,
          12,
          10,
          76,
          161,
          15,
          32,
          73,
          10,
          53,
          172,
          91,
          107,
          24,
          2,
          87,
          678,
          21,
          149,
          1,
          173,
          121,
          827,
          30,
          339,
          6,
          44,
          1,
          195,
          247,
          275,
          2,
          197,
          108,
          31,
          17,
          364,
          498,
          1,
          3,
          215,
          215,
          68,
          14,
          1,
          112,
          59,
          23,
          84,
          375,
          44,
          80,
          2,
          24,
          56,
          35,
          27,
          8,
          211,
          96,
          78,
          3,
          21,
          30,
          59,
          8,
          367,
          16,
          212,
          18,
          426,
          357,
          208,
          28,
          4,
          664,
          66,
          45,
          186,
          652,
          98,
          1015,
          69,
          102,
          179,
          132,
          127,
          343,
          509,
          163,
          93,
          54,
          23,
          135,
          311,
          191,
          74,
          287,
          269,
          280,
          57,
          259,
          90,
          2,
          122,
          190,
          39,
          94,
          86,
          145,
          215,
          390,
          437,
          33,
          26,
          70,
          433,
          215,
          209,
          424,
          193,
          11,
          35,
          43,
          132,
          454,
          447,
          191,
          43,
          409,
          77,
          434,
          61,
          56,
          3,
          116,
          115,
          197,
          288,
          1,
          140,
          28,
          327,
          242,
          16,
          145,
          311,
          34,
          37,
          140,
          88,
          55,
          319,
          213,
          142,
          193,
          49,
          214,
          413,
          74,
          94,
          251,
          297,
          41,
          651,
          30,
          161,
          56,
          91,
          185,
          28,
          344,
          226,
          389,
          105,
          30,
          55,
          13,
          88,
          121,
          45,
          17,
          124,
          75,
          24,
          6,
          214,
          34,
          91,
          70,
          49,
          38,
          41,
          108,
          72,
          214,
          203,
          120,
          57,
          30,
          295,
          340,
          2,
          2,
          20,
          328,
          104,
          80,
          36,
          113,
          8,
          6,
          26,
          17,
          47,
          148,
          16,
          17,
          102,
          4,
          15,
          153,
          167,
          408,
          244,
          141,
          65,
          214,
          5,
          11,
          158,
          61,
          37,
          269,
          249,
          475,
          432,
          46,
          44,
          22,
          108,
          63,
          125,
          149,
          215,
          215,
          241,
          42,
          421,
          35,
          110,
          143,
          606,
          23,
          19,
          281,
          199,
          24,
          20,
          32,
          215,
          215,
          505,
          65,
          729,
          47,
          74,
          15,
          104,
          104,
          280,
          378,
          83,
          203,
          58,
          112,
          88,
          76,
          110
         ],
         "xaxis": "x",
         "y": [
          4.2,
          4.6,
          4.2,
          3.7,
          4.4,
          4.3,
          4.4,
          3.4,
          3.4,
          4.5,
          4.4,
          4.1,
          4.6,
          4.6,
          4.5,
          2.4,
          4.2,
          4,
          3.3,
          3.3,
          3.5,
          2.6,
          2.8,
          3.6,
          3.8,
          3.8,
          4.3,
          4.4,
          4.1,
          4.2,
          3.4,
          4.3,
          2.5,
          3.7,
          4.1,
          3.8,
          4.2,
          4.1,
          3.2,
          3.4,
          4,
          3.6,
          2.9,
          4.1,
          3.9,
          2.9,
          3.9,
          2.3,
          3.6,
          3.4,
          4.2,
          4.5,
          3.6,
          3,
          2,
          3.3,
          3,
          3.4,
          3.9,
          2.6,
          4,
          3.7,
          2.9,
          3.8,
          4,
          3,
          4.3,
          3.9,
          4.3,
          4.5,
          3.5,
          3.5,
          3.8,
          4.2,
          1.1,
          3.4,
          4.5,
          3.9,
          4.2,
          3.8,
          3.9,
          4.4,
          5,
          4.2,
          3.2,
          3.9,
          4.4,
          4.1,
          3.3,
          3.3,
          3.3,
          3.6,
          3.6,
          4.6,
          4,
          4.3,
          3.1,
          4.1,
          4.1,
          4.6,
          3.8,
          3.2,
          3.4,
          4.4,
          4.5,
          4.3,
          4.7,
          3.3,
          3.7,
          4.2,
          3.6,
          4,
          4.1,
          4,
          3.3,
          3.8,
          3.6,
          1.5,
          3.8,
          3.2,
          3.5,
          4.4,
          3.6,
          3.5,
          4.1,
          4.6,
          3.4,
          3.9,
          3.6,
          3.4,
          4,
          3.7,
          3.3,
          3.7,
          3.4,
          4.2,
          4.1,
          4.3,
          4,
          4.5,
          1.9,
          2,
          4.2,
          4.4,
          3.4,
          2.9,
          4.6,
          4.5,
          5,
          4.5,
          4.1,
          4.7,
          4.4,
          4.8,
          3.9,
          3.4,
          4.2,
          4.4,
          4,
          4.4,
          4.4,
          4.2,
          4.6,
          5,
          4.3,
          2.8,
          4.5,
          3.7,
          3.6,
          4.7,
          3.9,
          4,
          4.1,
          4.3,
          4.5,
          3.8,
          4,
          3.3,
          1.5,
          3.7,
          3.9,
          4.4,
          4.3,
          5,
          3.7,
          2.4,
          3.1,
          3.2,
          4,
          4,
          3,
          1,
          3.6,
          4,
          4,
          5,
          3.8,
          3.8,
          2.9,
          4.1,
          3.9,
          4.1,
          1,
          3,
          3.6,
          3.6,
          3.3,
          4.4,
          3,
          4.2,
          3.7,
          4.6,
          3.9,
          3.5,
          4.1,
          4.8,
          5,
          4.8,
          3.7,
          2.1,
          3.3,
          2.8,
          4.1,
          4.4,
          4,
          3.3,
          3,
          3,
          3.7,
          4.4,
          2.3,
          3.6,
          4.1,
          3.9,
          3.8,
          4,
          3.4,
          2.6,
          5,
          4.3,
          2.8,
          3.1,
          3.2,
          3.9,
          3.2,
          4,
          3.8,
          3.2,
          3.7,
          3.4,
          3.2,
          4.3,
          3.7,
          3,
          3.9,
          3.5,
          4.1,
          4.2,
          3.6,
          3.2,
          4.1,
          3.9,
          3.9,
          3.8,
          3.4,
          3.2,
          3.2,
          1,
          3.9,
          4.3,
          3.9,
          3.8,
          3,
          4.4,
          4,
          4.7,
          4.1,
          3.1,
          3.7,
          3.3,
          3.5,
          4.1,
          4.3,
          4,
          4.5,
          2.3,
          3.7,
          4,
          3.3,
          4.3,
          4.2,
          3.7,
          3.1,
          4.4,
          3.6,
          4.4,
          3.8,
          3.5,
          3.3,
          4.4,
          3.5,
          4.5,
          3.8,
          3,
          3.8,
          1.4,
          4.6,
          4.1,
          3.1,
          3.9,
          4.4,
          2.9,
          3.9,
          3.9,
          3.7,
          4.3,
          4.5,
          4.1,
          3.6,
          3.6,
          3.9,
          4.2,
          4.6,
          3.6,
          3.5,
          2.9,
          4.3,
          4.8,
          4.3,
          2.9,
          3.5,
          4.2,
          3,
          4.5,
          3.8,
          4.1,
          4.5,
          4.2,
          4.2,
          2.6,
          4.2,
          4.4,
          3.7,
          4.1,
          4,
          4.1,
          4.2,
          4.5,
          4.2,
          4.8,
          4.8,
          2,
          4.3,
          3.7,
          4.2,
          3,
          3.9,
          4.1,
          4.3,
          3.9,
          3.2,
          4.3,
          4.1,
          4.5,
          4.2,
          4,
          4,
          4,
          3.9,
          3.6,
          2.5,
          3.1,
          3.9,
          4.4,
          3.3,
          4.5,
          4.5,
          3.2,
          3.3,
          4.5,
          3.4,
          3.5,
          4.2,
          4.3,
          3.5,
          4.6,
          4.2,
          4.1,
          4.2,
          3.4,
          3.3,
          4.2,
          1,
          4.4,
          2.4,
          3.6,
          3.6,
          3.9,
          3.5,
          4.1,
          3.4,
          2.9,
          3.4,
          3.7,
          4,
          3.4,
          3.7,
          3.9,
          3.6,
          3.6,
          3.7,
          3.5,
          4.1,
          3.4,
          3.9,
          3.6,
          4.1,
          2.7,
          2.3,
          3.7,
          3.2,
          4.1,
          1.5,
          3.7,
          3.6,
          3.6,
          4,
          3.5,
          4.1,
          2.5,
          4.2,
          3.5,
          3.8,
          4.3,
          3.9,
          3.8,
          4.2,
          4,
          3.5,
          4.1,
          4.7,
          4.1,
          4.2
         ],
         "yaxis": "y"
        }
       ],
       "layout": {
        "legend": {
         "title": {
          "text": "Check Chain"
         },
         "tracegroupgap": 0
        },
        "template": {
         "data": {
          "bar": [
           {
            "error_x": {
             "color": "#2a3f5f"
            },
            "error_y": {
             "color": "#2a3f5f"
            },
            "marker": {
             "line": {
              "color": "#E5ECF6",
              "width": 0.5
             },
             "pattern": {
              "fillmode": "overlay",
              "size": 10,
              "solidity": 0.2
             }
            },
            "type": "bar"
           }
          ],
          "barpolar": [
           {
            "marker": {
             "line": {
              "color": "#E5ECF6",
              "width": 0.5
             },
             "pattern": {
              "fillmode": "overlay",
              "size": 10,
              "solidity": 0.2
             }
            },
            "type": "barpolar"
           }
          ],
          "carpet": [
           {
            "aaxis": {
             "endlinecolor": "#2a3f5f",
             "gridcolor": "white",
             "linecolor": "white",
             "minorgridcolor": "white",
             "startlinecolor": "#2a3f5f"
            },
            "baxis": {
             "endlinecolor": "#2a3f5f",
             "gridcolor": "white",
             "linecolor": "white",
             "minorgridcolor": "white",
             "startlinecolor": "#2a3f5f"
            },
            "type": "carpet"
           }
          ],
          "choropleth": [
           {
            "colorbar": {
             "outlinewidth": 0,
             "ticks": ""
            },
            "type": "choropleth"
           }
          ],
          "contour": [
           {
            "colorbar": {
             "outlinewidth": 0,
             "ticks": ""
            },
            "colorscale": [
             [
              0,
              "#0d0887"
             ],
             [
              0.1111111111111111,
              "#46039f"
             ],
             [
              0.2222222222222222,
              "#7201a8"
             ],
             [
              0.3333333333333333,
              "#9c179e"
             ],
             [
              0.4444444444444444,
              "#bd3786"
             ],
             [
              0.5555555555555556,
              "#d8576b"
             ],
             [
              0.6666666666666666,
              "#ed7953"
             ],
             [
              0.7777777777777778,
              "#fb9f3a"
             ],
             [
              0.8888888888888888,
              "#fdca26"
             ],
             [
              1,
              "#f0f921"
             ]
            ],
            "type": "contour"
           }
          ],
          "contourcarpet": [
           {
            "colorbar": {
             "outlinewidth": 0,
             "ticks": ""
            },
            "type": "contourcarpet"
           }
          ],
          "heatmap": [
           {
            "colorbar": {
             "outlinewidth": 0,
             "ticks": ""
            },
            "colorscale": [
             [
              0,
              "#0d0887"
             ],
             [
              0.1111111111111111,
              "#46039f"
             ],
             [
              0.2222222222222222,
              "#7201a8"
             ],
             [
              0.3333333333333333,
              "#9c179e"
             ],
             [
              0.4444444444444444,
              "#bd3786"
             ],
             [
              0.5555555555555556,
              "#d8576b"
             ],
             [
              0.6666666666666666,
              "#ed7953"
             ],
             [
              0.7777777777777778,
              "#fb9f3a"
             ],
             [
              0.8888888888888888,
              "#fdca26"
             ],
             [
              1,
              "#f0f921"
             ]
            ],
            "type": "heatmap"
           }
          ],
          "heatmapgl": [
           {
            "colorbar": {
             "outlinewidth": 0,
             "ticks": ""
            },
            "colorscale": [
             [
              0,
              "#0d0887"
             ],
             [
              0.1111111111111111,
              "#46039f"
             ],
             [
              0.2222222222222222,
              "#7201a8"
             ],
             [
              0.3333333333333333,
              "#9c179e"
             ],
             [
              0.4444444444444444,
              "#bd3786"
             ],
             [
              0.5555555555555556,
              "#d8576b"
             ],
             [
              0.6666666666666666,
              "#ed7953"
             ],
             [
              0.7777777777777778,
              "#fb9f3a"
             ],
             [
              0.8888888888888888,
              "#fdca26"
             ],
             [
              1,
              "#f0f921"
             ]
            ],
            "type": "heatmapgl"
           }
          ],
          "histogram": [
           {
            "marker": {
             "pattern": {
              "fillmode": "overlay",
              "size": 10,
              "solidity": 0.2
             }
            },
            "type": "histogram"
           }
          ],
          "histogram2d": [
           {
            "colorbar": {
             "outlinewidth": 0,
             "ticks": ""
            },
            "colorscale": [
             [
              0,
              "#0d0887"
             ],
             [
              0.1111111111111111,
              "#46039f"
             ],
             [
              0.2222222222222222,
              "#7201a8"
             ],
             [
              0.3333333333333333,
              "#9c179e"
             ],
             [
              0.4444444444444444,
              "#bd3786"
             ],
             [
              0.5555555555555556,
              "#d8576b"
             ],
             [
              0.6666666666666666,
              "#ed7953"
             ],
             [
              0.7777777777777778,
              "#fb9f3a"
             ],
             [
              0.8888888888888888,
              "#fdca26"
             ],
             [
              1,
              "#f0f921"
             ]
            ],
            "type": "histogram2d"
           }
          ],
          "histogram2dcontour": [
           {
            "colorbar": {
             "outlinewidth": 0,
             "ticks": ""
            },
            "colorscale": [
             [
              0,
              "#0d0887"
             ],
             [
              0.1111111111111111,
              "#46039f"
             ],
             [
              0.2222222222222222,
              "#7201a8"
             ],
             [
              0.3333333333333333,
              "#9c179e"
             ],
             [
              0.4444444444444444,
              "#bd3786"
             ],
             [
              0.5555555555555556,
              "#d8576b"
             ],
             [
              0.6666666666666666,
              "#ed7953"
             ],
             [
              0.7777777777777778,
              "#fb9f3a"
             ],
             [
              0.8888888888888888,
              "#fdca26"
             ],
             [
              1,
              "#f0f921"
             ]
            ],
            "type": "histogram2dcontour"
           }
          ],
          "mesh3d": [
           {
            "colorbar": {
             "outlinewidth": 0,
             "ticks": ""
            },
            "type": "mesh3d"
           }
          ],
          "parcoords": [
           {
            "line": {
             "colorbar": {
              "outlinewidth": 0,
              "ticks": ""
             }
            },
            "type": "parcoords"
           }
          ],
          "pie": [
           {
            "automargin": true,
            "type": "pie"
           }
          ],
          "scatter": [
           {
            "fillpattern": {
             "fillmode": "overlay",
             "size": 10,
             "solidity": 0.2
            },
            "type": "scatter"
           }
          ],
          "scatter3d": [
           {
            "line": {
             "colorbar": {
              "outlinewidth": 0,
              "ticks": ""
             }
            },
            "marker": {
             "colorbar": {
              "outlinewidth": 0,
              "ticks": ""
             }
            },
            "type": "scatter3d"
           }
          ],
          "scattercarpet": [
           {
            "marker": {
             "colorbar": {
              "outlinewidth": 0,
              "ticks": ""
             }
            },
            "type": "scattercarpet"
           }
          ],
          "scattergeo": [
           {
            "marker": {
             "colorbar": {
              "outlinewidth": 0,
              "ticks": ""
             }
            },
            "type": "scattergeo"
           }
          ],
          "scattergl": [
           {
            "marker": {
             "colorbar": {
              "outlinewidth": 0,
              "ticks": ""
             }
            },
            "type": "scattergl"
           }
          ],
          "scattermapbox": [
           {
            "marker": {
             "colorbar": {
              "outlinewidth": 0,
              "ticks": ""
             }
            },
            "type": "scattermapbox"
           }
          ],
          "scatterpolar": [
           {
            "marker": {
             "colorbar": {
              "outlinewidth": 0,
              "ticks": ""
             }
            },
            "type": "scatterpolar"
           }
          ],
          "scatterpolargl": [
           {
            "marker": {
             "colorbar": {
              "outlinewidth": 0,
              "ticks": ""
             }
            },
            "type": "scatterpolargl"
           }
          ],
          "scatterternary": [
           {
            "marker": {
             "colorbar": {
              "outlinewidth": 0,
              "ticks": ""
             }
            },
            "type": "scatterternary"
           }
          ],
          "surface": [
           {
            "colorbar": {
             "outlinewidth": 0,
             "ticks": ""
            },
            "colorscale": [
             [
              0,
              "#0d0887"
             ],
             [
              0.1111111111111111,
              "#46039f"
             ],
             [
              0.2222222222222222,
              "#7201a8"
             ],
             [
              0.3333333333333333,
              "#9c179e"
             ],
             [
              0.4444444444444444,
              "#bd3786"
             ],
             [
              0.5555555555555556,
              "#d8576b"
             ],
             [
              0.6666666666666666,
              "#ed7953"
             ],
             [
              0.7777777777777778,
              "#fb9f3a"
             ],
             [
              0.8888888888888888,
              "#fdca26"
             ],
             [
              1,
              "#f0f921"
             ]
            ],
            "type": "surface"
           }
          ],
          "table": [
           {
            "cells": {
             "fill": {
              "color": "#EBF0F8"
             },
             "line": {
              "color": "white"
             }
            },
            "header": {
             "fill": {
              "color": "#C8D4E3"
             },
             "line": {
              "color": "white"
             }
            },
            "type": "table"
           }
          ]
         },
         "layout": {
          "annotationdefaults": {
           "arrowcolor": "#2a3f5f",
           "arrowhead": 0,
           "arrowwidth": 1
          },
          "autotypenumbers": "strict",
          "coloraxis": {
           "colorbar": {
            "outlinewidth": 0,
            "ticks": ""
           }
          },
          "colorscale": {
           "diverging": [
            [
             0,
             "#8e0152"
            ],
            [
             0.1,
             "#c51b7d"
            ],
            [
             0.2,
             "#de77ae"
            ],
            [
             0.3,
             "#f1b6da"
            ],
            [
             0.4,
             "#fde0ef"
            ],
            [
             0.5,
             "#f7f7f7"
            ],
            [
             0.6,
             "#e6f5d0"
            ],
            [
             0.7,
             "#b8e186"
            ],
            [
             0.8,
             "#7fbc41"
            ],
            [
             0.9,
             "#4d9221"
            ],
            [
             1,
             "#276419"
            ]
           ],
           "sequential": [
            [
             0,
             "#0d0887"
            ],
            [
             0.1111111111111111,
             "#46039f"
            ],
            [
             0.2222222222222222,
             "#7201a8"
            ],
            [
             0.3333333333333333,
             "#9c179e"
            ],
            [
             0.4444444444444444,
             "#bd3786"
            ],
            [
             0.5555555555555556,
             "#d8576b"
            ],
            [
             0.6666666666666666,
             "#ed7953"
            ],
            [
             0.7777777777777778,
             "#fb9f3a"
            ],
            [
             0.8888888888888888,
             "#fdca26"
            ],
            [
             1,
             "#f0f921"
            ]
           ],
           "sequentialminus": [
            [
             0,
             "#0d0887"
            ],
            [
             0.1111111111111111,
             "#46039f"
            ],
            [
             0.2222222222222222,
             "#7201a8"
            ],
            [
             0.3333333333333333,
             "#9c179e"
            ],
            [
             0.4444444444444444,
             "#bd3786"
            ],
            [
             0.5555555555555556,
             "#d8576b"
            ],
            [
             0.6666666666666666,
             "#ed7953"
            ],
            [
             0.7777777777777778,
             "#fb9f3a"
            ],
            [
             0.8888888888888888,
             "#fdca26"
            ],
            [
             1,
             "#f0f921"
            ]
           ]
          },
          "colorway": [
           "#636efa",
           "#EF553B",
           "#00cc96",
           "#ab63fa",
           "#FFA15A",
           "#19d3f3",
           "#FF6692",
           "#B6E880",
           "#FF97FF",
           "#FECB52"
          ],
          "font": {
           "color": "#2a3f5f"
          },
          "geo": {
           "bgcolor": "white",
           "lakecolor": "white",
           "landcolor": "#E5ECF6",
           "showlakes": true,
           "showland": true,
           "subunitcolor": "white"
          },
          "hoverlabel": {
           "align": "left"
          },
          "hovermode": "closest",
          "mapbox": {
           "style": "light"
          },
          "paper_bgcolor": "white",
          "plot_bgcolor": "#E5ECF6",
          "polar": {
           "angularaxis": {
            "gridcolor": "white",
            "linecolor": "white",
            "ticks": ""
           },
           "bgcolor": "#E5ECF6",
           "radialaxis": {
            "gridcolor": "white",
            "linecolor": "white",
            "ticks": ""
           }
          },
          "scene": {
           "xaxis": {
            "backgroundcolor": "#E5ECF6",
            "gridcolor": "white",
            "gridwidth": 2,
            "linecolor": "white",
            "showbackground": true,
            "ticks": "",
            "zerolinecolor": "white"
           },
           "yaxis": {
            "backgroundcolor": "#E5ECF6",
            "gridcolor": "white",
            "gridwidth": 2,
            "linecolor": "white",
            "showbackground": true,
            "ticks": "",
            "zerolinecolor": "white"
           },
           "zaxis": {
            "backgroundcolor": "#E5ECF6",
            "gridcolor": "white",
            "gridwidth": 2,
            "linecolor": "white",
            "showbackground": true,
            "ticks": "",
            "zerolinecolor": "white"
           }
          },
          "shapedefaults": {
           "line": {
            "color": "#2a3f5f"
           }
          },
          "ternary": {
           "aaxis": {
            "gridcolor": "white",
            "linecolor": "white",
            "ticks": ""
           },
           "baxis": {
            "gridcolor": "white",
            "linecolor": "white",
            "ticks": ""
           },
           "bgcolor": "#E5ECF6",
           "caxis": {
            "gridcolor": "white",
            "linecolor": "white",
            "ticks": ""
           }
          },
          "title": {
           "x": 0.05
          },
          "xaxis": {
           "automargin": true,
           "gridcolor": "white",
           "linecolor": "white",
           "ticks": "",
           "title": {
            "standoff": 15
           },
           "zerolinecolor": "white",
           "zerolinewidth": 2
          },
          "yaxis": {
           "automargin": true,
           "gridcolor": "white",
           "linecolor": "white",
           "ticks": "",
           "title": {
            "standoff": 15
           },
           "zerolinecolor": "white",
           "zerolinewidth": 2
          }
         }
        },
        "title": {
         "text": "Rating vs Review Count by Chain Status"
        },
        "xaxis": {
         "anchor": "y",
         "domain": [
          0,
          1
         ],
         "title": {
          "text": "Number of Reviews"
         }
        },
        "yaxis": {
         "anchor": "x",
         "domain": [
          0,
          1
         ],
         "title": {
          "text": "Rating"
         }
        }
       }
      }
     },
     "metadata": {},
     "output_type": "display_data"
    },
    {
     "data": {
      "application/vnd.plotly.v1+json": {
       "config": {
        "plotlyServerURL": "https://plot.ly"
       },
       "data": [
        {
         "alignmentgroup": "True",
         "hovertemplate": "Check Chain=%{x}<br>Rating=%{y}<extra></extra>",
         "legendgroup": "",
         "marker": {
          "color": "#636efa"
         },
         "name": "",
         "notched": false,
         "offsetgroup": "",
         "orientation": "v",
         "showlegend": false,
         "type": "box",
         "x": [
          "Chain",
          "Not Chain",
          "Not Chain",
          "Chain",
          "Chain",
          "Chain",
          "Chain",
          "Not Chain",
          "Chain",
          "Chain",
          "Not Chain",
          "Not Chain",
          "Chain",
          "Chain",
          "Not Chain",
          "Not Chain",
          "Not Chain",
          "Not Chain",
          "Not Chain",
          "Not Chain",
          "Chain",
          "Chain",
          "Chain",
          "Chain",
          "Chain",
          "Chain",
          "Not Chain",
          "Chain",
          "Not Chain",
          "Chain",
          "Not Chain",
          "Not Chain",
          "Chain",
          "Chain",
          "Not Chain",
          "Not Chain",
          "Chain",
          "Chain",
          "Not Chain",
          "Chain",
          "Not Chain",
          "Not Chain",
          "Not Chain",
          "Not Chain",
          "Not Chain",
          "Not Chain",
          "Not Chain",
          "Not Chain",
          "Not Chain",
          "Not Chain",
          "Not Chain",
          "Chain",
          "Not Chain",
          "Chain",
          "Not Chain",
          "Chain",
          "Chain",
          "Chain",
          "Chain",
          "Not Chain",
          "Chain",
          "Not Chain",
          "Chain",
          "Chain",
          "Chain",
          "Chain",
          "Not Chain",
          "Not Chain",
          "Chain",
          "Chain",
          "Not Chain",
          "Chain",
          "Chain",
          "Chain",
          "Not Chain",
          "Not Chain",
          "Not Chain",
          "Not Chain",
          "Chain",
          "Not Chain",
          "Not Chain",
          "Not Chain",
          "Not Chain",
          "Not Chain",
          "Chain",
          "Not Chain",
          "Chain",
          "Not Chain",
          "Chain",
          "Chain",
          "Chain",
          "Chain",
          "Chain",
          "Not Chain",
          "Not Chain",
          "Not Chain",
          "Not Chain",
          "Chain",
          "Not Chain",
          "Not Chain",
          "Chain",
          "Chain",
          "Not Chain",
          "Not Chain",
          "Not Chain",
          "Not Chain",
          "Not Chain",
          "Chain",
          "Not Chain",
          "Not Chain",
          "Not Chain",
          "Chain",
          "Not Chain",
          "Chain",
          "Chain",
          "Chain",
          "Chain",
          "Chain",
          "Not Chain",
          "Chain",
          "Chain",
          "Not Chain",
          "Chain",
          "Chain",
          "Chain",
          "Not Chain",
          "Chain",
          "Not Chain",
          "Not Chain",
          "Not Chain",
          "Chain",
          "Not Chain",
          "Not Chain",
          "Not Chain",
          "Not Chain",
          "Not Chain",
          "Chain",
          "Not Chain",
          "Chain",
          "Not Chain",
          "Not Chain",
          "Chain",
          "Not Chain",
          "Not Chain",
          "Chain",
          "Chain",
          "Not Chain",
          "Not Chain",
          "Not Chain",
          "Not Chain",
          "Not Chain",
          "Not Chain",
          "Chain",
          "Not Chain",
          "Chain",
          "Not Chain",
          "Not Chain",
          "Chain",
          "Not Chain",
          "Not Chain",
          "Not Chain",
          "Not Chain",
          "Not Chain",
          "Not Chain",
          "Chain",
          "Chain",
          "Chain",
          "Chain",
          "Not Chain",
          "Chain",
          "Chain",
          "Chain",
          "Chain",
          "Chain",
          "Not Chain",
          "Chain",
          "Not Chain",
          "Not Chain",
          "Chain",
          "Chain",
          "Not Chain",
          "Not Chain",
          "Chain",
          "Not Chain",
          "Chain",
          "Not Chain",
          "Not Chain",
          "Not Chain",
          "Not Chain",
          "Not Chain",
          "Not Chain",
          "Not Chain",
          "Not Chain",
          "Not Chain",
          "Not Chain",
          "Chain",
          "Chain",
          "Chain",
          "Not Chain",
          "Chain",
          "Not Chain",
          "Chain",
          "Chain",
          "Not Chain",
          "Not Chain",
          "Not Chain",
          "Not Chain",
          "Not Chain",
          "Not Chain",
          "Not Chain",
          "Not Chain",
          "Not Chain",
          "Chain",
          "Chain",
          "Chain",
          "Chain",
          "Chain",
          "Not Chain",
          "Not Chain",
          "Not Chain",
          "Not Chain",
          "Chain",
          "Chain",
          "Not Chain",
          "Not Chain",
          "Chain",
          "Not Chain",
          "Not Chain",
          "Chain",
          "Not Chain",
          "Not Chain",
          "Not Chain",
          "Chain",
          "Not Chain",
          "Not Chain",
          "Not Chain",
          "Chain",
          "Chain",
          "Chain",
          "Not Chain",
          "Chain",
          "Chain",
          "Not Chain",
          "Not Chain",
          "Not Chain",
          "Not Chain",
          "Chain",
          "Not Chain",
          "Not Chain",
          "Chain",
          "Not Chain",
          "Chain",
          "Not Chain",
          "Not Chain",
          "Not Chain",
          "Chain",
          "Chain",
          "Not Chain",
          "Not Chain",
          "Not Chain",
          "Chain",
          "Not Chain",
          "Not Chain",
          "Chain",
          "Not Chain",
          "Not Chain",
          "Chain",
          "Chain",
          "Chain",
          "Chain",
          "Chain",
          "Chain",
          "Chain",
          "Not Chain",
          "Chain",
          "Chain",
          "Chain",
          "Not Chain",
          "Not Chain",
          "Chain",
          "Not Chain",
          "Not Chain",
          "Chain",
          "Not Chain",
          "Not Chain",
          "Not Chain",
          "Not Chain",
          "Chain",
          "Not Chain",
          "Not Chain",
          "Not Chain",
          "Chain",
          "Chain",
          "Not Chain",
          "Not Chain",
          "Not Chain",
          "Chain",
          "Chain",
          "Not Chain",
          "Not Chain",
          "Not Chain",
          "Chain",
          "Chain",
          "Not Chain",
          "Chain",
          "Not Chain",
          "Not Chain",
          "Not Chain",
          "Chain",
          "Not Chain",
          "Not Chain",
          "Not Chain",
          "Not Chain",
          "Not Chain",
          "Not Chain",
          "Not Chain",
          "Not Chain",
          "Chain",
          "Not Chain",
          "Chain",
          "Not Chain",
          "Not Chain",
          "Chain",
          "Not Chain",
          "Chain",
          "Not Chain",
          "Not Chain",
          "Not Chain",
          "Chain",
          "Not Chain",
          "Not Chain",
          "Not Chain",
          "Chain",
          "Not Chain",
          "Not Chain",
          "Chain",
          "Chain",
          "Chain",
          "Chain",
          "Not Chain",
          "Chain",
          "Not Chain",
          "Not Chain",
          "Not Chain",
          "Not Chain",
          "Chain",
          "Chain",
          "Not Chain",
          "Not Chain",
          "Chain",
          "Not Chain",
          "Not Chain",
          "Not Chain",
          "Not Chain",
          "Chain",
          "Not Chain",
          "Not Chain",
          "Not Chain",
          "Chain",
          "Chain",
          "Chain",
          "Not Chain",
          "Not Chain",
          "Not Chain",
          "Not Chain",
          "Not Chain",
          "Chain",
          "Not Chain",
          "Chain",
          "Chain",
          "Not Chain",
          "Chain",
          "Chain",
          "Not Chain",
          "Chain",
          "Not Chain",
          "Chain",
          "Chain",
          "Chain",
          "Not Chain",
          "Chain",
          "Chain",
          "Chain",
          "Chain",
          "Chain",
          "Not Chain",
          "Not Chain",
          "Not Chain",
          "Not Chain",
          "Not Chain",
          "Chain",
          "Chain",
          "Not Chain",
          "Chain",
          "Chain",
          "Chain",
          "Not Chain",
          "Chain",
          "Chain",
          "Chain",
          "Not Chain",
          "Not Chain",
          "Chain",
          "Not Chain",
          "Chain",
          "Not Chain",
          "Not Chain",
          "Chain",
          "Not Chain",
          "Not Chain",
          "Chain",
          "Chain",
          "Chain",
          "Not Chain",
          "Chain",
          "Not Chain",
          "Chain",
          "Chain",
          "Chain",
          "Not Chain",
          "Chain",
          "Not Chain",
          "Chain",
          "Chain",
          "Not Chain",
          "Not Chain",
          "Not Chain",
          "Not Chain",
          "Not Chain",
          "Chain",
          "Chain",
          "Not Chain",
          "Chain",
          "Chain",
          "Not Chain",
          "Chain",
          "Chain",
          "Chain",
          "Chain",
          "Not Chain",
          "Chain",
          "Not Chain",
          "Chain",
          "Chain",
          "Not Chain",
          "Not Chain",
          "Not Chain",
          "Not Chain",
          "Chain",
          "Not Chain",
          "Chain",
          "Chain",
          "Not Chain",
          "Not Chain",
          "Chain",
          "Not Chain",
          "Not Chain",
          "Not Chain",
          "Chain",
          "Not Chain",
          "Not Chain",
          "Not Chain",
          "Not Chain",
          "Not Chain",
          "Not Chain",
          "Not Chain",
          "Chain",
          "Chain",
          "Chain",
          "Not Chain",
          "Not Chain",
          "Not Chain",
          "Not Chain",
          "Not Chain",
          "Not Chain",
          "Not Chain",
          "Not Chain",
          "Not Chain",
          "Not Chain",
          "Not Chain",
          "Chain",
          "Not Chain",
          "Not Chain",
          "Not Chain",
          "Not Chain",
          "Chain",
          "Not Chain",
          "Not Chain",
          "Chain",
          "Chain",
          "Chain",
          "Chain",
          "Not Chain",
          "Not Chain",
          "Not Chain",
          "Chain",
          "Chain",
          "Chain",
          "Not Chain",
          "Not Chain",
          "Not Chain",
          "Chain",
          "Not Chain",
          "Not Chain",
          "Chain",
          "Not Chain",
          "Not Chain",
          "Chain",
          "Chain",
          "Not Chain",
          "Not Chain",
          "Not Chain",
          "Chain",
          "Chain",
          "Not Chain",
          "Chain",
          "Not Chain",
          "Chain",
          "Not Chain",
          "Not Chain",
          "Not Chain",
          "Not Chain",
          "Chain",
          "Chain",
          "Chain",
          "Chain",
          "Not Chain",
          "Chain",
          "Not Chain",
          "Chain",
          "Not Chain",
          "Not Chain",
          "Not Chain",
          "Not Chain",
          "Not Chain",
          "Not Chain",
          "Chain",
          "Not Chain",
          "Not Chain",
          "Not Chain",
          "Chain",
          "Not Chain",
          "Not Chain",
          "Chain",
          "Not Chain",
          "Not Chain",
          "Chain",
          "Chain",
          "Chain",
          "Chain",
          "Chain",
          "Not Chain",
          "Not Chain",
          "Chain",
          "Not Chain",
          "Not Chain",
          "Chain",
          "Not Chain",
          "Not Chain",
          "Chain",
          "Chain",
          "Not Chain",
          "Chain",
          "Not Chain",
          "Not Chain",
          "Chain",
          "Not Chain",
          "Chain",
          "Chain",
          "Not Chain",
          "Not Chain",
          "Chain",
          "Not Chain",
          "Chain",
          "Not Chain",
          "Chain",
          "Not Chain",
          "Not Chain",
          "Not Chain",
          "Not Chain",
          "Chain",
          "Chain",
          "Not Chain",
          "Chain",
          "Not Chain",
          "Not Chain",
          "Not Chain",
          "Not Chain",
          "Not Chain",
          "Chain",
          "Not Chain",
          "Not Chain",
          "Chain",
          "Not Chain",
          "Chain",
          "Chain",
          "Chain",
          "Not Chain",
          "Not Chain",
          "Not Chain",
          "Chain",
          "Chain",
          "Chain",
          "Not Chain",
          "Chain",
          "Not Chain",
          "Not Chain",
          "Not Chain",
          "Not Chain",
          "Not Chain",
          "Not Chain",
          "Not Chain",
          "Not Chain",
          "Chain",
          "Not Chain",
          "Not Chain",
          "Chain",
          "Not Chain",
          "Not Chain",
          "Not Chain",
          "Not Chain",
          "Not Chain",
          "Not Chain",
          "Not Chain",
          "Not Chain",
          "Not Chain",
          "Not Chain",
          "Not Chain",
          "Chain",
          "Not Chain",
          "Not Chain",
          "Not Chain",
          "Not Chain",
          "Not Chain",
          "Not Chain",
          "Not Chain",
          "Not Chain",
          "Not Chain",
          "Not Chain",
          "Chain",
          "Not Chain",
          "Chain",
          "Not Chain",
          "Chain",
          "Chain",
          "Not Chain",
          "Not Chain",
          "Not Chain",
          "Not Chain",
          "Not Chain",
          "Chain",
          "Not Chain",
          "Not Chain",
          "Chain",
          "Chain",
          "Chain",
          "Not Chain",
          "Chain",
          "Not Chain",
          "Not Chain",
          "Not Chain",
          "Chain",
          "Not Chain",
          "Chain",
          "Chain",
          "Chain",
          "Chain",
          "Not Chain",
          "Chain",
          "Not Chain",
          "Chain",
          "Chain",
          "Chain",
          "Not Chain",
          "Not Chain",
          "Not Chain",
          "Not Chain",
          "Chain",
          "Not Chain",
          "Not Chain",
          "Chain",
          "Not Chain",
          "Not Chain",
          "Chain",
          "Chain",
          "Not Chain",
          "Not Chain",
          "Not Chain",
          "Chain",
          "Not Chain",
          "Not Chain",
          "Chain",
          "Not Chain",
          "Not Chain",
          "Not Chain",
          "Not Chain",
          "Not Chain",
          "Not Chain",
          "Not Chain",
          "Chain",
          "Chain",
          "Chain",
          "Chain",
          "Not Chain",
          "Chain",
          "Chain",
          "Not Chain",
          "Not Chain",
          "Not Chain",
          "Not Chain",
          "Chain",
          "Chain",
          "Not Chain",
          "Chain",
          "Not Chain",
          "Not Chain",
          "Not Chain",
          "Chain",
          "Not Chain",
          "Chain",
          "Chain",
          "Not Chain",
          "Not Chain",
          "Not Chain",
          "Not Chain",
          "Not Chain",
          "Chain",
          "Not Chain",
          "Not Chain",
          "Not Chain",
          "Not Chain",
          "Not Chain",
          "Not Chain",
          "Chain",
          "Chain",
          "Chain",
          "Not Chain",
          "Chain",
          "Chain",
          "Not Chain",
          "Chain",
          "Chain",
          "Chain",
          "Not Chain",
          "Not Chain",
          "Not Chain",
          "Not Chain",
          "Not Chain",
          "Chain",
          "Not Chain",
          "Not Chain",
          "Chain",
          "Chain",
          "Not Chain"
         ],
         "x0": " ",
         "xaxis": "x",
         "y": [
          2,
          4.2,
          4.6,
          3.9,
          3.6,
          3.2,
          2.5,
          4.2,
          4.1,
          1.9,
          3.7,
          4.4,
          2,
          1.8,
          4.3,
          4.4,
          3.4,
          3.4,
          4.5,
          4.4,
          1.8,
          2,
          2.6,
          1.8,
          4.1,
          4.4,
          4.1,
          3.4,
          4.6,
          3.1,
          4.6,
          4.5,
          1.9,
          4.1,
          2.4,
          4.2,
          3.1,
          3.6,
          4,
          2.4,
          3.3,
          3.3,
          3.5,
          2.6,
          2.8,
          3.6,
          3.8,
          3.8,
          4.3,
          4.4,
          4.1,
          2.9,
          4.2,
          2.5,
          3.4,
          3.7,
          3.4,
          3.2,
          2,
          4.3,
          3.5,
          2.5,
          1.9,
          3.9,
          3.3,
          3,
          3.7,
          4.1,
          1.8,
          3.2,
          3.8,
          3.1,
          3.3,
          2.2,
          4.2,
          4.1,
          3.2,
          3.4,
          2.9,
          4,
          3.6,
          2.9,
          4.1,
          3.9,
          3.2,
          2.9,
          2.1,
          3.9,
          1.3,
          1.9,
          2.1,
          3.1,
          3.2,
          2.3,
          3.6,
          3.4,
          4.2,
          1.5,
          4.5,
          3.6,
          2.8,
          3.5,
          3,
          2,
          3.3,
          3,
          3.4,
          2.8,
          3.9,
          2.6,
          4,
          3.3,
          3.7,
          1.9,
          4.3,
          4.4,
          2.3,
          2.8,
          2.9,
          3.1,
          3.1,
          3.8,
          2.3,
          2,
          1.2,
          4,
          3.4,
          3,
          4.3,
          3.9,
          2.4,
          4.3,
          4.5,
          3.5,
          3.5,
          3.8,
          3.2,
          4.2,
          2.1,
          1.1,
          3.4,
          4.2,
          4.5,
          3.9,
          2.3,
          4.4,
          4.2,
          3.8,
          3.9,
          4.4,
          5,
          4.2,
          3.9,
          3.2,
          2.3,
          3.9,
          4.4,
          3.5,
          4.1,
          3.3,
          3.3,
          3.3,
          3.6,
          3.6,
          2.9,
          2.1,
          3.5,
          2.4,
          4.6,
          2.1,
          2.7,
          2.3,
          3.7,
          2.2,
          4,
          3.5,
          4.3,
          3.1,
          3.7,
          4.3,
          4.1,
          4.1,
          2.4,
          4.6,
          3.1,
          3.8,
          3.2,
          3.4,
          4.4,
          4.5,
          4.3,
          4.7,
          3.3,
          3.7,
          4.2,
          3.6,
          4.5,
          3,
          3.6,
          3.4,
          4,
          3.5,
          2.3,
          4.1,
          4,
          3.3,
          3.8,
          3.6,
          1.5,
          3.8,
          3.2,
          3.5,
          2.3,
          3.5,
          1.8,
          2.1,
          1.8,
          4.4,
          3.6,
          3.5,
          4.1,
          2,
          3.3,
          4.6,
          3.4,
          3.3,
          3.9,
          3.6,
          2.7,
          3.4,
          4,
          3.7,
          2.9,
          3.3,
          3.7,
          3.4,
          2.4,
          4.7,
          2.2,
          4.2,
          2.4,
          3.1,
          4.1,
          4.3,
          4,
          4.5,
          1.3,
          1.9,
          2,
          4,
          4.2,
          4.4,
          4.4,
          3.4,
          2.9,
          3.1,
          3.3,
          4.6,
          4.5,
          5,
          3.7,
          4.5,
          4.1,
          2.2,
          4.7,
          4.4,
          3.1,
          3.3,
          2.8,
          3.7,
          2.1,
          1.4,
          3.9,
          4.8,
          3.3,
          4.3,
          2.4,
          3.9,
          3.4,
          4.2,
          4.2,
          4.4,
          4,
          4,
          4.4,
          4.4,
          4.2,
          3.9,
          4.6,
          5,
          4.3,
          3.7,
          3.6,
          2.8,
          4.5,
          3.7,
          3.8,
          4.4,
          3.6,
          4.7,
          3.9,
          3.4,
          4.1,
          4,
          4.1,
          4.1,
          4.3,
          4.5,
          3.5,
          3.8,
          4,
          3.3,
          1.5,
          3.7,
          3.9,
          4.4,
          4.3,
          5,
          5,
          3.1,
          3.7,
          2.4,
          2,
          3.1,
          2.2,
          3.2,
          4,
          4,
          2.2,
          3,
          1,
          3.6,
          1.7,
          4,
          4,
          2.7,
          2.5,
          1.7,
          3.1,
          5,
          3.3,
          3.8,
          3.8,
          2.9,
          4.1,
          3.3,
          2.9,
          3.9,
          4.1,
          3.5,
          1,
          3,
          3.6,
          3.6,
          3.7,
          3.3,
          4.4,
          3,
          2.9,
          3.6,
          4.3,
          4.2,
          3.7,
          4.6,
          3.9,
          3.5,
          2,
          4.1,
          2.8,
          4.1,
          4.8,
          3.4,
          2,
          5,
          3.6,
          4.8,
          3.4,
          4.9,
          2.5,
          3.7,
          1.6,
          1.6,
          1.8,
          1.8,
          4.1,
          2.1,
          3.3,
          2.8,
          4.1,
          4.4,
          3.9,
          3.6,
          4,
          3.6,
          4.1,
          4,
          3.3,
          3.5,
          4,
          2.2,
          3,
          3,
          1,
          3.7,
          2.7,
          4.4,
          2.3,
          3.7,
          3.6,
          4.1,
          3.2,
          1.9,
          2.1,
          3.9,
          2.4,
          3.8,
          3.1,
          3.5,
          2.9,
          4,
          3.1,
          3.4,
          2.9,
          3,
          2.6,
          5,
          4.3,
          2.8,
          3.1,
          1.8,
          2.2,
          3.2,
          1.8,
          3.2,
          3.9,
          3.7,
          2.8,
          1.8,
          3.6,
          3.2,
          3.2,
          4,
          2,
          2.6,
          3.8,
          3.2,
          3.7,
          3.4,
          3.5,
          3.2,
          3.4,
          3.3,
          4.3,
          3.7,
          2.6,
          3,
          3.9,
          3.5,
          3.5,
          4.1,
          4.2,
          3.6,
          3.2,
          4.1,
          3.9,
          3.9,
          2.8,
          3.1,
          1.4,
          3.8,
          3.4,
          3.2,
          3.2,
          1,
          3.9,
          4.3,
          3.9,
          3.8,
          3,
          4.4,
          3.5,
          4,
          4.7,
          4.1,
          3.1,
          4.4,
          3.7,
          3.3,
          2.8,
          2.8,
          3.4,
          3.6,
          3.5,
          4.1,
          4.3,
          3.6,
          1.9,
          1.7,
          4,
          4.5,
          2.3,
          4.3,
          3.7,
          4,
          2.5,
          3.3,
          4.3,
          1.9,
          4.1,
          4.2,
          3.7,
          3.1,
          3.1,
          4,
          4.4,
          1.4,
          3.6,
          3,
          4.4,
          3.8,
          3.5,
          3.3,
          1.6,
          1.8,
          3.8,
          2.5,
          4.4,
          3.4,
          3.5,
          1.5,
          4.5,
          3.8,
          3,
          3.8,
          1.4,
          4.6,
          2.5,
          4.1,
          3.1,
          3.9,
          1.9,
          4.4,
          2.9,
          4.3,
          3.9,
          3.9,
          2.6,
          2.1,
          3.8,
          3,
          3.3,
          3.7,
          4.3,
          1.8,
          4.5,
          4.1,
          3.2,
          3.6,
          3.6,
          2.1,
          1,
          3.9,
          3.1,
          4.2,
          4.6,
          2.5,
          3.6,
          2,
          3.5,
          3.5,
          2.9,
          3.7,
          4.3,
          3.4,
          4.8,
          1.9,
          4.3,
          2.9,
          3.5,
          4.2,
          1.4,
          1.6,
          3,
          2.8,
          4.5,
          3.8,
          4.1,
          4.5,
          4.2,
          4.2,
          4.2,
          2.6,
          3.3,
          4.2,
          3.8,
          3,
          3.8,
          4.4,
          3.7,
          4.1,
          2.8,
          4,
          4.2,
          4,
          1.7,
          4.1,
          4.2,
          4.5,
          4.2,
          4.8,
          4.8,
          2,
          4.3,
          1.8,
          3.7,
          4.2,
          3.5,
          3,
          3.9,
          4.1,
          4.3,
          3.9,
          3.2,
          4.3,
          4.1,
          4.5,
          4.2,
          4,
          3.1,
          4,
          4,
          3.9,
          3.6,
          2.5,
          3.1,
          3.9,
          4.4,
          3.3,
          4.5,
          1.6,
          4.5,
          3.1,
          3.2,
          4.5,
          4.2,
          3.3,
          4.5,
          3.4,
          3.5,
          4.2,
          3.4,
          4.3,
          3.5,
          4.1,
          3.9,
          3.5,
          4.6,
          4,
          4.2,
          4.1,
          4.2,
          2.9,
          3.4,
          3.1,
          4,
          2.8,
          1.8,
          3.3,
          3.1,
          4.2,
          2.7,
          2.3,
          3,
          1,
          4.4,
          2.4,
          3.6,
          3.2,
          3.6,
          3.9,
          1.5,
          3.5,
          4.1,
          1.8,
          2,
          3.4,
          2.9,
          3.4,
          1.9,
          3.7,
          4,
          3,
          3.4,
          3.7,
          3.9,
          3.6,
          3.6,
          3.7,
          3.5,
          2.6,
          1.7,
          1.9,
          2.9,
          4.1,
          3.6,
          2.8,
          3.4,
          3.9,
          3.6,
          4.1,
          3.2,
          3.4,
          2.7,
          3.9,
          2.3,
          3.7,
          3.2,
          3.6,
          4.1,
          3.2,
          3.7,
          1.5,
          3.7,
          3.6,
          3.6,
          4,
          3.8,
          3.5,
          4.1,
          2.5,
          4.2,
          3.5,
          3.8,
          4,
          2.7,
          3.1,
          4.3,
          4,
          4.5,
          3.9,
          1.9,
          3.1,
          2.8,
          3.8,
          4.2,
          4,
          3.5,
          4.1,
          3.1,
          4.7,
          4.1,
          2.5,
          3.7,
          4.2
         ],
         "y0": " ",
         "yaxis": "y"
        }
       ],
       "layout": {
        "boxmode": "group",
        "legend": {
         "tracegroupgap": 0
        },
        "template": {
         "data": {
          "bar": [
           {
            "error_x": {
             "color": "#2a3f5f"
            },
            "error_y": {
             "color": "#2a3f5f"
            },
            "marker": {
             "line": {
              "color": "#E5ECF6",
              "width": 0.5
             },
             "pattern": {
              "fillmode": "overlay",
              "size": 10,
              "solidity": 0.2
             }
            },
            "type": "bar"
           }
          ],
          "barpolar": [
           {
            "marker": {
             "line": {
              "color": "#E5ECF6",
              "width": 0.5
             },
             "pattern": {
              "fillmode": "overlay",
              "size": 10,
              "solidity": 0.2
             }
            },
            "type": "barpolar"
           }
          ],
          "carpet": [
           {
            "aaxis": {
             "endlinecolor": "#2a3f5f",
             "gridcolor": "white",
             "linecolor": "white",
             "minorgridcolor": "white",
             "startlinecolor": "#2a3f5f"
            },
            "baxis": {
             "endlinecolor": "#2a3f5f",
             "gridcolor": "white",
             "linecolor": "white",
             "minorgridcolor": "white",
             "startlinecolor": "#2a3f5f"
            },
            "type": "carpet"
           }
          ],
          "choropleth": [
           {
            "colorbar": {
             "outlinewidth": 0,
             "ticks": ""
            },
            "type": "choropleth"
           }
          ],
          "contour": [
           {
            "colorbar": {
             "outlinewidth": 0,
             "ticks": ""
            },
            "colorscale": [
             [
              0,
              "#0d0887"
             ],
             [
              0.1111111111111111,
              "#46039f"
             ],
             [
              0.2222222222222222,
              "#7201a8"
             ],
             [
              0.3333333333333333,
              "#9c179e"
             ],
             [
              0.4444444444444444,
              "#bd3786"
             ],
             [
              0.5555555555555556,
              "#d8576b"
             ],
             [
              0.6666666666666666,
              "#ed7953"
             ],
             [
              0.7777777777777778,
              "#fb9f3a"
             ],
             [
              0.8888888888888888,
              "#fdca26"
             ],
             [
              1,
              "#f0f921"
             ]
            ],
            "type": "contour"
           }
          ],
          "contourcarpet": [
           {
            "colorbar": {
             "outlinewidth": 0,
             "ticks": ""
            },
            "type": "contourcarpet"
           }
          ],
          "heatmap": [
           {
            "colorbar": {
             "outlinewidth": 0,
             "ticks": ""
            },
            "colorscale": [
             [
              0,
              "#0d0887"
             ],
             [
              0.1111111111111111,
              "#46039f"
             ],
             [
              0.2222222222222222,
              "#7201a8"
             ],
             [
              0.3333333333333333,
              "#9c179e"
             ],
             [
              0.4444444444444444,
              "#bd3786"
             ],
             [
              0.5555555555555556,
              "#d8576b"
             ],
             [
              0.6666666666666666,
              "#ed7953"
             ],
             [
              0.7777777777777778,
              "#fb9f3a"
             ],
             [
              0.8888888888888888,
              "#fdca26"
             ],
             [
              1,
              "#f0f921"
             ]
            ],
            "type": "heatmap"
           }
          ],
          "heatmapgl": [
           {
            "colorbar": {
             "outlinewidth": 0,
             "ticks": ""
            },
            "colorscale": [
             [
              0,
              "#0d0887"
             ],
             [
              0.1111111111111111,
              "#46039f"
             ],
             [
              0.2222222222222222,
              "#7201a8"
             ],
             [
              0.3333333333333333,
              "#9c179e"
             ],
             [
              0.4444444444444444,
              "#bd3786"
             ],
             [
              0.5555555555555556,
              "#d8576b"
             ],
             [
              0.6666666666666666,
              "#ed7953"
             ],
             [
              0.7777777777777778,
              "#fb9f3a"
             ],
             [
              0.8888888888888888,
              "#fdca26"
             ],
             [
              1,
              "#f0f921"
             ]
            ],
            "type": "heatmapgl"
           }
          ],
          "histogram": [
           {
            "marker": {
             "pattern": {
              "fillmode": "overlay",
              "size": 10,
              "solidity": 0.2
             }
            },
            "type": "histogram"
           }
          ],
          "histogram2d": [
           {
            "colorbar": {
             "outlinewidth": 0,
             "ticks": ""
            },
            "colorscale": [
             [
              0,
              "#0d0887"
             ],
             [
              0.1111111111111111,
              "#46039f"
             ],
             [
              0.2222222222222222,
              "#7201a8"
             ],
             [
              0.3333333333333333,
              "#9c179e"
             ],
             [
              0.4444444444444444,
              "#bd3786"
             ],
             [
              0.5555555555555556,
              "#d8576b"
             ],
             [
              0.6666666666666666,
              "#ed7953"
             ],
             [
              0.7777777777777778,
              "#fb9f3a"
             ],
             [
              0.8888888888888888,
              "#fdca26"
             ],
             [
              1,
              "#f0f921"
             ]
            ],
            "type": "histogram2d"
           }
          ],
          "histogram2dcontour": [
           {
            "colorbar": {
             "outlinewidth": 0,
             "ticks": ""
            },
            "colorscale": [
             [
              0,
              "#0d0887"
             ],
             [
              0.1111111111111111,
              "#46039f"
             ],
             [
              0.2222222222222222,
              "#7201a8"
             ],
             [
              0.3333333333333333,
              "#9c179e"
             ],
             [
              0.4444444444444444,
              "#bd3786"
             ],
             [
              0.5555555555555556,
              "#d8576b"
             ],
             [
              0.6666666666666666,
              "#ed7953"
             ],
             [
              0.7777777777777778,
              "#fb9f3a"
             ],
             [
              0.8888888888888888,
              "#fdca26"
             ],
             [
              1,
              "#f0f921"
             ]
            ],
            "type": "histogram2dcontour"
           }
          ],
          "mesh3d": [
           {
            "colorbar": {
             "outlinewidth": 0,
             "ticks": ""
            },
            "type": "mesh3d"
           }
          ],
          "parcoords": [
           {
            "line": {
             "colorbar": {
              "outlinewidth": 0,
              "ticks": ""
             }
            },
            "type": "parcoords"
           }
          ],
          "pie": [
           {
            "automargin": true,
            "type": "pie"
           }
          ],
          "scatter": [
           {
            "fillpattern": {
             "fillmode": "overlay",
             "size": 10,
             "solidity": 0.2
            },
            "type": "scatter"
           }
          ],
          "scatter3d": [
           {
            "line": {
             "colorbar": {
              "outlinewidth": 0,
              "ticks": ""
             }
            },
            "marker": {
             "colorbar": {
              "outlinewidth": 0,
              "ticks": ""
             }
            },
            "type": "scatter3d"
           }
          ],
          "scattercarpet": [
           {
            "marker": {
             "colorbar": {
              "outlinewidth": 0,
              "ticks": ""
             }
            },
            "type": "scattercarpet"
           }
          ],
          "scattergeo": [
           {
            "marker": {
             "colorbar": {
              "outlinewidth": 0,
              "ticks": ""
             }
            },
            "type": "scattergeo"
           }
          ],
          "scattergl": [
           {
            "marker": {
             "colorbar": {
              "outlinewidth": 0,
              "ticks": ""
             }
            },
            "type": "scattergl"
           }
          ],
          "scattermapbox": [
           {
            "marker": {
             "colorbar": {
              "outlinewidth": 0,
              "ticks": ""
             }
            },
            "type": "scattermapbox"
           }
          ],
          "scatterpolar": [
           {
            "marker": {
             "colorbar": {
              "outlinewidth": 0,
              "ticks": ""
             }
            },
            "type": "scatterpolar"
           }
          ],
          "scatterpolargl": [
           {
            "marker": {
             "colorbar": {
              "outlinewidth": 0,
              "ticks": ""
             }
            },
            "type": "scatterpolargl"
           }
          ],
          "scatterternary": [
           {
            "marker": {
             "colorbar": {
              "outlinewidth": 0,
              "ticks": ""
             }
            },
            "type": "scatterternary"
           }
          ],
          "surface": [
           {
            "colorbar": {
             "outlinewidth": 0,
             "ticks": ""
            },
            "colorscale": [
             [
              0,
              "#0d0887"
             ],
             [
              0.1111111111111111,
              "#46039f"
             ],
             [
              0.2222222222222222,
              "#7201a8"
             ],
             [
              0.3333333333333333,
              "#9c179e"
             ],
             [
              0.4444444444444444,
              "#bd3786"
             ],
             [
              0.5555555555555556,
              "#d8576b"
             ],
             [
              0.6666666666666666,
              "#ed7953"
             ],
             [
              0.7777777777777778,
              "#fb9f3a"
             ],
             [
              0.8888888888888888,
              "#fdca26"
             ],
             [
              1,
              "#f0f921"
             ]
            ],
            "type": "surface"
           }
          ],
          "table": [
           {
            "cells": {
             "fill": {
              "color": "#EBF0F8"
             },
             "line": {
              "color": "white"
             }
            },
            "header": {
             "fill": {
              "color": "#C8D4E3"
             },
             "line": {
              "color": "white"
             }
            },
            "type": "table"
           }
          ]
         },
         "layout": {
          "annotationdefaults": {
           "arrowcolor": "#2a3f5f",
           "arrowhead": 0,
           "arrowwidth": 1
          },
          "autotypenumbers": "strict",
          "coloraxis": {
           "colorbar": {
            "outlinewidth": 0,
            "ticks": ""
           }
          },
          "colorscale": {
           "diverging": [
            [
             0,
             "#8e0152"
            ],
            [
             0.1,
             "#c51b7d"
            ],
            [
             0.2,
             "#de77ae"
            ],
            [
             0.3,
             "#f1b6da"
            ],
            [
             0.4,
             "#fde0ef"
            ],
            [
             0.5,
             "#f7f7f7"
            ],
            [
             0.6,
             "#e6f5d0"
            ],
            [
             0.7,
             "#b8e186"
            ],
            [
             0.8,
             "#7fbc41"
            ],
            [
             0.9,
             "#4d9221"
            ],
            [
             1,
             "#276419"
            ]
           ],
           "sequential": [
            [
             0,
             "#0d0887"
            ],
            [
             0.1111111111111111,
             "#46039f"
            ],
            [
             0.2222222222222222,
             "#7201a8"
            ],
            [
             0.3333333333333333,
             "#9c179e"
            ],
            [
             0.4444444444444444,
             "#bd3786"
            ],
            [
             0.5555555555555556,
             "#d8576b"
            ],
            [
             0.6666666666666666,
             "#ed7953"
            ],
            [
             0.7777777777777778,
             "#fb9f3a"
            ],
            [
             0.8888888888888888,
             "#fdca26"
            ],
            [
             1,
             "#f0f921"
            ]
           ],
           "sequentialminus": [
            [
             0,
             "#0d0887"
            ],
            [
             0.1111111111111111,
             "#46039f"
            ],
            [
             0.2222222222222222,
             "#7201a8"
            ],
            [
             0.3333333333333333,
             "#9c179e"
            ],
            [
             0.4444444444444444,
             "#bd3786"
            ],
            [
             0.5555555555555556,
             "#d8576b"
            ],
            [
             0.6666666666666666,
             "#ed7953"
            ],
            [
             0.7777777777777778,
             "#fb9f3a"
            ],
            [
             0.8888888888888888,
             "#fdca26"
            ],
            [
             1,
             "#f0f921"
            ]
           ]
          },
          "colorway": [
           "#636efa",
           "#EF553B",
           "#00cc96",
           "#ab63fa",
           "#FFA15A",
           "#19d3f3",
           "#FF6692",
           "#B6E880",
           "#FF97FF",
           "#FECB52"
          ],
          "font": {
           "color": "#2a3f5f"
          },
          "geo": {
           "bgcolor": "white",
           "lakecolor": "white",
           "landcolor": "#E5ECF6",
           "showlakes": true,
           "showland": true,
           "subunitcolor": "white"
          },
          "hoverlabel": {
           "align": "left"
          },
          "hovermode": "closest",
          "mapbox": {
           "style": "light"
          },
          "paper_bgcolor": "white",
          "plot_bgcolor": "#E5ECF6",
          "polar": {
           "angularaxis": {
            "gridcolor": "white",
            "linecolor": "white",
            "ticks": ""
           },
           "bgcolor": "#E5ECF6",
           "radialaxis": {
            "gridcolor": "white",
            "linecolor": "white",
            "ticks": ""
           }
          },
          "scene": {
           "xaxis": {
            "backgroundcolor": "#E5ECF6",
            "gridcolor": "white",
            "gridwidth": 2,
            "linecolor": "white",
            "showbackground": true,
            "ticks": "",
            "zerolinecolor": "white"
           },
           "yaxis": {
            "backgroundcolor": "#E5ECF6",
            "gridcolor": "white",
            "gridwidth": 2,
            "linecolor": "white",
            "showbackground": true,
            "ticks": "",
            "zerolinecolor": "white"
           },
           "zaxis": {
            "backgroundcolor": "#E5ECF6",
            "gridcolor": "white",
            "gridwidth": 2,
            "linecolor": "white",
            "showbackground": true,
            "ticks": "",
            "zerolinecolor": "white"
           }
          },
          "shapedefaults": {
           "line": {
            "color": "#2a3f5f"
           }
          },
          "ternary": {
           "aaxis": {
            "gridcolor": "white",
            "linecolor": "white",
            "ticks": ""
           },
           "baxis": {
            "gridcolor": "white",
            "linecolor": "white",
            "ticks": ""
           },
           "bgcolor": "#E5ECF6",
           "caxis": {
            "gridcolor": "white",
            "linecolor": "white",
            "ticks": ""
           }
          },
          "title": {
           "x": 0.05
          },
          "xaxis": {
           "automargin": true,
           "gridcolor": "white",
           "linecolor": "white",
           "ticks": "",
           "title": {
            "standoff": 15
           },
           "zerolinecolor": "white",
           "zerolinewidth": 2
          },
          "yaxis": {
           "automargin": true,
           "gridcolor": "white",
           "linecolor": "white",
           "ticks": "",
           "title": {
            "standoff": 15
           },
           "zerolinecolor": "white",
           "zerolinewidth": 2
          }
         }
        },
        "title": {
         "text": "Distribution of Ratings by Chain Status"
        },
        "xaxis": {
         "anchor": "y",
         "domain": [
          0,
          1
         ],
         "title": {
          "text": "Check Chain"
         }
        },
        "yaxis": {
         "anchor": "x",
         "domain": [
          0,
          1
         ],
         "title": {
          "text": "Rating"
         }
        }
       }
      }
     },
     "metadata": {},
     "output_type": "display_data"
    },
    {
     "data": {
      "application/vnd.plotly.v1+json": {
       "config": {
        "plotlyServerURL": "https://plot.ly"
       },
       "data": [
        {
         "alignmentgroup": "True",
         "hovertemplate": "Category=%{x}<br>Number of Restaurants=%{y}<extra></extra>",
         "legendgroup": "",
         "marker": {
          "color": "#636efa",
          "pattern": {
           "shape": ""
          }
         },
         "name": "",
         "offsetgroup": "",
         "orientation": "v",
         "showlegend": false,
         "textposition": "auto",
         "type": "bar",
         "x": [
          "Fast Food",
          "Sandwiches",
          "Burgers",
          "Coffee & Tea",
          "Pizza",
          "Breakfast & Brunch",
          "American",
          "Mexican",
          "Chinese",
          "Salad"
         ],
         "xaxis": "x",
         "y": [
          128,
          101,
          70,
          67,
          64,
          61,
          60,
          54,
          47,
          43
         ],
         "yaxis": "y"
        }
       ],
       "layout": {
        "barmode": "relative",
        "legend": {
         "tracegroupgap": 0
        },
        "template": {
         "data": {
          "bar": [
           {
            "error_x": {
             "color": "#2a3f5f"
            },
            "error_y": {
             "color": "#2a3f5f"
            },
            "marker": {
             "line": {
              "color": "#E5ECF6",
              "width": 0.5
             },
             "pattern": {
              "fillmode": "overlay",
              "size": 10,
              "solidity": 0.2
             }
            },
            "type": "bar"
           }
          ],
          "barpolar": [
           {
            "marker": {
             "line": {
              "color": "#E5ECF6",
              "width": 0.5
             },
             "pattern": {
              "fillmode": "overlay",
              "size": 10,
              "solidity": 0.2
             }
            },
            "type": "barpolar"
           }
          ],
          "carpet": [
           {
            "aaxis": {
             "endlinecolor": "#2a3f5f",
             "gridcolor": "white",
             "linecolor": "white",
             "minorgridcolor": "white",
             "startlinecolor": "#2a3f5f"
            },
            "baxis": {
             "endlinecolor": "#2a3f5f",
             "gridcolor": "white",
             "linecolor": "white",
             "minorgridcolor": "white",
             "startlinecolor": "#2a3f5f"
            },
            "type": "carpet"
           }
          ],
          "choropleth": [
           {
            "colorbar": {
             "outlinewidth": 0,
             "ticks": ""
            },
            "type": "choropleth"
           }
          ],
          "contour": [
           {
            "colorbar": {
             "outlinewidth": 0,
             "ticks": ""
            },
            "colorscale": [
             [
              0,
              "#0d0887"
             ],
             [
              0.1111111111111111,
              "#46039f"
             ],
             [
              0.2222222222222222,
              "#7201a8"
             ],
             [
              0.3333333333333333,
              "#9c179e"
             ],
             [
              0.4444444444444444,
              "#bd3786"
             ],
             [
              0.5555555555555556,
              "#d8576b"
             ],
             [
              0.6666666666666666,
              "#ed7953"
             ],
             [
              0.7777777777777778,
              "#fb9f3a"
             ],
             [
              0.8888888888888888,
              "#fdca26"
             ],
             [
              1,
              "#f0f921"
             ]
            ],
            "type": "contour"
           }
          ],
          "contourcarpet": [
           {
            "colorbar": {
             "outlinewidth": 0,
             "ticks": ""
            },
            "type": "contourcarpet"
           }
          ],
          "heatmap": [
           {
            "colorbar": {
             "outlinewidth": 0,
             "ticks": ""
            },
            "colorscale": [
             [
              0,
              "#0d0887"
             ],
             [
              0.1111111111111111,
              "#46039f"
             ],
             [
              0.2222222222222222,
              "#7201a8"
             ],
             [
              0.3333333333333333,
              "#9c179e"
             ],
             [
              0.4444444444444444,
              "#bd3786"
             ],
             [
              0.5555555555555556,
              "#d8576b"
             ],
             [
              0.6666666666666666,
              "#ed7953"
             ],
             [
              0.7777777777777778,
              "#fb9f3a"
             ],
             [
              0.8888888888888888,
              "#fdca26"
             ],
             [
              1,
              "#f0f921"
             ]
            ],
            "type": "heatmap"
           }
          ],
          "heatmapgl": [
           {
            "colorbar": {
             "outlinewidth": 0,
             "ticks": ""
            },
            "colorscale": [
             [
              0,
              "#0d0887"
             ],
             [
              0.1111111111111111,
              "#46039f"
             ],
             [
              0.2222222222222222,
              "#7201a8"
             ],
             [
              0.3333333333333333,
              "#9c179e"
             ],
             [
              0.4444444444444444,
              "#bd3786"
             ],
             [
              0.5555555555555556,
              "#d8576b"
             ],
             [
              0.6666666666666666,
              "#ed7953"
             ],
             [
              0.7777777777777778,
              "#fb9f3a"
             ],
             [
              0.8888888888888888,
              "#fdca26"
             ],
             [
              1,
              "#f0f921"
             ]
            ],
            "type": "heatmapgl"
           }
          ],
          "histogram": [
           {
            "marker": {
             "pattern": {
              "fillmode": "overlay",
              "size": 10,
              "solidity": 0.2
             }
            },
            "type": "histogram"
           }
          ],
          "histogram2d": [
           {
            "colorbar": {
             "outlinewidth": 0,
             "ticks": ""
            },
            "colorscale": [
             [
              0,
              "#0d0887"
             ],
             [
              0.1111111111111111,
              "#46039f"
             ],
             [
              0.2222222222222222,
              "#7201a8"
             ],
             [
              0.3333333333333333,
              "#9c179e"
             ],
             [
              0.4444444444444444,
              "#bd3786"
             ],
             [
              0.5555555555555556,
              "#d8576b"
             ],
             [
              0.6666666666666666,
              "#ed7953"
             ],
             [
              0.7777777777777778,
              "#fb9f3a"
             ],
             [
              0.8888888888888888,
              "#fdca26"
             ],
             [
              1,
              "#f0f921"
             ]
            ],
            "type": "histogram2d"
           }
          ],
          "histogram2dcontour": [
           {
            "colorbar": {
             "outlinewidth": 0,
             "ticks": ""
            },
            "colorscale": [
             [
              0,
              "#0d0887"
             ],
             [
              0.1111111111111111,
              "#46039f"
             ],
             [
              0.2222222222222222,
              "#7201a8"
             ],
             [
              0.3333333333333333,
              "#9c179e"
             ],
             [
              0.4444444444444444,
              "#bd3786"
             ],
             [
              0.5555555555555556,
              "#d8576b"
             ],
             [
              0.6666666666666666,
              "#ed7953"
             ],
             [
              0.7777777777777778,
              "#fb9f3a"
             ],
             [
              0.8888888888888888,
              "#fdca26"
             ],
             [
              1,
              "#f0f921"
             ]
            ],
            "type": "histogram2dcontour"
           }
          ],
          "mesh3d": [
           {
            "colorbar": {
             "outlinewidth": 0,
             "ticks": ""
            },
            "type": "mesh3d"
           }
          ],
          "parcoords": [
           {
            "line": {
             "colorbar": {
              "outlinewidth": 0,
              "ticks": ""
             }
            },
            "type": "parcoords"
           }
          ],
          "pie": [
           {
            "automargin": true,
            "type": "pie"
           }
          ],
          "scatter": [
           {
            "fillpattern": {
             "fillmode": "overlay",
             "size": 10,
             "solidity": 0.2
            },
            "type": "scatter"
           }
          ],
          "scatter3d": [
           {
            "line": {
             "colorbar": {
              "outlinewidth": 0,
              "ticks": ""
             }
            },
            "marker": {
             "colorbar": {
              "outlinewidth": 0,
              "ticks": ""
             }
            },
            "type": "scatter3d"
           }
          ],
          "scattercarpet": [
           {
            "marker": {
             "colorbar": {
              "outlinewidth": 0,
              "ticks": ""
             }
            },
            "type": "scattercarpet"
           }
          ],
          "scattergeo": [
           {
            "marker": {
             "colorbar": {
              "outlinewidth": 0,
              "ticks": ""
             }
            },
            "type": "scattergeo"
           }
          ],
          "scattergl": [
           {
            "marker": {
             "colorbar": {
              "outlinewidth": 0,
              "ticks": ""
             }
            },
            "type": "scattergl"
           }
          ],
          "scattermapbox": [
           {
            "marker": {
             "colorbar": {
              "outlinewidth": 0,
              "ticks": ""
             }
            },
            "type": "scattermapbox"
           }
          ],
          "scatterpolar": [
           {
            "marker": {
             "colorbar": {
              "outlinewidth": 0,
              "ticks": ""
             }
            },
            "type": "scatterpolar"
           }
          ],
          "scatterpolargl": [
           {
            "marker": {
             "colorbar": {
              "outlinewidth": 0,
              "ticks": ""
             }
            },
            "type": "scatterpolargl"
           }
          ],
          "scatterternary": [
           {
            "marker": {
             "colorbar": {
              "outlinewidth": 0,
              "ticks": ""
             }
            },
            "type": "scatterternary"
           }
          ],
          "surface": [
           {
            "colorbar": {
             "outlinewidth": 0,
             "ticks": ""
            },
            "colorscale": [
             [
              0,
              "#0d0887"
             ],
             [
              0.1111111111111111,
              "#46039f"
             ],
             [
              0.2222222222222222,
              "#7201a8"
             ],
             [
              0.3333333333333333,
              "#9c179e"
             ],
             [
              0.4444444444444444,
              "#bd3786"
             ],
             [
              0.5555555555555556,
              "#d8576b"
             ],
             [
              0.6666666666666666,
              "#ed7953"
             ],
             [
              0.7777777777777778,
              "#fb9f3a"
             ],
             [
              0.8888888888888888,
              "#fdca26"
             ],
             [
              1,
              "#f0f921"
             ]
            ],
            "type": "surface"
           }
          ],
          "table": [
           {
            "cells": {
             "fill": {
              "color": "#EBF0F8"
             },
             "line": {
              "color": "white"
             }
            },
            "header": {
             "fill": {
              "color": "#C8D4E3"
             },
             "line": {
              "color": "white"
             }
            },
            "type": "table"
           }
          ]
         },
         "layout": {
          "annotationdefaults": {
           "arrowcolor": "#2a3f5f",
           "arrowhead": 0,
           "arrowwidth": 1
          },
          "autotypenumbers": "strict",
          "coloraxis": {
           "colorbar": {
            "outlinewidth": 0,
            "ticks": ""
           }
          },
          "colorscale": {
           "diverging": [
            [
             0,
             "#8e0152"
            ],
            [
             0.1,
             "#c51b7d"
            ],
            [
             0.2,
             "#de77ae"
            ],
            [
             0.3,
             "#f1b6da"
            ],
            [
             0.4,
             "#fde0ef"
            ],
            [
             0.5,
             "#f7f7f7"
            ],
            [
             0.6,
             "#e6f5d0"
            ],
            [
             0.7,
             "#b8e186"
            ],
            [
             0.8,
             "#7fbc41"
            ],
            [
             0.9,
             "#4d9221"
            ],
            [
             1,
             "#276419"
            ]
           ],
           "sequential": [
            [
             0,
             "#0d0887"
            ],
            [
             0.1111111111111111,
             "#46039f"
            ],
            [
             0.2222222222222222,
             "#7201a8"
            ],
            [
             0.3333333333333333,
             "#9c179e"
            ],
            [
             0.4444444444444444,
             "#bd3786"
            ],
            [
             0.5555555555555556,
             "#d8576b"
            ],
            [
             0.6666666666666666,
             "#ed7953"
            ],
            [
             0.7777777777777778,
             "#fb9f3a"
            ],
            [
             0.8888888888888888,
             "#fdca26"
            ],
            [
             1,
             "#f0f921"
            ]
           ],
           "sequentialminus": [
            [
             0,
             "#0d0887"
            ],
            [
             0.1111111111111111,
             "#46039f"
            ],
            [
             0.2222222222222222,
             "#7201a8"
            ],
            [
             0.3333333333333333,
             "#9c179e"
            ],
            [
             0.4444444444444444,
             "#bd3786"
            ],
            [
             0.5555555555555556,
             "#d8576b"
            ],
            [
             0.6666666666666666,
             "#ed7953"
            ],
            [
             0.7777777777777778,
             "#fb9f3a"
            ],
            [
             0.8888888888888888,
             "#fdca26"
            ],
            [
             1,
             "#f0f921"
            ]
           ]
          },
          "colorway": [
           "#636efa",
           "#EF553B",
           "#00cc96",
           "#ab63fa",
           "#FFA15A",
           "#19d3f3",
           "#FF6692",
           "#B6E880",
           "#FF97FF",
           "#FECB52"
          ],
          "font": {
           "color": "#2a3f5f"
          },
          "geo": {
           "bgcolor": "white",
           "lakecolor": "white",
           "landcolor": "#E5ECF6",
           "showlakes": true,
           "showland": true,
           "subunitcolor": "white"
          },
          "hoverlabel": {
           "align": "left"
          },
          "hovermode": "closest",
          "mapbox": {
           "style": "light"
          },
          "paper_bgcolor": "white",
          "plot_bgcolor": "#E5ECF6",
          "polar": {
           "angularaxis": {
            "gridcolor": "white",
            "linecolor": "white",
            "ticks": ""
           },
           "bgcolor": "#E5ECF6",
           "radialaxis": {
            "gridcolor": "white",
            "linecolor": "white",
            "ticks": ""
           }
          },
          "scene": {
           "xaxis": {
            "backgroundcolor": "#E5ECF6",
            "gridcolor": "white",
            "gridwidth": 2,
            "linecolor": "white",
            "showbackground": true,
            "ticks": "",
            "zerolinecolor": "white"
           },
           "yaxis": {
            "backgroundcolor": "#E5ECF6",
            "gridcolor": "white",
            "gridwidth": 2,
            "linecolor": "white",
            "showbackground": true,
            "ticks": "",
            "zerolinecolor": "white"
           },
           "zaxis": {
            "backgroundcolor": "#E5ECF6",
            "gridcolor": "white",
            "gridwidth": 2,
            "linecolor": "white",
            "showbackground": true,
            "ticks": "",
            "zerolinecolor": "white"
           }
          },
          "shapedefaults": {
           "line": {
            "color": "#2a3f5f"
           }
          },
          "ternary": {
           "aaxis": {
            "gridcolor": "white",
            "linecolor": "white",
            "ticks": ""
           },
           "baxis": {
            "gridcolor": "white",
            "linecolor": "white",
            "ticks": ""
           },
           "bgcolor": "#E5ECF6",
           "caxis": {
            "gridcolor": "white",
            "linecolor": "white",
            "ticks": ""
           }
          },
          "title": {
           "x": 0.05
          },
          "xaxis": {
           "automargin": true,
           "gridcolor": "white",
           "linecolor": "white",
           "ticks": "",
           "title": {
            "standoff": 15
           },
           "zerolinecolor": "white",
           "zerolinewidth": 2
          },
          "yaxis": {
           "automargin": true,
           "gridcolor": "white",
           "linecolor": "white",
           "ticks": "",
           "title": {
            "standoff": 15
           },
           "zerolinecolor": "white",
           "zerolinewidth": 2
          }
         }
        },
        "title": {
         "text": "Top 10 Restaurant Categories"
        },
        "xaxis": {
         "anchor": "y",
         "domain": [
          0,
          1
         ],
         "title": {
          "text": "Category"
         }
        },
        "yaxis": {
         "anchor": "x",
         "domain": [
          0,
          1
         ],
         "title": {
          "text": "Number of Restaurants"
         }
        }
       }
      }
     },
     "metadata": {},
     "output_type": "display_data"
    },
    {
     "data": {
      "application/vnd.plotly.v1+json": {
       "config": {
        "plotlyServerURL": "https://plot.ly"
       },
       "data": [
        {
         "domain": {
          "x": [
           0,
           1
          ],
          "y": [
           0,
           1
          ]
         },
         "hovertemplate": "label=%{label}<br>value=%{value}<extra></extra>",
         "labels": [
          "Field does not exist",
          "$$",
          "$",
          "$$$",
          "$$$$"
         ],
         "legendgroup": "",
         "name": "",
         "showlegend": true,
         "type": "pie",
         "values": [
          411,
          308,
          263,
          16,
          2
         ]
        }
       ],
       "layout": {
        "legend": {
         "tracegroupgap": 0
        },
        "template": {
         "data": {
          "bar": [
           {
            "error_x": {
             "color": "#2a3f5f"
            },
            "error_y": {
             "color": "#2a3f5f"
            },
            "marker": {
             "line": {
              "color": "#E5ECF6",
              "width": 0.5
             },
             "pattern": {
              "fillmode": "overlay",
              "size": 10,
              "solidity": 0.2
             }
            },
            "type": "bar"
           }
          ],
          "barpolar": [
           {
            "marker": {
             "line": {
              "color": "#E5ECF6",
              "width": 0.5
             },
             "pattern": {
              "fillmode": "overlay",
              "size": 10,
              "solidity": 0.2
             }
            },
            "type": "barpolar"
           }
          ],
          "carpet": [
           {
            "aaxis": {
             "endlinecolor": "#2a3f5f",
             "gridcolor": "white",
             "linecolor": "white",
             "minorgridcolor": "white",
             "startlinecolor": "#2a3f5f"
            },
            "baxis": {
             "endlinecolor": "#2a3f5f",
             "gridcolor": "white",
             "linecolor": "white",
             "minorgridcolor": "white",
             "startlinecolor": "#2a3f5f"
            },
            "type": "carpet"
           }
          ],
          "choropleth": [
           {
            "colorbar": {
             "outlinewidth": 0,
             "ticks": ""
            },
            "type": "choropleth"
           }
          ],
          "contour": [
           {
            "colorbar": {
             "outlinewidth": 0,
             "ticks": ""
            },
            "colorscale": [
             [
              0,
              "#0d0887"
             ],
             [
              0.1111111111111111,
              "#46039f"
             ],
             [
              0.2222222222222222,
              "#7201a8"
             ],
             [
              0.3333333333333333,
              "#9c179e"
             ],
             [
              0.4444444444444444,
              "#bd3786"
             ],
             [
              0.5555555555555556,
              "#d8576b"
             ],
             [
              0.6666666666666666,
              "#ed7953"
             ],
             [
              0.7777777777777778,
              "#fb9f3a"
             ],
             [
              0.8888888888888888,
              "#fdca26"
             ],
             [
              1,
              "#f0f921"
             ]
            ],
            "type": "contour"
           }
          ],
          "contourcarpet": [
           {
            "colorbar": {
             "outlinewidth": 0,
             "ticks": ""
            },
            "type": "contourcarpet"
           }
          ],
          "heatmap": [
           {
            "colorbar": {
             "outlinewidth": 0,
             "ticks": ""
            },
            "colorscale": [
             [
              0,
              "#0d0887"
             ],
             [
              0.1111111111111111,
              "#46039f"
             ],
             [
              0.2222222222222222,
              "#7201a8"
             ],
             [
              0.3333333333333333,
              "#9c179e"
             ],
             [
              0.4444444444444444,
              "#bd3786"
             ],
             [
              0.5555555555555556,
              "#d8576b"
             ],
             [
              0.6666666666666666,
              "#ed7953"
             ],
             [
              0.7777777777777778,
              "#fb9f3a"
             ],
             [
              0.8888888888888888,
              "#fdca26"
             ],
             [
              1,
              "#f0f921"
             ]
            ],
            "type": "heatmap"
           }
          ],
          "heatmapgl": [
           {
            "colorbar": {
             "outlinewidth": 0,
             "ticks": ""
            },
            "colorscale": [
             [
              0,
              "#0d0887"
             ],
             [
              0.1111111111111111,
              "#46039f"
             ],
             [
              0.2222222222222222,
              "#7201a8"
             ],
             [
              0.3333333333333333,
              "#9c179e"
             ],
             [
              0.4444444444444444,
              "#bd3786"
             ],
             [
              0.5555555555555556,
              "#d8576b"
             ],
             [
              0.6666666666666666,
              "#ed7953"
             ],
             [
              0.7777777777777778,
              "#fb9f3a"
             ],
             [
              0.8888888888888888,
              "#fdca26"
             ],
             [
              1,
              "#f0f921"
             ]
            ],
            "type": "heatmapgl"
           }
          ],
          "histogram": [
           {
            "marker": {
             "pattern": {
              "fillmode": "overlay",
              "size": 10,
              "solidity": 0.2
             }
            },
            "type": "histogram"
           }
          ],
          "histogram2d": [
           {
            "colorbar": {
             "outlinewidth": 0,
             "ticks": ""
            },
            "colorscale": [
             [
              0,
              "#0d0887"
             ],
             [
              0.1111111111111111,
              "#46039f"
             ],
             [
              0.2222222222222222,
              "#7201a8"
             ],
             [
              0.3333333333333333,
              "#9c179e"
             ],
             [
              0.4444444444444444,
              "#bd3786"
             ],
             [
              0.5555555555555556,
              "#d8576b"
             ],
             [
              0.6666666666666666,
              "#ed7953"
             ],
             [
              0.7777777777777778,
              "#fb9f3a"
             ],
             [
              0.8888888888888888,
              "#fdca26"
             ],
             [
              1,
              "#f0f921"
             ]
            ],
            "type": "histogram2d"
           }
          ],
          "histogram2dcontour": [
           {
            "colorbar": {
             "outlinewidth": 0,
             "ticks": ""
            },
            "colorscale": [
             [
              0,
              "#0d0887"
             ],
             [
              0.1111111111111111,
              "#46039f"
             ],
             [
              0.2222222222222222,
              "#7201a8"
             ],
             [
              0.3333333333333333,
              "#9c179e"
             ],
             [
              0.4444444444444444,
              "#bd3786"
             ],
             [
              0.5555555555555556,
              "#d8576b"
             ],
             [
              0.6666666666666666,
              "#ed7953"
             ],
             [
              0.7777777777777778,
              "#fb9f3a"
             ],
             [
              0.8888888888888888,
              "#fdca26"
             ],
             [
              1,
              "#f0f921"
             ]
            ],
            "type": "histogram2dcontour"
           }
          ],
          "mesh3d": [
           {
            "colorbar": {
             "outlinewidth": 0,
             "ticks": ""
            },
            "type": "mesh3d"
           }
          ],
          "parcoords": [
           {
            "line": {
             "colorbar": {
              "outlinewidth": 0,
              "ticks": ""
             }
            },
            "type": "parcoords"
           }
          ],
          "pie": [
           {
            "automargin": true,
            "type": "pie"
           }
          ],
          "scatter": [
           {
            "fillpattern": {
             "fillmode": "overlay",
             "size": 10,
             "solidity": 0.2
            },
            "type": "scatter"
           }
          ],
          "scatter3d": [
           {
            "line": {
             "colorbar": {
              "outlinewidth": 0,
              "ticks": ""
             }
            },
            "marker": {
             "colorbar": {
              "outlinewidth": 0,
              "ticks": ""
             }
            },
            "type": "scatter3d"
           }
          ],
          "scattercarpet": [
           {
            "marker": {
             "colorbar": {
              "outlinewidth": 0,
              "ticks": ""
             }
            },
            "type": "scattercarpet"
           }
          ],
          "scattergeo": [
           {
            "marker": {
             "colorbar": {
              "outlinewidth": 0,
              "ticks": ""
             }
            },
            "type": "scattergeo"
           }
          ],
          "scattergl": [
           {
            "marker": {
             "colorbar": {
              "outlinewidth": 0,
              "ticks": ""
             }
            },
            "type": "scattergl"
           }
          ],
          "scattermapbox": [
           {
            "marker": {
             "colorbar": {
              "outlinewidth": 0,
              "ticks": ""
             }
            },
            "type": "scattermapbox"
           }
          ],
          "scatterpolar": [
           {
            "marker": {
             "colorbar": {
              "outlinewidth": 0,
              "ticks": ""
             }
            },
            "type": "scatterpolar"
           }
          ],
          "scatterpolargl": [
           {
            "marker": {
             "colorbar": {
              "outlinewidth": 0,
              "ticks": ""
             }
            },
            "type": "scatterpolargl"
           }
          ],
          "scatterternary": [
           {
            "marker": {
             "colorbar": {
              "outlinewidth": 0,
              "ticks": ""
             }
            },
            "type": "scatterternary"
           }
          ],
          "surface": [
           {
            "colorbar": {
             "outlinewidth": 0,
             "ticks": ""
            },
            "colorscale": [
             [
              0,
              "#0d0887"
             ],
             [
              0.1111111111111111,
              "#46039f"
             ],
             [
              0.2222222222222222,
              "#7201a8"
             ],
             [
              0.3333333333333333,
              "#9c179e"
             ],
             [
              0.4444444444444444,
              "#bd3786"
             ],
             [
              0.5555555555555556,
              "#d8576b"
             ],
             [
              0.6666666666666666,
              "#ed7953"
             ],
             [
              0.7777777777777778,
              "#fb9f3a"
             ],
             [
              0.8888888888888888,
              "#fdca26"
             ],
             [
              1,
              "#f0f921"
             ]
            ],
            "type": "surface"
           }
          ],
          "table": [
           {
            "cells": {
             "fill": {
              "color": "#EBF0F8"
             },
             "line": {
              "color": "white"
             }
            },
            "header": {
             "fill": {
              "color": "#C8D4E3"
             },
             "line": {
              "color": "white"
             }
            },
            "type": "table"
           }
          ]
         },
         "layout": {
          "annotationdefaults": {
           "arrowcolor": "#2a3f5f",
           "arrowhead": 0,
           "arrowwidth": 1
          },
          "autotypenumbers": "strict",
          "coloraxis": {
           "colorbar": {
            "outlinewidth": 0,
            "ticks": ""
           }
          },
          "colorscale": {
           "diverging": [
            [
             0,
             "#8e0152"
            ],
            [
             0.1,
             "#c51b7d"
            ],
            [
             0.2,
             "#de77ae"
            ],
            [
             0.3,
             "#f1b6da"
            ],
            [
             0.4,
             "#fde0ef"
            ],
            [
             0.5,
             "#f7f7f7"
            ],
            [
             0.6,
             "#e6f5d0"
            ],
            [
             0.7,
             "#b8e186"
            ],
            [
             0.8,
             "#7fbc41"
            ],
            [
             0.9,
             "#4d9221"
            ],
            [
             1,
             "#276419"
            ]
           ],
           "sequential": [
            [
             0,
             "#0d0887"
            ],
            [
             0.1111111111111111,
             "#46039f"
            ],
            [
             0.2222222222222222,
             "#7201a8"
            ],
            [
             0.3333333333333333,
             "#9c179e"
            ],
            [
             0.4444444444444444,
             "#bd3786"
            ],
            [
             0.5555555555555556,
             "#d8576b"
            ],
            [
             0.6666666666666666,
             "#ed7953"
            ],
            [
             0.7777777777777778,
             "#fb9f3a"
            ],
            [
             0.8888888888888888,
             "#fdca26"
            ],
            [
             1,
             "#f0f921"
            ]
           ],
           "sequentialminus": [
            [
             0,
             "#0d0887"
            ],
            [
             0.1111111111111111,
             "#46039f"
            ],
            [
             0.2222222222222222,
             "#7201a8"
            ],
            [
             0.3333333333333333,
             "#9c179e"
            ],
            [
             0.4444444444444444,
             "#bd3786"
            ],
            [
             0.5555555555555556,
             "#d8576b"
            ],
            [
             0.6666666666666666,
             "#ed7953"
            ],
            [
             0.7777777777777778,
             "#fb9f3a"
            ],
            [
             0.8888888888888888,
             "#fdca26"
            ],
            [
             1,
             "#f0f921"
            ]
           ]
          },
          "colorway": [
           "#636efa",
           "#EF553B",
           "#00cc96",
           "#ab63fa",
           "#FFA15A",
           "#19d3f3",
           "#FF6692",
           "#B6E880",
           "#FF97FF",
           "#FECB52"
          ],
          "font": {
           "color": "#2a3f5f"
          },
          "geo": {
           "bgcolor": "white",
           "lakecolor": "white",
           "landcolor": "#E5ECF6",
           "showlakes": true,
           "showland": true,
           "subunitcolor": "white"
          },
          "hoverlabel": {
           "align": "left"
          },
          "hovermode": "closest",
          "mapbox": {
           "style": "light"
          },
          "paper_bgcolor": "white",
          "plot_bgcolor": "#E5ECF6",
          "polar": {
           "angularaxis": {
            "gridcolor": "white",
            "linecolor": "white",
            "ticks": ""
           },
           "bgcolor": "#E5ECF6",
           "radialaxis": {
            "gridcolor": "white",
            "linecolor": "white",
            "ticks": ""
           }
          },
          "scene": {
           "xaxis": {
            "backgroundcolor": "#E5ECF6",
            "gridcolor": "white",
            "gridwidth": 2,
            "linecolor": "white",
            "showbackground": true,
            "ticks": "",
            "zerolinecolor": "white"
           },
           "yaxis": {
            "backgroundcolor": "#E5ECF6",
            "gridcolor": "white",
            "gridwidth": 2,
            "linecolor": "white",
            "showbackground": true,
            "ticks": "",
            "zerolinecolor": "white"
           },
           "zaxis": {
            "backgroundcolor": "#E5ECF6",
            "gridcolor": "white",
            "gridwidth": 2,
            "linecolor": "white",
            "showbackground": true,
            "ticks": "",
            "zerolinecolor": "white"
           }
          },
          "shapedefaults": {
           "line": {
            "color": "#2a3f5f"
           }
          },
          "ternary": {
           "aaxis": {
            "gridcolor": "white",
            "linecolor": "white",
            "ticks": ""
           },
           "baxis": {
            "gridcolor": "white",
            "linecolor": "white",
            "ticks": ""
           },
           "bgcolor": "#E5ECF6",
           "caxis": {
            "gridcolor": "white",
            "linecolor": "white",
            "ticks": ""
           }
          },
          "title": {
           "x": 0.05
          },
          "xaxis": {
           "automargin": true,
           "gridcolor": "white",
           "linecolor": "white",
           "ticks": "",
           "title": {
            "standoff": 15
           },
           "zerolinecolor": "white",
           "zerolinewidth": 2
          },
          "yaxis": {
           "automargin": true,
           "gridcolor": "white",
           "linecolor": "white",
           "ticks": "",
           "title": {
            "standoff": 15
           },
           "zerolinecolor": "white",
           "zerolinewidth": 2
          }
         }
        },
        "title": {
         "text": "Distribution of Price Ranges"
        }
       }
      }
     },
     "metadata": {},
     "output_type": "display_data"
    }
   ],
   "source": [
    "# Scatter plot of rating vs review count, colored by Check Chain\n",
    "fig_1 = px.scatter(rating_df, x='review_count', y='rating', color='Check Chain', \n",
    "                   title='Rating vs Review Count by Chain Status',\n",
    "                   labels={'review_count': 'Number of Reviews', 'rating': 'Rating'})\n",
    "\n",
    "# Box plot of ratings by Check Chain\n",
    "fig_2 = px.box(rating_df, x='Check Chain', y='rating', \n",
    "                title='Distribution of Ratings by Chain Status',\n",
    "                labels={'rating': 'Rating'})\n",
    "\n",
    "# Bar plot of top 10 categories\n",
    "from collections import Counter\n",
    "list_categories = final_df['categories'].tolist()\n",
    "flat_list_cats = Counter([cat for cats in list_categories for cat in cats if cats != 'Field does not exist'])\n",
    "top_10_categories = pd.DataFrame(flat_list_cats.most_common(10), columns=['Category', 'Count'])\n",
    "fig_3 = px.bar(top_10_categories, x='Category', y='Count', \n",
    "               title='Top 10 Restaurant Categories',\n",
    "               labels={'Count': 'Number of Restaurants'})\n",
    "\n",
    "# Pie chart of price ranges\n",
    "price_counts = final_df['price'].value_counts()\n",
    "fig_4 = px.pie(values=price_counts.values, names=price_counts.index, \n",
    "               title='Distribution of Price Ranges',\n",
    "               labels={'label': 'Price Range', 'value': 'Count'})\n",
    "\n",
    "# Display all plots\n",
    "fig_1.show()\n",
    "fig_2.show()\n",
    "fig_3.show()\n",
    "fig_4.show()"
   ]
  },
  {
   "cell_type": "code",
   "execution_count": 99,
   "metadata": {},
   "outputs": [
    {
     "data": {
      "text/plain": [
       "Check Chain\n",
       "Chain        2.958521\n",
       "Not Chain    3.761174\n",
       "Name: rating, dtype: object"
      ]
     },
     "execution_count": 99,
     "metadata": {},
     "output_type": "execute_result"
    }
   ],
   "source": [
    "rating_df.groupby('Check Chain').rating.agg('mean')"
   ]
  },
  {
   "cell_type": "code",
   "execution_count": 123,
   "metadata": {},
   "outputs": [
    {
     "name": "stdout",
     "output_type": "stream",
     "text": [
      "Distribution of Chain vs Non-Chain Restaurants by City (%):\n",
      "Check Chain    Chain  Not Chain\n",
      "City                           \n",
      "garner         48.57      51.43\n",
      "wake forest    48.44      51.56\n",
      "holly springs  43.75      56.25\n",
      "apex           42.00      58.00\n",
      "fuquay-varina  37.14      62.86\n",
      "raleigh        36.93      63.07\n",
      "cary           33.93      66.07\n",
      "knightdale     29.63      70.37\n",
      "morrisville    23.29      76.71\n",
      "zebulon        20.00      80.00\n"
     ]
    },
    {
     "data": {
      "application/vnd.plotly.v1+json": {
       "config": {
        "plotlyServerURL": "https://plot.ly"
       },
       "data": [
        {
         "alignmentgroup": "True",
         "hovertemplate": "Restaurant Type=Chain<br>City=%{x}<br>Percentage=%{y}<extra></extra>",
         "legendgroup": "Chain",
         "marker": {
          "color": "#636efa",
          "pattern": {
           "shape": ""
          }
         },
         "name": "Chain",
         "offsetgroup": "Chain",
         "orientation": "v",
         "showlegend": true,
         "textposition": "auto",
         "type": "bar",
         "x": [
          "garner",
          "wake forest",
          "holly springs",
          "apex",
          "fuquay-varina",
          "raleigh",
          "cary",
          "knightdale",
          "morrisville",
          "zebulon"
         ],
         "xaxis": "x",
         "y": [
          48.57142857142857,
          48.4375,
          43.75,
          42,
          37.142857142857146,
          36.92614770459082,
          33.92857142857143,
          29.629629629629626,
          23.28767123287671,
          20
         ],
         "yaxis": "y"
        },
        {
         "alignmentgroup": "True",
         "hovertemplate": "Restaurant Type=Not Chain<br>City=%{x}<br>Percentage=%{y}<extra></extra>",
         "legendgroup": "Not Chain",
         "marker": {
          "color": "#EF553B",
          "pattern": {
           "shape": ""
          }
         },
         "name": "Not Chain",
         "offsetgroup": "Not Chain",
         "orientation": "v",
         "showlegend": true,
         "textposition": "auto",
         "type": "bar",
         "x": [
          "garner",
          "wake forest",
          "holly springs",
          "apex",
          "fuquay-varina",
          "raleigh",
          "cary",
          "knightdale",
          "morrisville",
          "zebulon"
         ],
         "xaxis": "x",
         "y": [
          51.42857142857142,
          51.5625,
          56.25,
          57.99999999999999,
          62.857142857142854,
          63.07385229540918,
          66.07142857142857,
          70.37037037037037,
          76.71232876712328,
          80
         ],
         "yaxis": "y"
        }
       ],
       "layout": {
        "barmode": "stack",
        "height": 600,
        "legend": {
         "title": {
          "text": "Restaurant Type"
         },
         "tracegroupgap": 0
        },
        "template": {
         "data": {
          "bar": [
           {
            "error_x": {
             "color": "#2a3f5f"
            },
            "error_y": {
             "color": "#2a3f5f"
            },
            "marker": {
             "line": {
              "color": "#E5ECF6",
              "width": 0.5
             },
             "pattern": {
              "fillmode": "overlay",
              "size": 10,
              "solidity": 0.2
             }
            },
            "type": "bar"
           }
          ],
          "barpolar": [
           {
            "marker": {
             "line": {
              "color": "#E5ECF6",
              "width": 0.5
             },
             "pattern": {
              "fillmode": "overlay",
              "size": 10,
              "solidity": 0.2
             }
            },
            "type": "barpolar"
           }
          ],
          "carpet": [
           {
            "aaxis": {
             "endlinecolor": "#2a3f5f",
             "gridcolor": "white",
             "linecolor": "white",
             "minorgridcolor": "white",
             "startlinecolor": "#2a3f5f"
            },
            "baxis": {
             "endlinecolor": "#2a3f5f",
             "gridcolor": "white",
             "linecolor": "white",
             "minorgridcolor": "white",
             "startlinecolor": "#2a3f5f"
            },
            "type": "carpet"
           }
          ],
          "choropleth": [
           {
            "colorbar": {
             "outlinewidth": 0,
             "ticks": ""
            },
            "type": "choropleth"
           }
          ],
          "contour": [
           {
            "colorbar": {
             "outlinewidth": 0,
             "ticks": ""
            },
            "colorscale": [
             [
              0,
              "#0d0887"
             ],
             [
              0.1111111111111111,
              "#46039f"
             ],
             [
              0.2222222222222222,
              "#7201a8"
             ],
             [
              0.3333333333333333,
              "#9c179e"
             ],
             [
              0.4444444444444444,
              "#bd3786"
             ],
             [
              0.5555555555555556,
              "#d8576b"
             ],
             [
              0.6666666666666666,
              "#ed7953"
             ],
             [
              0.7777777777777778,
              "#fb9f3a"
             ],
             [
              0.8888888888888888,
              "#fdca26"
             ],
             [
              1,
              "#f0f921"
             ]
            ],
            "type": "contour"
           }
          ],
          "contourcarpet": [
           {
            "colorbar": {
             "outlinewidth": 0,
             "ticks": ""
            },
            "type": "contourcarpet"
           }
          ],
          "heatmap": [
           {
            "colorbar": {
             "outlinewidth": 0,
             "ticks": ""
            },
            "colorscale": [
             [
              0,
              "#0d0887"
             ],
             [
              0.1111111111111111,
              "#46039f"
             ],
             [
              0.2222222222222222,
              "#7201a8"
             ],
             [
              0.3333333333333333,
              "#9c179e"
             ],
             [
              0.4444444444444444,
              "#bd3786"
             ],
             [
              0.5555555555555556,
              "#d8576b"
             ],
             [
              0.6666666666666666,
              "#ed7953"
             ],
             [
              0.7777777777777778,
              "#fb9f3a"
             ],
             [
              0.8888888888888888,
              "#fdca26"
             ],
             [
              1,
              "#f0f921"
             ]
            ],
            "type": "heatmap"
           }
          ],
          "heatmapgl": [
           {
            "colorbar": {
             "outlinewidth": 0,
             "ticks": ""
            },
            "colorscale": [
             [
              0,
              "#0d0887"
             ],
             [
              0.1111111111111111,
              "#46039f"
             ],
             [
              0.2222222222222222,
              "#7201a8"
             ],
             [
              0.3333333333333333,
              "#9c179e"
             ],
             [
              0.4444444444444444,
              "#bd3786"
             ],
             [
              0.5555555555555556,
              "#d8576b"
             ],
             [
              0.6666666666666666,
              "#ed7953"
             ],
             [
              0.7777777777777778,
              "#fb9f3a"
             ],
             [
              0.8888888888888888,
              "#fdca26"
             ],
             [
              1,
              "#f0f921"
             ]
            ],
            "type": "heatmapgl"
           }
          ],
          "histogram": [
           {
            "marker": {
             "pattern": {
              "fillmode": "overlay",
              "size": 10,
              "solidity": 0.2
             }
            },
            "type": "histogram"
           }
          ],
          "histogram2d": [
           {
            "colorbar": {
             "outlinewidth": 0,
             "ticks": ""
            },
            "colorscale": [
             [
              0,
              "#0d0887"
             ],
             [
              0.1111111111111111,
              "#46039f"
             ],
             [
              0.2222222222222222,
              "#7201a8"
             ],
             [
              0.3333333333333333,
              "#9c179e"
             ],
             [
              0.4444444444444444,
              "#bd3786"
             ],
             [
              0.5555555555555556,
              "#d8576b"
             ],
             [
              0.6666666666666666,
              "#ed7953"
             ],
             [
              0.7777777777777778,
              "#fb9f3a"
             ],
             [
              0.8888888888888888,
              "#fdca26"
             ],
             [
              1,
              "#f0f921"
             ]
            ],
            "type": "histogram2d"
           }
          ],
          "histogram2dcontour": [
           {
            "colorbar": {
             "outlinewidth": 0,
             "ticks": ""
            },
            "colorscale": [
             [
              0,
              "#0d0887"
             ],
             [
              0.1111111111111111,
              "#46039f"
             ],
             [
              0.2222222222222222,
              "#7201a8"
             ],
             [
              0.3333333333333333,
              "#9c179e"
             ],
             [
              0.4444444444444444,
              "#bd3786"
             ],
             [
              0.5555555555555556,
              "#d8576b"
             ],
             [
              0.6666666666666666,
              "#ed7953"
             ],
             [
              0.7777777777777778,
              "#fb9f3a"
             ],
             [
              0.8888888888888888,
              "#fdca26"
             ],
             [
              1,
              "#f0f921"
             ]
            ],
            "type": "histogram2dcontour"
           }
          ],
          "mesh3d": [
           {
            "colorbar": {
             "outlinewidth": 0,
             "ticks": ""
            },
            "type": "mesh3d"
           }
          ],
          "parcoords": [
           {
            "line": {
             "colorbar": {
              "outlinewidth": 0,
              "ticks": ""
             }
            },
            "type": "parcoords"
           }
          ],
          "pie": [
           {
            "automargin": true,
            "type": "pie"
           }
          ],
          "scatter": [
           {
            "fillpattern": {
             "fillmode": "overlay",
             "size": 10,
             "solidity": 0.2
            },
            "type": "scatter"
           }
          ],
          "scatter3d": [
           {
            "line": {
             "colorbar": {
              "outlinewidth": 0,
              "ticks": ""
             }
            },
            "marker": {
             "colorbar": {
              "outlinewidth": 0,
              "ticks": ""
             }
            },
            "type": "scatter3d"
           }
          ],
          "scattercarpet": [
           {
            "marker": {
             "colorbar": {
              "outlinewidth": 0,
              "ticks": ""
             }
            },
            "type": "scattercarpet"
           }
          ],
          "scattergeo": [
           {
            "marker": {
             "colorbar": {
              "outlinewidth": 0,
              "ticks": ""
             }
            },
            "type": "scattergeo"
           }
          ],
          "scattergl": [
           {
            "marker": {
             "colorbar": {
              "outlinewidth": 0,
              "ticks": ""
             }
            },
            "type": "scattergl"
           }
          ],
          "scattermapbox": [
           {
            "marker": {
             "colorbar": {
              "outlinewidth": 0,
              "ticks": ""
             }
            },
            "type": "scattermapbox"
           }
          ],
          "scatterpolar": [
           {
            "marker": {
             "colorbar": {
              "outlinewidth": 0,
              "ticks": ""
             }
            },
            "type": "scatterpolar"
           }
          ],
          "scatterpolargl": [
           {
            "marker": {
             "colorbar": {
              "outlinewidth": 0,
              "ticks": ""
             }
            },
            "type": "scatterpolargl"
           }
          ],
          "scatterternary": [
           {
            "marker": {
             "colorbar": {
              "outlinewidth": 0,
              "ticks": ""
             }
            },
            "type": "scatterternary"
           }
          ],
          "surface": [
           {
            "colorbar": {
             "outlinewidth": 0,
             "ticks": ""
            },
            "colorscale": [
             [
              0,
              "#0d0887"
             ],
             [
              0.1111111111111111,
              "#46039f"
             ],
             [
              0.2222222222222222,
              "#7201a8"
             ],
             [
              0.3333333333333333,
              "#9c179e"
             ],
             [
              0.4444444444444444,
              "#bd3786"
             ],
             [
              0.5555555555555556,
              "#d8576b"
             ],
             [
              0.6666666666666666,
              "#ed7953"
             ],
             [
              0.7777777777777778,
              "#fb9f3a"
             ],
             [
              0.8888888888888888,
              "#fdca26"
             ],
             [
              1,
              "#f0f921"
             ]
            ],
            "type": "surface"
           }
          ],
          "table": [
           {
            "cells": {
             "fill": {
              "color": "#EBF0F8"
             },
             "line": {
              "color": "white"
             }
            },
            "header": {
             "fill": {
              "color": "#C8D4E3"
             },
             "line": {
              "color": "white"
             }
            },
            "type": "table"
           }
          ]
         },
         "layout": {
          "annotationdefaults": {
           "arrowcolor": "#2a3f5f",
           "arrowhead": 0,
           "arrowwidth": 1
          },
          "autotypenumbers": "strict",
          "coloraxis": {
           "colorbar": {
            "outlinewidth": 0,
            "ticks": ""
           }
          },
          "colorscale": {
           "diverging": [
            [
             0,
             "#8e0152"
            ],
            [
             0.1,
             "#c51b7d"
            ],
            [
             0.2,
             "#de77ae"
            ],
            [
             0.3,
             "#f1b6da"
            ],
            [
             0.4,
             "#fde0ef"
            ],
            [
             0.5,
             "#f7f7f7"
            ],
            [
             0.6,
             "#e6f5d0"
            ],
            [
             0.7,
             "#b8e186"
            ],
            [
             0.8,
             "#7fbc41"
            ],
            [
             0.9,
             "#4d9221"
            ],
            [
             1,
             "#276419"
            ]
           ],
           "sequential": [
            [
             0,
             "#0d0887"
            ],
            [
             0.1111111111111111,
             "#46039f"
            ],
            [
             0.2222222222222222,
             "#7201a8"
            ],
            [
             0.3333333333333333,
             "#9c179e"
            ],
            [
             0.4444444444444444,
             "#bd3786"
            ],
            [
             0.5555555555555556,
             "#d8576b"
            ],
            [
             0.6666666666666666,
             "#ed7953"
            ],
            [
             0.7777777777777778,
             "#fb9f3a"
            ],
            [
             0.8888888888888888,
             "#fdca26"
            ],
            [
             1,
             "#f0f921"
            ]
           ],
           "sequentialminus": [
            [
             0,
             "#0d0887"
            ],
            [
             0.1111111111111111,
             "#46039f"
            ],
            [
             0.2222222222222222,
             "#7201a8"
            ],
            [
             0.3333333333333333,
             "#9c179e"
            ],
            [
             0.4444444444444444,
             "#bd3786"
            ],
            [
             0.5555555555555556,
             "#d8576b"
            ],
            [
             0.6666666666666666,
             "#ed7953"
            ],
            [
             0.7777777777777778,
             "#fb9f3a"
            ],
            [
             0.8888888888888888,
             "#fdca26"
            ],
            [
             1,
             "#f0f921"
            ]
           ]
          },
          "colorway": [
           "#636efa",
           "#EF553B",
           "#00cc96",
           "#ab63fa",
           "#FFA15A",
           "#19d3f3",
           "#FF6692",
           "#B6E880",
           "#FF97FF",
           "#FECB52"
          ],
          "font": {
           "color": "#2a3f5f"
          },
          "geo": {
           "bgcolor": "white",
           "lakecolor": "white",
           "landcolor": "#E5ECF6",
           "showlakes": true,
           "showland": true,
           "subunitcolor": "white"
          },
          "hoverlabel": {
           "align": "left"
          },
          "hovermode": "closest",
          "mapbox": {
           "style": "light"
          },
          "paper_bgcolor": "white",
          "plot_bgcolor": "#E5ECF6",
          "polar": {
           "angularaxis": {
            "gridcolor": "white",
            "linecolor": "white",
            "ticks": ""
           },
           "bgcolor": "#E5ECF6",
           "radialaxis": {
            "gridcolor": "white",
            "linecolor": "white",
            "ticks": ""
           }
          },
          "scene": {
           "xaxis": {
            "backgroundcolor": "#E5ECF6",
            "gridcolor": "white",
            "gridwidth": 2,
            "linecolor": "white",
            "showbackground": true,
            "ticks": "",
            "zerolinecolor": "white"
           },
           "yaxis": {
            "backgroundcolor": "#E5ECF6",
            "gridcolor": "white",
            "gridwidth": 2,
            "linecolor": "white",
            "showbackground": true,
            "ticks": "",
            "zerolinecolor": "white"
           },
           "zaxis": {
            "backgroundcolor": "#E5ECF6",
            "gridcolor": "white",
            "gridwidth": 2,
            "linecolor": "white",
            "showbackground": true,
            "ticks": "",
            "zerolinecolor": "white"
           }
          },
          "shapedefaults": {
           "line": {
            "color": "#2a3f5f"
           }
          },
          "ternary": {
           "aaxis": {
            "gridcolor": "white",
            "linecolor": "white",
            "ticks": ""
           },
           "baxis": {
            "gridcolor": "white",
            "linecolor": "white",
            "ticks": ""
           },
           "bgcolor": "#E5ECF6",
           "caxis": {
            "gridcolor": "white",
            "linecolor": "white",
            "ticks": ""
           }
          },
          "title": {
           "x": 0.05
          },
          "xaxis": {
           "automargin": true,
           "gridcolor": "white",
           "linecolor": "white",
           "ticks": "",
           "title": {
            "standoff": 15
           },
           "zerolinecolor": "white",
           "zerolinewidth": 2
          },
          "yaxis": {
           "automargin": true,
           "gridcolor": "white",
           "linecolor": "white",
           "ticks": "",
           "title": {
            "standoff": 15
           },
           "zerolinecolor": "white",
           "zerolinewidth": 2
          }
         }
        },
        "title": {
         "text": "Distribution of Chain vs Non-Chain Restaurants by City"
        },
        "xaxis": {
         "anchor": "y",
         "categoryorder": "total descending",
         "domain": [
          0,
          1
         ],
         "title": {
          "text": "City"
         }
        },
        "yaxis": {
         "anchor": "x",
         "domain": [
          0,
          1
         ],
         "title": {
          "text": "Percentage"
         }
        }
       }
      }
     },
     "metadata": {},
     "output_type": "display_data"
    },
    {
     "data": {
      "application/vnd.plotly.v1+json": {
       "config": {
        "plotlyServerURL": "https://plot.ly"
       },
       "data": [
        {
         "customdata": [
          [
           57.99999999999999
          ],
          [
           66.07142857142857
          ],
          [
           62.857142857142854
          ],
          [
           51.42857142857142
          ],
          [
           56.25
          ],
          [
           70.37037037037037
          ],
          [
           76.71232876712328
          ],
          [
           63.07385229540918
          ],
          [
           51.5625
          ],
          [
           80
          ]
         ],
         "hovertemplate": "<b>%{hovertext}</b><br><br>Not Chain=%{marker.color}<br>Y=%{lat}<br>X=%{lon}<extra></extra>",
         "hovertext": [
          "apex",
          "cary",
          "fuquay-varina",
          "garner",
          "holly springs",
          "knightdale",
          "morrisville",
          "raleigh",
          "wake forest",
          "zebulon"
         ],
         "lat": [
          35.70675427,
          35.80043542,
          35.61594555,
          35.69877319,
          35.66435704,
          35.79842841,
          35.86836875,
          35.83551025,
          35.95184355,
          35.83016256
         ],
         "legendgroup": "",
         "lon": [
          -78.83534593,
          -78.76838418,
          -78.81133335,
          -78.58553066,
          -78.79440651,
          -78.50727643,
          -78.82729724,
          -78.57967665,
          -78.52451276,
          -78.29418632
         ],
         "marker": {
          "color": [
           57.99999999999999,
           66.07142857142857,
           62.857142857142854,
           51.42857142857142,
           56.25,
           70.37037037037037,
           76.71232876712328,
           63.07385229540918,
           51.5625,
           80
          ],
          "coloraxis": "coloraxis",
          "size": [
           57.99999999999999,
           66.07142857142857,
           62.857142857142854,
           51.42857142857142,
           56.25,
           70.37037037037037,
           76.71232876712328,
           63.07385229540918,
           51.5625,
           80
          ],
          "sizemode": "area",
          "sizeref": 0.2
         },
         "mode": "markers",
         "name": "",
         "showlegend": false,
         "subplot": "mapbox",
         "textposition": "top center",
         "type": "scattermapbox"
        },
        {
         "hovertemplate": "City=%{text}<br>Y=%{lat}<br>X=%{lon}<extra></extra>",
         "lat": [
          35.70675427,
          35.80043542,
          35.61594555,
          35.69877319,
          35.66435704,
          35.79842841,
          35.86836875,
          35.83551025,
          35.95184355,
          35.83016256
         ],
         "legendgroup": "",
         "lon": [
          -78.83534593,
          -78.76838418,
          -78.81133335,
          -78.58553066,
          -78.79440651,
          -78.50727643,
          -78.82729724,
          -78.57967665,
          -78.52451276,
          -78.29418632
         ],
         "marker": {
          "color": "#636efa"
         },
         "mode": "markers+text",
         "name": "",
         "showlegend": false,
         "subplot": "mapbox",
         "text": [
          "apex",
          "cary",
          "fuquay-varina",
          "garner",
          "holly springs",
          "knightdale",
          "morrisville",
          "raleigh",
          "wake forest",
          "zebulon"
         ],
         "textposition": "top center",
         "type": "scattermapbox"
        }
       ],
       "layout": {
        "coloraxis": {
         "colorbar": {
          "title": {
           "text": "Percentage of Non-Chain Restaurants"
          }
         },
         "colorscale": [
          [
           0,
           "rgb(75, 41, 145)"
          ],
          [
           0.16666666666666666,
           "rgb(135, 44, 162)"
          ],
          [
           0.3333333333333333,
           "rgb(192, 54, 157)"
          ],
          [
           0.5,
           "rgb(234, 79, 136)"
          ],
          [
           0.6666666666666666,
           "rgb(250, 120, 118)"
          ],
          [
           0.8333333333333334,
           "rgb(246, 169, 122)"
          ],
          [
           1,
           "rgb(237, 217, 163)"
          ]
         ]
        },
        "height": 800,
        "legend": {
         "itemsizing": "constant",
         "tracegroupgap": 0
        },
        "mapbox": {
         "center": {
          "lat": 35.777057899,
          "lon": -78.65279500300001
         },
         "domain": {
          "x": [
           0,
           1
          ],
          "y": [
           0,
           1
          ]
         },
         "style": "open-street-map",
         "zoom": 9
        },
        "template": {
         "data": {
          "bar": [
           {
            "error_x": {
             "color": "#2a3f5f"
            },
            "error_y": {
             "color": "#2a3f5f"
            },
            "marker": {
             "line": {
              "color": "#E5ECF6",
              "width": 0.5
             },
             "pattern": {
              "fillmode": "overlay",
              "size": 10,
              "solidity": 0.2
             }
            },
            "type": "bar"
           }
          ],
          "barpolar": [
           {
            "marker": {
             "line": {
              "color": "#E5ECF6",
              "width": 0.5
             },
             "pattern": {
              "fillmode": "overlay",
              "size": 10,
              "solidity": 0.2
             }
            },
            "type": "barpolar"
           }
          ],
          "carpet": [
           {
            "aaxis": {
             "endlinecolor": "#2a3f5f",
             "gridcolor": "white",
             "linecolor": "white",
             "minorgridcolor": "white",
             "startlinecolor": "#2a3f5f"
            },
            "baxis": {
             "endlinecolor": "#2a3f5f",
             "gridcolor": "white",
             "linecolor": "white",
             "minorgridcolor": "white",
             "startlinecolor": "#2a3f5f"
            },
            "type": "carpet"
           }
          ],
          "choropleth": [
           {
            "colorbar": {
             "outlinewidth": 0,
             "ticks": ""
            },
            "type": "choropleth"
           }
          ],
          "contour": [
           {
            "colorbar": {
             "outlinewidth": 0,
             "ticks": ""
            },
            "colorscale": [
             [
              0,
              "#0d0887"
             ],
             [
              0.1111111111111111,
              "#46039f"
             ],
             [
              0.2222222222222222,
              "#7201a8"
             ],
             [
              0.3333333333333333,
              "#9c179e"
             ],
             [
              0.4444444444444444,
              "#bd3786"
             ],
             [
              0.5555555555555556,
              "#d8576b"
             ],
             [
              0.6666666666666666,
              "#ed7953"
             ],
             [
              0.7777777777777778,
              "#fb9f3a"
             ],
             [
              0.8888888888888888,
              "#fdca26"
             ],
             [
              1,
              "#f0f921"
             ]
            ],
            "type": "contour"
           }
          ],
          "contourcarpet": [
           {
            "colorbar": {
             "outlinewidth": 0,
             "ticks": ""
            },
            "type": "contourcarpet"
           }
          ],
          "heatmap": [
           {
            "colorbar": {
             "outlinewidth": 0,
             "ticks": ""
            },
            "colorscale": [
             [
              0,
              "#0d0887"
             ],
             [
              0.1111111111111111,
              "#46039f"
             ],
             [
              0.2222222222222222,
              "#7201a8"
             ],
             [
              0.3333333333333333,
              "#9c179e"
             ],
             [
              0.4444444444444444,
              "#bd3786"
             ],
             [
              0.5555555555555556,
              "#d8576b"
             ],
             [
              0.6666666666666666,
              "#ed7953"
             ],
             [
              0.7777777777777778,
              "#fb9f3a"
             ],
             [
              0.8888888888888888,
              "#fdca26"
             ],
             [
              1,
              "#f0f921"
             ]
            ],
            "type": "heatmap"
           }
          ],
          "heatmapgl": [
           {
            "colorbar": {
             "outlinewidth": 0,
             "ticks": ""
            },
            "colorscale": [
             [
              0,
              "#0d0887"
             ],
             [
              0.1111111111111111,
              "#46039f"
             ],
             [
              0.2222222222222222,
              "#7201a8"
             ],
             [
              0.3333333333333333,
              "#9c179e"
             ],
             [
              0.4444444444444444,
              "#bd3786"
             ],
             [
              0.5555555555555556,
              "#d8576b"
             ],
             [
              0.6666666666666666,
              "#ed7953"
             ],
             [
              0.7777777777777778,
              "#fb9f3a"
             ],
             [
              0.8888888888888888,
              "#fdca26"
             ],
             [
              1,
              "#f0f921"
             ]
            ],
            "type": "heatmapgl"
           }
          ],
          "histogram": [
           {
            "marker": {
             "pattern": {
              "fillmode": "overlay",
              "size": 10,
              "solidity": 0.2
             }
            },
            "type": "histogram"
           }
          ],
          "histogram2d": [
           {
            "colorbar": {
             "outlinewidth": 0,
             "ticks": ""
            },
            "colorscale": [
             [
              0,
              "#0d0887"
             ],
             [
              0.1111111111111111,
              "#46039f"
             ],
             [
              0.2222222222222222,
              "#7201a8"
             ],
             [
              0.3333333333333333,
              "#9c179e"
             ],
             [
              0.4444444444444444,
              "#bd3786"
             ],
             [
              0.5555555555555556,
              "#d8576b"
             ],
             [
              0.6666666666666666,
              "#ed7953"
             ],
             [
              0.7777777777777778,
              "#fb9f3a"
             ],
             [
              0.8888888888888888,
              "#fdca26"
             ],
             [
              1,
              "#f0f921"
             ]
            ],
            "type": "histogram2d"
           }
          ],
          "histogram2dcontour": [
           {
            "colorbar": {
             "outlinewidth": 0,
             "ticks": ""
            },
            "colorscale": [
             [
              0,
              "#0d0887"
             ],
             [
              0.1111111111111111,
              "#46039f"
             ],
             [
              0.2222222222222222,
              "#7201a8"
             ],
             [
              0.3333333333333333,
              "#9c179e"
             ],
             [
              0.4444444444444444,
              "#bd3786"
             ],
             [
              0.5555555555555556,
              "#d8576b"
             ],
             [
              0.6666666666666666,
              "#ed7953"
             ],
             [
              0.7777777777777778,
              "#fb9f3a"
             ],
             [
              0.8888888888888888,
              "#fdca26"
             ],
             [
              1,
              "#f0f921"
             ]
            ],
            "type": "histogram2dcontour"
           }
          ],
          "mesh3d": [
           {
            "colorbar": {
             "outlinewidth": 0,
             "ticks": ""
            },
            "type": "mesh3d"
           }
          ],
          "parcoords": [
           {
            "line": {
             "colorbar": {
              "outlinewidth": 0,
              "ticks": ""
             }
            },
            "type": "parcoords"
           }
          ],
          "pie": [
           {
            "automargin": true,
            "type": "pie"
           }
          ],
          "scatter": [
           {
            "fillpattern": {
             "fillmode": "overlay",
             "size": 10,
             "solidity": 0.2
            },
            "type": "scatter"
           }
          ],
          "scatter3d": [
           {
            "line": {
             "colorbar": {
              "outlinewidth": 0,
              "ticks": ""
             }
            },
            "marker": {
             "colorbar": {
              "outlinewidth": 0,
              "ticks": ""
             }
            },
            "type": "scatter3d"
           }
          ],
          "scattercarpet": [
           {
            "marker": {
             "colorbar": {
              "outlinewidth": 0,
              "ticks": ""
             }
            },
            "type": "scattercarpet"
           }
          ],
          "scattergeo": [
           {
            "marker": {
             "colorbar": {
              "outlinewidth": 0,
              "ticks": ""
             }
            },
            "type": "scattergeo"
           }
          ],
          "scattergl": [
           {
            "marker": {
             "colorbar": {
              "outlinewidth": 0,
              "ticks": ""
             }
            },
            "type": "scattergl"
           }
          ],
          "scattermapbox": [
           {
            "marker": {
             "colorbar": {
              "outlinewidth": 0,
              "ticks": ""
             }
            },
            "type": "scattermapbox"
           }
          ],
          "scatterpolar": [
           {
            "marker": {
             "colorbar": {
              "outlinewidth": 0,
              "ticks": ""
             }
            },
            "type": "scatterpolar"
           }
          ],
          "scatterpolargl": [
           {
            "marker": {
             "colorbar": {
              "outlinewidth": 0,
              "ticks": ""
             }
            },
            "type": "scatterpolargl"
           }
          ],
          "scatterternary": [
           {
            "marker": {
             "colorbar": {
              "outlinewidth": 0,
              "ticks": ""
             }
            },
            "type": "scatterternary"
           }
          ],
          "surface": [
           {
            "colorbar": {
             "outlinewidth": 0,
             "ticks": ""
            },
            "colorscale": [
             [
              0,
              "#0d0887"
             ],
             [
              0.1111111111111111,
              "#46039f"
             ],
             [
              0.2222222222222222,
              "#7201a8"
             ],
             [
              0.3333333333333333,
              "#9c179e"
             ],
             [
              0.4444444444444444,
              "#bd3786"
             ],
             [
              0.5555555555555556,
              "#d8576b"
             ],
             [
              0.6666666666666666,
              "#ed7953"
             ],
             [
              0.7777777777777778,
              "#fb9f3a"
             ],
             [
              0.8888888888888888,
              "#fdca26"
             ],
             [
              1,
              "#f0f921"
             ]
            ],
            "type": "surface"
           }
          ],
          "table": [
           {
            "cells": {
             "fill": {
              "color": "#EBF0F8"
             },
             "line": {
              "color": "white"
             }
            },
            "header": {
             "fill": {
              "color": "#C8D4E3"
             },
             "line": {
              "color": "white"
             }
            },
            "type": "table"
           }
          ]
         },
         "layout": {
          "annotationdefaults": {
           "arrowcolor": "#2a3f5f",
           "arrowhead": 0,
           "arrowwidth": 1
          },
          "autotypenumbers": "strict",
          "coloraxis": {
           "colorbar": {
            "outlinewidth": 0,
            "ticks": ""
           }
          },
          "colorscale": {
           "diverging": [
            [
             0,
             "#8e0152"
            ],
            [
             0.1,
             "#c51b7d"
            ],
            [
             0.2,
             "#de77ae"
            ],
            [
             0.3,
             "#f1b6da"
            ],
            [
             0.4,
             "#fde0ef"
            ],
            [
             0.5,
             "#f7f7f7"
            ],
            [
             0.6,
             "#e6f5d0"
            ],
            [
             0.7,
             "#b8e186"
            ],
            [
             0.8,
             "#7fbc41"
            ],
            [
             0.9,
             "#4d9221"
            ],
            [
             1,
             "#276419"
            ]
           ],
           "sequential": [
            [
             0,
             "#0d0887"
            ],
            [
             0.1111111111111111,
             "#46039f"
            ],
            [
             0.2222222222222222,
             "#7201a8"
            ],
            [
             0.3333333333333333,
             "#9c179e"
            ],
            [
             0.4444444444444444,
             "#bd3786"
            ],
            [
             0.5555555555555556,
             "#d8576b"
            ],
            [
             0.6666666666666666,
             "#ed7953"
            ],
            [
             0.7777777777777778,
             "#fb9f3a"
            ],
            [
             0.8888888888888888,
             "#fdca26"
            ],
            [
             1,
             "#f0f921"
            ]
           ],
           "sequentialminus": [
            [
             0,
             "#0d0887"
            ],
            [
             0.1111111111111111,
             "#46039f"
            ],
            [
             0.2222222222222222,
             "#7201a8"
            ],
            [
             0.3333333333333333,
             "#9c179e"
            ],
            [
             0.4444444444444444,
             "#bd3786"
            ],
            [
             0.5555555555555556,
             "#d8576b"
            ],
            [
             0.6666666666666666,
             "#ed7953"
            ],
            [
             0.7777777777777778,
             "#fb9f3a"
            ],
            [
             0.8888888888888888,
             "#fdca26"
            ],
            [
             1,
             "#f0f921"
            ]
           ]
          },
          "colorway": [
           "#636efa",
           "#EF553B",
           "#00cc96",
           "#ab63fa",
           "#FFA15A",
           "#19d3f3",
           "#FF6692",
           "#B6E880",
           "#FF97FF",
           "#FECB52"
          ],
          "font": {
           "color": "#2a3f5f"
          },
          "geo": {
           "bgcolor": "white",
           "lakecolor": "white",
           "landcolor": "#E5ECF6",
           "showlakes": true,
           "showland": true,
           "subunitcolor": "white"
          },
          "hoverlabel": {
           "align": "left"
          },
          "hovermode": "closest",
          "mapbox": {
           "style": "light"
          },
          "paper_bgcolor": "white",
          "plot_bgcolor": "#E5ECF6",
          "polar": {
           "angularaxis": {
            "gridcolor": "white",
            "linecolor": "white",
            "ticks": ""
           },
           "bgcolor": "#E5ECF6",
           "radialaxis": {
            "gridcolor": "white",
            "linecolor": "white",
            "ticks": ""
           }
          },
          "scene": {
           "xaxis": {
            "backgroundcolor": "#E5ECF6",
            "gridcolor": "white",
            "gridwidth": 2,
            "linecolor": "white",
            "showbackground": true,
            "ticks": "",
            "zerolinecolor": "white"
           },
           "yaxis": {
            "backgroundcolor": "#E5ECF6",
            "gridcolor": "white",
            "gridwidth": 2,
            "linecolor": "white",
            "showbackground": true,
            "ticks": "",
            "zerolinecolor": "white"
           },
           "zaxis": {
            "backgroundcolor": "#E5ECF6",
            "gridcolor": "white",
            "gridwidth": 2,
            "linecolor": "white",
            "showbackground": true,
            "ticks": "",
            "zerolinecolor": "white"
           }
          },
          "shapedefaults": {
           "line": {
            "color": "#2a3f5f"
           }
          },
          "ternary": {
           "aaxis": {
            "gridcolor": "white",
            "linecolor": "white",
            "ticks": ""
           },
           "baxis": {
            "gridcolor": "white",
            "linecolor": "white",
            "ticks": ""
           },
           "bgcolor": "#E5ECF6",
           "caxis": {
            "gridcolor": "white",
            "linecolor": "white",
            "ticks": ""
           }
          },
          "title": {
           "x": 0.05
          },
          "xaxis": {
           "automargin": true,
           "gridcolor": "white",
           "linecolor": "white",
           "ticks": "",
           "title": {
            "standoff": 15
           },
           "zerolinecolor": "white",
           "zerolinewidth": 2
          },
          "yaxis": {
           "automargin": true,
           "gridcolor": "white",
           "linecolor": "white",
           "ticks": "",
           "title": {
            "standoff": 15
           },
           "zerolinecolor": "white",
           "zerolinewidth": 2
          }
         }
        },
        "title": {
         "font": {
          "size": 16
         },
         "text": "Distribution of Non-Chain Restaurants by City"
        },
        "width": 1200
       }
      }
     },
     "metadata": {},
     "output_type": "display_data"
    }
   ],
   "source": [
    "# Create a pivot table to show the distribution of chain vs not chain restaurants in each city\n",
    "pivot_table = pd.pivot_table(final_df, values='Unnamed: 0', index='City', columns='Check Chain', aggfunc='count', fill_value=0)\n",
    "\n",
    "# Calculate percentages\n",
    "pivot_table_percentage = pivot_table.div(pivot_table.sum(axis=1), axis=0) * 100\n",
    "\n",
    "# Sort the table by the total number of restaurants (descending)\n",
    "pivot_table_sorted = pivot_table_percentage.sort_values(by='Chain', ascending=False)\n",
    "\n",
    "# Display the pivot table\n",
    "print(\"Distribution of Chain vs Non-Chain Restaurants by City (%):\")\n",
    "print(pivot_table_sorted.round(2))\n",
    "\n",
    "# Visualize the distribution using a stacked bar chart\n",
    "fig = px.bar(pivot_table_sorted, \n",
    "             title='Distribution of Chain vs Non-Chain Restaurants by City',\n",
    "             labels={'value': 'Percentage', 'City': 'City', 'Check Chain': 'Restaurant Type'},\n",
    "             height=600)\n",
    "\n",
    "fig.update_layout(barmode='stack', xaxis={'categoryorder':'total descending'})\n",
    "fig.show()\n",
    "\n",
    "# Create a geographic plot with cities colored based on chain percentage\n",
    "import plotly.express as px\n",
    "\n",
    "# Calculate the percentage of non-chain restaurants for each city\n",
    "city_percentages = pivot_table_percentage['Not Chain'].sort_values(ascending=False)\n",
    "\n",
    "# Create a DataFrame with city coordinates and percentages\n",
    "city_data = final_df.groupby('City').first().reset_index()\n",
    "city_data = city_data.merge(city_percentages, left_on='City', right_index=True)\n",
    "\n",
    "# Create the scatter plot\n",
    "fig = px.scatter_mapbox(city_data, \n",
    "                        lat='Y', \n",
    "                        lon='X', \n",
    "                        color='Not Chain',\n",
    "                        size='Not Chain',\n",
    "                        hover_name='City',\n",
    "                        hover_data=['Not Chain'],\n",
    "                        color_continuous_scale=px.colors.sequential.Agsunset,\n",
    "                        zoom=9,\n",
    "                        mapbox_style=\"open-street-map\",\n",
    "                        title='Distribution of Non-Chain Restaurants by City')\n",
    "\n",
    "# Customize the plot\n",
    "fig.update_layout(\n",
    "    title_font_size=16,\n",
    "    coloraxis_colorbar=dict(title='Percentage of Non-Chain Restaurants'),\n",
    "    height=800,\n",
    "    width=1200\n",
    ")\n",
    "\n",
    "# Add text labels for cities\n",
    "fig.add_trace(px.scatter_mapbox(city_data, \n",
    "                                lat='Y', \n",
    "                                lon='X', \n",
    "                                text='City',\n",
    "                                zoom=9,\n",
    "                                mapbox_style=\"open-street-map\").data[0])\n",
    "\n",
    "fig.update_traces(textposition=\"top center\", selector=dict(type='scattermapbox'))\n",
    "\n",
    "# Set the map center and zoom level\n",
    "center_lat = city_data['Y'].mean()\n",
    "center_lon = city_data['X'].mean()\n",
    "fig.update_layout(mapbox=dict(center=dict(lat=center_lat, lon=center_lon), zoom=9))\n",
    "\n",
    "fig.show()\n"
   ]
  },
  {
   "cell_type": "code",
   "execution_count": 162,
   "metadata": {},
   "outputs": [
    {
     "data": {
      "text/html": [
       "<div>\n",
       "<style scoped>\n",
       "    .dataframe tbody tr th:only-of-type {\n",
       "        vertical-align: middle;\n",
       "    }\n",
       "\n",
       "    .dataframe tbody tr th {\n",
       "        vertical-align: top;\n",
       "    }\n",
       "\n",
       "    .dataframe thead th {\n",
       "        text-align: right;\n",
       "    }\n",
       "</style>\n",
       "<table border=\"1\" class=\"dataframe\">\n",
       "  <thead>\n",
       "    <tr style=\"text-align: right;\">\n",
       "      <th></th>\n",
       "      <th>Restaurant</th>\n",
       "      <th>Count</th>\n",
       "      <th>Review Sum</th>\n",
       "      <th>Review Count</th>\n",
       "      <th>Average Rating</th>\n",
       "    </tr>\n",
       "  </thead>\n",
       "  <tbody>\n",
       "    <tr>\n",
       "      <th>82</th>\n",
       "      <td>Feng Cha Raleigh</td>\n",
       "      <td>1</td>\n",
       "      <td>5.0</td>\n",
       "      <td>1</td>\n",
       "      <td>5.000000</td>\n",
       "    </tr>\n",
       "    <tr>\n",
       "      <th>65</th>\n",
       "      <td>Karavan by 3 Olives</td>\n",
       "      <td>1</td>\n",
       "      <td>4.7</td>\n",
       "      <td>1</td>\n",
       "      <td>4.700000</td>\n",
       "    </tr>\n",
       "    <tr>\n",
       "      <th>139</th>\n",
       "      <td>Kwench Juice Cafe</td>\n",
       "      <td>1</td>\n",
       "      <td>4.5</td>\n",
       "      <td>1</td>\n",
       "      <td>4.500000</td>\n",
       "    </tr>\n",
       "    <tr>\n",
       "      <th>56</th>\n",
       "      <td>Aladdin's Eatery - North Hills</td>\n",
       "      <td>1</td>\n",
       "      <td>4.5</td>\n",
       "      <td>1</td>\n",
       "      <td>4.500000</td>\n",
       "    </tr>\n",
       "    <tr>\n",
       "      <th>123</th>\n",
       "      <td>Taza Grill</td>\n",
       "      <td>1</td>\n",
       "      <td>4.5</td>\n",
       "      <td>1</td>\n",
       "      <td>4.500000</td>\n",
       "    </tr>\n",
       "    <tr>\n",
       "      <th>...</th>\n",
       "      <td>...</td>\n",
       "      <td>...</td>\n",
       "      <td>...</td>\n",
       "      <td>...</td>\n",
       "      <td>...</td>\n",
       "    </tr>\n",
       "    <tr>\n",
       "      <th>9</th>\n",
       "      <td>Wendy's</td>\n",
       "      <td>8</td>\n",
       "      <td>15.0</td>\n",
       "      <td>8</td>\n",
       "      <td>1.875000</td>\n",
       "    </tr>\n",
       "    <tr>\n",
       "      <th>86</th>\n",
       "      <td>Burger King</td>\n",
       "      <td>4</td>\n",
       "      <td>7.3</td>\n",
       "      <td>4</td>\n",
       "      <td>1.825000</td>\n",
       "    </tr>\n",
       "    <tr>\n",
       "      <th>41</th>\n",
       "      <td>McDonald's</td>\n",
       "      <td>18</td>\n",
       "      <td>32.0</td>\n",
       "      <td>18</td>\n",
       "      <td>1.777778</td>\n",
       "    </tr>\n",
       "    <tr>\n",
       "      <th>0</th>\n",
       "      <td>Pizza Hut</td>\n",
       "      <td>3</td>\n",
       "      <td>5.2</td>\n",
       "      <td>3</td>\n",
       "      <td>1.733333</td>\n",
       "    </tr>\n",
       "    <tr>\n",
       "      <th>22</th>\n",
       "      <td>KFC</td>\n",
       "      <td>2</td>\n",
       "      <td>3.2</td>\n",
       "      <td>2</td>\n",
       "      <td>1.600000</td>\n",
       "    </tr>\n",
       "  </tbody>\n",
       "</table>\n",
       "<p>143 rows × 5 columns</p>\n",
       "</div>"
      ],
      "text/plain": [
       "                         Restaurant  Count  Review Sum  Review Count  \\\n",
       "82                 Feng Cha Raleigh      1         5.0             1   \n",
       "65              Karavan by 3 Olives      1         4.7             1   \n",
       "139               Kwench Juice Cafe      1         4.5             1   \n",
       "56   Aladdin's Eatery - North Hills      1         4.5             1   \n",
       "123                      Taza Grill      1         4.5             1   \n",
       "..                              ...    ...         ...           ...   \n",
       "9                           Wendy's      8        15.0             8   \n",
       "86                      Burger King      4         7.3             4   \n",
       "41                       McDonald's     18        32.0            18   \n",
       "0                         Pizza Hut      3         5.2             3   \n",
       "22                              KFC      2         3.2             2   \n",
       "\n",
       "     Average Rating  \n",
       "82         5.000000  \n",
       "65         4.700000  \n",
       "139        4.500000  \n",
       "56         4.500000  \n",
       "123        4.500000  \n",
       "..              ...  \n",
       "9          1.875000  \n",
       "86         1.825000  \n",
       "41         1.777778  \n",
       "0          1.733333  \n",
       "22         1.600000  \n",
       "\n",
       "[143 rows x 5 columns]"
      ]
     },
     "execution_count": 162,
     "metadata": {},
     "output_type": "execute_result"
    }
   ],
   "source": [
    "chain_df = final_df[final_df['Check Chain'] == 'Chain']\n",
    "fast_food_counts = {}\n",
    "fast_food_reviews = {}\n",
    "fast_food_review_counts = {}\n",
    "\n",
    "for idx, row in chain_df.iterrows():\n",
    "    name = row['name']\n",
    "    if name != 'Field does not exist':\n",
    "        fast_food_counts[name] = fast_food_counts.get(name, 0) + 1\n",
    "        \n",
    "        if 'rating' in row and not pd.isna(row['rating']):\n",
    "            fast_food_reviews[name] = fast_food_reviews.get(name, 0) + row['rating']\n",
    "            fast_food_review_counts[name] = fast_food_review_counts.get(name, 0) + 1\n",
    "\n",
    "fast_food_df = pd.DataFrame(list(fast_food_counts.items()), columns=['Restaurant', 'Count'])\n",
    "fast_food_df_reviews = pd.DataFrame(list(fast_food_reviews.items()), columns=['Restaurant', 'Review Sum'])\n",
    "fast_food_df_review_counts = pd.DataFrame(list(fast_food_review_counts.items()), columns=['Restaurant', 'Review Count'])\n",
    "\n",
    "# Merge the dataframes\n",
    "merged_df = fast_food_df.merge(fast_food_df_reviews, on='Restaurant', how='left')\n",
    "merged_df = merged_df.merge(fast_food_df_review_counts, on='Restaurant', how='left')\n",
    "\n",
    "# Calculate average rating\n",
    "merged_df['Average Rating'] = merged_df['Review Sum'] / merged_df['Count']\n",
    "\n",
    "# Sort by Average Rating\n",
    "merged_df = merged_df.sort_values(by='Average Rating', ascending=False)\n",
    "\n",
    "merged_df\n",
    "# Convert 'Review Sum' to numeric, replacing NaN with 0\n",
    "# fast_food_df['Average Rating'] = fast_food_df['Review Sum'] / fast_food_df['Count']\n",
    "# fast_food_df.sort_values(by='Average Rating', ascending=False)\n",
    "# fast_food_df.head(20)"
   ]
  },
  {
   "cell_type": "code",
   "execution_count": 164,
   "metadata": {},
   "outputs": [
    {
     "data": {
      "text/html": [
       "<div>\n",
       "<style scoped>\n",
       "    .dataframe tbody tr th:only-of-type {\n",
       "        vertical-align: middle;\n",
       "    }\n",
       "\n",
       "    .dataframe tbody tr th {\n",
       "        vertical-align: top;\n",
       "    }\n",
       "\n",
       "    .dataframe thead th {\n",
       "        text-align: right;\n",
       "    }\n",
       "</style>\n",
       "<table border=\"1\" class=\"dataframe\">\n",
       "  <thead>\n",
       "    <tr style=\"text-align: right;\">\n",
       "      <th></th>\n",
       "      <th>Restaurant</th>\n",
       "      <th>Count</th>\n",
       "      <th>Review Sum</th>\n",
       "      <th>Review Count</th>\n",
       "      <th>Average Rating</th>\n",
       "    </tr>\n",
       "  </thead>\n",
       "  <tbody>\n",
       "    <tr>\n",
       "      <th>39</th>\n",
       "      <td>Sheetz</td>\n",
       "      <td>8</td>\n",
       "      <td>26.2</td>\n",
       "      <td>8</td>\n",
       "      <td>3.275000</td>\n",
       "    </tr>\n",
       "    <tr>\n",
       "      <th>3</th>\n",
       "      <td>Starbucks</td>\n",
       "      <td>13</td>\n",
       "      <td>39.9</td>\n",
       "      <td>13</td>\n",
       "      <td>3.069231</td>\n",
       "    </tr>\n",
       "    <tr>\n",
       "      <th>51</th>\n",
       "      <td>Chick-fil-A</td>\n",
       "      <td>8</td>\n",
       "      <td>23.4</td>\n",
       "      <td>8</td>\n",
       "      <td>2.925000</td>\n",
       "    </tr>\n",
       "    <tr>\n",
       "      <th>64</th>\n",
       "      <td>Jersey Mike's Subs</td>\n",
       "      <td>7</td>\n",
       "      <td>19.7</td>\n",
       "      <td>7</td>\n",
       "      <td>2.814286</td>\n",
       "    </tr>\n",
       "    <tr>\n",
       "      <th>14</th>\n",
       "      <td>Panera Bread</td>\n",
       "      <td>7</td>\n",
       "      <td>18.5</td>\n",
       "      <td>7</td>\n",
       "      <td>2.642857</td>\n",
       "    </tr>\n",
       "    <tr>\n",
       "      <th>92</th>\n",
       "      <td>Tropical Smoothie Cafe</td>\n",
       "      <td>6</td>\n",
       "      <td>14.7</td>\n",
       "      <td>6</td>\n",
       "      <td>2.450000</td>\n",
       "    </tr>\n",
       "    <tr>\n",
       "      <th>4</th>\n",
       "      <td>Subway</td>\n",
       "      <td>20</td>\n",
       "      <td>48.9</td>\n",
       "      <td>20</td>\n",
       "      <td>2.445000</td>\n",
       "    </tr>\n",
       "    <tr>\n",
       "      <th>20</th>\n",
       "      <td>Taco Bell</td>\n",
       "      <td>8</td>\n",
       "      <td>16.6</td>\n",
       "      <td>8</td>\n",
       "      <td>2.075000</td>\n",
       "    </tr>\n",
       "    <tr>\n",
       "      <th>8</th>\n",
       "      <td>Dunkin'</td>\n",
       "      <td>6</td>\n",
       "      <td>11.5</td>\n",
       "      <td>6</td>\n",
       "      <td>1.916667</td>\n",
       "    </tr>\n",
       "    <tr>\n",
       "      <th>9</th>\n",
       "      <td>Wendy's</td>\n",
       "      <td>8</td>\n",
       "      <td>15.0</td>\n",
       "      <td>8</td>\n",
       "      <td>1.875000</td>\n",
       "    </tr>\n",
       "    <tr>\n",
       "      <th>41</th>\n",
       "      <td>McDonald's</td>\n",
       "      <td>18</td>\n",
       "      <td>32.0</td>\n",
       "      <td>18</td>\n",
       "      <td>1.777778</td>\n",
       "    </tr>\n",
       "  </tbody>\n",
       "</table>\n",
       "</div>"
      ],
      "text/plain": [
       "                Restaurant  Count  Review Sum  Review Count  Average Rating\n",
       "39                  Sheetz      8        26.2             8        3.275000\n",
       "3                Starbucks     13        39.9            13        3.069231\n",
       "51             Chick-fil-A      8        23.4             8        2.925000\n",
       "64      Jersey Mike's Subs      7        19.7             7        2.814286\n",
       "14            Panera Bread      7        18.5             7        2.642857\n",
       "92  Tropical Smoothie Cafe      6        14.7             6        2.450000\n",
       "4                   Subway     20        48.9            20        2.445000\n",
       "20               Taco Bell      8        16.6             8        2.075000\n",
       "8                  Dunkin'      6        11.5             6        1.916667\n",
       "9                  Wendy's      8        15.0             8        1.875000\n",
       "41              McDonald's     18        32.0            18        1.777778"
      ]
     },
     "execution_count": 164,
     "metadata": {},
     "output_type": "execute_result"
    }
   ],
   "source": [
    "merged_df[merged_df['Review Count'] > 5].sort_values(by='Average Rating', ascending=False)"
   ]
  }
 ],
 "metadata": {
  "kernelspec": {
   "display_name": "Python 3",
   "language": "python",
   "name": "python3"
  },
  "language_info": {
   "codemirror_mode": {
    "name": "ipython",
    "version": 3
   },
   "file_extension": ".py",
   "mimetype": "text/x-python",
   "name": "python",
   "nbconvert_exporter": "python",
   "pygments_lexer": "ipython3",
   "version": "3.9.19"
  }
 },
 "nbformat": 4,
 "nbformat_minor": 2
}
